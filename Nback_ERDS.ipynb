{
 "cells": [
  {
   "cell_type": "code",
   "execution_count": 1,
   "metadata": {},
   "outputs": [],
   "source": [
    "import os\n",
    "import numpy as np\n",
    "import matplotlib.pyplot as plt\n",
    "import mne\n",
    "from mne.time_frequency import tfr_multitaper\n",
    "from scipy import stats\n",
    "import pandas as pd\n",
    "import matplotlib.pyplot as plt\n",
    "from pathlib import Path\n",
    "from mne.preprocessing import ICA \n",
    "from mne_icalabel import label_components\n",
    "from autoreject import AutoReject\n",
    "%matplotlib qt"
   ]
  },
  {
   "cell_type": "code",
   "execution_count": 2,
   "metadata": {},
   "outputs": [
    {
     "name": "stdout",
     "output_type": "stream",
     "text": [
      "처리 중: cho_nback_1.edf\n",
      "Extracting EDF parameters from c:\\Users\\uiseong\\OneDrive\\바탕 화면\\eeg\\EEG_cognitive_load\\EEG_nback_task\\cho_nback_1.edf...\n",
      "EDF file detected\n",
      "Setting channel info structure...\n",
      "Creating raw.info structure...\n",
      "Reading 0 ... 29695  =      0.000 ...   231.992 secs...\n",
      "NOTE: pick_channels() is a legacy function. New code should use inst.pick(...).\n",
      "Filtering raw data in 1 contiguous segment\n",
      "Setting up band-pass filter from 1 - 40 Hz\n",
      "\n",
      "FIR filter parameters\n",
      "---------------------\n",
      "Designing a one-pass, zero-phase, non-causal bandpass filter:\n",
      "- Windowed time-domain design (firwin) method\n",
      "- Hamming window with 0.0194 passband ripple and 53 dB stopband attenuation\n",
      "- Lower passband edge: 1.00\n",
      "- Lower transition bandwidth: 1.00 Hz (-6 dB cutoff frequency: 0.50 Hz)\n",
      "- Upper passband edge: 40.00 Hz\n",
      "- Upper transition bandwidth: 10.00 Hz (-6 dB cutoff frequency: 45.00 Hz)\n",
      "- Filter length: 423 samples (3.305 s)\n",
      "\n",
      "Filtering raw data in 1 contiguous segment\n",
      "Setting up band-stop filter from 59 - 61 Hz\n",
      "\n",
      "FIR filter parameters\n",
      "---------------------\n",
      "Designing a one-pass, zero-phase, non-causal bandstop filter:\n",
      "- Windowed time-domain design (firwin) method\n",
      "- Hamming window with 0.0194 passband ripple and 53 dB stopband attenuation\n",
      "- Lower passband edge: 59.35\n",
      "- Lower transition bandwidth: 0.50 Hz (-6 dB cutoff frequency: 59.10 Hz)\n",
      "- Upper passband edge: 60.65 Hz\n",
      "- Upper transition bandwidth: 0.50 Hz (-6 dB cutoff frequency: 60.90 Hz)\n",
      "- Filter length: 845 samples (6.602 s)\n",
      "\n",
      "EEG channel type selected for re-referencing\n",
      "Applying average reference.\n",
      "Applying a custom ('EEG',) reference.\n",
      "Not setting metadata\n",
      "77 matching events found\n",
      "No baseline correction applied\n",
      "0 projection items activated\n",
      "Using data from preloaded Raw for 77 events and 384 original time points ...\n",
      "0 bad epochs dropped\n",
      "Running autoreject on ch_type=eeg\n"
     ]
    },
    {
     "data": {
      "application/vnd.jupyter.widget-view+json": {
       "model_id": "318a790a6e424730b0f1ca65c3324ae4",
       "version_major": 2,
       "version_minor": 0
      },
      "text/plain": [
       "  0%|          | Creating augmented epochs : 0/14 [00:00<?,       ?it/s]"
      ]
     },
     "metadata": {},
     "output_type": "display_data"
    },
    {
     "data": {
      "application/vnd.jupyter.widget-view+json": {
       "model_id": "a1c531ee78574f57a46b73795303072b",
       "version_major": 2,
       "version_minor": 0
      },
      "text/plain": [
       "  0%|          | Computing thresholds ... : 0/14 [00:00<?,       ?it/s]"
      ]
     },
     "metadata": {},
     "output_type": "display_data"
    },
    {
     "data": {
      "application/vnd.jupyter.widget-view+json": {
       "model_id": "26473ed52adb451abfac5fe861069553",
       "version_major": 2,
       "version_minor": 0
      },
      "text/plain": [
       "  0%|          | Repairing epochs : 0/77 [00:00<?,       ?it/s]"
      ]
     },
     "metadata": {},
     "output_type": "display_data"
    },
    {
     "data": {
      "application/vnd.jupyter.widget-view+json": {
       "model_id": "a95ebcca48df4f90994891d69fb64271",
       "version_major": 2,
       "version_minor": 0
      },
      "text/plain": [
       "  0%|          | n_interp : 0/3 [00:00<?,       ?it/s]"
      ]
     },
     "metadata": {},
     "output_type": "display_data"
    },
    {
     "data": {
      "application/vnd.jupyter.widget-view+json": {
       "model_id": "60a6fac8169b4493aa8d9670db4a8a46",
       "version_major": 2,
       "version_minor": 0
      },
      "text/plain": [
       "  0%|          | Repairing epochs : 0/77 [00:00<?,       ?it/s]"
      ]
     },
     "metadata": {},
     "output_type": "display_data"
    },
    {
     "data": {
      "application/vnd.jupyter.widget-view+json": {
       "model_id": "214b338c40ad4b34ad9022fafd2f05e1",
       "version_major": 2,
       "version_minor": 0
      },
      "text/plain": [
       "  0%|          | Fold : 0/10 [00:00<?,       ?it/s]"
      ]
     },
     "metadata": {},
     "output_type": "display_data"
    },
    {
     "data": {
      "application/vnd.jupyter.widget-view+json": {
       "model_id": "375b34a9dfb34ff487d191266c685665",
       "version_major": 2,
       "version_minor": 0
      },
      "text/plain": [
       "  0%|          | Repairing epochs : 0/77 [00:00<?,       ?it/s]"
      ]
     },
     "metadata": {},
     "output_type": "display_data"
    },
    {
     "data": {
      "application/vnd.jupyter.widget-view+json": {
       "model_id": "3d6049aa63e14b0cb0ccca8c023de971",
       "version_major": 2,
       "version_minor": 0
      },
      "text/plain": [
       "  0%|          | Fold : 0/10 [00:00<?,       ?it/s]"
      ]
     },
     "metadata": {},
     "output_type": "display_data"
    },
    {
     "data": {
      "application/vnd.jupyter.widget-view+json": {
       "model_id": "bf9a3f2b8c5640e6afa6fd4559005e1d",
       "version_major": 2,
       "version_minor": 0
      },
      "text/plain": [
       "  0%|          | Repairing epochs : 0/77 [00:00<?,       ?it/s]"
      ]
     },
     "metadata": {},
     "output_type": "display_data"
    },
    {
     "name": "stderr",
     "output_type": "stream",
     "text": [
      "c:\\Users\\uiseong\\anaconda3\\envs\\mne\\Lib\\site-packages\\mne\\bem.py:1115: RuntimeWarning: Mean of empty slice.\n",
      "  radius_init = radii.mean()\n",
      "c:\\Users\\uiseong\\anaconda3\\envs\\mne\\Lib\\site-packages\\numpy\\core\\_methods.py:129: RuntimeWarning: invalid value encountered in scalar divide\n",
      "  ret = ret.dtype.type(ret / rcount)\n",
      "c:\\Users\\uiseong\\anaconda3\\envs\\mne\\Lib\\site-packages\\numpy\\core\\fromnumeric.py:3504: RuntimeWarning: Mean of empty slice.\n",
      "  return _methods._mean(a, axis=axis, dtype=dtype,\n",
      "c:\\Users\\uiseong\\anaconda3\\envs\\mne\\Lib\\site-packages\\numpy\\core\\_methods.py:121: RuntimeWarning: invalid value encountered in divide\n",
      "  ret = um.true_divide(\n"
     ]
    },
    {
     "data": {
      "application/vnd.jupyter.widget-view+json": {
       "model_id": "6ff73833fbb849178d478f46cb5c6d19",
       "version_major": 2,
       "version_minor": 0
      },
      "text/plain": [
       "  0%|          | Fold : 0/10 [00:00<?,       ?it/s]"
      ]
     },
     "metadata": {},
     "output_type": "display_data"
    },
    {
     "name": "stdout",
     "output_type": "stream",
     "text": [
      "\n",
      "\n",
      "\n",
      "\n",
      "Estimated consensus=0.50 and n_interpolate=4\n"
     ]
    },
    {
     "data": {
      "application/vnd.jupyter.widget-view+json": {
       "model_id": "d192c6f50b304f6fbeee5b16e7ff8197",
       "version_major": 2,
       "version_minor": 0
      },
      "text/plain": [
       "  0%|          | Repairing epochs : 0/77 [00:00<?,       ?it/s]"
      ]
     },
     "metadata": {},
     "output_type": "display_data"
    },
    {
     "name": "stdout",
     "output_type": "stream",
     "text": [
      "Dropped 52 epochs: 5, 6, 7, 8, 9, 10, 12, 15, 28, 30, 31, 32, 33, 34, 37, 38, 39, 40, 41, 42, 43, 44, 45, 46, 47, 48, 49, 50, 51, 52, 53, 54, 55, 56, 57, 58, 59, 60, 61, 62, 63, 64, 65, 66, 67, 68, 70, 72, 73, 74, 75, 76\n",
      "Fitting ICA to data using 14 channels (please be patient, this may take a while)\n",
      "Selecting by non-zero PCA components: 13 components\n",
      "Fitting ICA took 0.3s.\n"
     ]
    },
    {
     "name": "stderr",
     "output_type": "stream",
     "text": [
      "C:\\Users\\uiseong\\AppData\\Local\\Temp\\ipykernel_41476\\757284080.py:51: RuntimeWarning: The provided Raw instance is not filtered between 1 and 100 Hz. ICLabel was designed to classify features extracted from an EEG dataset bandpass filtered between 1 and 100 Hz (see the 'filter()' method for Raw and Epochs instances).\n",
      "  ic_labels = label_components(raw, ica, method='iclabel')\n",
      "C:\\Users\\uiseong\\AppData\\Local\\Temp\\ipykernel_41476\\757284080.py:51: RuntimeWarning: The provided ICA instance was fitted with a 'fastica' algorithm. ICLabel was designed with extended infomax ICA decompositions. To use the extended infomax algorithm, use the 'mne.preprocessing.ICA' instance with the arguments 'ICA(method='infomax', fit_params=dict(extended=True))' (scikit-learn) or 'ICA(method='picard', fit_params=dict(ortho=False, extended=True))' (python-picard).\n",
      "  ic_labels = label_components(raw, ica, method='iclabel')\n"
     ]
    },
    {
     "name": "stdout",
     "output_type": "stream",
     "text": [
      "Applying ICA to Raw instance\n",
      "    Transforming to ICA space (13 components)\n",
      "    Zeroing out 4 ICA components\n",
      "    Projecting back using 14 PCA components\n",
      "자동 제거될 성분: [0, 1, 3, 12]\n",
      "Effective window size : 8.000 (s)\n",
      "Effective window size : 8.000 (s)\n",
      "Effective window size : 8.000 (s)\n",
      "Effective window size : 8.000 (s)\n",
      "Effective window size : 8.000 (s)\n",
      "Effective window size : 8.000 (s)\n",
      "Effective window size : 8.000 (s)\n",
      "Effective window size : 8.000 (s)\n",
      "Effective window size : 8.000 (s)\n",
      "Effective window size : 8.000 (s)\n",
      "Effective window size : 8.000 (s)\n",
      "Effective window size : 8.000 (s)\n",
      "Effective window size : 8.000 (s)\n",
      "Effective window size : 8.000 (s)\n",
      "Effective window size : 8.000 (s)\n",
      "Effective window size : 8.000 (s)\n",
      "Effective window size : 8.000 (s)\n",
      "Effective window size : 8.000 (s)\n",
      "Effective window size : 8.000 (s)\n",
      "Effective window size : 8.000 (s)\n",
      "처리 중: cho_nback_2.edf\n",
      "Extracting EDF parameters from c:\\Users\\uiseong\\OneDrive\\바탕 화면\\eeg\\EEG_cognitive_load\\EEG_nback_task\\cho_nback_2.edf...\n",
      "EDF file detected\n",
      "Setting channel info structure...\n",
      "Creating raw.info structure...\n",
      "Reading 0 ... 25727  =      0.000 ...   200.992 secs...\n",
      "NOTE: pick_channels() is a legacy function. New code should use inst.pick(...).\n",
      "Filtering raw data in 1 contiguous segment\n",
      "Setting up band-pass filter from 1 - 40 Hz\n",
      "\n",
      "FIR filter parameters\n",
      "---------------------\n",
      "Designing a one-pass, zero-phase, non-causal bandpass filter:\n",
      "- Windowed time-domain design (firwin) method\n",
      "- Hamming window with 0.0194 passband ripple and 53 dB stopband attenuation\n",
      "- Lower passband edge: 1.00\n",
      "- Lower transition bandwidth: 1.00 Hz (-6 dB cutoff frequency: 0.50 Hz)\n",
      "- Upper passband edge: 40.00 Hz\n",
      "- Upper transition bandwidth: 10.00 Hz (-6 dB cutoff frequency: 45.00 Hz)\n",
      "- Filter length: 423 samples (3.305 s)\n",
      "\n",
      "Filtering raw data in 1 contiguous segment\n",
      "Setting up band-stop filter from 59 - 61 Hz\n",
      "\n",
      "FIR filter parameters\n",
      "---------------------\n",
      "Designing a one-pass, zero-phase, non-causal bandstop filter:\n",
      "- Windowed time-domain design (firwin) method\n",
      "- Hamming window with 0.0194 passband ripple and 53 dB stopband attenuation\n",
      "- Lower passband edge: 59.35\n",
      "- Lower transition bandwidth: 0.50 Hz (-6 dB cutoff frequency: 59.10 Hz)\n",
      "- Upper passband edge: 60.65 Hz\n",
      "- Upper transition bandwidth: 0.50 Hz (-6 dB cutoff frequency: 60.90 Hz)\n",
      "- Filter length: 845 samples (6.602 s)\n",
      "\n",
      "EEG channel type selected for re-referencing\n",
      "Applying average reference.\n",
      "Applying a custom ('EEG',) reference.\n",
      "Not setting metadata\n",
      "67 matching events found\n",
      "No baseline correction applied\n",
      "0 projection items activated\n",
      "Using data from preloaded Raw for 67 events and 384 original time points ...\n",
      "0 bad epochs dropped\n",
      "Running autoreject on ch_type=eeg\n"
     ]
    },
    {
     "data": {
      "application/vnd.jupyter.widget-view+json": {
       "model_id": "9009adc4398d4a588ed867943cb54cb6",
       "version_major": 2,
       "version_minor": 0
      },
      "text/plain": [
       "  0%|          | Creating augmented epochs : 0/14 [00:00<?,       ?it/s]"
      ]
     },
     "metadata": {},
     "output_type": "display_data"
    },
    {
     "data": {
      "application/vnd.jupyter.widget-view+json": {
       "model_id": "e6df106786c64f0ab9371d2145b6712b",
       "version_major": 2,
       "version_minor": 0
      },
      "text/plain": [
       "  0%|          | Computing thresholds ... : 0/14 [00:00<?,       ?it/s]"
      ]
     },
     "metadata": {},
     "output_type": "display_data"
    },
    {
     "data": {
      "application/vnd.jupyter.widget-view+json": {
       "model_id": "6614b97f73354bb7b94495b61a521ce3",
       "version_major": 2,
       "version_minor": 0
      },
      "text/plain": [
       "  0%|          | Repairing epochs : 0/67 [00:00<?,       ?it/s]"
      ]
     },
     "metadata": {},
     "output_type": "display_data"
    },
    {
     "data": {
      "application/vnd.jupyter.widget-view+json": {
       "model_id": "530f698d75e943d2812176eb2e590942",
       "version_major": 2,
       "version_minor": 0
      },
      "text/plain": [
       "  0%|          | n_interp : 0/3 [00:00<?,       ?it/s]"
      ]
     },
     "metadata": {},
     "output_type": "display_data"
    },
    {
     "data": {
      "application/vnd.jupyter.widget-view+json": {
       "model_id": "3a91af46997e483ea0b7ce2eec5af736",
       "version_major": 2,
       "version_minor": 0
      },
      "text/plain": [
       "  0%|          | Repairing epochs : 0/67 [00:00<?,       ?it/s]"
      ]
     },
     "metadata": {},
     "output_type": "display_data"
    },
    {
     "data": {
      "application/vnd.jupyter.widget-view+json": {
       "model_id": "7d6a143510294522b6cd201cb9d4afd9",
       "version_major": 2,
       "version_minor": 0
      },
      "text/plain": [
       "  0%|          | Fold : 0/10 [00:00<?,       ?it/s]"
      ]
     },
     "metadata": {},
     "output_type": "display_data"
    },
    {
     "data": {
      "application/vnd.jupyter.widget-view+json": {
       "model_id": "4efe82c7de4b48d196c9a6a5ba0764a1",
       "version_major": 2,
       "version_minor": 0
      },
      "text/plain": [
       "  0%|          | Repairing epochs : 0/67 [00:00<?,       ?it/s]"
      ]
     },
     "metadata": {},
     "output_type": "display_data"
    },
    {
     "data": {
      "application/vnd.jupyter.widget-view+json": {
       "model_id": "ec2bc9376b8b4e15b16e877163953a56",
       "version_major": 2,
       "version_minor": 0
      },
      "text/plain": [
       "  0%|          | Fold : 0/10 [00:00<?,       ?it/s]"
      ]
     },
     "metadata": {},
     "output_type": "display_data"
    },
    {
     "data": {
      "application/vnd.jupyter.widget-view+json": {
       "model_id": "267cc180fa7b46de8fed2ae25c21e621",
       "version_major": 2,
       "version_minor": 0
      },
      "text/plain": [
       "  0%|          | Repairing epochs : 0/67 [00:00<?,       ?it/s]"
      ]
     },
     "metadata": {},
     "output_type": "display_data"
    },
    {
     "name": "stderr",
     "output_type": "stream",
     "text": [
      "c:\\Users\\uiseong\\anaconda3\\envs\\mne\\Lib\\site-packages\\mne\\bem.py:1115: RuntimeWarning: Mean of empty slice.\n",
      "  radius_init = radii.mean()\n",
      "c:\\Users\\uiseong\\anaconda3\\envs\\mne\\Lib\\site-packages\\numpy\\core\\_methods.py:129: RuntimeWarning: invalid value encountered in scalar divide\n",
      "  ret = ret.dtype.type(ret / rcount)\n",
      "c:\\Users\\uiseong\\anaconda3\\envs\\mne\\Lib\\site-packages\\numpy\\core\\fromnumeric.py:3504: RuntimeWarning: Mean of empty slice.\n",
      "  return _methods._mean(a, axis=axis, dtype=dtype,\n",
      "c:\\Users\\uiseong\\anaconda3\\envs\\mne\\Lib\\site-packages\\numpy\\core\\_methods.py:121: RuntimeWarning: invalid value encountered in divide\n",
      "  ret = um.true_divide(\n"
     ]
    },
    {
     "data": {
      "application/vnd.jupyter.widget-view+json": {
       "model_id": "d4d5ed8ad871414d95fc8cbcd9d5babf",
       "version_major": 2,
       "version_minor": 0
      },
      "text/plain": [
       "  0%|          | Fold : 0/10 [00:00<?,       ?it/s]"
      ]
     },
     "metadata": {},
     "output_type": "display_data"
    },
    {
     "name": "stdout",
     "output_type": "stream",
     "text": [
      "\n",
      "\n",
      "\n",
      "\n",
      "Estimated consensus=1.00 and n_interpolate=13\n"
     ]
    },
    {
     "data": {
      "application/vnd.jupyter.widget-view+json": {
       "model_id": "fd73c55f78a54d32bad4cae6a771b7bd",
       "version_major": 2,
       "version_minor": 0
      },
      "text/plain": [
       "  0%|          | Repairing epochs : 0/67 [00:00<?,       ?it/s]"
      ]
     },
     "metadata": {},
     "output_type": "display_data"
    },
    {
     "name": "stdout",
     "output_type": "stream",
     "text": [
      "Dropped 1 epoch: 18\n",
      "Fitting ICA to data using 14 channels (please be patient, this may take a while)\n",
      "Selecting by non-zero PCA components: 13 components\n",
      "Fitting ICA took 0.2s.\n"
     ]
    },
    {
     "name": "stderr",
     "output_type": "stream",
     "text": [
      "C:\\Users\\uiseong\\AppData\\Local\\Temp\\ipykernel_41476\\757284080.py:51: RuntimeWarning: The provided Raw instance is not filtered between 1 and 100 Hz. ICLabel was designed to classify features extracted from an EEG dataset bandpass filtered between 1 and 100 Hz (see the 'filter()' method for Raw and Epochs instances).\n",
      "  ic_labels = label_components(raw, ica, method='iclabel')\n",
      "C:\\Users\\uiseong\\AppData\\Local\\Temp\\ipykernel_41476\\757284080.py:51: RuntimeWarning: The provided ICA instance was fitted with a 'fastica' algorithm. ICLabel was designed with extended infomax ICA decompositions. To use the extended infomax algorithm, use the 'mne.preprocessing.ICA' instance with the arguments 'ICA(method='infomax', fit_params=dict(extended=True))' (scikit-learn) or 'ICA(method='picard', fit_params=dict(ortho=False, extended=True))' (python-picard).\n",
      "  ic_labels = label_components(raw, ica, method='iclabel')\n"
     ]
    },
    {
     "name": "stdout",
     "output_type": "stream",
     "text": [
      "Applying ICA to Raw instance\n",
      "    Transforming to ICA space (13 components)\n",
      "    Zeroing out 3 ICA components\n",
      "    Projecting back using 14 PCA components\n",
      "자동 제거될 성분: [0, 1, 2]\n",
      "Effective window size : 8.000 (s)\n",
      "Effective window size : 8.000 (s)\n",
      "Effective window size : 8.000 (s)\n",
      "Effective window size : 8.000 (s)\n",
      "Effective window size : 8.000 (s)\n",
      "Effective window size : 8.000 (s)\n",
      "Effective window size : 8.000 (s)\n",
      "Effective window size : 8.000 (s)\n",
      "Effective window size : 8.000 (s)\n",
      "Effective window size : 8.000 (s)\n",
      "Effective window size : 8.000 (s)\n",
      "Effective window size : 8.000 (s)\n",
      "Effective window size : 8.000 (s)\n",
      "Effective window size : 8.000 (s)\n",
      "Effective window size : 8.000 (s)\n",
      "Effective window size : 8.000 (s)\n",
      "Effective window size : 8.000 (s)\n",
      "Effective window size : 8.000 (s)\n",
      "Effective window size : 8.000 (s)\n",
      "Effective window size : 8.000 (s)\n",
      "처리 중: cho_nback_3.edf\n",
      "Extracting EDF parameters from c:\\Users\\uiseong\\OneDrive\\바탕 화면\\eeg\\EEG_cognitive_load\\EEG_nback_task\\cho_nback_3.edf...\n",
      "EDF file detected\n",
      "Setting channel info structure...\n",
      "Creating raw.info structure...\n",
      "Reading 0 ... 24959  =      0.000 ...   194.992 secs...\n",
      "NOTE: pick_channels() is a legacy function. New code should use inst.pick(...).\n",
      "Filtering raw data in 1 contiguous segment\n",
      "Setting up band-pass filter from 1 - 40 Hz\n",
      "\n",
      "FIR filter parameters\n",
      "---------------------\n",
      "Designing a one-pass, zero-phase, non-causal bandpass filter:\n",
      "- Windowed time-domain design (firwin) method\n",
      "- Hamming window with 0.0194 passband ripple and 53 dB stopband attenuation\n",
      "- Lower passband edge: 1.00\n",
      "- Lower transition bandwidth: 1.00 Hz (-6 dB cutoff frequency: 0.50 Hz)\n",
      "- Upper passband edge: 40.00 Hz\n",
      "- Upper transition bandwidth: 10.00 Hz (-6 dB cutoff frequency: 45.00 Hz)\n",
      "- Filter length: 423 samples (3.305 s)\n",
      "\n",
      "Filtering raw data in 1 contiguous segment\n",
      "Setting up band-stop filter from 59 - 61 Hz\n",
      "\n",
      "FIR filter parameters\n",
      "---------------------\n",
      "Designing a one-pass, zero-phase, non-causal bandstop filter:\n",
      "- Windowed time-domain design (firwin) method\n",
      "- Hamming window with 0.0194 passband ripple and 53 dB stopband attenuation\n",
      "- Lower passband edge: 59.35\n",
      "- Lower transition bandwidth: 0.50 Hz (-6 dB cutoff frequency: 59.10 Hz)\n",
      "- Upper passband edge: 60.65 Hz\n",
      "- Upper transition bandwidth: 0.50 Hz (-6 dB cutoff frequency: 60.90 Hz)\n",
      "- Filter length: 845 samples (6.602 s)\n",
      "\n",
      "EEG channel type selected for re-referencing\n",
      "Applying average reference.\n",
      "Applying a custom ('EEG',) reference.\n",
      "Not setting metadata\n",
      "65 matching events found\n",
      "No baseline correction applied\n",
      "0 projection items activated\n",
      "Using data from preloaded Raw for 65 events and 384 original time points ...\n",
      "0 bad epochs dropped\n",
      "Running autoreject on ch_type=eeg\n"
     ]
    },
    {
     "data": {
      "application/vnd.jupyter.widget-view+json": {
       "model_id": "6b1d6c33d5a7415f81f1c66fb7c8fd59",
       "version_major": 2,
       "version_minor": 0
      },
      "text/plain": [
       "  0%|          | Creating augmented epochs : 0/14 [00:00<?,       ?it/s]"
      ]
     },
     "metadata": {},
     "output_type": "display_data"
    },
    {
     "data": {
      "application/vnd.jupyter.widget-view+json": {
       "model_id": "647077c54a5b4047bb91278a6d412d44",
       "version_major": 2,
       "version_minor": 0
      },
      "text/plain": [
       "  0%|          | Computing thresholds ... : 0/14 [00:00<?,       ?it/s]"
      ]
     },
     "metadata": {},
     "output_type": "display_data"
    },
    {
     "data": {
      "application/vnd.jupyter.widget-view+json": {
       "model_id": "cf5412d188ec4bae8f4173ea7e4bd5ee",
       "version_major": 2,
       "version_minor": 0
      },
      "text/plain": [
       "  0%|          | Repairing epochs : 0/65 [00:00<?,       ?it/s]"
      ]
     },
     "metadata": {},
     "output_type": "display_data"
    },
    {
     "data": {
      "application/vnd.jupyter.widget-view+json": {
       "model_id": "d6836acde87b49f0b0e01b7e009f1559",
       "version_major": 2,
       "version_minor": 0
      },
      "text/plain": [
       "  0%|          | n_interp : 0/3 [00:00<?,       ?it/s]"
      ]
     },
     "metadata": {},
     "output_type": "display_data"
    },
    {
     "data": {
      "application/vnd.jupyter.widget-view+json": {
       "model_id": "bae8c5165cd64a05a3b13ac94922dc5f",
       "version_major": 2,
       "version_minor": 0
      },
      "text/plain": [
       "  0%|          | Repairing epochs : 0/65 [00:00<?,       ?it/s]"
      ]
     },
     "metadata": {},
     "output_type": "display_data"
    },
    {
     "data": {
      "application/vnd.jupyter.widget-view+json": {
       "model_id": "f1eb2ada4f224909a0c4008772e18f75",
       "version_major": 2,
       "version_minor": 0
      },
      "text/plain": [
       "  0%|          | Fold : 0/10 [00:00<?,       ?it/s]"
      ]
     },
     "metadata": {},
     "output_type": "display_data"
    },
    {
     "data": {
      "application/vnd.jupyter.widget-view+json": {
       "model_id": "4cf9ad08636d45feaac815c8e25d84c7",
       "version_major": 2,
       "version_minor": 0
      },
      "text/plain": [
       "  0%|          | Repairing epochs : 0/65 [00:00<?,       ?it/s]"
      ]
     },
     "metadata": {},
     "output_type": "display_data"
    },
    {
     "data": {
      "application/vnd.jupyter.widget-view+json": {
       "model_id": "f3043ba109a94a50890aea3b5e4a895a",
       "version_major": 2,
       "version_minor": 0
      },
      "text/plain": [
       "  0%|          | Fold : 0/10 [00:00<?,       ?it/s]"
      ]
     },
     "metadata": {},
     "output_type": "display_data"
    },
    {
     "data": {
      "application/vnd.jupyter.widget-view+json": {
       "model_id": "2f3ef2b999704c30ac47feee92ef82fc",
       "version_major": 2,
       "version_minor": 0
      },
      "text/plain": [
       "  0%|          | Repairing epochs : 0/65 [00:00<?,       ?it/s]"
      ]
     },
     "metadata": {},
     "output_type": "display_data"
    },
    {
     "name": "stderr",
     "output_type": "stream",
     "text": [
      "c:\\Users\\uiseong\\anaconda3\\envs\\mne\\Lib\\site-packages\\mne\\bem.py:1115: RuntimeWarning: Mean of empty slice.\n",
      "  radius_init = radii.mean()\n",
      "c:\\Users\\uiseong\\anaconda3\\envs\\mne\\Lib\\site-packages\\numpy\\core\\_methods.py:129: RuntimeWarning: invalid value encountered in scalar divide\n",
      "  ret = ret.dtype.type(ret / rcount)\n",
      "c:\\Users\\uiseong\\anaconda3\\envs\\mne\\Lib\\site-packages\\numpy\\core\\fromnumeric.py:3504: RuntimeWarning: Mean of empty slice.\n",
      "  return _methods._mean(a, axis=axis, dtype=dtype,\n",
      "c:\\Users\\uiseong\\anaconda3\\envs\\mne\\Lib\\site-packages\\numpy\\core\\_methods.py:121: RuntimeWarning: invalid value encountered in divide\n",
      "  ret = um.true_divide(\n"
     ]
    },
    {
     "data": {
      "application/vnd.jupyter.widget-view+json": {
       "model_id": "10cb0718d3dc48178201d3c8901dde73",
       "version_major": 2,
       "version_minor": 0
      },
      "text/plain": [
       "  0%|          | Fold : 0/10 [00:00<?,       ?it/s]"
      ]
     },
     "metadata": {},
     "output_type": "display_data"
    },
    {
     "name": "stdout",
     "output_type": "stream",
     "text": [
      "\n",
      "\n",
      "\n",
      "\n",
      "Estimated consensus=1.00 and n_interpolate=13\n"
     ]
    },
    {
     "data": {
      "application/vnd.jupyter.widget-view+json": {
       "model_id": "83de2aba4f774683a6dab58032721f82",
       "version_major": 2,
       "version_minor": 0
      },
      "text/plain": [
       "  0%|          | Repairing epochs : 0/65 [00:00<?,       ?it/s]"
      ]
     },
     "metadata": {},
     "output_type": "display_data"
    },
    {
     "name": "stdout",
     "output_type": "stream",
     "text": [
      "Dropped 1 epoch: 16\n",
      "Fitting ICA to data using 14 channels (please be patient, this may take a while)\n",
      "Selecting by non-zero PCA components: 13 components\n",
      "Fitting ICA took 0.1s.\n"
     ]
    },
    {
     "name": "stderr",
     "output_type": "stream",
     "text": [
      "C:\\Users\\uiseong\\AppData\\Local\\Temp\\ipykernel_41476\\757284080.py:51: RuntimeWarning: The provided Raw instance is not filtered between 1 and 100 Hz. ICLabel was designed to classify features extracted from an EEG dataset bandpass filtered between 1 and 100 Hz (see the 'filter()' method for Raw and Epochs instances).\n",
      "  ic_labels = label_components(raw, ica, method='iclabel')\n",
      "C:\\Users\\uiseong\\AppData\\Local\\Temp\\ipykernel_41476\\757284080.py:51: RuntimeWarning: The provided ICA instance was fitted with a 'fastica' algorithm. ICLabel was designed with extended infomax ICA decompositions. To use the extended infomax algorithm, use the 'mne.preprocessing.ICA' instance with the arguments 'ICA(method='infomax', fit_params=dict(extended=True))' (scikit-learn) or 'ICA(method='picard', fit_params=dict(ortho=False, extended=True))' (python-picard).\n",
      "  ic_labels = label_components(raw, ica, method='iclabel')\n"
     ]
    },
    {
     "name": "stdout",
     "output_type": "stream",
     "text": [
      "Applying ICA to Raw instance\n",
      "    Transforming to ICA space (13 components)\n",
      "    Zeroing out 3 ICA components\n",
      "    Projecting back using 14 PCA components\n",
      "자동 제거될 성분: [0, 1, 9]\n",
      "Effective window size : 8.000 (s)\n",
      "Effective window size : 8.000 (s)\n",
      "Effective window size : 8.000 (s)\n",
      "Effective window size : 8.000 (s)\n",
      "Effective window size : 8.000 (s)\n",
      "Effective window size : 8.000 (s)\n",
      "Effective window size : 8.000 (s)\n",
      "Effective window size : 8.000 (s)\n",
      "Effective window size : 8.000 (s)\n",
      "Effective window size : 8.000 (s)\n",
      "Effective window size : 8.000 (s)\n",
      "Effective window size : 8.000 (s)\n",
      "Effective window size : 8.000 (s)\n",
      "Effective window size : 8.000 (s)\n",
      "Effective window size : 8.000 (s)\n",
      "Effective window size : 8.000 (s)\n",
      "Effective window size : 8.000 (s)\n",
      "Effective window size : 8.000 (s)\n",
      "Effective window size : 8.000 (s)\n",
      "Effective window size : 8.000 (s)\n",
      "처리 중: taek_nback_1.edf\n",
      "Extracting EDF parameters from c:\\Users\\uiseong\\OneDrive\\바탕 화면\\eeg\\EEG_cognitive_load\\EEG_nback_task\\taek_nback_1.edf...\n",
      "EDF file detected\n",
      "Setting channel info structure...\n",
      "Creating raw.info structure...\n",
      "Reading 0 ... 27647  =      0.000 ...   215.992 secs...\n",
      "NOTE: pick_channels() is a legacy function. New code should use inst.pick(...).\n",
      "Filtering raw data in 1 contiguous segment\n",
      "Setting up band-pass filter from 1 - 40 Hz\n",
      "\n",
      "FIR filter parameters\n",
      "---------------------\n",
      "Designing a one-pass, zero-phase, non-causal bandpass filter:\n",
      "- Windowed time-domain design (firwin) method\n",
      "- Hamming window with 0.0194 passband ripple and 53 dB stopband attenuation\n",
      "- Lower passband edge: 1.00\n",
      "- Lower transition bandwidth: 1.00 Hz (-6 dB cutoff frequency: 0.50 Hz)\n",
      "- Upper passband edge: 40.00 Hz\n",
      "- Upper transition bandwidth: 10.00 Hz (-6 dB cutoff frequency: 45.00 Hz)\n",
      "- Filter length: 423 samples (3.305 s)\n",
      "\n",
      "Filtering raw data in 1 contiguous segment\n",
      "Setting up band-stop filter from 59 - 61 Hz\n",
      "\n",
      "FIR filter parameters\n",
      "---------------------\n",
      "Designing a one-pass, zero-phase, non-causal bandstop filter:\n",
      "- Windowed time-domain design (firwin) method\n",
      "- Hamming window with 0.0194 passband ripple and 53 dB stopband attenuation\n",
      "- Lower passband edge: 59.35\n",
      "- Lower transition bandwidth: 0.50 Hz (-6 dB cutoff frequency: 59.10 Hz)\n",
      "- Upper passband edge: 60.65 Hz\n",
      "- Upper transition bandwidth: 0.50 Hz (-6 dB cutoff frequency: 60.90 Hz)\n",
      "- Filter length: 845 samples (6.602 s)\n",
      "\n",
      "EEG channel type selected for re-referencing\n",
      "Applying average reference.\n",
      "Applying a custom ('EEG',) reference.\n",
      "Not setting metadata\n",
      "72 matching events found\n",
      "No baseline correction applied\n",
      "0 projection items activated\n",
      "Using data from preloaded Raw for 72 events and 384 original time points ...\n",
      "0 bad epochs dropped\n",
      "Running autoreject on ch_type=eeg\n"
     ]
    },
    {
     "data": {
      "application/vnd.jupyter.widget-view+json": {
       "model_id": "1e99ac5eeecb4766b6eeb06c07402ed3",
       "version_major": 2,
       "version_minor": 0
      },
      "text/plain": [
       "  0%|          | Creating augmented epochs : 0/14 [00:00<?,       ?it/s]"
      ]
     },
     "metadata": {},
     "output_type": "display_data"
    },
    {
     "data": {
      "application/vnd.jupyter.widget-view+json": {
       "model_id": "8133d2fe00b3420298c9febdb6876ad4",
       "version_major": 2,
       "version_minor": 0
      },
      "text/plain": [
       "  0%|          | Computing thresholds ... : 0/14 [00:00<?,       ?it/s]"
      ]
     },
     "metadata": {},
     "output_type": "display_data"
    },
    {
     "data": {
      "application/vnd.jupyter.widget-view+json": {
       "model_id": "205bd887ee20456a8ac4c57a22d1731c",
       "version_major": 2,
       "version_minor": 0
      },
      "text/plain": [
       "  0%|          | Repairing epochs : 0/72 [00:00<?,       ?it/s]"
      ]
     },
     "metadata": {},
     "output_type": "display_data"
    },
    {
     "data": {
      "application/vnd.jupyter.widget-view+json": {
       "model_id": "1cbf25a484cf4889a4e7b9de167d8ed0",
       "version_major": 2,
       "version_minor": 0
      },
      "text/plain": [
       "  0%|          | n_interp : 0/3 [00:00<?,       ?it/s]"
      ]
     },
     "metadata": {},
     "output_type": "display_data"
    },
    {
     "data": {
      "application/vnd.jupyter.widget-view+json": {
       "model_id": "e532bc0bc16942dfac2c3c3ffc43a536",
       "version_major": 2,
       "version_minor": 0
      },
      "text/plain": [
       "  0%|          | Repairing epochs : 0/72 [00:00<?,       ?it/s]"
      ]
     },
     "metadata": {},
     "output_type": "display_data"
    },
    {
     "data": {
      "application/vnd.jupyter.widget-view+json": {
       "model_id": "e90cd4f7bc724de288777a95048eaea9",
       "version_major": 2,
       "version_minor": 0
      },
      "text/plain": [
       "  0%|          | Fold : 0/10 [00:00<?,       ?it/s]"
      ]
     },
     "metadata": {},
     "output_type": "display_data"
    },
    {
     "data": {
      "application/vnd.jupyter.widget-view+json": {
       "model_id": "0f922a6fca1e433ab3083a9731b10c1c",
       "version_major": 2,
       "version_minor": 0
      },
      "text/plain": [
       "  0%|          | Repairing epochs : 0/72 [00:00<?,       ?it/s]"
      ]
     },
     "metadata": {},
     "output_type": "display_data"
    },
    {
     "data": {
      "application/vnd.jupyter.widget-view+json": {
       "model_id": "c98b90eab896468ba99636e1ff163bd0",
       "version_major": 2,
       "version_minor": 0
      },
      "text/plain": [
       "  0%|          | Fold : 0/10 [00:00<?,       ?it/s]"
      ]
     },
     "metadata": {},
     "output_type": "display_data"
    },
    {
     "data": {
      "application/vnd.jupyter.widget-view+json": {
       "model_id": "49821445908543f2bfb51c29a2273276",
       "version_major": 2,
       "version_minor": 0
      },
      "text/plain": [
       "  0%|          | Repairing epochs : 0/72 [00:00<?,       ?it/s]"
      ]
     },
     "metadata": {},
     "output_type": "display_data"
    },
    {
     "data": {
      "application/vnd.jupyter.widget-view+json": {
       "model_id": "ad63543ec2584c5e8daaea1d84e2a59a",
       "version_major": 2,
       "version_minor": 0
      },
      "text/plain": [
       "  0%|          | Fold : 0/10 [00:00<?,       ?it/s]"
      ]
     },
     "metadata": {},
     "output_type": "display_data"
    },
    {
     "name": "stdout",
     "output_type": "stream",
     "text": [
      "\n",
      "\n",
      "\n",
      "\n",
      "Estimated consensus=1.00 and n_interpolate=13\n"
     ]
    },
    {
     "data": {
      "application/vnd.jupyter.widget-view+json": {
       "model_id": "8d14e998e5694417b438b6ab3a0cbde2",
       "version_major": 2,
       "version_minor": 0
      },
      "text/plain": [
       "  0%|          | Repairing epochs : 0/72 [00:00<?,       ?it/s]"
      ]
     },
     "metadata": {},
     "output_type": "display_data"
    },
    {
     "name": "stdout",
     "output_type": "stream",
     "text": [
      "No bad epochs were found for your data. Returning a copy of the data you wanted to clean. Interpolation may have been done.\n",
      "Fitting ICA to data using 14 channels (please be patient, this may take a while)\n",
      "Selecting by non-zero PCA components: 13 components\n",
      "Fitting ICA took 0.1s.\n"
     ]
    },
    {
     "name": "stderr",
     "output_type": "stream",
     "text": [
      "C:\\Users\\uiseong\\AppData\\Local\\Temp\\ipykernel_41476\\757284080.py:51: RuntimeWarning: The provided Raw instance is not filtered between 1 and 100 Hz. ICLabel was designed to classify features extracted from an EEG dataset bandpass filtered between 1 and 100 Hz (see the 'filter()' method for Raw and Epochs instances).\n",
      "  ic_labels = label_components(raw, ica, method='iclabel')\n",
      "C:\\Users\\uiseong\\AppData\\Local\\Temp\\ipykernel_41476\\757284080.py:51: RuntimeWarning: The provided ICA instance was fitted with a 'fastica' algorithm. ICLabel was designed with extended infomax ICA decompositions. To use the extended infomax algorithm, use the 'mne.preprocessing.ICA' instance with the arguments 'ICA(method='infomax', fit_params=dict(extended=True))' (scikit-learn) or 'ICA(method='picard', fit_params=dict(ortho=False, extended=True))' (python-picard).\n",
      "  ic_labels = label_components(raw, ica, method='iclabel')\n"
     ]
    },
    {
     "name": "stdout",
     "output_type": "stream",
     "text": [
      "Applying ICA to Raw instance\n",
      "    Transforming to ICA space (13 components)\n",
      "    Zeroing out 3 ICA components\n",
      "    Projecting back using 14 PCA components\n",
      "자동 제거될 성분: [0, 2, 9]\n",
      "Effective window size : 8.000 (s)\n",
      "Effective window size : 8.000 (s)\n",
      "Effective window size : 8.000 (s)\n",
      "Effective window size : 8.000 (s)\n",
      "Effective window size : 8.000 (s)\n",
      "Effective window size : 8.000 (s)\n",
      "Effective window size : 8.000 (s)\n",
      "Effective window size : 8.000 (s)\n",
      "Effective window size : 8.000 (s)\n",
      "Effective window size : 8.000 (s)\n",
      "Effective window size : 8.000 (s)\n",
      "Effective window size : 8.000 (s)\n",
      "Effective window size : 8.000 (s)\n",
      "Effective window size : 8.000 (s)\n",
      "Effective window size : 8.000 (s)\n",
      "Effective window size : 8.000 (s)\n",
      "Effective window size : 8.000 (s)\n",
      "Effective window size : 8.000 (s)\n",
      "Effective window size : 8.000 (s)\n",
      "Effective window size : 8.000 (s)\n",
      "처리 중: taek_nback_2.edf\n",
      "Extracting EDF parameters from c:\\Users\\uiseong\\OneDrive\\바탕 화면\\eeg\\EEG_cognitive_load\\EEG_nback_task\\taek_nback_2.edf...\n",
      "EDF file detected\n",
      "Setting channel info structure...\n",
      "Creating raw.info structure...\n",
      "Reading 0 ... 24831  =      0.000 ...   193.992 secs...\n",
      "NOTE: pick_channels() is a legacy function. New code should use inst.pick(...).\n",
      "Filtering raw data in 1 contiguous segment\n",
      "Setting up band-pass filter from 1 - 40 Hz\n",
      "\n",
      "FIR filter parameters\n",
      "---------------------\n",
      "Designing a one-pass, zero-phase, non-causal bandpass filter:\n",
      "- Windowed time-domain design (firwin) method\n",
      "- Hamming window with 0.0194 passband ripple and 53 dB stopband attenuation\n",
      "- Lower passband edge: 1.00\n",
      "- Lower transition bandwidth: 1.00 Hz (-6 dB cutoff frequency: 0.50 Hz)\n",
      "- Upper passband edge: 40.00 Hz\n",
      "- Upper transition bandwidth: 10.00 Hz (-6 dB cutoff frequency: 45.00 Hz)\n",
      "- Filter length: 423 samples (3.305 s)\n",
      "\n",
      "Filtering raw data in 1 contiguous segment\n",
      "Setting up band-stop filter from 59 - 61 Hz\n",
      "\n",
      "FIR filter parameters\n",
      "---------------------\n",
      "Designing a one-pass, zero-phase, non-causal bandstop filter:\n",
      "- Windowed time-domain design (firwin) method\n",
      "- Hamming window with 0.0194 passband ripple and 53 dB stopband attenuation\n",
      "- Lower passband edge: 59.35\n",
      "- Lower transition bandwidth: 0.50 Hz (-6 dB cutoff frequency: 59.10 Hz)\n",
      "- Upper passband edge: 60.65 Hz\n",
      "- Upper transition bandwidth: 0.50 Hz (-6 dB cutoff frequency: 60.90 Hz)\n",
      "- Filter length: 845 samples (6.602 s)\n",
      "\n",
      "EEG channel type selected for re-referencing\n",
      "Applying average reference.\n",
      "Applying a custom ('EEG',) reference.\n",
      "Not setting metadata\n",
      "64 matching events found\n",
      "No baseline correction applied\n",
      "0 projection items activated\n",
      "Using data from preloaded Raw for 64 events and 384 original time points ...\n",
      "0 bad epochs dropped\n",
      "Running autoreject on ch_type=eeg\n"
     ]
    },
    {
     "data": {
      "application/vnd.jupyter.widget-view+json": {
       "model_id": "12d4e4a81467469d8e1d2722b3cff39f",
       "version_major": 2,
       "version_minor": 0
      },
      "text/plain": [
       "  0%|          | Creating augmented epochs : 0/14 [00:00<?,       ?it/s]"
      ]
     },
     "metadata": {},
     "output_type": "display_data"
    },
    {
     "data": {
      "application/vnd.jupyter.widget-view+json": {
       "model_id": "d55bcd769c2744f8a131a6665cb3efcf",
       "version_major": 2,
       "version_minor": 0
      },
      "text/plain": [
       "  0%|          | Computing thresholds ... : 0/14 [00:00<?,       ?it/s]"
      ]
     },
     "metadata": {},
     "output_type": "display_data"
    },
    {
     "data": {
      "application/vnd.jupyter.widget-view+json": {
       "model_id": "2bdc85b11f9c4637a877ebf1cf5439ee",
       "version_major": 2,
       "version_minor": 0
      },
      "text/plain": [
       "  0%|          | Repairing epochs : 0/64 [00:00<?,       ?it/s]"
      ]
     },
     "metadata": {},
     "output_type": "display_data"
    },
    {
     "data": {
      "application/vnd.jupyter.widget-view+json": {
       "model_id": "9a9cef5811274e9aa600545fa6084017",
       "version_major": 2,
       "version_minor": 0
      },
      "text/plain": [
       "  0%|          | n_interp : 0/3 [00:00<?,       ?it/s]"
      ]
     },
     "metadata": {},
     "output_type": "display_data"
    },
    {
     "data": {
      "application/vnd.jupyter.widget-view+json": {
       "model_id": "d933197bf5bf42dbacf28c758d816a99",
       "version_major": 2,
       "version_minor": 0
      },
      "text/plain": [
       "  0%|          | Repairing epochs : 0/64 [00:00<?,       ?it/s]"
      ]
     },
     "metadata": {},
     "output_type": "display_data"
    },
    {
     "data": {
      "application/vnd.jupyter.widget-view+json": {
       "model_id": "ede8b817895f4219a922549fc0076f27",
       "version_major": 2,
       "version_minor": 0
      },
      "text/plain": [
       "  0%|          | Fold : 0/10 [00:00<?,       ?it/s]"
      ]
     },
     "metadata": {},
     "output_type": "display_data"
    },
    {
     "data": {
      "application/vnd.jupyter.widget-view+json": {
       "model_id": "6a49f297004143ab811f3718ff1110c4",
       "version_major": 2,
       "version_minor": 0
      },
      "text/plain": [
       "  0%|          | Repairing epochs : 0/64 [00:00<?,       ?it/s]"
      ]
     },
     "metadata": {},
     "output_type": "display_data"
    },
    {
     "data": {
      "application/vnd.jupyter.widget-view+json": {
       "model_id": "40e5f0cd0a684ccabc76ec0e01f77708",
       "version_major": 2,
       "version_minor": 0
      },
      "text/plain": [
       "  0%|          | Fold : 0/10 [00:00<?,       ?it/s]"
      ]
     },
     "metadata": {},
     "output_type": "display_data"
    },
    {
     "data": {
      "application/vnd.jupyter.widget-view+json": {
       "model_id": "e79cac4520204c6a86d782246d36edea",
       "version_major": 2,
       "version_minor": 0
      },
      "text/plain": [
       "  0%|          | Repairing epochs : 0/64 [00:00<?,       ?it/s]"
      ]
     },
     "metadata": {},
     "output_type": "display_data"
    },
    {
     "data": {
      "application/vnd.jupyter.widget-view+json": {
       "model_id": "bb5e1e943c164356ba48ae00ebc1cc71",
       "version_major": 2,
       "version_minor": 0
      },
      "text/plain": [
       "  0%|          | Fold : 0/10 [00:00<?,       ?it/s]"
      ]
     },
     "metadata": {},
     "output_type": "display_data"
    },
    {
     "name": "stdout",
     "output_type": "stream",
     "text": [
      "\n",
      "\n",
      "\n",
      "\n",
      "Estimated consensus=0.60 and n_interpolate=4\n"
     ]
    },
    {
     "data": {
      "application/vnd.jupyter.widget-view+json": {
       "model_id": "6518e819f9764c97a6be234044bc5ef9",
       "version_major": 2,
       "version_minor": 0
      },
      "text/plain": [
       "  0%|          | Repairing epochs : 0/64 [00:00<?,       ?it/s]"
      ]
     },
     "metadata": {},
     "output_type": "display_data"
    },
    {
     "name": "stdout",
     "output_type": "stream",
     "text": [
      "No bad epochs were found for your data. Returning a copy of the data you wanted to clean. Interpolation may have been done.\n",
      "Fitting ICA to data using 14 channels (please be patient, this may take a while)\n",
      "Selecting by non-zero PCA components: 13 components\n",
      "Fitting ICA took 0.1s.\n"
     ]
    },
    {
     "name": "stderr",
     "output_type": "stream",
     "text": [
      "C:\\Users\\uiseong\\AppData\\Local\\Temp\\ipykernel_41476\\757284080.py:51: RuntimeWarning: The provided Raw instance is not filtered between 1 and 100 Hz. ICLabel was designed to classify features extracted from an EEG dataset bandpass filtered between 1 and 100 Hz (see the 'filter()' method for Raw and Epochs instances).\n",
      "  ic_labels = label_components(raw, ica, method='iclabel')\n",
      "C:\\Users\\uiseong\\AppData\\Local\\Temp\\ipykernel_41476\\757284080.py:51: RuntimeWarning: The provided ICA instance was fitted with a 'fastica' algorithm. ICLabel was designed with extended infomax ICA decompositions. To use the extended infomax algorithm, use the 'mne.preprocessing.ICA' instance with the arguments 'ICA(method='infomax', fit_params=dict(extended=True))' (scikit-learn) or 'ICA(method='picard', fit_params=dict(ortho=False, extended=True))' (python-picard).\n",
      "  ic_labels = label_components(raw, ica, method='iclabel')\n"
     ]
    },
    {
     "name": "stdout",
     "output_type": "stream",
     "text": [
      "Applying ICA to Raw instance\n",
      "    Transforming to ICA space (13 components)\n",
      "    Zeroing out 3 ICA components\n",
      "    Projecting back using 14 PCA components\n",
      "자동 제거될 성분: [0, 3, 11]\n",
      "Effective window size : 8.000 (s)\n",
      "Effective window size : 8.000 (s)\n",
      "Effective window size : 8.000 (s)\n",
      "Effective window size : 8.000 (s)\n",
      "Effective window size : 8.000 (s)\n",
      "Effective window size : 8.000 (s)\n",
      "Effective window size : 8.000 (s)\n",
      "Effective window size : 8.000 (s)\n",
      "Effective window size : 8.000 (s)\n",
      "Effective window size : 8.000 (s)\n",
      "Effective window size : 8.000 (s)\n",
      "Effective window size : 8.000 (s)\n",
      "Effective window size : 8.000 (s)\n",
      "Effective window size : 8.000 (s)\n",
      "Effective window size : 8.000 (s)\n",
      "Effective window size : 8.000 (s)\n",
      "Effective window size : 8.000 (s)\n",
      "Effective window size : 8.000 (s)\n",
      "Effective window size : 8.000 (s)\n",
      "Effective window size : 8.000 (s)\n",
      "처리 중: taek_nback_3.edf\n",
      "Extracting EDF parameters from c:\\Users\\uiseong\\OneDrive\\바탕 화면\\eeg\\EEG_cognitive_load\\EEG_nback_task\\taek_nback_3.edf...\n",
      "EDF file detected\n",
      "Setting channel info structure...\n",
      "Creating raw.info structure...\n",
      "Reading 0 ... 24703  =      0.000 ...   192.992 secs...\n",
      "NOTE: pick_channels() is a legacy function. New code should use inst.pick(...).\n",
      "Filtering raw data in 1 contiguous segment\n",
      "Setting up band-pass filter from 1 - 40 Hz\n",
      "\n",
      "FIR filter parameters\n",
      "---------------------\n",
      "Designing a one-pass, zero-phase, non-causal bandpass filter:\n",
      "- Windowed time-domain design (firwin) method\n",
      "- Hamming window with 0.0194 passband ripple and 53 dB stopband attenuation\n",
      "- Lower passband edge: 1.00\n",
      "- Lower transition bandwidth: 1.00 Hz (-6 dB cutoff frequency: 0.50 Hz)\n",
      "- Upper passband edge: 40.00 Hz\n",
      "- Upper transition bandwidth: 10.00 Hz (-6 dB cutoff frequency: 45.00 Hz)\n",
      "- Filter length: 423 samples (3.305 s)\n",
      "\n",
      "Filtering raw data in 1 contiguous segment\n",
      "Setting up band-stop filter from 59 - 61 Hz\n",
      "\n",
      "FIR filter parameters\n",
      "---------------------\n",
      "Designing a one-pass, zero-phase, non-causal bandstop filter:\n",
      "- Windowed time-domain design (firwin) method\n",
      "- Hamming window with 0.0194 passband ripple and 53 dB stopband attenuation\n",
      "- Lower passband edge: 59.35\n",
      "- Lower transition bandwidth: 0.50 Hz (-6 dB cutoff frequency: 59.10 Hz)\n",
      "- Upper passband edge: 60.65 Hz\n",
      "- Upper transition bandwidth: 0.50 Hz (-6 dB cutoff frequency: 60.90 Hz)\n",
      "- Filter length: 845 samples (6.602 s)\n",
      "\n",
      "EEG channel type selected for re-referencing\n",
      "Applying average reference.\n",
      "Applying a custom ('EEG',) reference.\n",
      "Not setting metadata\n",
      "64 matching events found\n",
      "No baseline correction applied\n",
      "0 projection items activated\n",
      "Using data from preloaded Raw for 64 events and 384 original time points ...\n",
      "0 bad epochs dropped\n",
      "Running autoreject on ch_type=eeg\n"
     ]
    },
    {
     "data": {
      "application/vnd.jupyter.widget-view+json": {
       "model_id": "75608ced73334cbb9a56ca0d71b84a95",
       "version_major": 2,
       "version_minor": 0
      },
      "text/plain": [
       "  0%|          | Creating augmented epochs : 0/14 [00:00<?,       ?it/s]"
      ]
     },
     "metadata": {},
     "output_type": "display_data"
    },
    {
     "data": {
      "application/vnd.jupyter.widget-view+json": {
       "model_id": "64747299519b452b8e3bda49f5046d24",
       "version_major": 2,
       "version_minor": 0
      },
      "text/plain": [
       "  0%|          | Computing thresholds ... : 0/14 [00:00<?,       ?it/s]"
      ]
     },
     "metadata": {},
     "output_type": "display_data"
    },
    {
     "data": {
      "application/vnd.jupyter.widget-view+json": {
       "model_id": "15c8cc8fa7514a048836082bd8586e08",
       "version_major": 2,
       "version_minor": 0
      },
      "text/plain": [
       "  0%|          | Repairing epochs : 0/64 [00:00<?,       ?it/s]"
      ]
     },
     "metadata": {},
     "output_type": "display_data"
    },
    {
     "data": {
      "application/vnd.jupyter.widget-view+json": {
       "model_id": "d5e1d75757b149c3ac17b1df0d7cc202",
       "version_major": 2,
       "version_minor": 0
      },
      "text/plain": [
       "  0%|          | n_interp : 0/3 [00:00<?,       ?it/s]"
      ]
     },
     "metadata": {},
     "output_type": "display_data"
    },
    {
     "data": {
      "application/vnd.jupyter.widget-view+json": {
       "model_id": "0703ea53372d45cdac78d678f386b249",
       "version_major": 2,
       "version_minor": 0
      },
      "text/plain": [
       "  0%|          | Repairing epochs : 0/64 [00:00<?,       ?it/s]"
      ]
     },
     "metadata": {},
     "output_type": "display_data"
    },
    {
     "data": {
      "application/vnd.jupyter.widget-view+json": {
       "model_id": "bbecbb0f2bb54addba9f949eb6e8dea0",
       "version_major": 2,
       "version_minor": 0
      },
      "text/plain": [
       "  0%|          | Fold : 0/10 [00:00<?,       ?it/s]"
      ]
     },
     "metadata": {},
     "output_type": "display_data"
    },
    {
     "data": {
      "application/vnd.jupyter.widget-view+json": {
       "model_id": "d4753aa9526e45bdaa32048e74d7a559",
       "version_major": 2,
       "version_minor": 0
      },
      "text/plain": [
       "  0%|          | Repairing epochs : 0/64 [00:00<?,       ?it/s]"
      ]
     },
     "metadata": {},
     "output_type": "display_data"
    },
    {
     "data": {
      "application/vnd.jupyter.widget-view+json": {
       "model_id": "6d094be1e99146fca7f392236bd4f453",
       "version_major": 2,
       "version_minor": 0
      },
      "text/plain": [
       "  0%|          | Fold : 0/10 [00:00<?,       ?it/s]"
      ]
     },
     "metadata": {},
     "output_type": "display_data"
    },
    {
     "data": {
      "application/vnd.jupyter.widget-view+json": {
       "model_id": "b368d9e2763144ed9bc52d3799514b1d",
       "version_major": 2,
       "version_minor": 0
      },
      "text/plain": [
       "  0%|          | Repairing epochs : 0/64 [00:00<?,       ?it/s]"
      ]
     },
     "metadata": {},
     "output_type": "display_data"
    },
    {
     "data": {
      "application/vnd.jupyter.widget-view+json": {
       "model_id": "0da2374b23154651b35cac64c363d08d",
       "version_major": 2,
       "version_minor": 0
      },
      "text/plain": [
       "  0%|          | Fold : 0/10 [00:00<?,       ?it/s]"
      ]
     },
     "metadata": {},
     "output_type": "display_data"
    },
    {
     "name": "stdout",
     "output_type": "stream",
     "text": [
      "\n",
      "\n",
      "\n",
      "\n",
      "Estimated consensus=0.60 and n_interpolate=1\n"
     ]
    },
    {
     "data": {
      "application/vnd.jupyter.widget-view+json": {
       "model_id": "f8ac9246b8b84499a9ae3df5871bd482",
       "version_major": 2,
       "version_minor": 0
      },
      "text/plain": [
       "  0%|          | Repairing epochs : 0/64 [00:00<?,       ?it/s]"
      ]
     },
     "metadata": {},
     "output_type": "display_data"
    },
    {
     "name": "stdout",
     "output_type": "stream",
     "text": [
      "No bad epochs were found for your data. Returning a copy of the data you wanted to clean. Interpolation may have been done.\n",
      "Fitting ICA to data using 14 channels (please be patient, this may take a while)\n",
      "Selecting by non-zero PCA components: 13 components\n",
      "Fitting ICA took 0.1s.\n"
     ]
    },
    {
     "name": "stderr",
     "output_type": "stream",
     "text": [
      "C:\\Users\\uiseong\\AppData\\Local\\Temp\\ipykernel_41476\\757284080.py:51: RuntimeWarning: The provided Raw instance is not filtered between 1 and 100 Hz. ICLabel was designed to classify features extracted from an EEG dataset bandpass filtered between 1 and 100 Hz (see the 'filter()' method for Raw and Epochs instances).\n",
      "  ic_labels = label_components(raw, ica, method='iclabel')\n",
      "C:\\Users\\uiseong\\AppData\\Local\\Temp\\ipykernel_41476\\757284080.py:51: RuntimeWarning: The provided ICA instance was fitted with a 'fastica' algorithm. ICLabel was designed with extended infomax ICA decompositions. To use the extended infomax algorithm, use the 'mne.preprocessing.ICA' instance with the arguments 'ICA(method='infomax', fit_params=dict(extended=True))' (scikit-learn) or 'ICA(method='picard', fit_params=dict(ortho=False, extended=True))' (python-picard).\n",
      "  ic_labels = label_components(raw, ica, method='iclabel')\n"
     ]
    },
    {
     "name": "stdout",
     "output_type": "stream",
     "text": [
      "Applying ICA to Raw instance\n",
      "    Transforming to ICA space (13 components)\n",
      "    Zeroing out 3 ICA components\n",
      "    Projecting back using 14 PCA components\n",
      "자동 제거될 성분: [0, 2, 11]\n",
      "Effective window size : 8.000 (s)\n",
      "Effective window size : 8.000 (s)\n",
      "Effective window size : 8.000 (s)\n",
      "Effective window size : 8.000 (s)\n",
      "Effective window size : 8.000 (s)\n",
      "Effective window size : 8.000 (s)\n",
      "Effective window size : 8.000 (s)\n",
      "Effective window size : 8.000 (s)\n",
      "Effective window size : 8.000 (s)\n",
      "Effective window size : 8.000 (s)\n",
      "Effective window size : 8.000 (s)\n",
      "Effective window size : 8.000 (s)\n",
      "Effective window size : 8.000 (s)\n",
      "Effective window size : 8.000 (s)\n",
      "Effective window size : 8.000 (s)\n",
      "Effective window size : 8.000 (s)\n",
      "Effective window size : 8.000 (s)\n",
      "Effective window size : 8.000 (s)\n",
      "Effective window size : 8.000 (s)\n",
      "Effective window size : 8.000 (s)\n",
      "처리 중: choi_nback_1.edf\n",
      "Extracting EDF parameters from c:\\Users\\uiseong\\OneDrive\\바탕 화면\\eeg\\EEG_cognitive_load\\EEG_nback_task\\choi_nback_1.edf...\n",
      "EDF file detected\n",
      "Setting channel info structure...\n",
      "Creating raw.info structure...\n",
      "Reading 0 ... 28671  =      0.000 ...   223.992 secs...\n",
      "NOTE: pick_channels() is a legacy function. New code should use inst.pick(...).\n",
      "Filtering raw data in 1 contiguous segment\n",
      "Setting up band-pass filter from 1 - 40 Hz\n",
      "\n",
      "FIR filter parameters\n",
      "---------------------\n",
      "Designing a one-pass, zero-phase, non-causal bandpass filter:\n",
      "- Windowed time-domain design (firwin) method\n",
      "- Hamming window with 0.0194 passband ripple and 53 dB stopband attenuation\n",
      "- Lower passband edge: 1.00\n",
      "- Lower transition bandwidth: 1.00 Hz (-6 dB cutoff frequency: 0.50 Hz)\n",
      "- Upper passband edge: 40.00 Hz\n",
      "- Upper transition bandwidth: 10.00 Hz (-6 dB cutoff frequency: 45.00 Hz)\n",
      "- Filter length: 423 samples (3.305 s)\n",
      "\n",
      "Filtering raw data in 1 contiguous segment\n",
      "Setting up band-stop filter from 59 - 61 Hz\n",
      "\n",
      "FIR filter parameters\n",
      "---------------------\n",
      "Designing a one-pass, zero-phase, non-causal bandstop filter:\n",
      "- Windowed time-domain design (firwin) method\n",
      "- Hamming window with 0.0194 passband ripple and 53 dB stopband attenuation\n",
      "- Lower passband edge: 59.35\n",
      "- Lower transition bandwidth: 0.50 Hz (-6 dB cutoff frequency: 59.10 Hz)\n",
      "- Upper passband edge: 60.65 Hz\n",
      "- Upper transition bandwidth: 0.50 Hz (-6 dB cutoff frequency: 60.90 Hz)\n",
      "- Filter length: 845 samples (6.602 s)\n",
      "\n",
      "EEG channel type selected for re-referencing\n",
      "Applying average reference.\n",
      "Applying a custom ('EEG',) reference.\n",
      "Not setting metadata\n",
      "74 matching events found\n",
      "No baseline correction applied\n",
      "0 projection items activated\n",
      "Using data from preloaded Raw for 74 events and 384 original time points ...\n",
      "0 bad epochs dropped\n",
      "Running autoreject on ch_type=eeg\n"
     ]
    },
    {
     "data": {
      "application/vnd.jupyter.widget-view+json": {
       "model_id": "6036e19be5c242ccb436708ca085e000",
       "version_major": 2,
       "version_minor": 0
      },
      "text/plain": [
       "  0%|          | Creating augmented epochs : 0/14 [00:00<?,       ?it/s]"
      ]
     },
     "metadata": {},
     "output_type": "display_data"
    },
    {
     "data": {
      "application/vnd.jupyter.widget-view+json": {
       "model_id": "399b488f42a8499b82571a251bd08cb3",
       "version_major": 2,
       "version_minor": 0
      },
      "text/plain": [
       "  0%|          | Computing thresholds ... : 0/14 [00:00<?,       ?it/s]"
      ]
     },
     "metadata": {},
     "output_type": "display_data"
    },
    {
     "data": {
      "application/vnd.jupyter.widget-view+json": {
       "model_id": "9499c03a5f7b443aa22f902e9ff24486",
       "version_major": 2,
       "version_minor": 0
      },
      "text/plain": [
       "  0%|          | Repairing epochs : 0/74 [00:00<?,       ?it/s]"
      ]
     },
     "metadata": {},
     "output_type": "display_data"
    },
    {
     "data": {
      "application/vnd.jupyter.widget-view+json": {
       "model_id": "1cf841ab1f114e1bad30105d9b2f4e99",
       "version_major": 2,
       "version_minor": 0
      },
      "text/plain": [
       "  0%|          | n_interp : 0/3 [00:00<?,       ?it/s]"
      ]
     },
     "metadata": {},
     "output_type": "display_data"
    },
    {
     "data": {
      "application/vnd.jupyter.widget-view+json": {
       "model_id": "72350a60606b4a82b8a0b30933e00954",
       "version_major": 2,
       "version_minor": 0
      },
      "text/plain": [
       "  0%|          | Repairing epochs : 0/74 [00:00<?,       ?it/s]"
      ]
     },
     "metadata": {},
     "output_type": "display_data"
    },
    {
     "data": {
      "application/vnd.jupyter.widget-view+json": {
       "model_id": "3681f4917246420194728231842dc936",
       "version_major": 2,
       "version_minor": 0
      },
      "text/plain": [
       "  0%|          | Fold : 0/10 [00:00<?,       ?it/s]"
      ]
     },
     "metadata": {},
     "output_type": "display_data"
    },
    {
     "data": {
      "application/vnd.jupyter.widget-view+json": {
       "model_id": "168810f129d1482e9653ff178f6f2454",
       "version_major": 2,
       "version_minor": 0
      },
      "text/plain": [
       "  0%|          | Repairing epochs : 0/74 [00:00<?,       ?it/s]"
      ]
     },
     "metadata": {},
     "output_type": "display_data"
    },
    {
     "data": {
      "application/vnd.jupyter.widget-view+json": {
       "model_id": "a1208709f37f4fc5be6b9eb56d9a4b66",
       "version_major": 2,
       "version_minor": 0
      },
      "text/plain": [
       "  0%|          | Fold : 0/10 [00:00<?,       ?it/s]"
      ]
     },
     "metadata": {},
     "output_type": "display_data"
    },
    {
     "data": {
      "application/vnd.jupyter.widget-view+json": {
       "model_id": "88027b85b1be4710850a78e6ea3c6068",
       "version_major": 2,
       "version_minor": 0
      },
      "text/plain": [
       "  0%|          | Repairing epochs : 0/74 [00:00<?,       ?it/s]"
      ]
     },
     "metadata": {},
     "output_type": "display_data"
    },
    {
     "name": "stderr",
     "output_type": "stream",
     "text": [
      "c:\\Users\\uiseong\\anaconda3\\envs\\mne\\Lib\\site-packages\\mne\\bem.py:1115: RuntimeWarning: Mean of empty slice.\n",
      "  radius_init = radii.mean()\n",
      "c:\\Users\\uiseong\\anaconda3\\envs\\mne\\Lib\\site-packages\\numpy\\core\\_methods.py:129: RuntimeWarning: invalid value encountered in scalar divide\n",
      "  ret = ret.dtype.type(ret / rcount)\n",
      "c:\\Users\\uiseong\\anaconda3\\envs\\mne\\Lib\\site-packages\\numpy\\core\\fromnumeric.py:3504: RuntimeWarning: Mean of empty slice.\n",
      "  return _methods._mean(a, axis=axis, dtype=dtype,\n",
      "c:\\Users\\uiseong\\anaconda3\\envs\\mne\\Lib\\site-packages\\numpy\\core\\_methods.py:121: RuntimeWarning: invalid value encountered in divide\n",
      "  ret = um.true_divide(\n"
     ]
    },
    {
     "data": {
      "application/vnd.jupyter.widget-view+json": {
       "model_id": "bed692336f9740808a0022b4038f6e4a",
       "version_major": 2,
       "version_minor": 0
      },
      "text/plain": [
       "  0%|          | Fold : 0/10 [00:00<?,       ?it/s]"
      ]
     },
     "metadata": {},
     "output_type": "display_data"
    },
    {
     "name": "stdout",
     "output_type": "stream",
     "text": [
      "\n",
      "\n",
      "\n",
      "\n",
      "Estimated consensus=1.00 and n_interpolate=13\n"
     ]
    },
    {
     "data": {
      "application/vnd.jupyter.widget-view+json": {
       "model_id": "a3fb530e67074c759da82d5e57500eed",
       "version_major": 2,
       "version_minor": 0
      },
      "text/plain": [
       "  0%|          | Repairing epochs : 0/74 [00:00<?,       ?it/s]"
      ]
     },
     "metadata": {},
     "output_type": "display_data"
    },
    {
     "name": "stdout",
     "output_type": "stream",
     "text": [
      "Dropped 2 epochs: 26, 73\n",
      "Fitting ICA to data using 14 channels (please be patient, this may take a while)\n",
      "Selecting by non-zero PCA components: 13 components\n",
      "Fitting ICA took 0.1s.\n"
     ]
    },
    {
     "name": "stderr",
     "output_type": "stream",
     "text": [
      "C:\\Users\\uiseong\\AppData\\Local\\Temp\\ipykernel_41476\\757284080.py:51: RuntimeWarning: The provided Raw instance is not filtered between 1 and 100 Hz. ICLabel was designed to classify features extracted from an EEG dataset bandpass filtered between 1 and 100 Hz (see the 'filter()' method for Raw and Epochs instances).\n",
      "  ic_labels = label_components(raw, ica, method='iclabel')\n",
      "C:\\Users\\uiseong\\AppData\\Local\\Temp\\ipykernel_41476\\757284080.py:51: RuntimeWarning: The provided ICA instance was fitted with a 'fastica' algorithm. ICLabel was designed with extended infomax ICA decompositions. To use the extended infomax algorithm, use the 'mne.preprocessing.ICA' instance with the arguments 'ICA(method='infomax', fit_params=dict(extended=True))' (scikit-learn) or 'ICA(method='picard', fit_params=dict(ortho=False, extended=True))' (python-picard).\n",
      "  ic_labels = label_components(raw, ica, method='iclabel')\n"
     ]
    },
    {
     "name": "stdout",
     "output_type": "stream",
     "text": [
      "Applying ICA to Raw instance\n",
      "    Transforming to ICA space (13 components)\n",
      "    Zeroing out 5 ICA components\n",
      "    Projecting back using 14 PCA components\n",
      "자동 제거될 성분: [2, 3, 4, 5, 6]\n",
      "Effective window size : 8.000 (s)\n",
      "Effective window size : 8.000 (s)\n",
      "Effective window size : 8.000 (s)\n",
      "Effective window size : 8.000 (s)\n",
      "Effective window size : 8.000 (s)\n",
      "Effective window size : 8.000 (s)\n",
      "Effective window size : 8.000 (s)\n",
      "Effective window size : 8.000 (s)\n",
      "Effective window size : 8.000 (s)\n",
      "Effective window size : 8.000 (s)\n",
      "Effective window size : 8.000 (s)\n",
      "Effective window size : 8.000 (s)\n",
      "Effective window size : 8.000 (s)\n",
      "Effective window size : 8.000 (s)\n",
      "Effective window size : 8.000 (s)\n",
      "Effective window size : 8.000 (s)\n",
      "Effective window size : 8.000 (s)\n",
      "Effective window size : 8.000 (s)\n",
      "Effective window size : 8.000 (s)\n",
      "Effective window size : 8.000 (s)\n",
      "처리 중: choi_nback_2.edf\n",
      "Extracting EDF parameters from c:\\Users\\uiseong\\OneDrive\\바탕 화면\\eeg\\EEG_cognitive_load\\EEG_nback_task\\choi_nback_2.edf...\n",
      "EDF file detected\n",
      "Setting channel info structure...\n",
      "Creating raw.info structure...\n",
      "Reading 0 ... 24831  =      0.000 ...   193.992 secs...\n",
      "NOTE: pick_channels() is a legacy function. New code should use inst.pick(...).\n",
      "Filtering raw data in 1 contiguous segment\n",
      "Setting up band-pass filter from 1 - 40 Hz\n",
      "\n",
      "FIR filter parameters\n",
      "---------------------\n",
      "Designing a one-pass, zero-phase, non-causal bandpass filter:\n",
      "- Windowed time-domain design (firwin) method\n",
      "- Hamming window with 0.0194 passband ripple and 53 dB stopband attenuation\n",
      "- Lower passband edge: 1.00\n",
      "- Lower transition bandwidth: 1.00 Hz (-6 dB cutoff frequency: 0.50 Hz)\n",
      "- Upper passband edge: 40.00 Hz\n",
      "- Upper transition bandwidth: 10.00 Hz (-6 dB cutoff frequency: 45.00 Hz)\n",
      "- Filter length: 423 samples (3.305 s)\n",
      "\n",
      "Filtering raw data in 1 contiguous segment\n",
      "Setting up band-stop filter from 59 - 61 Hz\n",
      "\n",
      "FIR filter parameters\n",
      "---------------------\n",
      "Designing a one-pass, zero-phase, non-causal bandstop filter:\n",
      "- Windowed time-domain design (firwin) method\n",
      "- Hamming window with 0.0194 passband ripple and 53 dB stopband attenuation\n",
      "- Lower passband edge: 59.35\n",
      "- Lower transition bandwidth: 0.50 Hz (-6 dB cutoff frequency: 59.10 Hz)\n",
      "- Upper passband edge: 60.65 Hz\n",
      "- Upper transition bandwidth: 0.50 Hz (-6 dB cutoff frequency: 60.90 Hz)\n",
      "- Filter length: 845 samples (6.602 s)\n",
      "\n",
      "EEG channel type selected for re-referencing\n",
      "Applying average reference.\n",
      "Applying a custom ('EEG',) reference.\n",
      "Not setting metadata\n",
      "64 matching events found\n",
      "No baseline correction applied\n",
      "0 projection items activated\n",
      "Using data from preloaded Raw for 64 events and 384 original time points ...\n",
      "0 bad epochs dropped\n",
      "Running autoreject on ch_type=eeg\n"
     ]
    },
    {
     "data": {
      "application/vnd.jupyter.widget-view+json": {
       "model_id": "38da1058fc4848c9bfa1e0b65b32226c",
       "version_major": 2,
       "version_minor": 0
      },
      "text/plain": [
       "  0%|          | Creating augmented epochs : 0/14 [00:00<?,       ?it/s]"
      ]
     },
     "metadata": {},
     "output_type": "display_data"
    },
    {
     "data": {
      "application/vnd.jupyter.widget-view+json": {
       "model_id": "eec28c0bc1bb4fa099ad5fcde9277302",
       "version_major": 2,
       "version_minor": 0
      },
      "text/plain": [
       "  0%|          | Computing thresholds ... : 0/14 [00:00<?,       ?it/s]"
      ]
     },
     "metadata": {},
     "output_type": "display_data"
    },
    {
     "data": {
      "application/vnd.jupyter.widget-view+json": {
       "model_id": "71e2264e089643d194d120c228ec15f2",
       "version_major": 2,
       "version_minor": 0
      },
      "text/plain": [
       "  0%|          | Repairing epochs : 0/64 [00:00<?,       ?it/s]"
      ]
     },
     "metadata": {},
     "output_type": "display_data"
    },
    {
     "data": {
      "application/vnd.jupyter.widget-view+json": {
       "model_id": "b50ba4f3a82046a39408388b59702e67",
       "version_major": 2,
       "version_minor": 0
      },
      "text/plain": [
       "  0%|          | n_interp : 0/3 [00:00<?,       ?it/s]"
      ]
     },
     "metadata": {},
     "output_type": "display_data"
    },
    {
     "data": {
      "application/vnd.jupyter.widget-view+json": {
       "model_id": "f2e436610f424ad5b381998913ea4177",
       "version_major": 2,
       "version_minor": 0
      },
      "text/plain": [
       "  0%|          | Repairing epochs : 0/64 [00:00<?,       ?it/s]"
      ]
     },
     "metadata": {},
     "output_type": "display_data"
    },
    {
     "data": {
      "application/vnd.jupyter.widget-view+json": {
       "model_id": "da371acc5dfa490e929b68f6e1efe2a6",
       "version_major": 2,
       "version_minor": 0
      },
      "text/plain": [
       "  0%|          | Fold : 0/10 [00:00<?,       ?it/s]"
      ]
     },
     "metadata": {},
     "output_type": "display_data"
    },
    {
     "data": {
      "application/vnd.jupyter.widget-view+json": {
       "model_id": "9ec2c159a85d45d4b562c64ce1b3f3cf",
       "version_major": 2,
       "version_minor": 0
      },
      "text/plain": [
       "  0%|          | Repairing epochs : 0/64 [00:00<?,       ?it/s]"
      ]
     },
     "metadata": {},
     "output_type": "display_data"
    },
    {
     "data": {
      "application/vnd.jupyter.widget-view+json": {
       "model_id": "a018489374fd491e8c1c030f88d06695",
       "version_major": 2,
       "version_minor": 0
      },
      "text/plain": [
       "  0%|          | Fold : 0/10 [00:00<?,       ?it/s]"
      ]
     },
     "metadata": {},
     "output_type": "display_data"
    },
    {
     "data": {
      "application/vnd.jupyter.widget-view+json": {
       "model_id": "e35ff44fca87435aaca2c2d319275d37",
       "version_major": 2,
       "version_minor": 0
      },
      "text/plain": [
       "  0%|          | Repairing epochs : 0/64 [00:00<?,       ?it/s]"
      ]
     },
     "metadata": {},
     "output_type": "display_data"
    },
    {
     "data": {
      "application/vnd.jupyter.widget-view+json": {
       "model_id": "09686d9848e54188aa4097b4abcb1048",
       "version_major": 2,
       "version_minor": 0
      },
      "text/plain": [
       "  0%|          | Fold : 0/10 [00:00<?,       ?it/s]"
      ]
     },
     "metadata": {},
     "output_type": "display_data"
    },
    {
     "name": "stdout",
     "output_type": "stream",
     "text": [
      "\n",
      "\n",
      "\n",
      "\n",
      "Estimated consensus=0.80 and n_interpolate=4\n"
     ]
    },
    {
     "data": {
      "application/vnd.jupyter.widget-view+json": {
       "model_id": "a11d6e73516441f887a5a2a0c5adc4ba",
       "version_major": 2,
       "version_minor": 0
      },
      "text/plain": [
       "  0%|          | Repairing epochs : 0/64 [00:00<?,       ?it/s]"
      ]
     },
     "metadata": {},
     "output_type": "display_data"
    },
    {
     "name": "stdout",
     "output_type": "stream",
     "text": [
      "No bad epochs were found for your data. Returning a copy of the data you wanted to clean. Interpolation may have been done.\n",
      "Fitting ICA to data using 14 channels (please be patient, this may take a while)\n",
      "Selecting by non-zero PCA components: 13 components\n",
      "Fitting ICA took 0.2s.\n"
     ]
    },
    {
     "name": "stderr",
     "output_type": "stream",
     "text": [
      "C:\\Users\\uiseong\\AppData\\Local\\Temp\\ipykernel_41476\\757284080.py:51: RuntimeWarning: The provided Raw instance is not filtered between 1 and 100 Hz. ICLabel was designed to classify features extracted from an EEG dataset bandpass filtered between 1 and 100 Hz (see the 'filter()' method for Raw and Epochs instances).\n",
      "  ic_labels = label_components(raw, ica, method='iclabel')\n",
      "C:\\Users\\uiseong\\AppData\\Local\\Temp\\ipykernel_41476\\757284080.py:51: RuntimeWarning: The provided ICA instance was fitted with a 'fastica' algorithm. ICLabel was designed with extended infomax ICA decompositions. To use the extended infomax algorithm, use the 'mne.preprocessing.ICA' instance with the arguments 'ICA(method='infomax', fit_params=dict(extended=True))' (scikit-learn) or 'ICA(method='picard', fit_params=dict(ortho=False, extended=True))' (python-picard).\n",
      "  ic_labels = label_components(raw, ica, method='iclabel')\n"
     ]
    },
    {
     "name": "stdout",
     "output_type": "stream",
     "text": [
      "Applying ICA to Raw instance\n",
      "    Transforming to ICA space (13 components)\n",
      "    Zeroing out 3 ICA components\n",
      "    Projecting back using 14 PCA components\n",
      "자동 제거될 성분: [0, 2, 3]\n",
      "Effective window size : 8.000 (s)\n",
      "Effective window size : 8.000 (s)\n",
      "Effective window size : 8.000 (s)\n",
      "Effective window size : 8.000 (s)\n",
      "Effective window size : 8.000 (s)\n",
      "Effective window size : 8.000 (s)\n",
      "Effective window size : 8.000 (s)\n",
      "Effective window size : 8.000 (s)\n",
      "Effective window size : 8.000 (s)\n",
      "Effective window size : 8.000 (s)\n",
      "Effective window size : 8.000 (s)\n",
      "Effective window size : 8.000 (s)\n",
      "Effective window size : 8.000 (s)\n",
      "Effective window size : 8.000 (s)\n",
      "Effective window size : 8.000 (s)\n",
      "Effective window size : 8.000 (s)\n",
      "Effective window size : 8.000 (s)\n",
      "Effective window size : 8.000 (s)\n",
      "Effective window size : 8.000 (s)\n",
      "Effective window size : 8.000 (s)\n",
      "처리 중: choi_nback_3.edf\n",
      "Extracting EDF parameters from c:\\Users\\uiseong\\OneDrive\\바탕 화면\\eeg\\EEG_cognitive_load\\EEG_nback_task\\choi_nback_3.edf...\n",
      "EDF file detected\n",
      "Setting channel info structure...\n",
      "Creating raw.info structure...\n",
      "Reading 0 ... 26239  =      0.000 ...   204.992 secs...\n",
      "NOTE: pick_channels() is a legacy function. New code should use inst.pick(...).\n",
      "Filtering raw data in 1 contiguous segment\n",
      "Setting up band-pass filter from 1 - 40 Hz\n",
      "\n",
      "FIR filter parameters\n",
      "---------------------\n",
      "Designing a one-pass, zero-phase, non-causal bandpass filter:\n",
      "- Windowed time-domain design (firwin) method\n",
      "- Hamming window with 0.0194 passband ripple and 53 dB stopband attenuation\n",
      "- Lower passband edge: 1.00\n",
      "- Lower transition bandwidth: 1.00 Hz (-6 dB cutoff frequency: 0.50 Hz)\n",
      "- Upper passband edge: 40.00 Hz\n",
      "- Upper transition bandwidth: 10.00 Hz (-6 dB cutoff frequency: 45.00 Hz)\n",
      "- Filter length: 423 samples (3.305 s)\n",
      "\n",
      "Filtering raw data in 1 contiguous segment\n",
      "Setting up band-stop filter from 59 - 61 Hz\n",
      "\n",
      "FIR filter parameters\n",
      "---------------------\n",
      "Designing a one-pass, zero-phase, non-causal bandstop filter:\n",
      "- Windowed time-domain design (firwin) method\n",
      "- Hamming window with 0.0194 passband ripple and 53 dB stopband attenuation\n",
      "- Lower passband edge: 59.35\n",
      "- Lower transition bandwidth: 0.50 Hz (-6 dB cutoff frequency: 59.10 Hz)\n",
      "- Upper passband edge: 60.65 Hz\n",
      "- Upper transition bandwidth: 0.50 Hz (-6 dB cutoff frequency: 60.90 Hz)\n",
      "- Filter length: 845 samples (6.602 s)\n",
      "\n",
      "EEG channel type selected for re-referencing\n",
      "Applying average reference.\n",
      "Applying a custom ('EEG',) reference.\n",
      "Not setting metadata\n",
      "68 matching events found\n",
      "No baseline correction applied\n",
      "0 projection items activated\n",
      "Using data from preloaded Raw for 68 events and 384 original time points ...\n",
      "0 bad epochs dropped\n",
      "Running autoreject on ch_type=eeg\n"
     ]
    },
    {
     "data": {
      "application/vnd.jupyter.widget-view+json": {
       "model_id": "04a4665829df4fc9a21fe67477497e5e",
       "version_major": 2,
       "version_minor": 0
      },
      "text/plain": [
       "  0%|          | Creating augmented epochs : 0/14 [00:00<?,       ?it/s]"
      ]
     },
     "metadata": {},
     "output_type": "display_data"
    },
    {
     "data": {
      "application/vnd.jupyter.widget-view+json": {
       "model_id": "88396765039948d2b22bdd71c60741de",
       "version_major": 2,
       "version_minor": 0
      },
      "text/plain": [
       "  0%|          | Computing thresholds ... : 0/14 [00:00<?,       ?it/s]"
      ]
     },
     "metadata": {},
     "output_type": "display_data"
    },
    {
     "data": {
      "application/vnd.jupyter.widget-view+json": {
       "model_id": "c185aec885f144edb16238bba8d1c494",
       "version_major": 2,
       "version_minor": 0
      },
      "text/plain": [
       "  0%|          | Repairing epochs : 0/68 [00:00<?,       ?it/s]"
      ]
     },
     "metadata": {},
     "output_type": "display_data"
    },
    {
     "data": {
      "application/vnd.jupyter.widget-view+json": {
       "model_id": "ec3bed41c7c34551af134009409b1d81",
       "version_major": 2,
       "version_minor": 0
      },
      "text/plain": [
       "  0%|          | n_interp : 0/3 [00:00<?,       ?it/s]"
      ]
     },
     "metadata": {},
     "output_type": "display_data"
    },
    {
     "data": {
      "application/vnd.jupyter.widget-view+json": {
       "model_id": "423152acec524794b0155d67a1328ecf",
       "version_major": 2,
       "version_minor": 0
      },
      "text/plain": [
       "  0%|          | Repairing epochs : 0/68 [00:00<?,       ?it/s]"
      ]
     },
     "metadata": {},
     "output_type": "display_data"
    },
    {
     "data": {
      "application/vnd.jupyter.widget-view+json": {
       "model_id": "a870a6f76168468688bff3fb3801f736",
       "version_major": 2,
       "version_minor": 0
      },
      "text/plain": [
       "  0%|          | Fold : 0/10 [00:00<?,       ?it/s]"
      ]
     },
     "metadata": {},
     "output_type": "display_data"
    },
    {
     "data": {
      "application/vnd.jupyter.widget-view+json": {
       "model_id": "eca23413d0a04d0b95c42953d90bd2a7",
       "version_major": 2,
       "version_minor": 0
      },
      "text/plain": [
       "  0%|          | Repairing epochs : 0/68 [00:00<?,       ?it/s]"
      ]
     },
     "metadata": {},
     "output_type": "display_data"
    },
    {
     "data": {
      "application/vnd.jupyter.widget-view+json": {
       "model_id": "9d4783ef9529457db83c0ab55ecd8269",
       "version_major": 2,
       "version_minor": 0
      },
      "text/plain": [
       "  0%|          | Fold : 0/10 [00:00<?,       ?it/s]"
      ]
     },
     "metadata": {},
     "output_type": "display_data"
    },
    {
     "data": {
      "application/vnd.jupyter.widget-view+json": {
       "model_id": "30fbd12cf8ea4536b3d4e799bea8eb92",
       "version_major": 2,
       "version_minor": 0
      },
      "text/plain": [
       "  0%|          | Repairing epochs : 0/68 [00:00<?,       ?it/s]"
      ]
     },
     "metadata": {},
     "output_type": "display_data"
    },
    {
     "data": {
      "application/vnd.jupyter.widget-view+json": {
       "model_id": "484a89fc8acf466b8fcec3cc49b3d07f",
       "version_major": 2,
       "version_minor": 0
      },
      "text/plain": [
       "  0%|          | Fold : 0/10 [00:00<?,       ?it/s]"
      ]
     },
     "metadata": {},
     "output_type": "display_data"
    },
    {
     "name": "stdout",
     "output_type": "stream",
     "text": [
      "\n",
      "\n",
      "\n",
      "\n",
      "Estimated consensus=0.80 and n_interpolate=4\n"
     ]
    },
    {
     "data": {
      "application/vnd.jupyter.widget-view+json": {
       "model_id": "a60ae773520c48e98439d0f9613aad95",
       "version_major": 2,
       "version_minor": 0
      },
      "text/plain": [
       "  0%|          | Repairing epochs : 0/68 [00:00<?,       ?it/s]"
      ]
     },
     "metadata": {},
     "output_type": "display_data"
    },
    {
     "name": "stdout",
     "output_type": "stream",
     "text": [
      "Dropped 2 epochs: 4, 19\n",
      "Fitting ICA to data using 14 channels (please be patient, this may take a while)\n",
      "Selecting by non-zero PCA components: 13 components\n",
      "Fitting ICA took 0.1s.\n"
     ]
    },
    {
     "name": "stderr",
     "output_type": "stream",
     "text": [
      "C:\\Users\\uiseong\\AppData\\Local\\Temp\\ipykernel_41476\\757284080.py:51: RuntimeWarning: The provided Raw instance is not filtered between 1 and 100 Hz. ICLabel was designed to classify features extracted from an EEG dataset bandpass filtered between 1 and 100 Hz (see the 'filter()' method for Raw and Epochs instances).\n",
      "  ic_labels = label_components(raw, ica, method='iclabel')\n",
      "C:\\Users\\uiseong\\AppData\\Local\\Temp\\ipykernel_41476\\757284080.py:51: RuntimeWarning: The provided ICA instance was fitted with a 'fastica' algorithm. ICLabel was designed with extended infomax ICA decompositions. To use the extended infomax algorithm, use the 'mne.preprocessing.ICA' instance with the arguments 'ICA(method='infomax', fit_params=dict(extended=True))' (scikit-learn) or 'ICA(method='picard', fit_params=dict(ortho=False, extended=True))' (python-picard).\n",
      "  ic_labels = label_components(raw, ica, method='iclabel')\n"
     ]
    },
    {
     "name": "stdout",
     "output_type": "stream",
     "text": [
      "Applying ICA to Raw instance\n",
      "    Transforming to ICA space (13 components)\n",
      "    Zeroing out 7 ICA components\n",
      "    Projecting back using 14 PCA components\n",
      "자동 제거될 성분: [1, 2, 4, 5, 8, 9, 10]\n",
      "Effective window size : 8.000 (s)\n",
      "Effective window size : 8.000 (s)\n",
      "Effective window size : 8.000 (s)\n",
      "Effective window size : 8.000 (s)\n",
      "Effective window size : 8.000 (s)\n",
      "Effective window size : 8.000 (s)\n",
      "Effective window size : 8.000 (s)\n",
      "Effective window size : 8.000 (s)\n",
      "Effective window size : 8.000 (s)\n",
      "Effective window size : 8.000 (s)\n",
      "Effective window size : 8.000 (s)\n",
      "Effective window size : 8.000 (s)\n",
      "Effective window size : 8.000 (s)\n",
      "Effective window size : 8.000 (s)\n",
      "Effective window size : 8.000 (s)\n",
      "Effective window size : 8.000 (s)\n",
      "Effective window size : 8.000 (s)\n",
      "Effective window size : 8.000 (s)\n",
      "Effective window size : 8.000 (s)\n",
      "Effective window size : 8.000 (s)\n",
      "처리 중: jung_nback_1.edf\n",
      "Extracting EDF parameters from c:\\Users\\uiseong\\OneDrive\\바탕 화면\\eeg\\EEG_cognitive_load\\EEG_nback_task\\jung_nback_1.edf...\n",
      "EDF file detected\n",
      "Setting channel info structure...\n",
      "Creating raw.info structure...\n",
      "Reading 0 ... 27647  =      0.000 ...   215.992 secs...\n",
      "NOTE: pick_channels() is a legacy function. New code should use inst.pick(...).\n",
      "Filtering raw data in 1 contiguous segment\n",
      "Setting up band-pass filter from 1 - 40 Hz\n",
      "\n",
      "FIR filter parameters\n",
      "---------------------\n",
      "Designing a one-pass, zero-phase, non-causal bandpass filter:\n",
      "- Windowed time-domain design (firwin) method\n",
      "- Hamming window with 0.0194 passband ripple and 53 dB stopband attenuation\n",
      "- Lower passband edge: 1.00\n",
      "- Lower transition bandwidth: 1.00 Hz (-6 dB cutoff frequency: 0.50 Hz)\n",
      "- Upper passband edge: 40.00 Hz\n",
      "- Upper transition bandwidth: 10.00 Hz (-6 dB cutoff frequency: 45.00 Hz)\n",
      "- Filter length: 423 samples (3.305 s)\n",
      "\n",
      "Filtering raw data in 1 contiguous segment\n",
      "Setting up band-stop filter from 59 - 61 Hz\n",
      "\n",
      "FIR filter parameters\n",
      "---------------------\n",
      "Designing a one-pass, zero-phase, non-causal bandstop filter:\n",
      "- Windowed time-domain design (firwin) method\n",
      "- Hamming window with 0.0194 passband ripple and 53 dB stopband attenuation\n",
      "- Lower passband edge: 59.35\n",
      "- Lower transition bandwidth: 0.50 Hz (-6 dB cutoff frequency: 59.10 Hz)\n",
      "- Upper passband edge: 60.65 Hz\n",
      "- Upper transition bandwidth: 0.50 Hz (-6 dB cutoff frequency: 60.90 Hz)\n",
      "- Filter length: 845 samples (6.602 s)\n",
      "\n",
      "EEG channel type selected for re-referencing\n",
      "Applying average reference.\n",
      "Applying a custom ('EEG',) reference.\n",
      "Not setting metadata\n",
      "72 matching events found\n",
      "No baseline correction applied\n",
      "0 projection items activated\n",
      "Using data from preloaded Raw for 72 events and 384 original time points ...\n",
      "0 bad epochs dropped\n",
      "Running autoreject on ch_type=eeg\n"
     ]
    },
    {
     "data": {
      "application/vnd.jupyter.widget-view+json": {
       "model_id": "8989e448491b4628ad94885362b9028b",
       "version_major": 2,
       "version_minor": 0
      },
      "text/plain": [
       "  0%|          | Creating augmented epochs : 0/14 [00:00<?,       ?it/s]"
      ]
     },
     "metadata": {},
     "output_type": "display_data"
    },
    {
     "data": {
      "application/vnd.jupyter.widget-view+json": {
       "model_id": "e472d3b4670c48818fb219a08e5ad735",
       "version_major": 2,
       "version_minor": 0
      },
      "text/plain": [
       "  0%|          | Computing thresholds ... : 0/14 [00:00<?,       ?it/s]"
      ]
     },
     "metadata": {},
     "output_type": "display_data"
    },
    {
     "data": {
      "application/vnd.jupyter.widget-view+json": {
       "model_id": "82588abdb0364556b0ea32b8f35c75a6",
       "version_major": 2,
       "version_minor": 0
      },
      "text/plain": [
       "  0%|          | Repairing epochs : 0/72 [00:00<?,       ?it/s]"
      ]
     },
     "metadata": {},
     "output_type": "display_data"
    },
    {
     "data": {
      "application/vnd.jupyter.widget-view+json": {
       "model_id": "b8449a958dce4131b217c14350c5d4af",
       "version_major": 2,
       "version_minor": 0
      },
      "text/plain": [
       "  0%|          | n_interp : 0/3 [00:00<?,       ?it/s]"
      ]
     },
     "metadata": {},
     "output_type": "display_data"
    },
    {
     "data": {
      "application/vnd.jupyter.widget-view+json": {
       "model_id": "b900cdfa51734f72926111b44ab9a912",
       "version_major": 2,
       "version_minor": 0
      },
      "text/plain": [
       "  0%|          | Repairing epochs : 0/72 [00:00<?,       ?it/s]"
      ]
     },
     "metadata": {},
     "output_type": "display_data"
    },
    {
     "data": {
      "application/vnd.jupyter.widget-view+json": {
       "model_id": "d10ce765b0734b88ab197936420eea8e",
       "version_major": 2,
       "version_minor": 0
      },
      "text/plain": [
       "  0%|          | Fold : 0/10 [00:00<?,       ?it/s]"
      ]
     },
     "metadata": {},
     "output_type": "display_data"
    },
    {
     "data": {
      "application/vnd.jupyter.widget-view+json": {
       "model_id": "6fc18210542d477c9f7a614d6fa3d33d",
       "version_major": 2,
       "version_minor": 0
      },
      "text/plain": [
       "  0%|          | Repairing epochs : 0/72 [00:00<?,       ?it/s]"
      ]
     },
     "metadata": {},
     "output_type": "display_data"
    },
    {
     "data": {
      "application/vnd.jupyter.widget-view+json": {
       "model_id": "0644683b08d543ef81e500e824c96919",
       "version_major": 2,
       "version_minor": 0
      },
      "text/plain": [
       "  0%|          | Fold : 0/10 [00:00<?,       ?it/s]"
      ]
     },
     "metadata": {},
     "output_type": "display_data"
    },
    {
     "data": {
      "application/vnd.jupyter.widget-view+json": {
       "model_id": "83b8058aa7c747b099f66d5538af6f56",
       "version_major": 2,
       "version_minor": 0
      },
      "text/plain": [
       "  0%|          | Repairing epochs : 0/72 [00:00<?,       ?it/s]"
      ]
     },
     "metadata": {},
     "output_type": "display_data"
    },
    {
     "data": {
      "application/vnd.jupyter.widget-view+json": {
       "model_id": "479e388ebcf24a5e8616a02e11428209",
       "version_major": 2,
       "version_minor": 0
      },
      "text/plain": [
       "  0%|          | Fold : 0/10 [00:00<?,       ?it/s]"
      ]
     },
     "metadata": {},
     "output_type": "display_data"
    },
    {
     "name": "stdout",
     "output_type": "stream",
     "text": [
      "\n",
      "\n",
      "\n",
      "\n",
      "Estimated consensus=0.50 and n_interpolate=4\n"
     ]
    },
    {
     "data": {
      "application/vnd.jupyter.widget-view+json": {
       "model_id": "af569bb859294cd4b651cb3d30b3ca30",
       "version_major": 2,
       "version_minor": 0
      },
      "text/plain": [
       "  0%|          | Repairing epochs : 0/72 [00:00<?,       ?it/s]"
      ]
     },
     "metadata": {},
     "output_type": "display_data"
    },
    {
     "name": "stdout",
     "output_type": "stream",
     "text": [
      "Dropped 14 epochs: 0, 1, 2, 22, 23, 24, 25, 26, 29, 43, 44, 62, 66, 67\n",
      "Fitting ICA to data using 14 channels (please be patient, this may take a while)\n",
      "Selecting by non-zero PCA components: 13 components\n",
      "Fitting ICA took 0.2s.\n"
     ]
    },
    {
     "name": "stderr",
     "output_type": "stream",
     "text": [
      "C:\\Users\\uiseong\\AppData\\Local\\Temp\\ipykernel_41476\\757284080.py:51: RuntimeWarning: The provided Raw instance is not filtered between 1 and 100 Hz. ICLabel was designed to classify features extracted from an EEG dataset bandpass filtered between 1 and 100 Hz (see the 'filter()' method for Raw and Epochs instances).\n",
      "  ic_labels = label_components(raw, ica, method='iclabel')\n",
      "C:\\Users\\uiseong\\AppData\\Local\\Temp\\ipykernel_41476\\757284080.py:51: RuntimeWarning: The provided ICA instance was fitted with a 'fastica' algorithm. ICLabel was designed with extended infomax ICA decompositions. To use the extended infomax algorithm, use the 'mne.preprocessing.ICA' instance with the arguments 'ICA(method='infomax', fit_params=dict(extended=True))' (scikit-learn) or 'ICA(method='picard', fit_params=dict(ortho=False, extended=True))' (python-picard).\n",
      "  ic_labels = label_components(raw, ica, method='iclabel')\n"
     ]
    },
    {
     "name": "stdout",
     "output_type": "stream",
     "text": [
      "Applying ICA to Raw instance\n",
      "    Transforming to ICA space (13 components)\n",
      "    Zeroing out 3 ICA components\n",
      "    Projecting back using 14 PCA components\n",
      "자동 제거될 성분: [1, 4, 5]\n",
      "Effective window size : 8.000 (s)\n",
      "Effective window size : 8.000 (s)\n",
      "Effective window size : 8.000 (s)\n",
      "Effective window size : 8.000 (s)\n",
      "Effective window size : 8.000 (s)\n",
      "Effective window size : 8.000 (s)\n",
      "Effective window size : 8.000 (s)\n",
      "Effective window size : 8.000 (s)\n",
      "Effective window size : 8.000 (s)\n",
      "Effective window size : 8.000 (s)\n",
      "Effective window size : 8.000 (s)\n",
      "Effective window size : 8.000 (s)\n",
      "Effective window size : 8.000 (s)\n",
      "Effective window size : 8.000 (s)\n",
      "Effective window size : 8.000 (s)\n",
      "Effective window size : 8.000 (s)\n",
      "Effective window size : 8.000 (s)\n",
      "Effective window size : 8.000 (s)\n",
      "Effective window size : 8.000 (s)\n",
      "Effective window size : 8.000 (s)\n",
      "처리 중: jung_nback_2.edf\n",
      "Extracting EDF parameters from c:\\Users\\uiseong\\OneDrive\\바탕 화면\\eeg\\EEG_cognitive_load\\EEG_nback_task\\jung_nback_2.edf...\n",
      "EDF file detected\n",
      "Setting channel info structure...\n",
      "Creating raw.info structure...\n",
      "Reading 0 ... 25087  =      0.000 ...   195.992 secs...\n",
      "NOTE: pick_channels() is a legacy function. New code should use inst.pick(...).\n",
      "Filtering raw data in 1 contiguous segment\n",
      "Setting up band-pass filter from 1 - 40 Hz\n",
      "\n",
      "FIR filter parameters\n",
      "---------------------\n",
      "Designing a one-pass, zero-phase, non-causal bandpass filter:\n",
      "- Windowed time-domain design (firwin) method\n",
      "- Hamming window with 0.0194 passband ripple and 53 dB stopband attenuation\n",
      "- Lower passband edge: 1.00\n",
      "- Lower transition bandwidth: 1.00 Hz (-6 dB cutoff frequency: 0.50 Hz)\n",
      "- Upper passband edge: 40.00 Hz\n",
      "- Upper transition bandwidth: 10.00 Hz (-6 dB cutoff frequency: 45.00 Hz)\n",
      "- Filter length: 423 samples (3.305 s)\n",
      "\n",
      "Filtering raw data in 1 contiguous segment\n",
      "Setting up band-stop filter from 59 - 61 Hz\n",
      "\n",
      "FIR filter parameters\n",
      "---------------------\n",
      "Designing a one-pass, zero-phase, non-causal bandstop filter:\n",
      "- Windowed time-domain design (firwin) method\n",
      "- Hamming window with 0.0194 passband ripple and 53 dB stopband attenuation\n",
      "- Lower passband edge: 59.35\n",
      "- Lower transition bandwidth: 0.50 Hz (-6 dB cutoff frequency: 59.10 Hz)\n",
      "- Upper passband edge: 60.65 Hz\n",
      "- Upper transition bandwidth: 0.50 Hz (-6 dB cutoff frequency: 60.90 Hz)\n",
      "- Filter length: 845 samples (6.602 s)\n",
      "\n",
      "EEG channel type selected for re-referencing\n",
      "Applying average reference.\n",
      "Applying a custom ('EEG',) reference.\n",
      "Not setting metadata\n",
      "65 matching events found\n",
      "No baseline correction applied\n",
      "0 projection items activated\n",
      "Using data from preloaded Raw for 65 events and 384 original time points ...\n",
      "0 bad epochs dropped\n",
      "Running autoreject on ch_type=eeg\n"
     ]
    },
    {
     "data": {
      "application/vnd.jupyter.widget-view+json": {
       "model_id": "b19db774b7554ff59eb4418f37b82cd0",
       "version_major": 2,
       "version_minor": 0
      },
      "text/plain": [
       "  0%|          | Creating augmented epochs : 0/14 [00:00<?,       ?it/s]"
      ]
     },
     "metadata": {},
     "output_type": "display_data"
    },
    {
     "data": {
      "application/vnd.jupyter.widget-view+json": {
       "model_id": "2d50f31c0e49422b91fefc0a0f8200e2",
       "version_major": 2,
       "version_minor": 0
      },
      "text/plain": [
       "  0%|          | Computing thresholds ... : 0/14 [00:00<?,       ?it/s]"
      ]
     },
     "metadata": {},
     "output_type": "display_data"
    },
    {
     "data": {
      "application/vnd.jupyter.widget-view+json": {
       "model_id": "e7f293a076b64c9e831c6dc361eee841",
       "version_major": 2,
       "version_minor": 0
      },
      "text/plain": [
       "  0%|          | Repairing epochs : 0/65 [00:00<?,       ?it/s]"
      ]
     },
     "metadata": {},
     "output_type": "display_data"
    },
    {
     "data": {
      "application/vnd.jupyter.widget-view+json": {
       "model_id": "9ccc63684d664f069d8509a7753b34f7",
       "version_major": 2,
       "version_minor": 0
      },
      "text/plain": [
       "  0%|          | n_interp : 0/3 [00:00<?,       ?it/s]"
      ]
     },
     "metadata": {},
     "output_type": "display_data"
    },
    {
     "data": {
      "application/vnd.jupyter.widget-view+json": {
       "model_id": "1e34ceec5ad94c14b5438de7f67d629b",
       "version_major": 2,
       "version_minor": 0
      },
      "text/plain": [
       "  0%|          | Repairing epochs : 0/65 [00:00<?,       ?it/s]"
      ]
     },
     "metadata": {},
     "output_type": "display_data"
    },
    {
     "data": {
      "application/vnd.jupyter.widget-view+json": {
       "model_id": "dfe8092857a245f7aabe6722e0a5a93c",
       "version_major": 2,
       "version_minor": 0
      },
      "text/plain": [
       "  0%|          | Fold : 0/10 [00:00<?,       ?it/s]"
      ]
     },
     "metadata": {},
     "output_type": "display_data"
    },
    {
     "data": {
      "application/vnd.jupyter.widget-view+json": {
       "model_id": "1eeeba07f1924b6c8bd4986a92732b94",
       "version_major": 2,
       "version_minor": 0
      },
      "text/plain": [
       "  0%|          | Repairing epochs : 0/65 [00:00<?,       ?it/s]"
      ]
     },
     "metadata": {},
     "output_type": "display_data"
    },
    {
     "data": {
      "application/vnd.jupyter.widget-view+json": {
       "model_id": "b994679b8a314ac78a53cc13dc9566d3",
       "version_major": 2,
       "version_minor": 0
      },
      "text/plain": [
       "  0%|          | Fold : 0/10 [00:00<?,       ?it/s]"
      ]
     },
     "metadata": {},
     "output_type": "display_data"
    },
    {
     "data": {
      "application/vnd.jupyter.widget-view+json": {
       "model_id": "50bb5b60c08f43c997342a5a122b9d2e",
       "version_major": 2,
       "version_minor": 0
      },
      "text/plain": [
       "  0%|          | Repairing epochs : 0/65 [00:00<?,       ?it/s]"
      ]
     },
     "metadata": {},
     "output_type": "display_data"
    },
    {
     "name": "stderr",
     "output_type": "stream",
     "text": [
      "c:\\Users\\uiseong\\anaconda3\\envs\\mne\\Lib\\site-packages\\mne\\bem.py:1115: RuntimeWarning: Mean of empty slice.\n",
      "  radius_init = radii.mean()\n",
      "c:\\Users\\uiseong\\anaconda3\\envs\\mne\\Lib\\site-packages\\numpy\\core\\_methods.py:129: RuntimeWarning: invalid value encountered in scalar divide\n",
      "  ret = ret.dtype.type(ret / rcount)\n",
      "c:\\Users\\uiseong\\anaconda3\\envs\\mne\\Lib\\site-packages\\numpy\\core\\fromnumeric.py:3504: RuntimeWarning: Mean of empty slice.\n",
      "  return _methods._mean(a, axis=axis, dtype=dtype,\n",
      "c:\\Users\\uiseong\\anaconda3\\envs\\mne\\Lib\\site-packages\\numpy\\core\\_methods.py:121: RuntimeWarning: invalid value encountered in divide\n",
      "  ret = um.true_divide(\n"
     ]
    },
    {
     "data": {
      "application/vnd.jupyter.widget-view+json": {
       "model_id": "ed0050c72b85461c8bed3ab7171162ab",
       "version_major": 2,
       "version_minor": 0
      },
      "text/plain": [
       "  0%|          | Fold : 0/10 [00:00<?,       ?it/s]"
      ]
     },
     "metadata": {},
     "output_type": "display_data"
    },
    {
     "name": "stdout",
     "output_type": "stream",
     "text": [
      "\n",
      "\n",
      "\n",
      "\n",
      "Estimated consensus=0.80 and n_interpolate=4\n"
     ]
    },
    {
     "data": {
      "application/vnd.jupyter.widget-view+json": {
       "model_id": "f0a77baec123408fb840115b34ae4df2",
       "version_major": 2,
       "version_minor": 0
      },
      "text/plain": [
       "  0%|          | Repairing epochs : 0/65 [00:00<?,       ?it/s]"
      ]
     },
     "metadata": {},
     "output_type": "display_data"
    },
    {
     "name": "stdout",
     "output_type": "stream",
     "text": [
      "Dropped 3 epochs: 0, 37, 58\n",
      "Fitting ICA to data using 14 channels (please be patient, this may take a while)\n",
      "Selecting by non-zero PCA components: 13 components\n",
      "Fitting ICA took 0.1s.\n"
     ]
    },
    {
     "name": "stderr",
     "output_type": "stream",
     "text": [
      "C:\\Users\\uiseong\\AppData\\Local\\Temp\\ipykernel_41476\\757284080.py:51: RuntimeWarning: The provided Raw instance is not filtered between 1 and 100 Hz. ICLabel was designed to classify features extracted from an EEG dataset bandpass filtered between 1 and 100 Hz (see the 'filter()' method for Raw and Epochs instances).\n",
      "  ic_labels = label_components(raw, ica, method='iclabel')\n",
      "C:\\Users\\uiseong\\AppData\\Local\\Temp\\ipykernel_41476\\757284080.py:51: RuntimeWarning: The provided ICA instance was fitted with a 'fastica' algorithm. ICLabel was designed with extended infomax ICA decompositions. To use the extended infomax algorithm, use the 'mne.preprocessing.ICA' instance with the arguments 'ICA(method='infomax', fit_params=dict(extended=True))' (scikit-learn) or 'ICA(method='picard', fit_params=dict(ortho=False, extended=True))' (python-picard).\n",
      "  ic_labels = label_components(raw, ica, method='iclabel')\n"
     ]
    },
    {
     "name": "stdout",
     "output_type": "stream",
     "text": [
      "Applying ICA to Raw instance\n",
      "    Transforming to ICA space (13 components)\n",
      "    Zeroing out 2 ICA components\n",
      "    Projecting back using 14 PCA components\n",
      "자동 제거될 성분: [1, 4]\n",
      "Effective window size : 8.000 (s)\n",
      "Effective window size : 8.000 (s)\n",
      "Effective window size : 8.000 (s)\n",
      "Effective window size : 8.000 (s)\n",
      "Effective window size : 8.000 (s)\n",
      "Effective window size : 8.000 (s)\n",
      "Effective window size : 8.000 (s)\n",
      "Effective window size : 8.000 (s)\n",
      "Effective window size : 8.000 (s)\n",
      "Effective window size : 8.000 (s)\n",
      "Effective window size : 8.000 (s)\n",
      "Effective window size : 8.000 (s)\n",
      "Effective window size : 8.000 (s)\n",
      "Effective window size : 8.000 (s)\n",
      "Effective window size : 8.000 (s)\n",
      "Effective window size : 8.000 (s)\n",
      "Effective window size : 8.000 (s)\n",
      "Effective window size : 8.000 (s)\n",
      "Effective window size : 8.000 (s)\n",
      "Effective window size : 8.000 (s)\n",
      "처리 중: jung_nback_3.edf\n",
      "Extracting EDF parameters from c:\\Users\\uiseong\\OneDrive\\바탕 화면\\eeg\\EEG_cognitive_load\\EEG_nback_task\\jung_nback_3.edf...\n",
      "EDF file detected\n",
      "Setting channel info structure...\n",
      "Creating raw.info structure...\n",
      "Reading 0 ... 24959  =      0.000 ...   194.992 secs...\n",
      "NOTE: pick_channels() is a legacy function. New code should use inst.pick(...).\n",
      "Filtering raw data in 1 contiguous segment\n",
      "Setting up band-pass filter from 1 - 40 Hz\n",
      "\n",
      "FIR filter parameters\n",
      "---------------------\n",
      "Designing a one-pass, zero-phase, non-causal bandpass filter:\n",
      "- Windowed time-domain design (firwin) method\n",
      "- Hamming window with 0.0194 passband ripple and 53 dB stopband attenuation\n",
      "- Lower passband edge: 1.00\n",
      "- Lower transition bandwidth: 1.00 Hz (-6 dB cutoff frequency: 0.50 Hz)\n",
      "- Upper passband edge: 40.00 Hz\n",
      "- Upper transition bandwidth: 10.00 Hz (-6 dB cutoff frequency: 45.00 Hz)\n",
      "- Filter length: 423 samples (3.305 s)\n",
      "\n",
      "Filtering raw data in 1 contiguous segment\n",
      "Setting up band-stop filter from 59 - 61 Hz\n",
      "\n",
      "FIR filter parameters\n",
      "---------------------\n",
      "Designing a one-pass, zero-phase, non-causal bandstop filter:\n",
      "- Windowed time-domain design (firwin) method\n",
      "- Hamming window with 0.0194 passband ripple and 53 dB stopband attenuation\n",
      "- Lower passband edge: 59.35\n",
      "- Lower transition bandwidth: 0.50 Hz (-6 dB cutoff frequency: 59.10 Hz)\n",
      "- Upper passband edge: 60.65 Hz\n",
      "- Upper transition bandwidth: 0.50 Hz (-6 dB cutoff frequency: 60.90 Hz)\n",
      "- Filter length: 845 samples (6.602 s)\n",
      "\n",
      "EEG channel type selected for re-referencing\n",
      "Applying average reference.\n",
      "Applying a custom ('EEG',) reference.\n",
      "Not setting metadata\n",
      "65 matching events found\n",
      "No baseline correction applied\n",
      "0 projection items activated\n",
      "Using data from preloaded Raw for 65 events and 384 original time points ...\n",
      "0 bad epochs dropped\n",
      "Running autoreject on ch_type=eeg\n"
     ]
    },
    {
     "data": {
      "application/vnd.jupyter.widget-view+json": {
       "model_id": "a5f3e0a3f270446fb0d3bd6035bdcab4",
       "version_major": 2,
       "version_minor": 0
      },
      "text/plain": [
       "  0%|          | Creating augmented epochs : 0/14 [00:00<?,       ?it/s]"
      ]
     },
     "metadata": {},
     "output_type": "display_data"
    },
    {
     "data": {
      "application/vnd.jupyter.widget-view+json": {
       "model_id": "9fa766491a6b4a85b2a74b2f598303fa",
       "version_major": 2,
       "version_minor": 0
      },
      "text/plain": [
       "  0%|          | Computing thresholds ... : 0/14 [00:00<?,       ?it/s]"
      ]
     },
     "metadata": {},
     "output_type": "display_data"
    },
    {
     "data": {
      "application/vnd.jupyter.widget-view+json": {
       "model_id": "9d3d43c83ff44e65a8776c1b2a0fa955",
       "version_major": 2,
       "version_minor": 0
      },
      "text/plain": [
       "  0%|          | Repairing epochs : 0/65 [00:00<?,       ?it/s]"
      ]
     },
     "metadata": {},
     "output_type": "display_data"
    },
    {
     "data": {
      "application/vnd.jupyter.widget-view+json": {
       "model_id": "f803c3f4a47747abaf340978d26e7ef1",
       "version_major": 2,
       "version_minor": 0
      },
      "text/plain": [
       "  0%|          | n_interp : 0/3 [00:00<?,       ?it/s]"
      ]
     },
     "metadata": {},
     "output_type": "display_data"
    },
    {
     "data": {
      "application/vnd.jupyter.widget-view+json": {
       "model_id": "7e831542a1de41bc97fd70d42c690ee8",
       "version_major": 2,
       "version_minor": 0
      },
      "text/plain": [
       "  0%|          | Repairing epochs : 0/65 [00:00<?,       ?it/s]"
      ]
     },
     "metadata": {},
     "output_type": "display_data"
    },
    {
     "data": {
      "application/vnd.jupyter.widget-view+json": {
       "model_id": "a5942a91c68a4f92800744c97112715f",
       "version_major": 2,
       "version_minor": 0
      },
      "text/plain": [
       "  0%|          | Fold : 0/10 [00:00<?,       ?it/s]"
      ]
     },
     "metadata": {},
     "output_type": "display_data"
    },
    {
     "data": {
      "application/vnd.jupyter.widget-view+json": {
       "model_id": "326f447520be47e8abe4d5ee1e611ca2",
       "version_major": 2,
       "version_minor": 0
      },
      "text/plain": [
       "  0%|          | Repairing epochs : 0/65 [00:00<?,       ?it/s]"
      ]
     },
     "metadata": {},
     "output_type": "display_data"
    },
    {
     "data": {
      "application/vnd.jupyter.widget-view+json": {
       "model_id": "b94f0da91c4d405d845661a43cdf2cfa",
       "version_major": 2,
       "version_minor": 0
      },
      "text/plain": [
       "  0%|          | Fold : 0/10 [00:00<?,       ?it/s]"
      ]
     },
     "metadata": {},
     "output_type": "display_data"
    },
    {
     "data": {
      "application/vnd.jupyter.widget-view+json": {
       "model_id": "a45dbae505714b28982b21b6dbd35870",
       "version_major": 2,
       "version_minor": 0
      },
      "text/plain": [
       "  0%|          | Repairing epochs : 0/65 [00:00<?,       ?it/s]"
      ]
     },
     "metadata": {},
     "output_type": "display_data"
    },
    {
     "name": "stderr",
     "output_type": "stream",
     "text": [
      "c:\\Users\\uiseong\\anaconda3\\envs\\mne\\Lib\\site-packages\\mne\\bem.py:1115: RuntimeWarning: Mean of empty slice.\n",
      "  radius_init = radii.mean()\n",
      "c:\\Users\\uiseong\\anaconda3\\envs\\mne\\Lib\\site-packages\\numpy\\core\\_methods.py:129: RuntimeWarning: invalid value encountered in scalar divide\n",
      "  ret = ret.dtype.type(ret / rcount)\n",
      "c:\\Users\\uiseong\\anaconda3\\envs\\mne\\Lib\\site-packages\\numpy\\core\\fromnumeric.py:3504: RuntimeWarning: Mean of empty slice.\n",
      "  return _methods._mean(a, axis=axis, dtype=dtype,\n",
      "c:\\Users\\uiseong\\anaconda3\\envs\\mne\\Lib\\site-packages\\numpy\\core\\_methods.py:121: RuntimeWarning: invalid value encountered in divide\n",
      "  ret = um.true_divide(\n"
     ]
    },
    {
     "data": {
      "application/vnd.jupyter.widget-view+json": {
       "model_id": "5c1f7734157e4ffeb4e52f2a3ef22d3a",
       "version_major": 2,
       "version_minor": 0
      },
      "text/plain": [
       "  0%|          | Fold : 0/10 [00:00<?,       ?it/s]"
      ]
     },
     "metadata": {},
     "output_type": "display_data"
    },
    {
     "name": "stdout",
     "output_type": "stream",
     "text": [
      "\n",
      "\n",
      "\n",
      "\n",
      "Estimated consensus=0.60 and n_interpolate=4\n"
     ]
    },
    {
     "data": {
      "application/vnd.jupyter.widget-view+json": {
       "model_id": "650a35ca57744041bc3969b08be5442d",
       "version_major": 2,
       "version_minor": 0
      },
      "text/plain": [
       "  0%|          | Repairing epochs : 0/65 [00:00<?,       ?it/s]"
      ]
     },
     "metadata": {},
     "output_type": "display_data"
    },
    {
     "name": "stdout",
     "output_type": "stream",
     "text": [
      "Dropped 9 epochs: 0, 5, 13, 37, 38, 42, 58, 59, 64\n",
      "Fitting ICA to data using 14 channels (please be patient, this may take a while)\n",
      "Selecting by non-zero PCA components: 13 components\n",
      "Fitting ICA took 0.1s.\n"
     ]
    },
    {
     "name": "stderr",
     "output_type": "stream",
     "text": [
      "C:\\Users\\uiseong\\AppData\\Local\\Temp\\ipykernel_41476\\757284080.py:51: RuntimeWarning: The provided Raw instance is not filtered between 1 and 100 Hz. ICLabel was designed to classify features extracted from an EEG dataset bandpass filtered between 1 and 100 Hz (see the 'filter()' method for Raw and Epochs instances).\n",
      "  ic_labels = label_components(raw, ica, method='iclabel')\n",
      "C:\\Users\\uiseong\\AppData\\Local\\Temp\\ipykernel_41476\\757284080.py:51: RuntimeWarning: The provided ICA instance was fitted with a 'fastica' algorithm. ICLabel was designed with extended infomax ICA decompositions. To use the extended infomax algorithm, use the 'mne.preprocessing.ICA' instance with the arguments 'ICA(method='infomax', fit_params=dict(extended=True))' (scikit-learn) or 'ICA(method='picard', fit_params=dict(ortho=False, extended=True))' (python-picard).\n",
      "  ic_labels = label_components(raw, ica, method='iclabel')\n"
     ]
    },
    {
     "name": "stdout",
     "output_type": "stream",
     "text": [
      "Applying ICA to Raw instance\n",
      "    Transforming to ICA space (13 components)\n",
      "    Zeroing out 3 ICA components\n",
      "    Projecting back using 14 PCA components\n",
      "자동 제거될 성분: [0, 3, 9]\n",
      "Effective window size : 8.000 (s)\n",
      "Effective window size : 8.000 (s)\n",
      "Effective window size : 8.000 (s)\n",
      "Effective window size : 8.000 (s)\n",
      "Effective window size : 8.000 (s)\n",
      "Effective window size : 8.000 (s)\n",
      "Effective window size : 8.000 (s)\n",
      "Effective window size : 8.000 (s)\n",
      "Effective window size : 8.000 (s)\n",
      "Effective window size : 8.000 (s)\n",
      "Effective window size : 8.000 (s)\n",
      "Effective window size : 8.000 (s)\n",
      "Effective window size : 8.000 (s)\n",
      "Effective window size : 8.000 (s)\n",
      "Effective window size : 8.000 (s)\n",
      "Effective window size : 8.000 (s)\n",
      "Effective window size : 8.000 (s)\n",
      "Effective window size : 8.000 (s)\n",
      "Effective window size : 8.000 (s)\n",
      "Effective window size : 8.000 (s)\n",
      "처리 중: song_nback_1.edf\n",
      "Extracting EDF parameters from c:\\Users\\uiseong\\OneDrive\\바탕 화면\\eeg\\EEG_cognitive_load\\EEG_nback_task\\song_nback_1.edf...\n",
      "EDF file detected\n",
      "Setting channel info structure...\n",
      "Creating raw.info structure...\n",
      "Reading 0 ... 31487  =      0.000 ...   245.992 secs...\n",
      "NOTE: pick_channels() is a legacy function. New code should use inst.pick(...).\n",
      "Filtering raw data in 1 contiguous segment\n",
      "Setting up band-pass filter from 1 - 40 Hz\n",
      "\n",
      "FIR filter parameters\n",
      "---------------------\n",
      "Designing a one-pass, zero-phase, non-causal bandpass filter:\n",
      "- Windowed time-domain design (firwin) method\n",
      "- Hamming window with 0.0194 passband ripple and 53 dB stopband attenuation\n",
      "- Lower passband edge: 1.00\n",
      "- Lower transition bandwidth: 1.00 Hz (-6 dB cutoff frequency: 0.50 Hz)\n",
      "- Upper passband edge: 40.00 Hz\n",
      "- Upper transition bandwidth: 10.00 Hz (-6 dB cutoff frequency: 45.00 Hz)\n",
      "- Filter length: 423 samples (3.305 s)\n",
      "\n",
      "Filtering raw data in 1 contiguous segment\n",
      "Setting up band-stop filter from 59 - 61 Hz\n",
      "\n",
      "FIR filter parameters\n",
      "---------------------\n",
      "Designing a one-pass, zero-phase, non-causal bandstop filter:\n",
      "- Windowed time-domain design (firwin) method\n",
      "- Hamming window with 0.0194 passband ripple and 53 dB stopband attenuation\n",
      "- Lower passband edge: 59.35\n",
      "- Lower transition bandwidth: 0.50 Hz (-6 dB cutoff frequency: 59.10 Hz)\n",
      "- Upper passband edge: 60.65 Hz\n",
      "- Upper transition bandwidth: 0.50 Hz (-6 dB cutoff frequency: 60.90 Hz)\n",
      "- Filter length: 845 samples (6.602 s)\n",
      "\n",
      "EEG channel type selected for re-referencing\n",
      "Applying average reference.\n",
      "Applying a custom ('EEG',) reference.\n",
      "Not setting metadata\n",
      "82 matching events found\n",
      "No baseline correction applied\n",
      "0 projection items activated\n",
      "Using data from preloaded Raw for 82 events and 384 original time points ...\n",
      "0 bad epochs dropped\n",
      "Running autoreject on ch_type=eeg\n"
     ]
    },
    {
     "data": {
      "application/vnd.jupyter.widget-view+json": {
       "model_id": "76ecf561fbae40c189b5a42d0cc7f3e6",
       "version_major": 2,
       "version_minor": 0
      },
      "text/plain": [
       "  0%|          | Creating augmented epochs : 0/14 [00:00<?,       ?it/s]"
      ]
     },
     "metadata": {},
     "output_type": "display_data"
    },
    {
     "data": {
      "application/vnd.jupyter.widget-view+json": {
       "model_id": "7c93462040ad46e5b95b9de81af2f554",
       "version_major": 2,
       "version_minor": 0
      },
      "text/plain": [
       "  0%|          | Computing thresholds ... : 0/14 [00:00<?,       ?it/s]"
      ]
     },
     "metadata": {},
     "output_type": "display_data"
    },
    {
     "data": {
      "application/vnd.jupyter.widget-view+json": {
       "model_id": "d1b835ad6586431889299ef41b5024d8",
       "version_major": 2,
       "version_minor": 0
      },
      "text/plain": [
       "  0%|          | Repairing epochs : 0/82 [00:00<?,       ?it/s]"
      ]
     },
     "metadata": {},
     "output_type": "display_data"
    },
    {
     "data": {
      "application/vnd.jupyter.widget-view+json": {
       "model_id": "ab9a8ccef13b4db0ae6ad83b28ceaffd",
       "version_major": 2,
       "version_minor": 0
      },
      "text/plain": [
       "  0%|          | n_interp : 0/3 [00:00<?,       ?it/s]"
      ]
     },
     "metadata": {},
     "output_type": "display_data"
    },
    {
     "data": {
      "application/vnd.jupyter.widget-view+json": {
       "model_id": "bbaa1f29fe744c0c80dcf37cc181e596",
       "version_major": 2,
       "version_minor": 0
      },
      "text/plain": [
       "  0%|          | Repairing epochs : 0/82 [00:00<?,       ?it/s]"
      ]
     },
     "metadata": {},
     "output_type": "display_data"
    },
    {
     "data": {
      "application/vnd.jupyter.widget-view+json": {
       "model_id": "f10b9f95c5784ac19fca734ad9cc0a44",
       "version_major": 2,
       "version_minor": 0
      },
      "text/plain": [
       "  0%|          | Fold : 0/10 [00:00<?,       ?it/s]"
      ]
     },
     "metadata": {},
     "output_type": "display_data"
    },
    {
     "data": {
      "application/vnd.jupyter.widget-view+json": {
       "model_id": "f8fae41d91b04d7295273833d6eca0bf",
       "version_major": 2,
       "version_minor": 0
      },
      "text/plain": [
       "  0%|          | Repairing epochs : 0/82 [00:00<?,       ?it/s]"
      ]
     },
     "metadata": {},
     "output_type": "display_data"
    },
    {
     "data": {
      "application/vnd.jupyter.widget-view+json": {
       "model_id": "3538092bcd484c91a8fd86eefbb3255f",
       "version_major": 2,
       "version_minor": 0
      },
      "text/plain": [
       "  0%|          | Fold : 0/10 [00:00<?,       ?it/s]"
      ]
     },
     "metadata": {},
     "output_type": "display_data"
    },
    {
     "data": {
      "application/vnd.jupyter.widget-view+json": {
       "model_id": "a587a7b277d24699a0f8ce326de1de13",
       "version_major": 2,
       "version_minor": 0
      },
      "text/plain": [
       "  0%|          | Repairing epochs : 0/82 [00:00<?,       ?it/s]"
      ]
     },
     "metadata": {},
     "output_type": "display_data"
    },
    {
     "data": {
      "application/vnd.jupyter.widget-view+json": {
       "model_id": "86b7d10aa87241338d90c4eccd1ffa98",
       "version_major": 2,
       "version_minor": 0
      },
      "text/plain": [
       "  0%|          | Fold : 0/10 [00:00<?,       ?it/s]"
      ]
     },
     "metadata": {},
     "output_type": "display_data"
    },
    {
     "name": "stdout",
     "output_type": "stream",
     "text": [
      "\n",
      "\n",
      "\n",
      "\n",
      "Estimated consensus=0.60 and n_interpolate=4\n"
     ]
    },
    {
     "data": {
      "application/vnd.jupyter.widget-view+json": {
       "model_id": "48509c3475f345cf8164ce1353384647",
       "version_major": 2,
       "version_minor": 0
      },
      "text/plain": [
       "  0%|          | Repairing epochs : 0/82 [00:00<?,       ?it/s]"
      ]
     },
     "metadata": {},
     "output_type": "display_data"
    },
    {
     "name": "stdout",
     "output_type": "stream",
     "text": [
      "No bad epochs were found for your data. Returning a copy of the data you wanted to clean. Interpolation may have been done.\n",
      "Fitting ICA to data using 14 channels (please be patient, this may take a while)\n",
      "Selecting by non-zero PCA components: 13 components\n",
      "Fitting ICA took 0.1s.\n"
     ]
    },
    {
     "name": "stderr",
     "output_type": "stream",
     "text": [
      "C:\\Users\\uiseong\\AppData\\Local\\Temp\\ipykernel_41476\\757284080.py:51: RuntimeWarning: The provided Raw instance is not filtered between 1 and 100 Hz. ICLabel was designed to classify features extracted from an EEG dataset bandpass filtered between 1 and 100 Hz (see the 'filter()' method for Raw and Epochs instances).\n",
      "  ic_labels = label_components(raw, ica, method='iclabel')\n",
      "C:\\Users\\uiseong\\AppData\\Local\\Temp\\ipykernel_41476\\757284080.py:51: RuntimeWarning: The provided ICA instance was fitted with a 'fastica' algorithm. ICLabel was designed with extended infomax ICA decompositions. To use the extended infomax algorithm, use the 'mne.preprocessing.ICA' instance with the arguments 'ICA(method='infomax', fit_params=dict(extended=True))' (scikit-learn) or 'ICA(method='picard', fit_params=dict(ortho=False, extended=True))' (python-picard).\n",
      "  ic_labels = label_components(raw, ica, method='iclabel')\n"
     ]
    },
    {
     "name": "stdout",
     "output_type": "stream",
     "text": [
      "Applying ICA to Raw instance\n",
      "    Transforming to ICA space (13 components)\n",
      "    Zeroing out 2 ICA components\n",
      "    Projecting back using 14 PCA components\n",
      "자동 제거될 성분: [0, 2]\n",
      "Effective window size : 8.000 (s)\n",
      "Effective window size : 8.000 (s)\n",
      "Effective window size : 8.000 (s)\n",
      "Effective window size : 8.000 (s)\n",
      "Effective window size : 8.000 (s)\n",
      "Effective window size : 8.000 (s)\n",
      "Effective window size : 8.000 (s)\n",
      "Effective window size : 8.000 (s)\n",
      "Effective window size : 8.000 (s)\n",
      "Effective window size : 8.000 (s)\n",
      "Effective window size : 8.000 (s)\n",
      "Effective window size : 8.000 (s)\n",
      "Effective window size : 8.000 (s)\n",
      "Effective window size : 8.000 (s)\n",
      "Effective window size : 8.000 (s)\n",
      "Effective window size : 8.000 (s)\n",
      "Effective window size : 8.000 (s)\n",
      "Effective window size : 8.000 (s)\n",
      "Effective window size : 8.000 (s)\n",
      "Effective window size : 8.000 (s)\n",
      "처리 중: song_nback_2.edf\n",
      "Extracting EDF parameters from c:\\Users\\uiseong\\OneDrive\\바탕 화면\\eeg\\EEG_cognitive_load\\EEG_nback_task\\song_nback_2.edf...\n",
      "EDF file detected\n",
      "Setting channel info structure...\n",
      "Creating raw.info structure...\n",
      "Reading 0 ... 24703  =      0.000 ...   192.992 secs...\n",
      "NOTE: pick_channels() is a legacy function. New code should use inst.pick(...).\n",
      "Filtering raw data in 1 contiguous segment\n",
      "Setting up band-pass filter from 1 - 40 Hz\n",
      "\n",
      "FIR filter parameters\n",
      "---------------------\n",
      "Designing a one-pass, zero-phase, non-causal bandpass filter:\n",
      "- Windowed time-domain design (firwin) method\n",
      "- Hamming window with 0.0194 passband ripple and 53 dB stopband attenuation\n",
      "- Lower passband edge: 1.00\n",
      "- Lower transition bandwidth: 1.00 Hz (-6 dB cutoff frequency: 0.50 Hz)\n",
      "- Upper passband edge: 40.00 Hz\n",
      "- Upper transition bandwidth: 10.00 Hz (-6 dB cutoff frequency: 45.00 Hz)\n",
      "- Filter length: 423 samples (3.305 s)\n",
      "\n",
      "Filtering raw data in 1 contiguous segment\n",
      "Setting up band-stop filter from 59 - 61 Hz\n",
      "\n",
      "FIR filter parameters\n",
      "---------------------\n",
      "Designing a one-pass, zero-phase, non-causal bandstop filter:\n",
      "- Windowed time-domain design (firwin) method\n",
      "- Hamming window with 0.0194 passband ripple and 53 dB stopband attenuation\n",
      "- Lower passband edge: 59.35\n",
      "- Lower transition bandwidth: 0.50 Hz (-6 dB cutoff frequency: 59.10 Hz)\n",
      "- Upper passband edge: 60.65 Hz\n",
      "- Upper transition bandwidth: 0.50 Hz (-6 dB cutoff frequency: 60.90 Hz)\n",
      "- Filter length: 845 samples (6.602 s)\n",
      "\n",
      "EEG channel type selected for re-referencing\n",
      "Applying average reference.\n",
      "Applying a custom ('EEG',) reference.\n",
      "Not setting metadata\n",
      "64 matching events found\n",
      "No baseline correction applied\n",
      "0 projection items activated\n",
      "Using data from preloaded Raw for 64 events and 384 original time points ...\n",
      "0 bad epochs dropped\n",
      "Running autoreject on ch_type=eeg\n"
     ]
    },
    {
     "data": {
      "application/vnd.jupyter.widget-view+json": {
       "model_id": "19f8059280a14003820559e39b5cf1b1",
       "version_major": 2,
       "version_minor": 0
      },
      "text/plain": [
       "  0%|          | Creating augmented epochs : 0/14 [00:00<?,       ?it/s]"
      ]
     },
     "metadata": {},
     "output_type": "display_data"
    },
    {
     "data": {
      "application/vnd.jupyter.widget-view+json": {
       "model_id": "6a260961bc5a4febbedfff27f8bddcb0",
       "version_major": 2,
       "version_minor": 0
      },
      "text/plain": [
       "  0%|          | Computing thresholds ... : 0/14 [00:00<?,       ?it/s]"
      ]
     },
     "metadata": {},
     "output_type": "display_data"
    },
    {
     "data": {
      "application/vnd.jupyter.widget-view+json": {
       "model_id": "4477d562bca5413a898dbf51f2b895d6",
       "version_major": 2,
       "version_minor": 0
      },
      "text/plain": [
       "  0%|          | Repairing epochs : 0/64 [00:00<?,       ?it/s]"
      ]
     },
     "metadata": {},
     "output_type": "display_data"
    },
    {
     "data": {
      "application/vnd.jupyter.widget-view+json": {
       "model_id": "5e793c9bec1d454893d23a65cb74cdae",
       "version_major": 2,
       "version_minor": 0
      },
      "text/plain": [
       "  0%|          | n_interp : 0/3 [00:00<?,       ?it/s]"
      ]
     },
     "metadata": {},
     "output_type": "display_data"
    },
    {
     "data": {
      "application/vnd.jupyter.widget-view+json": {
       "model_id": "e24289d4152f434487f04d7e7c85d3b1",
       "version_major": 2,
       "version_minor": 0
      },
      "text/plain": [
       "  0%|          | Repairing epochs : 0/64 [00:00<?,       ?it/s]"
      ]
     },
     "metadata": {},
     "output_type": "display_data"
    },
    {
     "data": {
      "application/vnd.jupyter.widget-view+json": {
       "model_id": "02208edf2d4e453bb0a27f1109468578",
       "version_major": 2,
       "version_minor": 0
      },
      "text/plain": [
       "  0%|          | Fold : 0/10 [00:00<?,       ?it/s]"
      ]
     },
     "metadata": {},
     "output_type": "display_data"
    },
    {
     "data": {
      "application/vnd.jupyter.widget-view+json": {
       "model_id": "4469155b9587483fad72598064179388",
       "version_major": 2,
       "version_minor": 0
      },
      "text/plain": [
       "  0%|          | Repairing epochs : 0/64 [00:00<?,       ?it/s]"
      ]
     },
     "metadata": {},
     "output_type": "display_data"
    },
    {
     "data": {
      "application/vnd.jupyter.widget-view+json": {
       "model_id": "707cfb0ea100466eba89461c68ffce46",
       "version_major": 2,
       "version_minor": 0
      },
      "text/plain": [
       "  0%|          | Fold : 0/10 [00:00<?,       ?it/s]"
      ]
     },
     "metadata": {},
     "output_type": "display_data"
    },
    {
     "data": {
      "application/vnd.jupyter.widget-view+json": {
       "model_id": "fbfe324006034cabb95987b0dc298b68",
       "version_major": 2,
       "version_minor": 0
      },
      "text/plain": [
       "  0%|          | Repairing epochs : 0/64 [00:00<?,       ?it/s]"
      ]
     },
     "metadata": {},
     "output_type": "display_data"
    },
    {
     "name": "stderr",
     "output_type": "stream",
     "text": [
      "c:\\Users\\uiseong\\anaconda3\\envs\\mne\\Lib\\site-packages\\mne\\bem.py:1115: RuntimeWarning: Mean of empty slice.\n",
      "  radius_init = radii.mean()\n",
      "c:\\Users\\uiseong\\anaconda3\\envs\\mne\\Lib\\site-packages\\numpy\\core\\_methods.py:129: RuntimeWarning: invalid value encountered in scalar divide\n",
      "  ret = ret.dtype.type(ret / rcount)\n",
      "c:\\Users\\uiseong\\anaconda3\\envs\\mne\\Lib\\site-packages\\numpy\\core\\fromnumeric.py:3504: RuntimeWarning: Mean of empty slice.\n",
      "  return _methods._mean(a, axis=axis, dtype=dtype,\n",
      "c:\\Users\\uiseong\\anaconda3\\envs\\mne\\Lib\\site-packages\\numpy\\core\\_methods.py:121: RuntimeWarning: invalid value encountered in divide\n",
      "  ret = um.true_divide(\n"
     ]
    },
    {
     "data": {
      "application/vnd.jupyter.widget-view+json": {
       "model_id": "56565766f32d40e399048e4e2cc93162",
       "version_major": 2,
       "version_minor": 0
      },
      "text/plain": [
       "  0%|          | Fold : 0/10 [00:00<?,       ?it/s]"
      ]
     },
     "metadata": {},
     "output_type": "display_data"
    },
    {
     "name": "stdout",
     "output_type": "stream",
     "text": [
      "\n",
      "\n",
      "\n",
      "\n",
      "Estimated consensus=0.60 and n_interpolate=4\n"
     ]
    },
    {
     "data": {
      "application/vnd.jupyter.widget-view+json": {
       "model_id": "b9a653ead74f43438ab2a98e5c398bb3",
       "version_major": 2,
       "version_minor": 0
      },
      "text/plain": [
       "  0%|          | Repairing epochs : 0/64 [00:00<?,       ?it/s]"
      ]
     },
     "metadata": {},
     "output_type": "display_data"
    },
    {
     "name": "stdout",
     "output_type": "stream",
     "text": [
      "Dropped 2 epochs: 10, 20\n",
      "Fitting ICA to data using 14 channels (please be patient, this may take a while)\n",
      "Selecting by non-zero PCA components: 13 components\n",
      "Fitting ICA took 0.2s.\n"
     ]
    },
    {
     "name": "stderr",
     "output_type": "stream",
     "text": [
      "C:\\Users\\uiseong\\AppData\\Local\\Temp\\ipykernel_41476\\757284080.py:51: RuntimeWarning: The provided Raw instance is not filtered between 1 and 100 Hz. ICLabel was designed to classify features extracted from an EEG dataset bandpass filtered between 1 and 100 Hz (see the 'filter()' method for Raw and Epochs instances).\n",
      "  ic_labels = label_components(raw, ica, method='iclabel')\n",
      "C:\\Users\\uiseong\\AppData\\Local\\Temp\\ipykernel_41476\\757284080.py:51: RuntimeWarning: The provided ICA instance was fitted with a 'fastica' algorithm. ICLabel was designed with extended infomax ICA decompositions. To use the extended infomax algorithm, use the 'mne.preprocessing.ICA' instance with the arguments 'ICA(method='infomax', fit_params=dict(extended=True))' (scikit-learn) or 'ICA(method='picard', fit_params=dict(ortho=False, extended=True))' (python-picard).\n",
      "  ic_labels = label_components(raw, ica, method='iclabel')\n"
     ]
    },
    {
     "name": "stdout",
     "output_type": "stream",
     "text": [
      "Applying ICA to Raw instance\n",
      "    Transforming to ICA space (13 components)\n",
      "    Zeroing out 3 ICA components\n",
      "    Projecting back using 14 PCA components\n",
      "자동 제거될 성분: [1, 2, 4]\n",
      "Effective window size : 8.000 (s)\n",
      "Effective window size : 8.000 (s)\n",
      "Effective window size : 8.000 (s)\n",
      "Effective window size : 8.000 (s)\n",
      "Effective window size : 8.000 (s)\n",
      "Effective window size : 8.000 (s)\n",
      "Effective window size : 8.000 (s)\n",
      "Effective window size : 8.000 (s)\n",
      "Effective window size : 8.000 (s)\n",
      "Effective window size : 8.000 (s)\n",
      "Effective window size : 8.000 (s)\n",
      "Effective window size : 8.000 (s)\n",
      "Effective window size : 8.000 (s)\n",
      "Effective window size : 8.000 (s)\n",
      "Effective window size : 8.000 (s)\n",
      "Effective window size : 8.000 (s)\n",
      "Effective window size : 8.000 (s)\n",
      "Effective window size : 8.000 (s)\n",
      "Effective window size : 8.000 (s)\n",
      "Effective window size : 8.000 (s)\n",
      "처리 중: song_nback_3.edf\n",
      "Extracting EDF parameters from c:\\Users\\uiseong\\OneDrive\\바탕 화면\\eeg\\EEG_cognitive_load\\EEG_nback_task\\song_nback_3.edf...\n",
      "EDF file detected\n",
      "Setting channel info structure...\n",
      "Creating raw.info structure...\n",
      "Reading 0 ... 24703  =      0.000 ...   192.992 secs...\n",
      "NOTE: pick_channels() is a legacy function. New code should use inst.pick(...).\n",
      "Filtering raw data in 1 contiguous segment\n",
      "Setting up band-pass filter from 1 - 40 Hz\n",
      "\n",
      "FIR filter parameters\n",
      "---------------------\n",
      "Designing a one-pass, zero-phase, non-causal bandpass filter:\n",
      "- Windowed time-domain design (firwin) method\n",
      "- Hamming window with 0.0194 passband ripple and 53 dB stopband attenuation\n",
      "- Lower passband edge: 1.00\n",
      "- Lower transition bandwidth: 1.00 Hz (-6 dB cutoff frequency: 0.50 Hz)\n",
      "- Upper passband edge: 40.00 Hz\n",
      "- Upper transition bandwidth: 10.00 Hz (-6 dB cutoff frequency: 45.00 Hz)\n",
      "- Filter length: 423 samples (3.305 s)\n",
      "\n",
      "Filtering raw data in 1 contiguous segment\n",
      "Setting up band-stop filter from 59 - 61 Hz\n",
      "\n",
      "FIR filter parameters\n",
      "---------------------\n",
      "Designing a one-pass, zero-phase, non-causal bandstop filter:\n",
      "- Windowed time-domain design (firwin) method\n",
      "- Hamming window with 0.0194 passband ripple and 53 dB stopband attenuation\n",
      "- Lower passband edge: 59.35\n",
      "- Lower transition bandwidth: 0.50 Hz (-6 dB cutoff frequency: 59.10 Hz)\n",
      "- Upper passband edge: 60.65 Hz\n",
      "- Upper transition bandwidth: 0.50 Hz (-6 dB cutoff frequency: 60.90 Hz)\n",
      "- Filter length: 845 samples (6.602 s)\n",
      "\n",
      "EEG channel type selected for re-referencing\n",
      "Applying average reference.\n",
      "Applying a custom ('EEG',) reference.\n",
      "Not setting metadata\n",
      "64 matching events found\n",
      "No baseline correction applied\n",
      "0 projection items activated\n",
      "Using data from preloaded Raw for 64 events and 384 original time points ...\n",
      "0 bad epochs dropped\n",
      "Running autoreject on ch_type=eeg\n"
     ]
    },
    {
     "data": {
      "application/vnd.jupyter.widget-view+json": {
       "model_id": "a9934ac27b92443391366ddca971dc86",
       "version_major": 2,
       "version_minor": 0
      },
      "text/plain": [
       "  0%|          | Creating augmented epochs : 0/14 [00:00<?,       ?it/s]"
      ]
     },
     "metadata": {},
     "output_type": "display_data"
    },
    {
     "data": {
      "application/vnd.jupyter.widget-view+json": {
       "model_id": "0cc9d54f9fda4531abde0413e06e832a",
       "version_major": 2,
       "version_minor": 0
      },
      "text/plain": [
       "  0%|          | Computing thresholds ... : 0/14 [00:00<?,       ?it/s]"
      ]
     },
     "metadata": {},
     "output_type": "display_data"
    },
    {
     "data": {
      "application/vnd.jupyter.widget-view+json": {
       "model_id": "a36422bdbb4b454b871eefed04d61854",
       "version_major": 2,
       "version_minor": 0
      },
      "text/plain": [
       "  0%|          | Repairing epochs : 0/64 [00:00<?,       ?it/s]"
      ]
     },
     "metadata": {},
     "output_type": "display_data"
    },
    {
     "data": {
      "application/vnd.jupyter.widget-view+json": {
       "model_id": "1a66145182764125a7609e85ffa1d9a9",
       "version_major": 2,
       "version_minor": 0
      },
      "text/plain": [
       "  0%|          | n_interp : 0/3 [00:00<?,       ?it/s]"
      ]
     },
     "metadata": {},
     "output_type": "display_data"
    },
    {
     "data": {
      "application/vnd.jupyter.widget-view+json": {
       "model_id": "11b8991bdf9346d8924b8b04ea6392c9",
       "version_major": 2,
       "version_minor": 0
      },
      "text/plain": [
       "  0%|          | Repairing epochs : 0/64 [00:00<?,       ?it/s]"
      ]
     },
     "metadata": {},
     "output_type": "display_data"
    },
    {
     "data": {
      "application/vnd.jupyter.widget-view+json": {
       "model_id": "46658f5037e940f79412beaecc173bb7",
       "version_major": 2,
       "version_minor": 0
      },
      "text/plain": [
       "  0%|          | Fold : 0/10 [00:00<?,       ?it/s]"
      ]
     },
     "metadata": {},
     "output_type": "display_data"
    },
    {
     "data": {
      "application/vnd.jupyter.widget-view+json": {
       "model_id": "824f0de5ae3e43c4ac15da1402167d8a",
       "version_major": 2,
       "version_minor": 0
      },
      "text/plain": [
       "  0%|          | Repairing epochs : 0/64 [00:00<?,       ?it/s]"
      ]
     },
     "metadata": {},
     "output_type": "display_data"
    },
    {
     "data": {
      "application/vnd.jupyter.widget-view+json": {
       "model_id": "a00c745774544ec4bf1f425e5c70881d",
       "version_major": 2,
       "version_minor": 0
      },
      "text/plain": [
       "  0%|          | Fold : 0/10 [00:00<?,       ?it/s]"
      ]
     },
     "metadata": {},
     "output_type": "display_data"
    },
    {
     "data": {
      "application/vnd.jupyter.widget-view+json": {
       "model_id": "2850dbec8e53463f84bd8869a381a3f3",
       "version_major": 2,
       "version_minor": 0
      },
      "text/plain": [
       "  0%|          | Repairing epochs : 0/64 [00:00<?,       ?it/s]"
      ]
     },
     "metadata": {},
     "output_type": "display_data"
    },
    {
     "data": {
      "application/vnd.jupyter.widget-view+json": {
       "model_id": "d80634a65d214e65be5e77d5bb1d6a84",
       "version_major": 2,
       "version_minor": 0
      },
      "text/plain": [
       "  0%|          | Fold : 0/10 [00:00<?,       ?it/s]"
      ]
     },
     "metadata": {},
     "output_type": "display_data"
    },
    {
     "name": "stdout",
     "output_type": "stream",
     "text": [
      "\n",
      "\n",
      "\n",
      "\n",
      "Estimated consensus=0.60 and n_interpolate=4\n"
     ]
    },
    {
     "data": {
      "application/vnd.jupyter.widget-view+json": {
       "model_id": "287e3a114ae44a54ba1ba6fe1232f008",
       "version_major": 2,
       "version_minor": 0
      },
      "text/plain": [
       "  0%|          | Repairing epochs : 0/64 [00:00<?,       ?it/s]"
      ]
     },
     "metadata": {},
     "output_type": "display_data"
    },
    {
     "name": "stdout",
     "output_type": "stream",
     "text": [
      "Dropped 1 epoch: 21\n",
      "Fitting ICA to data using 14 channels (please be patient, this may take a while)\n",
      "Selecting by non-zero PCA components: 13 components\n",
      "Fitting ICA took 0.2s.\n"
     ]
    },
    {
     "name": "stderr",
     "output_type": "stream",
     "text": [
      "C:\\Users\\uiseong\\AppData\\Local\\Temp\\ipykernel_41476\\757284080.py:51: RuntimeWarning: The provided Raw instance is not filtered between 1 and 100 Hz. ICLabel was designed to classify features extracted from an EEG dataset bandpass filtered between 1 and 100 Hz (see the 'filter()' method for Raw and Epochs instances).\n",
      "  ic_labels = label_components(raw, ica, method='iclabel')\n",
      "C:\\Users\\uiseong\\AppData\\Local\\Temp\\ipykernel_41476\\757284080.py:51: RuntimeWarning: The provided ICA instance was fitted with a 'fastica' algorithm. ICLabel was designed with extended infomax ICA decompositions. To use the extended infomax algorithm, use the 'mne.preprocessing.ICA' instance with the arguments 'ICA(method='infomax', fit_params=dict(extended=True))' (scikit-learn) or 'ICA(method='picard', fit_params=dict(ortho=False, extended=True))' (python-picard).\n",
      "  ic_labels = label_components(raw, ica, method='iclabel')\n"
     ]
    },
    {
     "name": "stdout",
     "output_type": "stream",
     "text": [
      "Applying ICA to Raw instance\n",
      "    Transforming to ICA space (13 components)\n",
      "    Zeroing out 2 ICA components\n",
      "    Projecting back using 14 PCA components\n",
      "자동 제거될 성분: [1, 3]\n",
      "Effective window size : 8.000 (s)\n",
      "Effective window size : 8.000 (s)\n",
      "Effective window size : 8.000 (s)\n",
      "Effective window size : 8.000 (s)\n",
      "Effective window size : 8.000 (s)\n",
      "Effective window size : 8.000 (s)\n",
      "Effective window size : 8.000 (s)\n",
      "Effective window size : 8.000 (s)\n",
      "Effective window size : 8.000 (s)\n",
      "Effective window size : 8.000 (s)\n",
      "Effective window size : 8.000 (s)\n",
      "Effective window size : 8.000 (s)\n",
      "Effective window size : 8.000 (s)\n",
      "Effective window size : 8.000 (s)\n",
      "Effective window size : 8.000 (s)\n",
      "Effective window size : 8.000 (s)\n",
      "Effective window size : 8.000 (s)\n",
      "Effective window size : 8.000 (s)\n",
      "Effective window size : 8.000 (s)\n",
      "Effective window size : 8.000 (s)\n",
      "모든 사용자/세션에 대한 ERDS 결과가 all_subjects_erds_results.csv에 저장되었습니다.\n",
      "모든 사용자/세션에 대한 영역별 Alpha/Theta 비율 결과가 all_subjects_region_specific_alpha_theta_ratio_results.csv에 저장되었습니다.\n",
      "그래프 저장됨: plots/cho_theta_erds_session_average.png\n",
      "그래프 저장됨: plots/cho_alpha_erds_session_average.png\n",
      "그래프 저장됨: plots/taek_theta_erds_session_average.png\n",
      "그래프 저장됨: plots/taek_alpha_erds_session_average.png\n",
      "그래프 저장됨: plots/choi_theta_erds_session_average.png\n",
      "그래프 저장됨: plots/choi_alpha_erds_session_average.png\n",
      "그래프 저장됨: plots/jung_theta_erds_session_average.png\n",
      "그래프 저장됨: plots/jung_alpha_erds_session_average.png\n",
      "그래프 저장됨: plots/song_theta_erds_session_average.png\n",
      "그래프 저장됨: plots/song_alpha_erds_session_average.png\n",
      "영역별 Alpha/Theta 비율 그래프 저장됨: plots/cho_region_specific_alpha_theta_ratio.png\n",
      "영역별 Alpha/Theta 비율 그래프 저장됨: plots/taek_region_specific_alpha_theta_ratio.png\n",
      "영역별 Alpha/Theta 비율 그래프 저장됨: plots/choi_region_specific_alpha_theta_ratio.png\n",
      "영역별 Alpha/Theta 비율 그래프 저장됨: plots/jung_region_specific_alpha_theta_ratio.png\n",
      "영역별 Alpha/Theta 비율 그래프 저장됨: plots/song_region_specific_alpha_theta_ratio.png\n",
      "전체 사용자 비교 그래프 저장됨: plots/all_subjects_region_specific_alpha_theta_ratio_comparison.png\n",
      "\n",
      "=== 세션별 ERDS 요약 ===\n",
      "\n",
      "사용자: cho\n",
      "\n",
      "  Theta Band:\n",
      "    F3:\n",
      "      0back: -4.23 ± 66.53 % (n=3)\n",
      "      2back: 2.51 ± 33.94 % (n=3)\n",
      "      3back: 11.30 ± 24.59 % (n=3)\n",
      "    F4:\n",
      "      0back: 18.50 ± 9.61 % (n=3)\n",
      "      2back: -4.63 ± 19.53 % (n=3)\n",
      "      3back: -6.23 ± 4.22 % (n=3)\n",
      "\n",
      "  Alpha Band:\n",
      "    P7:\n",
      "      0back: 66.74 ± 1.23 % (n=3)\n",
      "      2back: 66.16 ± 2.06 % (n=3)\n",
      "      3back: 62.42 ± 2.26 % (n=3)\n",
      "    P8:\n",
      "      0back: 74.53 ± 3.62 % (n=3)\n",
      "      2back: 77.42 ± 2.01 % (n=3)\n",
      "      3back: 76.43 ± 4.27 % (n=3)\n",
      "\n",
      "사용자: taek\n",
      "\n",
      "  Theta Band:\n",
      "    F3:\n",
      "      0back: -21.22 ± 24.36 % (n=3)\n",
      "      2back: -41.09 ± 28.18 % (n=3)\n",
      "      3back: -48.28 ± 35.56 % (n=3)\n",
      "    F4:\n",
      "      0back: -16.20 ± 10.86 % (n=3)\n",
      "      2back: -34.89 ± 12.89 % (n=3)\n",
      "      3back: -20.82 ± 17.02 % (n=3)\n",
      "\n",
      "  Alpha Band:\n",
      "    P7:\n",
      "      0back: 10.58 ± 10.21 % (n=3)\n",
      "      2back: -7.46 ± 5.34 % (n=3)\n",
      "      3back: -16.21 ± 18.34 % (n=3)\n",
      "    P8:\n",
      "      0back: 2.26 ± 8.77 % (n=3)\n",
      "      2back: -14.60 ± 11.17 % (n=3)\n",
      "      3back: -28.14 ± 40.47 % (n=3)\n",
      "\n",
      "사용자: choi\n",
      "\n",
      "  Theta Band:\n",
      "    F3:\n",
      "      0back: -13.19 ± 10.76 % (n=3)\n",
      "      2back: -14.36 ± 10.14 % (n=3)\n",
      "      3back: 4.26 ± 11.59 % (n=3)\n",
      "    F4:\n",
      "      0back: -9.57 ± 27.65 % (n=3)\n",
      "      2back: 8.64 ± 24.64 % (n=3)\n",
      "      3back: 27.03 ± 6.09 % (n=3)\n",
      "\n",
      "  Alpha Band:\n",
      "    P7:\n",
      "      0back: 54.10 ± 6.91 % (n=3)\n",
      "      2back: 73.16 ± 10.10 % (n=3)\n",
      "      3back: 71.00 ± 9.37 % (n=3)\n",
      "    P8:\n",
      "      0back: 55.71 ± 13.79 % (n=3)\n",
      "      2back: 62.48 ± 6.48 % (n=3)\n",
      "      3back: 62.98 ± 9.38 % (n=3)\n",
      "\n",
      "사용자: jung\n",
      "\n",
      "  Theta Band:\n",
      "    F3:\n",
      "      0back: 13.33 ± 29.66 % (n=3)\n",
      "      2back: 16.39 ± 8.59 % (n=3)\n",
      "      3back: -23.86 ± 40.69 % (n=3)\n",
      "    F4:\n",
      "      0back: 22.09 ± 43.77 % (n=3)\n",
      "      2back: 23.18 ± 40.34 % (n=3)\n",
      "      3back: 19.59 ± 41.29 % (n=3)\n",
      "\n",
      "  Alpha Band:\n",
      "    P7:\n",
      "      0back: 27.77 ± 40.80 % (n=3)\n",
      "      2back: 53.30 ± 17.91 % (n=3)\n",
      "      3back: 41.29 ± 22.02 % (n=3)\n",
      "    P8:\n",
      "      0back: 15.28 ± 32.90 % (n=3)\n",
      "      2back: 50.28 ± 7.85 % (n=3)\n",
      "      3back: 35.78 ± 1.68 % (n=3)\n",
      "\n",
      "사용자: song\n",
      "\n",
      "  Theta Band:\n",
      "    F3:\n",
      "      0back: 12.29 ± 12.56 % (n=3)\n",
      "      2back: 11.89 ± 36.97 % (n=3)\n",
      "      3back: 25.98 ± 31.11 % (n=3)\n",
      "    F4:\n",
      "      0back: 8.09 ± 22.12 % (n=3)\n",
      "      2back: 16.87 ± 33.09 % (n=3)\n",
      "      3back: 31.11 ± 23.13 % (n=3)\n",
      "\n",
      "  Alpha Band:\n",
      "    P7:\n",
      "      0back: 15.79 ± 6.31 % (n=3)\n",
      "      2back: -11.44 ± 12.50 % (n=3)\n",
      "      3back: 27.76 ± 11.61 % (n=3)\n",
      "    P8:\n",
      "      0back: -1.02 ± 35.55 % (n=3)\n",
      "      2back: -39.54 ± 22.68 % (n=3)\n",
      "      3back: 23.69 ± 2.16 % (n=3)\n",
      "\n",
      "=== 영역별 Alpha/Theta 비율 요약 ===\n",
      "Theta: 전두엽 (AF3, AF4, F3, F4, F7, F8)\n",
      "Alpha: 두정엽 (P7, P8)\n",
      "\n",
      "사용자: cho\n",
      "  rest: \n",
      "    Alpha/Theta 비율: 2.248 ± 0.437\n",
      "    Alpha 파워 (P7,P8): 0.000000\n",
      "    Theta 파워 (전두엽): 0.000000\n",
      "    세션 수: 3\n",
      "  0back: \n",
      "    Alpha/Theta 비율: 1.038 ± 0.258\n",
      "    Alpha 파워 (P7,P8): 0.000000\n",
      "    Theta 파워 (전두엽): 0.000000\n",
      "    세션 수: 3\n",
      "  2back: \n",
      "    Alpha/Theta 비율: 0.960 ± 0.172\n",
      "    Alpha 파워 (P7,P8): 0.000000\n",
      "    Theta 파워 (전두엽): 0.000000\n",
      "    세션 수: 3\n",
      "  3back: \n",
      "    Alpha/Theta 비율: 1.016 ± 0.205\n",
      "    Alpha 파워 (P7,P8): 0.000000\n",
      "    Theta 파워 (전두엽): 0.000000\n",
      "    세션 수: 3\n",
      "\n",
      "사용자: taek\n",
      "  rest: \n",
      "    Alpha/Theta 비율: 1.872 ± 1.074\n",
      "    Alpha 파워 (P7,P8): 0.000000\n",
      "    Theta 파워 (전두엽): 0.000000\n",
      "    세션 수: 3\n",
      "  0back: \n",
      "    Alpha/Theta 비율: 1.512 ± 0.620\n",
      "    Alpha 파워 (P7,P8): 0.000000\n",
      "    Theta 파워 (전두엽): 0.000000\n",
      "    세션 수: 3\n",
      "  2back: \n",
      "    Alpha/Theta 비율: 1.779 ± 0.863\n",
      "    Alpha 파워 (P7,P8): 0.000000\n",
      "    Theta 파워 (전두엽): 0.000000\n",
      "    세션 수: 3\n",
      "  3back: \n",
      "    Alpha/Theta 비율: 1.855 ± 0.721\n",
      "    Alpha 파워 (P7,P8): 0.000000\n",
      "    Theta 파워 (전두엽): 0.000000\n",
      "    세션 수: 3\n",
      "\n",
      "사용자: choi\n",
      "  rest: \n",
      "    Alpha/Theta 비율: 0.620 ± 0.333\n",
      "    Alpha 파워 (P7,P8): 0.000000\n",
      "    Theta 파워 (전두엽): 0.000000\n",
      "    세션 수: 3\n",
      "  0back: \n",
      "    Alpha/Theta 비율: 0.107 ± 0.074\n",
      "    Alpha 파워 (P7,P8): 0.000000\n",
      "    Theta 파워 (전두엽): 0.000000\n",
      "    세션 수: 3\n",
      "  2back: \n",
      "    Alpha/Theta 비율: 0.303 ± 0.193\n",
      "    Alpha 파워 (P7,P8): 0.000000\n",
      "    Theta 파워 (전두엽): 0.000000\n",
      "    세션 수: 3\n",
      "  3back: \n",
      "    Alpha/Theta 비율: 0.284 ± 0.139\n",
      "    Alpha 파워 (P7,P8): 0.000000\n",
      "    Theta 파워 (전두엽): 0.000000\n",
      "    세션 수: 3\n",
      "\n",
      "사용자: jung\n",
      "  rest: \n",
      "    Alpha/Theta 비율: 0.558 ± 0.347\n",
      "    Alpha 파워 (P7,P8): 0.000000\n",
      "    Theta 파워 (전두엽): 0.000000\n",
      "    세션 수: 3\n",
      "  0back: \n",
      "    Alpha/Theta 비율: 0.644 ± 0.430\n",
      "    Alpha 파워 (P7,P8): 0.000000\n",
      "    Theta 파워 (전두엽): 0.000000\n",
      "    세션 수: 3\n",
      "  2back: \n",
      "    Alpha/Theta 비율: 0.402 ± 0.221\n",
      "    Alpha 파워 (P7,P8): 0.000000\n",
      "    Theta 파워 (전두엽): 0.000000\n",
      "    세션 수: 3\n",
      "  3back: \n",
      "    Alpha/Theta 비율: 0.419 ± 0.294\n",
      "    Alpha 파워 (P7,P8): 0.000000\n",
      "    Theta 파워 (전두엽): 0.000000\n",
      "    세션 수: 3\n",
      "\n",
      "사용자: song\n",
      "  rest: \n",
      "    Alpha/Theta 비율: 1.700 ± 0.639\n",
      "    Alpha 파워 (P7,P8): 0.000000\n",
      "    Theta 파워 (전두엽): 0.000000\n",
      "    세션 수: 3\n",
      "  0back: \n",
      "    Alpha/Theta 비율: 1.653 ± 0.313\n",
      "    Alpha 파워 (P7,P8): 0.000000\n",
      "    Theta 파워 (전두엽): 0.000000\n",
      "    세션 수: 3\n",
      "  2back: \n",
      "    Alpha/Theta 비율: 2.820 ± 0.401\n",
      "    Alpha 파워 (P7,P8): 0.000000\n",
      "    Theta 파워 (전두엽): 0.000000\n",
      "    세션 수: 3\n",
      "  3back: \n",
      "    Alpha/Theta 비율: 1.987 ± 0.440\n",
      "    Alpha 파워 (P7,P8): 0.000000\n",
      "    Theta 파워 (전두엽): 0.000000\n",
      "    세션 수: 3\n"
     ]
    }
   ],
   "source": [
    "# 처리할 사용자와 세션 리스트\n",
    "names = ['cho', 'taek', 'choi', 'jung', 'song']  # 여러 명이면 ['choi', 'kim', ...]\n",
    "sessions = ['1', '2', '3']  # 여러 세션이면 ['1', '2', ...]\n",
    "\n",
    "# 결과 저장용\n",
    "all_results = []\n",
    "all_ratio_results = []  # alpha/theta 비율 저장용\n",
    "\n",
    "for name in names:\n",
    "    for session in sessions:\n",
    "        edf_path = Path(f'./EEG_nback_task/{name}_nback_{session}.edf')\n",
    "        marker_path = Path(f'./EEG_nback_task/{name}_nback_{session}_intervalMarker.csv')\n",
    "        if not edf_path.exists() or not marker_path.exists():\n",
    "            print(f\"파일 없음: {edf_path} 또는 {marker_path}\")\n",
    "            continue\n",
    "\n",
    "        print(f\"처리 중: {edf_path.name}\")\n",
    "\n",
    "        # 1. EDF 파일 로드\n",
    "        raw = mne.io.read_raw_edf(str(edf_path), preload=True)\n",
    "        \n",
    "\n",
    "        # 2. 채널 설정 등 전처리 \n",
    "        eeg_channels = ['AF3', 'F7', 'F3', 'FC5', 'T7', 'P7', 'O1', 'O2', 'P8', 'T8', 'FC6', 'F4', 'F8', 'AF4']\n",
    "        raw.pick_channels(eeg_channels)\n",
    "        montage = mne.channels.make_standard_montage('standard_1020')\n",
    "        raw.set_montage(montage, match_case=False)\n",
    "\n",
    "        \n",
    "        raw.filter(l_freq=1, h_freq=40)\n",
    "        raw.notch_filter(freqs=60)\n",
    "        raw.set_eeg_reference('average')\n",
    "\n",
    "        # epochs 생성 \n",
    "        events = mne.make_fixed_length_events(raw, duration=3.0)\n",
    "        epochs = mne.Epochs(\n",
    "            raw, events,\n",
    "            tmin=0, tmax=3.0-1/raw.info['sfreq'],\n",
    "            baseline=None,\n",
    "            preload=True\n",
    "        )\n",
    "\n",
    "        # AutoReject으로 bad channel과 bad epoch 동시 처리\n",
    "        ar = AutoReject(random_state=42)\n",
    "        epochs_clean = ar.fit_transform(epochs)\n",
    "\n",
    "        ica = ICA(n_components=None, random_state=42)\n",
    "        ica.fit(raw)\n",
    "\n",
    "        # ICA 성분 자동 분류\n",
    "        ic_labels = label_components(raw, ica, method='iclabel')\n",
    "\n",
    "        # 뇌파가 아닌 성분들 자동 제거\n",
    "        labels = ic_labels['labels']\n",
    "        exclude_idx = [idx for idx, label in enumerate(labels) \n",
    "                       if label in ['eye blink', 'muscle artifact', 'heart beat']]\n",
    "\n",
    "        ica.exclude = exclude_idx\n",
    "        ica.apply(raw)\n",
    "        print(f\"자동 제거될 성분: {exclude_idx}\")\n",
    "\n",
    "        # 3. 마커 파일 로드 및 세그먼트 분할\n",
    "        def load_and_segment_nback_data(raw, marker_file):\n",
    "            markers_df = pd.read_csv(marker_file)\n",
    "\n",
    "            task_starts = markers_df[markers_df['type'] == 'task_start']['latency'].values\n",
    "            task_ends = markers_df[markers_df['type'] == 'task__end']['latency'].values\n",
    "\n",
    "            segments = {'0back': None, 'rest': [], '2back': None, '3back': None}\n",
    "            zero_back_end_idx = np.where(task_starts < task_ends[0])[0][-1]\n",
    "            segments['0back'] = raw.copy().crop(tmin=task_starts[0], tmax=task_ends[0])\n",
    "\n",
    "            rest_start = task_ends[0]\n",
    "            rest_end = task_starts[zero_back_end_idx + 1]\n",
    "            segments['rest'].append(raw.copy().crop(tmin=rest_start, tmax=rest_end))\n",
    "            two_back_end_idx = np.where(task_starts < task_ends[1])[0][-1]\n",
    "            segments['2back'] = raw.copy().crop(tmin=task_starts[zero_back_end_idx + 1], tmax=task_ends[1])\n",
    "\n",
    "            rest_start = task_ends[1]\n",
    "            rest_end = task_starts[two_back_end_idx + 1]\n",
    "            segments['rest'].append(raw.copy().crop(tmin=rest_start, tmax=rest_end))\n",
    "            three_back_end_idx = np.where(task_starts < task_ends[2])[0][-1]\n",
    "            segments['3back'] = raw.copy().crop(tmin=task_starts[two_back_end_idx + 1], tmax=task_ends[2])\n",
    "            rest_start = task_ends[2]\n",
    "\n",
    "            if len(task_starts) > three_back_end_idx + 1:\n",
    "                rest_end = task_starts[three_back_end_idx + 1]\n",
    "            else:\n",
    "                rest_end = raw.times[-1]\n",
    "            segments['rest'].append(raw.copy().crop(tmin=rest_start, tmax=rest_end))\n",
    "\n",
    "            return segments\n",
    "\n",
    "        segments = load_and_segment_nback_data(raw, marker_path)\n",
    "\n",
    "        # 4. ERDS 계산 (예시: theta, alpha 밴드)\n",
    "        def calculate_erds_with_psd(task_raw, rest_raw, fmin, fmax, channels):\n",
    "            task_data = task_raw.copy().pick(channels)\n",
    "            rest_data = rest_raw.copy().pick(channels)\n",
    "            task_psd = task_data.compute_psd(fmin=fmin, fmax=fmax, n_fft=1024, n_overlap=512)\n",
    "            rest_psd = rest_data.compute_psd(fmin=fmin, fmax=fmax, n_fft=1024, n_overlap=512)\n",
    "            freq_mask = (task_psd.freqs >= fmin) & (task_psd.freqs <= fmax)\n",
    "            task_power = task_psd.get_data()[:, freq_mask].mean(axis=1)\n",
    "            rest_power = rest_psd.get_data()[:, freq_mask].mean(axis=1)\n",
    "            erds = (rest_power - task_power) / rest_power * 100\n",
    "            return erds\n",
    "\n",
    "        # 5. 수정된 Alpha/Theta 비율 계산 함수\n",
    "        def calculate_region_specific_alpha_theta_ratio(raw_data, theta_channels, alpha_channels):\n",
    "            \"\"\"\n",
    "            특정 영역별 채널들에서 alpha/theta 비율 계산\n",
    "            theta_channels: 전두엽 채널들 (AF3, AF4, F3, F4, F7, F8)\n",
    "            alpha_channels: 두정엽 채널들 (P7, P8)\n",
    "            \"\"\"\n",
    "            # Theta 파워 계산 (전두엽 채널들에서)\n",
    "            theta_data = raw_data.copy().pick(theta_channels)\n",
    "            theta_psd = theta_data.compute_psd(fmin=4, fmax=7, n_fft=1024, n_overlap=512)\n",
    "            theta_mask = (theta_psd.freqs >= 4) & (theta_psd.freqs <= 7)\n",
    "            theta_power_per_channel = theta_psd.get_data()[:, theta_mask].mean(axis=1)\n",
    "            # 전두엽 채널들의 평균 theta 파워\n",
    "            theta_power = np.mean(theta_power_per_channel)\n",
    "            \n",
    "            # Alpha 파워 계산 (두정엽 채널들에서)\n",
    "            alpha_data = raw_data.copy().pick(alpha_channels)\n",
    "            alpha_psd = alpha_data.compute_psd(fmin=8, fmax=13, n_fft=1024, n_overlap=512)\n",
    "            alpha_mask = (alpha_psd.freqs >= 8) & (alpha_psd.freqs <= 13)\n",
    "            alpha_power_per_channel = alpha_psd.get_data()[:, alpha_mask].mean(axis=1)\n",
    "            # 두정엽 채널들의 평균 alpha 파워\n",
    "            alpha_power = np.mean(alpha_power_per_channel)\n",
    "            \n",
    "            # Alpha/Theta 비율 계산\n",
    "            ratio = alpha_power / theta_power\n",
    "            return ratio, alpha_power, theta_power\n",
    "\n",
    "        freq_bands = {'theta': (4, 7), 'alpha': (8, 13)}\n",
    "        channel_groups = {'theta': ['F3', 'F4'], 'alpha': ['P7', 'P8']}\n",
    "        \n",
    "        # Alpha/Theta 비율 계산을 위한 채널 그룹 정의\n",
    "        theta_channels = ['AF3', 'AF4', 'F3', 'F4', 'F7', 'F8']  # 전두엽\n",
    "        alpha_channels = ['P7', 'P8']  # 두정엽\n",
    "        \n",
    "        conditions = [\n",
    "            ('0back', 0), ('2back', 1), ('3back', 2)\n",
    "        ]\n",
    "\n",
    "        # rest1만 기준으로 ERDS 계산\n",
    "        rest1 = segments['rest'][0]  # 첫 번째 rest 구간만 사용\n",
    "\n",
    "        # ERDS 계산 (기존 코드)\n",
    "        for band, (fmin, fmax) in freq_bands.items():\n",
    "            for cond in ['0back', '2back', '3back']:\n",
    "                if segments[cond] is not None and rest1 is not None:\n",
    "                    erds = calculate_erds_with_psd(\n",
    "                        segments[cond], rest1, fmin, fmax, channel_groups[band]\n",
    "                    )\n",
    "                    for ch, val in zip(channel_groups[band], erds):\n",
    "                        all_results.append({\n",
    "                            'name': name,\n",
    "                            'session': session,\n",
    "                            'condition': cond,\n",
    "                            'band': band,\n",
    "                            'channel': ch,\n",
    "                            'erds': val\n",
    "                        })\n",
    "\n",
    "        # 수정된 Alpha/Theta 비율 계산\n",
    "        # Baseline (rest) 비율 계산\n",
    "        if rest1 is not None:\n",
    "            rest_ratio, rest_alpha, rest_theta = calculate_region_specific_alpha_theta_ratio(\n",
    "                rest1, theta_channels, alpha_channels\n",
    "            )\n",
    "            all_ratio_results.append({\n",
    "                'name': name,\n",
    "                'session': session,\n",
    "                'condition': 'rest',\n",
    "                'alpha_theta_ratio': rest_ratio,\n",
    "                'alpha_power': rest_alpha,\n",
    "                'theta_power': rest_theta,\n",
    "                'theta_region': 'frontal',  # AF3, AF4, F3, F4, F7, F8\n",
    "                'alpha_region': 'parietal'  # P7, P8\n",
    "            })\n",
    "\n",
    "        # Task 조건별 비율 계산\n",
    "        for cond in ['0back', '2back', '3back']:\n",
    "            if segments[cond] is not None:\n",
    "                task_ratio, task_alpha, task_theta = calculate_region_specific_alpha_theta_ratio(\n",
    "                    segments[cond], theta_channels, alpha_channels\n",
    "                )\n",
    "                all_ratio_results.append({\n",
    "                    'name': name,\n",
    "                    'session': session,\n",
    "                    'condition': cond,\n",
    "                    'alpha_theta_ratio': task_ratio,\n",
    "                    'alpha_power': task_alpha,\n",
    "                    'theta_power': task_theta,\n",
    "                    'theta_region': 'frontal',  # AF3, AF4, F3, F4, F7, F8\n",
    "                    'alpha_region': 'parietal'  # P7, P8\n",
    "                })\n",
    "\n",
    "# 결과를 데이터프레임으로 저장\n",
    "df = pd.DataFrame(all_results)\n",
    "df_ratio = pd.DataFrame(all_ratio_results)\n",
    "\n",
    "df.to_csv('all_subjects_erds_results.csv', index=False)\n",
    "df_ratio.to_csv('all_subjects_region_specific_alpha_theta_ratio_results.csv', index=False)\n",
    "\n",
    "print(\"모든 사용자/세션에 대한 ERDS 결과가 all_subjects_erds_results.csv에 저장되었습니다.\")\n",
    "print(\"모든 사용자/세션에 대한 영역별 Alpha/Theta 비율 결과가 all_subjects_region_specific_alpha_theta_ratio_results.csv에 저장되었습니다.\")\n",
    "\n",
    "# 세션별 평균 계산 및 그래프 그리기\n",
    "conditions_list = ['0back', '2back', '3back']\n",
    "ratio_conditions_list = ['rest', '0back', '2back', '3back']\n",
    "bands = ['theta', 'alpha']\n",
    "channels_dict = {'theta': ['F3', 'F4'], 'alpha': ['P7', 'P8']}\n",
    "\n",
    "# 그래프 저장을 위한 디렉토리 생성 (선택사항)\n",
    "import os\n",
    "os.makedirs('plots', exist_ok=True)\n",
    "\n",
    "# 1. 기존 ERDS 그래프\n",
    "for name in df['name'].unique():\n",
    "    user_df = df[df['name'] == name]\n",
    "    \n",
    "    for band in bands:\n",
    "        plt.figure(figsize=(10, 6))\n",
    "        \n",
    "        for ch in channels_dict[band]:\n",
    "            y_values = []\n",
    "            std_values = []\n",
    "            \n",
    "            for cond in conditions_list:\n",
    "                session_values = user_df[\n",
    "                    (user_df['band'] == band) & \n",
    "                    (user_df['channel'] == ch) & \n",
    "                    (user_df['condition'] == cond)\n",
    "                ]['erds'].values\n",
    "                \n",
    "                if len(session_values) > 0:\n",
    "                    mean_val = np.mean(session_values)\n",
    "                    std_val = np.std(session_values)\n",
    "                    y_values.append(mean_val)\n",
    "                    std_values.append(std_val)\n",
    "                else:\n",
    "                    y_values.append(np.nan)\n",
    "                    std_values.append(0)\n",
    "            \n",
    "            plt.errorbar(conditions_list, y_values, yerr=std_values, \n",
    "                        marker='o', linewidth=2, markersize=8, \n",
    "                        capsize=5, capthick=2, label=f'{ch} (n={len(sessions)})')\n",
    "        \n",
    "        plt.title(f\"{name} - {band.capitalize()} Band ERDS (Session Average)\", \n",
    "                 fontsize=14, fontweight='bold')\n",
    "        plt.xlabel(\"Condition\", fontsize=12)\n",
    "        plt.ylabel(\"ERDS (%)\", fontsize=12)\n",
    "        plt.ylim(-100, 100)\n",
    "        plt.axhline(y=0, color='black', linestyle='--', alpha=0.5)\n",
    "        plt.legend(fontsize=10)\n",
    "        plt.grid(True, alpha=0.3)\n",
    "        plt.tight_layout()\n",
    "        \n",
    "        filename = f\"plots/{name}_{band}_erds_session_average.png\"\n",
    "        plt.savefig(filename, dpi=300, bbox_inches='tight')\n",
    "        print(f\"그래프 저장됨: {filename}\")\n",
    "        \n",
    "        plt.show()\n",
    "\n",
    "# 2. 수정된 Alpha/Theta 비율 그래프 (영역별)\n",
    "for name in df_ratio['name'].unique():\n",
    "    user_ratio_df = df_ratio[df_ratio['name'] == name]\n",
    "    \n",
    "    plt.figure(figsize=(10, 6))\n",
    "    \n",
    "    y_values = []\n",
    "    std_values = []\n",
    "    \n",
    "    for cond in ratio_conditions_list:\n",
    "        session_values = user_ratio_df[\n",
    "            user_ratio_df['condition'] == cond\n",
    "        ]['alpha_theta_ratio'].values\n",
    "        \n",
    "        if len(session_values) > 0:\n",
    "            mean_val = np.mean(session_values)\n",
    "            std_val = np.std(session_values)\n",
    "            y_values.append(mean_val)\n",
    "            std_values.append(std_val)\n",
    "        else:\n",
    "            y_values.append(np.nan)\n",
    "            std_values.append(0)\n",
    "    \n",
    "    plt.errorbar(ratio_conditions_list, y_values, yerr=std_values, \n",
    "                marker='o', linewidth=3, markersize=10, \n",
    "                capsize=8, capthick=3, color='purple')\n",
    "    \n",
    "    plt.title(f\"{name} - Alpha(P7,P8)/Theta(AF3,AF4,F3,F4,F7,F8) Ratio\", \n",
    "             fontsize=14, fontweight='bold')\n",
    "    plt.xlabel(\"Condition\", fontsize=12)\n",
    "    plt.ylabel(\"Alpha/Theta Ratio\", fontsize=12)\n",
    "    plt.xticks(rotation=45)\n",
    "    plt.grid(True, alpha=0.3)\n",
    "    plt.tight_layout()\n",
    "    \n",
    "    filename = f\"plots/{name}_region_specific_alpha_theta_ratio.png\"\n",
    "    plt.savefig(filename, dpi=300, bbox_inches='tight')\n",
    "    print(f\"영역별 Alpha/Theta 비율 그래프 저장됨: {filename}\")\n",
    "    \n",
    "    plt.show()\n",
    "\n",
    "# 3. 모든 사용자의 Alpha/Theta 비율 비교 그래프\n",
    "plt.figure(figsize=(12, 8))\n",
    "\n",
    "for name in df_ratio['name'].unique():\n",
    "    user_ratio_df = df_ratio[df_ratio['name'] == name]\n",
    "    \n",
    "    y_values = []\n",
    "    \n",
    "    for cond in ratio_conditions_list:\n",
    "        session_values = user_ratio_df[\n",
    "            user_ratio_df['condition'] == cond\n",
    "        ]['alpha_theta_ratio'].values\n",
    "        \n",
    "        if len(session_values) > 0:\n",
    "            mean_val = np.mean(session_values)\n",
    "            y_values.append(mean_val)\n",
    "        else:\n",
    "            y_values.append(np.nan)\n",
    "    \n",
    "    plt.plot(ratio_conditions_list, y_values, \n",
    "             marker='o', linewidth=2, markersize=8, \n",
    "             label=name)\n",
    "\n",
    "plt.title(\"All Subjects - Alpha(P7,P8)/Theta(AF3,AF4,F3,F4,F7,F8) Ratio Comparison\", \n",
    "         fontsize=16, fontweight='bold')\n",
    "plt.xlabel(\"Condition\", fontsize=12)\n",
    "plt.ylabel(\"Alpha/Theta Ratio\", fontsize=12)\n",
    "plt.xticks(rotation=45)\n",
    "plt.legend(fontsize=10)\n",
    "plt.grid(True, alpha=0.3)\n",
    "plt.tight_layout()\n",
    "\n",
    "filename = \"plots/all_subjects_region_specific_alpha_theta_ratio_comparison.png\"\n",
    "plt.savefig(filename, dpi=300, bbox_inches='tight')\n",
    "print(f\"전체 사용자 비교 그래프 저장됨: {filename}\")\n",
    "plt.show()\n",
    "\n",
    "# 세션별 상세 데이터 요약 출력\n",
    "print(\"\\n=== 세션별 ERDS 요약 ===\")\n",
    "for name in df['name'].unique():\n",
    "    print(f\"\\n사용자: {name}\")\n",
    "    user_df = df[df['name'] == name]\n",
    "    \n",
    "    for band in bands:\n",
    "        print(f\"\\n  {band.capitalize()} Band:\")\n",
    "        for ch in channels_dict[band]:\n",
    "            print(f\"    {ch}:\")\n",
    "            for cond in conditions_list:\n",
    "                session_values = user_df[\n",
    "                    (user_df['band'] == band) & \n",
    "                    (user_df['channel'] == ch) & \n",
    "                    (user_df['condition'] == cond)\n",
    "                ]['erds'].values\n",
    "                \n",
    "                if len(session_values) > 0:\n",
    "                    mean_val = np.mean(session_values)\n",
    "                    std_val = np.std(session_values)\n",
    "                    print(f\"      {cond}: {mean_val:.2f} ± {std_val:.2f} % (n={len(session_values)})\")\n",
    "                else:\n",
    "                    print(f\"      {cond}: 데이터 없음\")\n",
    "\n",
    "# 영역별 Alpha/Theta 비율 요약 출력\n",
    "print(\"\\n=== 영역별 Alpha/Theta 비율 요약 ===\")\n",
    "print(\"Theta: 전두엽 (AF3, AF4, F3, F4, F7, F8)\")\n",
    "print(\"Alpha: 두정엽 (P7, P8)\")\n",
    "\n",
    "for name in df_ratio['name'].unique():\n",
    "    print(f\"\\n사용자: {name}\")\n",
    "    user_ratio_df = df_ratio[df_ratio['name'] == name]\n",
    "    \n",
    "    for cond in ratio_conditions_list:\n",
    "        session_values = user_ratio_df[\n",
    "            user_ratio_df['condition'] == cond\n",
    "        ]['alpha_theta_ratio'].values\n",
    "        \n",
    "        alpha_values = user_ratio_df[\n",
    "            user_ratio_df['condition'] == cond\n",
    "        ]['alpha_power'].values\n",
    "        \n",
    "        theta_values = user_ratio_df[\n",
    "            user_ratio_df['condition'] == cond\n",
    "        ]['theta_power'].values\n",
    "        \n",
    "        if len(session_values) > 0:\n",
    "            ratio_mean = np.mean(session_values)\n",
    "            ratio_std = np.std(session_values)\n",
    "            alpha_mean = np.mean(alpha_values)\n",
    "            theta_mean = np.mean(theta_values)\n",
    "            print(f\"  {cond}: \")\n",
    "            print(f\"    Alpha/Theta 비율: {ratio_mean:.3f} ± {ratio_std:.3f}\")\n",
    "            print(f\"    Alpha 파워 (P7,P8): {alpha_mean:.6f}\")\n",
    "            print(f\"    Theta 파워 (전두엽): {theta_mean:.6f}\")\n",
    "            print(f\"    세션 수: {len(session_values)}\")\n",
    "        else:\n",
    "            print(f\"  {cond}: 데이터 없음\")"
   ]
  },
  {
   "cell_type": "code",
   "execution_count": 3,
   "metadata": {},
   "outputs": [
    {
     "name": "stdout",
     "output_type": "stream",
     "text": [
      "처리 중: cho_nback_1.edf\n",
      "Extracting EDF parameters from c:\\Users\\uiseong\\OneDrive\\바탕 화면\\eeg\\EEG_cognitive_load\\EEG_nback_task\\cho_nback_1.edf...\n",
      "EDF file detected\n",
      "Setting channel info structure...\n",
      "Creating raw.info structure...\n",
      "Reading 0 ... 29695  =      0.000 ...   231.992 secs...\n",
      "NOTE: pick_channels() is a legacy function. New code should use inst.pick(...).\n",
      "Filtering raw data in 1 contiguous segment\n",
      "Setting up band-pass filter from 1 - 40 Hz\n",
      "\n",
      "FIR filter parameters\n",
      "---------------------\n",
      "Designing a one-pass, zero-phase, non-causal bandpass filter:\n",
      "- Windowed time-domain design (firwin) method\n",
      "- Hamming window with 0.0194 passband ripple and 53 dB stopband attenuation\n",
      "- Lower passband edge: 1.00\n",
      "- Lower transition bandwidth: 1.00 Hz (-6 dB cutoff frequency: 0.50 Hz)\n",
      "- Upper passband edge: 40.00 Hz\n",
      "- Upper transition bandwidth: 10.00 Hz (-6 dB cutoff frequency: 45.00 Hz)\n",
      "- Filter length: 423 samples (3.305 s)\n",
      "\n",
      "Filtering raw data in 1 contiguous segment\n",
      "Setting up band-stop filter from 59 - 61 Hz\n",
      "\n",
      "FIR filter parameters\n",
      "---------------------\n",
      "Designing a one-pass, zero-phase, non-causal bandstop filter:\n",
      "- Windowed time-domain design (firwin) method\n",
      "- Hamming window with 0.0194 passband ripple and 53 dB stopband attenuation\n",
      "- Lower passband edge: 59.35\n",
      "- Lower transition bandwidth: 0.50 Hz (-6 dB cutoff frequency: 59.10 Hz)\n",
      "- Upper passband edge: 60.65 Hz\n",
      "- Upper transition bandwidth: 0.50 Hz (-6 dB cutoff frequency: 60.90 Hz)\n",
      "- Filter length: 845 samples (6.602 s)\n",
      "\n",
      "EEG channel type selected for re-referencing\n",
      "Applying average reference.\n",
      "Applying a custom ('EEG',) reference.\n",
      "Not setting metadata\n",
      "77 matching events found\n",
      "No baseline correction applied\n",
      "0 projection items activated\n",
      "Using data from preloaded Raw for 77 events and 384 original time points ...\n",
      "0 bad epochs dropped\n",
      "Running autoreject on ch_type=eeg\n"
     ]
    },
    {
     "data": {
      "application/vnd.jupyter.widget-view+json": {
       "model_id": "e2ae261333234df0be90721ad698cb69",
       "version_major": 2,
       "version_minor": 0
      },
      "text/plain": [
       "  0%|          | Creating augmented epochs : 0/14 [00:00<?,       ?it/s]"
      ]
     },
     "metadata": {},
     "output_type": "display_data"
    },
    {
     "data": {
      "application/vnd.jupyter.widget-view+json": {
       "model_id": "7b59f25638114f8fb3e30995bb482d67",
       "version_major": 2,
       "version_minor": 0
      },
      "text/plain": [
       "  0%|          | Computing thresholds ... : 0/14 [00:00<?,       ?it/s]"
      ]
     },
     "metadata": {},
     "output_type": "display_data"
    },
    {
     "data": {
      "application/vnd.jupyter.widget-view+json": {
       "model_id": "d5ad77a3694f45ad849df50592d532f6",
       "version_major": 2,
       "version_minor": 0
      },
      "text/plain": [
       "  0%|          | Repairing epochs : 0/77 [00:00<?,       ?it/s]"
      ]
     },
     "metadata": {},
     "output_type": "display_data"
    },
    {
     "data": {
      "application/vnd.jupyter.widget-view+json": {
       "model_id": "9dce7c99451c492aa8dff973d880df15",
       "version_major": 2,
       "version_minor": 0
      },
      "text/plain": [
       "  0%|          | n_interp : 0/3 [00:00<?,       ?it/s]"
      ]
     },
     "metadata": {},
     "output_type": "display_data"
    },
    {
     "data": {
      "application/vnd.jupyter.widget-view+json": {
       "model_id": "ebe90ff10af346db8bccca2bf3f6eb48",
       "version_major": 2,
       "version_minor": 0
      },
      "text/plain": [
       "  0%|          | Repairing epochs : 0/77 [00:00<?,       ?it/s]"
      ]
     },
     "metadata": {},
     "output_type": "display_data"
    },
    {
     "data": {
      "application/vnd.jupyter.widget-view+json": {
       "model_id": "4b8616082b164d819b881c67fc1783c8",
       "version_major": 2,
       "version_minor": 0
      },
      "text/plain": [
       "  0%|          | Fold : 0/10 [00:00<?,       ?it/s]"
      ]
     },
     "metadata": {},
     "output_type": "display_data"
    },
    {
     "data": {
      "application/vnd.jupyter.widget-view+json": {
       "model_id": "dbdfae4301264f029777c5d7c8b16a4f",
       "version_major": 2,
       "version_minor": 0
      },
      "text/plain": [
       "  0%|          | Repairing epochs : 0/77 [00:00<?,       ?it/s]"
      ]
     },
     "metadata": {},
     "output_type": "display_data"
    },
    {
     "data": {
      "application/vnd.jupyter.widget-view+json": {
       "model_id": "ed1e14e739c544afb6282bf046669398",
       "version_major": 2,
       "version_minor": 0
      },
      "text/plain": [
       "  0%|          | Fold : 0/10 [00:00<?,       ?it/s]"
      ]
     },
     "metadata": {},
     "output_type": "display_data"
    },
    {
     "data": {
      "application/vnd.jupyter.widget-view+json": {
       "model_id": "43d3645f243444639e67111cbff71915",
       "version_major": 2,
       "version_minor": 0
      },
      "text/plain": [
       "  0%|          | Repairing epochs : 0/77 [00:00<?,       ?it/s]"
      ]
     },
     "metadata": {},
     "output_type": "display_data"
    },
    {
     "name": "stderr",
     "output_type": "stream",
     "text": [
      "c:\\Users\\uiseong\\anaconda3\\envs\\mne\\Lib\\site-packages\\mne\\bem.py:1115: RuntimeWarning: Mean of empty slice.\n",
      "  radius_init = radii.mean()\n",
      "c:\\Users\\uiseong\\anaconda3\\envs\\mne\\Lib\\site-packages\\numpy\\core\\_methods.py:129: RuntimeWarning: invalid value encountered in scalar divide\n",
      "  ret = ret.dtype.type(ret / rcount)\n",
      "c:\\Users\\uiseong\\anaconda3\\envs\\mne\\Lib\\site-packages\\numpy\\core\\fromnumeric.py:3504: RuntimeWarning: Mean of empty slice.\n",
      "  return _methods._mean(a, axis=axis, dtype=dtype,\n",
      "c:\\Users\\uiseong\\anaconda3\\envs\\mne\\Lib\\site-packages\\numpy\\core\\_methods.py:121: RuntimeWarning: invalid value encountered in divide\n",
      "  ret = um.true_divide(\n"
     ]
    },
    {
     "data": {
      "application/vnd.jupyter.widget-view+json": {
       "model_id": "c0bf403282984665ae4c80e269c4c25f",
       "version_major": 2,
       "version_minor": 0
      },
      "text/plain": [
       "  0%|          | Fold : 0/10 [00:00<?,       ?it/s]"
      ]
     },
     "metadata": {},
     "output_type": "display_data"
    },
    {
     "name": "stdout",
     "output_type": "stream",
     "text": [
      "\n",
      "\n",
      "\n",
      "\n",
      "Estimated consensus=0.50 and n_interpolate=4\n"
     ]
    },
    {
     "data": {
      "application/vnd.jupyter.widget-view+json": {
       "model_id": "47c8b40a6dcf43edb6a5b6882c7d1279",
       "version_major": 2,
       "version_minor": 0
      },
      "text/plain": [
       "  0%|          | Repairing epochs : 0/77 [00:00<?,       ?it/s]"
      ]
     },
     "metadata": {},
     "output_type": "display_data"
    },
    {
     "name": "stdout",
     "output_type": "stream",
     "text": [
      "Dropped 52 epochs: 5, 6, 7, 8, 9, 10, 12, 15, 28, 30, 31, 32, 33, 34, 37, 38, 39, 40, 41, 42, 43, 44, 45, 46, 47, 48, 49, 50, 51, 52, 53, 54, 55, 56, 57, 58, 59, 60, 61, 62, 63, 64, 65, 66, 67, 68, 70, 72, 73, 74, 75, 76\n",
      "Fitting ICA to data using 14 channels (please be patient, this may take a while)\n",
      "Selecting by non-zero PCA components: 13 components\n",
      "Fitting ICA took 0.3s.\n"
     ]
    },
    {
     "name": "stderr",
     "output_type": "stream",
     "text": [
      "C:\\Users\\uiseong\\AppData\\Local\\Temp\\ipykernel_21640\\2351929479.py:53: RuntimeWarning: The provided Raw instance is not filtered between 1 and 100 Hz. ICLabel was designed to classify features extracted from an EEG dataset bandpass filtered between 1 and 100 Hz (see the 'filter()' method for Raw and Epochs instances).\n",
      "  ic_labels = label_components(raw, ica, method='iclabel')\n",
      "C:\\Users\\uiseong\\AppData\\Local\\Temp\\ipykernel_21640\\2351929479.py:53: RuntimeWarning: The provided ICA instance was fitted with a 'fastica' algorithm. ICLabel was designed with extended infomax ICA decompositions. To use the extended infomax algorithm, use the 'mne.preprocessing.ICA' instance with the arguments 'ICA(method='infomax', fit_params=dict(extended=True))' (scikit-learn) or 'ICA(method='picard', fit_params=dict(ortho=False, extended=True))' (python-picard).\n",
      "  ic_labels = label_components(raw, ica, method='iclabel')\n"
     ]
    },
    {
     "name": "stdout",
     "output_type": "stream",
     "text": [
      "Applying ICA to Raw instance\n",
      "    Transforming to ICA space (13 components)\n",
      "    Zeroing out 4 ICA components\n",
      "    Projecting back using 14 PCA components\n",
      "자동 제거될 성분: [0, 1, 3, 12]\n",
      "Effective window size : 8.000 (s)\n",
      "Effective window size : 8.000 (s)\n",
      "Effective window size : 8.000 (s)\n",
      "Effective window size : 8.000 (s)\n",
      "Effective window size : 8.000 (s)\n",
      "Effective window size : 8.000 (s)\n",
      "Effective window size : 8.000 (s)\n",
      "Effective window size : 8.000 (s)\n",
      "Effective window size : 8.000 (s)\n",
      "Effective window size : 8.000 (s)\n",
      "Effective window size : 8.000 (s)\n",
      "Effective window size : 8.000 (s)\n",
      "처리 중: cho_nback_2.edf\n",
      "Extracting EDF parameters from c:\\Users\\uiseong\\OneDrive\\바탕 화면\\eeg\\EEG_cognitive_load\\EEG_nback_task\\cho_nback_2.edf...\n",
      "EDF file detected\n",
      "Setting channel info structure...\n",
      "Creating raw.info structure...\n",
      "Reading 0 ... 25727  =      0.000 ...   200.992 secs...\n",
      "NOTE: pick_channels() is a legacy function. New code should use inst.pick(...).\n",
      "Filtering raw data in 1 contiguous segment\n",
      "Setting up band-pass filter from 1 - 40 Hz\n",
      "\n",
      "FIR filter parameters\n",
      "---------------------\n",
      "Designing a one-pass, zero-phase, non-causal bandpass filter:\n",
      "- Windowed time-domain design (firwin) method\n",
      "- Hamming window with 0.0194 passband ripple and 53 dB stopband attenuation\n",
      "- Lower passband edge: 1.00\n",
      "- Lower transition bandwidth: 1.00 Hz (-6 dB cutoff frequency: 0.50 Hz)\n",
      "- Upper passband edge: 40.00 Hz\n",
      "- Upper transition bandwidth: 10.00 Hz (-6 dB cutoff frequency: 45.00 Hz)\n",
      "- Filter length: 423 samples (3.305 s)\n",
      "\n",
      "Filtering raw data in 1 contiguous segment\n",
      "Setting up band-stop filter from 59 - 61 Hz\n",
      "\n",
      "FIR filter parameters\n",
      "---------------------\n",
      "Designing a one-pass, zero-phase, non-causal bandstop filter:\n",
      "- Windowed time-domain design (firwin) method\n",
      "- Hamming window with 0.0194 passband ripple and 53 dB stopband attenuation\n",
      "- Lower passband edge: 59.35\n",
      "- Lower transition bandwidth: 0.50 Hz (-6 dB cutoff frequency: 59.10 Hz)\n",
      "- Upper passband edge: 60.65 Hz\n",
      "- Upper transition bandwidth: 0.50 Hz (-6 dB cutoff frequency: 60.90 Hz)\n",
      "- Filter length: 845 samples (6.602 s)\n",
      "\n",
      "EEG channel type selected for re-referencing\n",
      "Applying average reference.\n",
      "Applying a custom ('EEG',) reference.\n",
      "Not setting metadata\n",
      "67 matching events found\n",
      "No baseline correction applied\n",
      "0 projection items activated\n",
      "Using data from preloaded Raw for 67 events and 384 original time points ...\n",
      "0 bad epochs dropped\n",
      "Running autoreject on ch_type=eeg\n"
     ]
    },
    {
     "data": {
      "application/vnd.jupyter.widget-view+json": {
       "model_id": "d84991e4fb504e6abc168b8ed611c3b9",
       "version_major": 2,
       "version_minor": 0
      },
      "text/plain": [
       "  0%|          | Creating augmented epochs : 0/14 [00:00<?,       ?it/s]"
      ]
     },
     "metadata": {},
     "output_type": "display_data"
    },
    {
     "data": {
      "application/vnd.jupyter.widget-view+json": {
       "model_id": "95ab6ff305144faeb28010f5791ab93a",
       "version_major": 2,
       "version_minor": 0
      },
      "text/plain": [
       "  0%|          | Computing thresholds ... : 0/14 [00:00<?,       ?it/s]"
      ]
     },
     "metadata": {},
     "output_type": "display_data"
    },
    {
     "data": {
      "application/vnd.jupyter.widget-view+json": {
       "model_id": "a35a2f104c3d455582eba95dc20dccf0",
       "version_major": 2,
       "version_minor": 0
      },
      "text/plain": [
       "  0%|          | Repairing epochs : 0/67 [00:00<?,       ?it/s]"
      ]
     },
     "metadata": {},
     "output_type": "display_data"
    },
    {
     "data": {
      "application/vnd.jupyter.widget-view+json": {
       "model_id": "0733851f08b0466d8198a94e8e7a3ebf",
       "version_major": 2,
       "version_minor": 0
      },
      "text/plain": [
       "  0%|          | n_interp : 0/3 [00:00<?,       ?it/s]"
      ]
     },
     "metadata": {},
     "output_type": "display_data"
    },
    {
     "data": {
      "application/vnd.jupyter.widget-view+json": {
       "model_id": "1faa033341c741fa8f1a5ecc6558bec3",
       "version_major": 2,
       "version_minor": 0
      },
      "text/plain": [
       "  0%|          | Repairing epochs : 0/67 [00:00<?,       ?it/s]"
      ]
     },
     "metadata": {},
     "output_type": "display_data"
    },
    {
     "data": {
      "application/vnd.jupyter.widget-view+json": {
       "model_id": "0014585baadb4905a78069df4f430b47",
       "version_major": 2,
       "version_minor": 0
      },
      "text/plain": [
       "  0%|          | Fold : 0/10 [00:00<?,       ?it/s]"
      ]
     },
     "metadata": {},
     "output_type": "display_data"
    },
    {
     "data": {
      "application/vnd.jupyter.widget-view+json": {
       "model_id": "17f3f56c3ec4411fbc5e1223231e72ea",
       "version_major": 2,
       "version_minor": 0
      },
      "text/plain": [
       "  0%|          | Repairing epochs : 0/67 [00:00<?,       ?it/s]"
      ]
     },
     "metadata": {},
     "output_type": "display_data"
    },
    {
     "data": {
      "application/vnd.jupyter.widget-view+json": {
       "model_id": "20b8e56a04274951814d8e547f9be7ca",
       "version_major": 2,
       "version_minor": 0
      },
      "text/plain": [
       "  0%|          | Fold : 0/10 [00:00<?,       ?it/s]"
      ]
     },
     "metadata": {},
     "output_type": "display_data"
    },
    {
     "data": {
      "application/vnd.jupyter.widget-view+json": {
       "model_id": "7ddb601144f34faaac4250530623cb68",
       "version_major": 2,
       "version_minor": 0
      },
      "text/plain": [
       "  0%|          | Repairing epochs : 0/67 [00:00<?,       ?it/s]"
      ]
     },
     "metadata": {},
     "output_type": "display_data"
    },
    {
     "name": "stderr",
     "output_type": "stream",
     "text": [
      "c:\\Users\\uiseong\\anaconda3\\envs\\mne\\Lib\\site-packages\\mne\\bem.py:1115: RuntimeWarning: Mean of empty slice.\n",
      "  radius_init = radii.mean()\n",
      "c:\\Users\\uiseong\\anaconda3\\envs\\mne\\Lib\\site-packages\\numpy\\core\\_methods.py:129: RuntimeWarning: invalid value encountered in scalar divide\n",
      "  ret = ret.dtype.type(ret / rcount)\n",
      "c:\\Users\\uiseong\\anaconda3\\envs\\mne\\Lib\\site-packages\\numpy\\core\\fromnumeric.py:3504: RuntimeWarning: Mean of empty slice.\n",
      "  return _methods._mean(a, axis=axis, dtype=dtype,\n",
      "c:\\Users\\uiseong\\anaconda3\\envs\\mne\\Lib\\site-packages\\numpy\\core\\_methods.py:121: RuntimeWarning: invalid value encountered in divide\n",
      "  ret = um.true_divide(\n"
     ]
    },
    {
     "data": {
      "application/vnd.jupyter.widget-view+json": {
       "model_id": "ec99bc382c1b4c34b57c5f95a9662b68",
       "version_major": 2,
       "version_minor": 0
      },
      "text/plain": [
       "  0%|          | Fold : 0/10 [00:00<?,       ?it/s]"
      ]
     },
     "metadata": {},
     "output_type": "display_data"
    },
    {
     "name": "stdout",
     "output_type": "stream",
     "text": [
      "\n",
      "\n",
      "\n",
      "\n",
      "Estimated consensus=1.00 and n_interpolate=13\n"
     ]
    },
    {
     "data": {
      "application/vnd.jupyter.widget-view+json": {
       "model_id": "69b8e5ec34a14998b1d2c6cb4ebec246",
       "version_major": 2,
       "version_minor": 0
      },
      "text/plain": [
       "  0%|          | Repairing epochs : 0/67 [00:00<?,       ?it/s]"
      ]
     },
     "metadata": {},
     "output_type": "display_data"
    },
    {
     "name": "stdout",
     "output_type": "stream",
     "text": [
      "Dropped 1 epoch: 18\n",
      "Fitting ICA to data using 14 channels (please be patient, this may take a while)\n",
      "Selecting by non-zero PCA components: 13 components\n",
      "Fitting ICA took 0.1s.\n"
     ]
    },
    {
     "name": "stderr",
     "output_type": "stream",
     "text": [
      "C:\\Users\\uiseong\\AppData\\Local\\Temp\\ipykernel_21640\\2351929479.py:53: RuntimeWarning: The provided Raw instance is not filtered between 1 and 100 Hz. ICLabel was designed to classify features extracted from an EEG dataset bandpass filtered between 1 and 100 Hz (see the 'filter()' method for Raw and Epochs instances).\n",
      "  ic_labels = label_components(raw, ica, method='iclabel')\n",
      "C:\\Users\\uiseong\\AppData\\Local\\Temp\\ipykernel_21640\\2351929479.py:53: RuntimeWarning: The provided ICA instance was fitted with a 'fastica' algorithm. ICLabel was designed with extended infomax ICA decompositions. To use the extended infomax algorithm, use the 'mne.preprocessing.ICA' instance with the arguments 'ICA(method='infomax', fit_params=dict(extended=True))' (scikit-learn) or 'ICA(method='picard', fit_params=dict(ortho=False, extended=True))' (python-picard).\n",
      "  ic_labels = label_components(raw, ica, method='iclabel')\n"
     ]
    },
    {
     "name": "stdout",
     "output_type": "stream",
     "text": [
      "Applying ICA to Raw instance\n",
      "    Transforming to ICA space (13 components)\n",
      "    Zeroing out 3 ICA components\n",
      "    Projecting back using 14 PCA components\n",
      "자동 제거될 성분: [0, 1, 2]\n",
      "Effective window size : 8.000 (s)\n",
      "Effective window size : 8.000 (s)\n",
      "Effective window size : 8.000 (s)\n",
      "Effective window size : 8.000 (s)\n",
      "Effective window size : 8.000 (s)\n",
      "Effective window size : 8.000 (s)\n",
      "Effective window size : 8.000 (s)\n",
      "Effective window size : 8.000 (s)\n",
      "Effective window size : 8.000 (s)\n",
      "Effective window size : 8.000 (s)\n",
      "Effective window size : 8.000 (s)\n",
      "Effective window size : 8.000 (s)\n",
      "처리 중: cho_nback_3.edf\n",
      "Extracting EDF parameters from c:\\Users\\uiseong\\OneDrive\\바탕 화면\\eeg\\EEG_cognitive_load\\EEG_nback_task\\cho_nback_3.edf...\n",
      "EDF file detected\n",
      "Setting channel info structure...\n",
      "Creating raw.info structure...\n",
      "Reading 0 ... 24959  =      0.000 ...   194.992 secs...\n",
      "NOTE: pick_channels() is a legacy function. New code should use inst.pick(...).\n",
      "Filtering raw data in 1 contiguous segment\n",
      "Setting up band-pass filter from 1 - 40 Hz\n",
      "\n",
      "FIR filter parameters\n",
      "---------------------\n",
      "Designing a one-pass, zero-phase, non-causal bandpass filter:\n",
      "- Windowed time-domain design (firwin) method\n",
      "- Hamming window with 0.0194 passband ripple and 53 dB stopband attenuation\n",
      "- Lower passband edge: 1.00\n",
      "- Lower transition bandwidth: 1.00 Hz (-6 dB cutoff frequency: 0.50 Hz)\n",
      "- Upper passband edge: 40.00 Hz\n",
      "- Upper transition bandwidth: 10.00 Hz (-6 dB cutoff frequency: 45.00 Hz)\n",
      "- Filter length: 423 samples (3.305 s)\n",
      "\n",
      "Filtering raw data in 1 contiguous segment\n",
      "Setting up band-stop filter from 59 - 61 Hz\n",
      "\n",
      "FIR filter parameters\n",
      "---------------------\n",
      "Designing a one-pass, zero-phase, non-causal bandstop filter:\n",
      "- Windowed time-domain design (firwin) method\n",
      "- Hamming window with 0.0194 passband ripple and 53 dB stopband attenuation\n",
      "- Lower passband edge: 59.35\n",
      "- Lower transition bandwidth: 0.50 Hz (-6 dB cutoff frequency: 59.10 Hz)\n",
      "- Upper passband edge: 60.65 Hz\n",
      "- Upper transition bandwidth: 0.50 Hz (-6 dB cutoff frequency: 60.90 Hz)\n",
      "- Filter length: 845 samples (6.602 s)\n",
      "\n",
      "EEG channel type selected for re-referencing\n",
      "Applying average reference.\n",
      "Applying a custom ('EEG',) reference.\n",
      "Not setting metadata\n",
      "65 matching events found\n",
      "No baseline correction applied\n",
      "0 projection items activated\n",
      "Using data from preloaded Raw for 65 events and 384 original time points ...\n",
      "0 bad epochs dropped\n",
      "Running autoreject on ch_type=eeg\n"
     ]
    },
    {
     "data": {
      "application/vnd.jupyter.widget-view+json": {
       "model_id": "93b482fc90fd4adfb106a1ab5445d511",
       "version_major": 2,
       "version_minor": 0
      },
      "text/plain": [
       "  0%|          | Creating augmented epochs : 0/14 [00:00<?,       ?it/s]"
      ]
     },
     "metadata": {},
     "output_type": "display_data"
    },
    {
     "data": {
      "application/vnd.jupyter.widget-view+json": {
       "model_id": "1b727b405fc44c4884f627213a5c6711",
       "version_major": 2,
       "version_minor": 0
      },
      "text/plain": [
       "  0%|          | Computing thresholds ... : 0/14 [00:00<?,       ?it/s]"
      ]
     },
     "metadata": {},
     "output_type": "display_data"
    },
    {
     "data": {
      "application/vnd.jupyter.widget-view+json": {
       "model_id": "6ae5491763484944b0b848c3c1fcaea4",
       "version_major": 2,
       "version_minor": 0
      },
      "text/plain": [
       "  0%|          | Repairing epochs : 0/65 [00:00<?,       ?it/s]"
      ]
     },
     "metadata": {},
     "output_type": "display_data"
    },
    {
     "data": {
      "application/vnd.jupyter.widget-view+json": {
       "model_id": "0ce8fccc55cf4320a51229b03ab0172d",
       "version_major": 2,
       "version_minor": 0
      },
      "text/plain": [
       "  0%|          | n_interp : 0/3 [00:00<?,       ?it/s]"
      ]
     },
     "metadata": {},
     "output_type": "display_data"
    },
    {
     "data": {
      "application/vnd.jupyter.widget-view+json": {
       "model_id": "06091453247d48ea992e319ca6721dd6",
       "version_major": 2,
       "version_minor": 0
      },
      "text/plain": [
       "  0%|          | Repairing epochs : 0/65 [00:00<?,       ?it/s]"
      ]
     },
     "metadata": {},
     "output_type": "display_data"
    },
    {
     "data": {
      "application/vnd.jupyter.widget-view+json": {
       "model_id": "62daddc4652b47978c5e8bdc47d6d509",
       "version_major": 2,
       "version_minor": 0
      },
      "text/plain": [
       "  0%|          | Fold : 0/10 [00:00<?,       ?it/s]"
      ]
     },
     "metadata": {},
     "output_type": "display_data"
    },
    {
     "data": {
      "application/vnd.jupyter.widget-view+json": {
       "model_id": "6f87a16d820945539aaf75ca3f88b957",
       "version_major": 2,
       "version_minor": 0
      },
      "text/plain": [
       "  0%|          | Repairing epochs : 0/65 [00:00<?,       ?it/s]"
      ]
     },
     "metadata": {},
     "output_type": "display_data"
    },
    {
     "data": {
      "application/vnd.jupyter.widget-view+json": {
       "model_id": "490c8075a9dc4fd6b05baecb7c63f79f",
       "version_major": 2,
       "version_minor": 0
      },
      "text/plain": [
       "  0%|          | Fold : 0/10 [00:00<?,       ?it/s]"
      ]
     },
     "metadata": {},
     "output_type": "display_data"
    },
    {
     "data": {
      "application/vnd.jupyter.widget-view+json": {
       "model_id": "445121a7f8564cc19eb25af9306c7b6a",
       "version_major": 2,
       "version_minor": 0
      },
      "text/plain": [
       "  0%|          | Repairing epochs : 0/65 [00:00<?,       ?it/s]"
      ]
     },
     "metadata": {},
     "output_type": "display_data"
    },
    {
     "name": "stderr",
     "output_type": "stream",
     "text": [
      "c:\\Users\\uiseong\\anaconda3\\envs\\mne\\Lib\\site-packages\\mne\\bem.py:1115: RuntimeWarning: Mean of empty slice.\n",
      "  radius_init = radii.mean()\n",
      "c:\\Users\\uiseong\\anaconda3\\envs\\mne\\Lib\\site-packages\\numpy\\core\\_methods.py:129: RuntimeWarning: invalid value encountered in scalar divide\n",
      "  ret = ret.dtype.type(ret / rcount)\n",
      "c:\\Users\\uiseong\\anaconda3\\envs\\mne\\Lib\\site-packages\\numpy\\core\\fromnumeric.py:3504: RuntimeWarning: Mean of empty slice.\n",
      "  return _methods._mean(a, axis=axis, dtype=dtype,\n",
      "c:\\Users\\uiseong\\anaconda3\\envs\\mne\\Lib\\site-packages\\numpy\\core\\_methods.py:121: RuntimeWarning: invalid value encountered in divide\n",
      "  ret = um.true_divide(\n"
     ]
    },
    {
     "data": {
      "application/vnd.jupyter.widget-view+json": {
       "model_id": "61db4696859040f3851f11cae2ff2070",
       "version_major": 2,
       "version_minor": 0
      },
      "text/plain": [
       "  0%|          | Fold : 0/10 [00:00<?,       ?it/s]"
      ]
     },
     "metadata": {},
     "output_type": "display_data"
    },
    {
     "name": "stdout",
     "output_type": "stream",
     "text": [
      "\n",
      "\n",
      "\n",
      "\n",
      "Estimated consensus=1.00 and n_interpolate=13\n"
     ]
    },
    {
     "data": {
      "application/vnd.jupyter.widget-view+json": {
       "model_id": "2c540561100f4ae7829ff8f3e7ab4701",
       "version_major": 2,
       "version_minor": 0
      },
      "text/plain": [
       "  0%|          | Repairing epochs : 0/65 [00:00<?,       ?it/s]"
      ]
     },
     "metadata": {},
     "output_type": "display_data"
    },
    {
     "name": "stdout",
     "output_type": "stream",
     "text": [
      "Dropped 1 epoch: 16\n",
      "Fitting ICA to data using 14 channels (please be patient, this may take a while)\n",
      "Selecting by non-zero PCA components: 13 components\n",
      "Fitting ICA took 0.1s.\n"
     ]
    },
    {
     "name": "stderr",
     "output_type": "stream",
     "text": [
      "C:\\Users\\uiseong\\AppData\\Local\\Temp\\ipykernel_21640\\2351929479.py:53: RuntimeWarning: The provided Raw instance is not filtered between 1 and 100 Hz. ICLabel was designed to classify features extracted from an EEG dataset bandpass filtered between 1 and 100 Hz (see the 'filter()' method for Raw and Epochs instances).\n",
      "  ic_labels = label_components(raw, ica, method='iclabel')\n",
      "C:\\Users\\uiseong\\AppData\\Local\\Temp\\ipykernel_21640\\2351929479.py:53: RuntimeWarning: The provided ICA instance was fitted with a 'fastica' algorithm. ICLabel was designed with extended infomax ICA decompositions. To use the extended infomax algorithm, use the 'mne.preprocessing.ICA' instance with the arguments 'ICA(method='infomax', fit_params=dict(extended=True))' (scikit-learn) or 'ICA(method='picard', fit_params=dict(ortho=False, extended=True))' (python-picard).\n",
      "  ic_labels = label_components(raw, ica, method='iclabel')\n"
     ]
    },
    {
     "name": "stdout",
     "output_type": "stream",
     "text": [
      "Applying ICA to Raw instance\n",
      "    Transforming to ICA space (13 components)\n",
      "    Zeroing out 3 ICA components\n",
      "    Projecting back using 14 PCA components\n",
      "자동 제거될 성분: [0, 1, 9]\n",
      "Effective window size : 8.000 (s)\n",
      "Effective window size : 8.000 (s)\n",
      "Effective window size : 8.000 (s)\n",
      "Effective window size : 8.000 (s)\n",
      "Effective window size : 8.000 (s)\n",
      "Effective window size : 8.000 (s)\n",
      "Effective window size : 8.000 (s)\n",
      "Effective window size : 8.000 (s)\n",
      "Effective window size : 8.000 (s)\n",
      "Effective window size : 8.000 (s)\n",
      "Effective window size : 8.000 (s)\n",
      "Effective window size : 8.000 (s)\n",
      "처리 중: taek_nback_1.edf\n",
      "Extracting EDF parameters from c:\\Users\\uiseong\\OneDrive\\바탕 화면\\eeg\\EEG_cognitive_load\\EEG_nback_task\\taek_nback_1.edf...\n",
      "EDF file detected\n",
      "Setting channel info structure...\n",
      "Creating raw.info structure...\n",
      "Reading 0 ... 27647  =      0.000 ...   215.992 secs...\n",
      "NOTE: pick_channels() is a legacy function. New code should use inst.pick(...).\n",
      "Filtering raw data in 1 contiguous segment\n",
      "Setting up band-pass filter from 1 - 40 Hz\n",
      "\n",
      "FIR filter parameters\n",
      "---------------------\n",
      "Designing a one-pass, zero-phase, non-causal bandpass filter:\n",
      "- Windowed time-domain design (firwin) method\n",
      "- Hamming window with 0.0194 passband ripple and 53 dB stopband attenuation\n",
      "- Lower passband edge: 1.00\n",
      "- Lower transition bandwidth: 1.00 Hz (-6 dB cutoff frequency: 0.50 Hz)\n",
      "- Upper passband edge: 40.00 Hz\n",
      "- Upper transition bandwidth: 10.00 Hz (-6 dB cutoff frequency: 45.00 Hz)\n",
      "- Filter length: 423 samples (3.305 s)\n",
      "\n",
      "Filtering raw data in 1 contiguous segment\n",
      "Setting up band-stop filter from 59 - 61 Hz\n",
      "\n",
      "FIR filter parameters\n",
      "---------------------\n",
      "Designing a one-pass, zero-phase, non-causal bandstop filter:\n",
      "- Windowed time-domain design (firwin) method\n",
      "- Hamming window with 0.0194 passband ripple and 53 dB stopband attenuation\n",
      "- Lower passband edge: 59.35\n",
      "- Lower transition bandwidth: 0.50 Hz (-6 dB cutoff frequency: 59.10 Hz)\n",
      "- Upper passband edge: 60.65 Hz\n",
      "- Upper transition bandwidth: 0.50 Hz (-6 dB cutoff frequency: 60.90 Hz)\n",
      "- Filter length: 845 samples (6.602 s)\n",
      "\n",
      "EEG channel type selected for re-referencing\n",
      "Applying average reference.\n",
      "Applying a custom ('EEG',) reference.\n",
      "Not setting metadata\n",
      "72 matching events found\n",
      "No baseline correction applied\n",
      "0 projection items activated\n",
      "Using data from preloaded Raw for 72 events and 384 original time points ...\n",
      "0 bad epochs dropped\n",
      "Running autoreject on ch_type=eeg\n"
     ]
    },
    {
     "data": {
      "application/vnd.jupyter.widget-view+json": {
       "model_id": "07be12d03455425cb9c629b14ec22a54",
       "version_major": 2,
       "version_minor": 0
      },
      "text/plain": [
       "  0%|          | Creating augmented epochs : 0/14 [00:00<?,       ?it/s]"
      ]
     },
     "metadata": {},
     "output_type": "display_data"
    },
    {
     "data": {
      "application/vnd.jupyter.widget-view+json": {
       "model_id": "c8428eafe2d244e7a82fd82d07f8eaf7",
       "version_major": 2,
       "version_minor": 0
      },
      "text/plain": [
       "  0%|          | Computing thresholds ... : 0/14 [00:00<?,       ?it/s]"
      ]
     },
     "metadata": {},
     "output_type": "display_data"
    },
    {
     "data": {
      "application/vnd.jupyter.widget-view+json": {
       "model_id": "d9249662b9144048b0052385da5a7d56",
       "version_major": 2,
       "version_minor": 0
      },
      "text/plain": [
       "  0%|          | Repairing epochs : 0/72 [00:00<?,       ?it/s]"
      ]
     },
     "metadata": {},
     "output_type": "display_data"
    },
    {
     "data": {
      "application/vnd.jupyter.widget-view+json": {
       "model_id": "e39a6ac88cfc4edcb7d906e531403644",
       "version_major": 2,
       "version_minor": 0
      },
      "text/plain": [
       "  0%|          | n_interp : 0/3 [00:00<?,       ?it/s]"
      ]
     },
     "metadata": {},
     "output_type": "display_data"
    },
    {
     "data": {
      "application/vnd.jupyter.widget-view+json": {
       "model_id": "95450fe5267f454a83ae1b38ef47cd97",
       "version_major": 2,
       "version_minor": 0
      },
      "text/plain": [
       "  0%|          | Repairing epochs : 0/72 [00:00<?,       ?it/s]"
      ]
     },
     "metadata": {},
     "output_type": "display_data"
    },
    {
     "data": {
      "application/vnd.jupyter.widget-view+json": {
       "model_id": "46a2ff442474445eb01a088a8a1671a7",
       "version_major": 2,
       "version_minor": 0
      },
      "text/plain": [
       "  0%|          | Fold : 0/10 [00:00<?,       ?it/s]"
      ]
     },
     "metadata": {},
     "output_type": "display_data"
    },
    {
     "data": {
      "application/vnd.jupyter.widget-view+json": {
       "model_id": "10de8ddeb8074390a403fd7e922baa11",
       "version_major": 2,
       "version_minor": 0
      },
      "text/plain": [
       "  0%|          | Repairing epochs : 0/72 [00:00<?,       ?it/s]"
      ]
     },
     "metadata": {},
     "output_type": "display_data"
    },
    {
     "data": {
      "application/vnd.jupyter.widget-view+json": {
       "model_id": "9ca274404fe8402898a475060d71ac59",
       "version_major": 2,
       "version_minor": 0
      },
      "text/plain": [
       "  0%|          | Fold : 0/10 [00:00<?,       ?it/s]"
      ]
     },
     "metadata": {},
     "output_type": "display_data"
    },
    {
     "data": {
      "application/vnd.jupyter.widget-view+json": {
       "model_id": "6ff1d0545bbc41a5bfbec18a6efb45a5",
       "version_major": 2,
       "version_minor": 0
      },
      "text/plain": [
       "  0%|          | Repairing epochs : 0/72 [00:00<?,       ?it/s]"
      ]
     },
     "metadata": {},
     "output_type": "display_data"
    },
    {
     "data": {
      "application/vnd.jupyter.widget-view+json": {
       "model_id": "c511a4f63d86404b94fed600bc6cbfc5",
       "version_major": 2,
       "version_minor": 0
      },
      "text/plain": [
       "  0%|          | Fold : 0/10 [00:00<?,       ?it/s]"
      ]
     },
     "metadata": {},
     "output_type": "display_data"
    },
    {
     "name": "stdout",
     "output_type": "stream",
     "text": [
      "\n",
      "\n",
      "\n",
      "\n",
      "Estimated consensus=1.00 and n_interpolate=13\n"
     ]
    },
    {
     "data": {
      "application/vnd.jupyter.widget-view+json": {
       "model_id": "2165ef2909d249138b68e0284dc20236",
       "version_major": 2,
       "version_minor": 0
      },
      "text/plain": [
       "  0%|          | Repairing epochs : 0/72 [00:00<?,       ?it/s]"
      ]
     },
     "metadata": {},
     "output_type": "display_data"
    },
    {
     "name": "stdout",
     "output_type": "stream",
     "text": [
      "No bad epochs were found for your data. Returning a copy of the data you wanted to clean. Interpolation may have been done.\n",
      "Fitting ICA to data using 14 channels (please be patient, this may take a while)\n",
      "Selecting by non-zero PCA components: 13 components\n",
      "Fitting ICA took 0.1s.\n"
     ]
    },
    {
     "name": "stderr",
     "output_type": "stream",
     "text": [
      "C:\\Users\\uiseong\\AppData\\Local\\Temp\\ipykernel_21640\\2351929479.py:53: RuntimeWarning: The provided Raw instance is not filtered between 1 and 100 Hz. ICLabel was designed to classify features extracted from an EEG dataset bandpass filtered between 1 and 100 Hz (see the 'filter()' method for Raw and Epochs instances).\n",
      "  ic_labels = label_components(raw, ica, method='iclabel')\n",
      "C:\\Users\\uiseong\\AppData\\Local\\Temp\\ipykernel_21640\\2351929479.py:53: RuntimeWarning: The provided ICA instance was fitted with a 'fastica' algorithm. ICLabel was designed with extended infomax ICA decompositions. To use the extended infomax algorithm, use the 'mne.preprocessing.ICA' instance with the arguments 'ICA(method='infomax', fit_params=dict(extended=True))' (scikit-learn) or 'ICA(method='picard', fit_params=dict(ortho=False, extended=True))' (python-picard).\n",
      "  ic_labels = label_components(raw, ica, method='iclabel')\n"
     ]
    },
    {
     "name": "stdout",
     "output_type": "stream",
     "text": [
      "Applying ICA to Raw instance\n",
      "    Transforming to ICA space (13 components)\n",
      "    Zeroing out 3 ICA components\n",
      "    Projecting back using 14 PCA components\n",
      "자동 제거될 성분: [0, 2, 9]\n",
      "Effective window size : 8.000 (s)\n",
      "Effective window size : 8.000 (s)\n",
      "Effective window size : 8.000 (s)\n",
      "Effective window size : 8.000 (s)\n",
      "Effective window size : 8.000 (s)\n",
      "Effective window size : 8.000 (s)\n",
      "Effective window size : 8.000 (s)\n",
      "Effective window size : 8.000 (s)\n",
      "Effective window size : 8.000 (s)\n",
      "Effective window size : 8.000 (s)\n",
      "Effective window size : 8.000 (s)\n",
      "Effective window size : 8.000 (s)\n",
      "처리 중: taek_nback_2.edf\n",
      "Extracting EDF parameters from c:\\Users\\uiseong\\OneDrive\\바탕 화면\\eeg\\EEG_cognitive_load\\EEG_nback_task\\taek_nback_2.edf...\n",
      "EDF file detected\n",
      "Setting channel info structure...\n",
      "Creating raw.info structure...\n",
      "Reading 0 ... 24831  =      0.000 ...   193.992 secs...\n",
      "NOTE: pick_channels() is a legacy function. New code should use inst.pick(...).\n",
      "Filtering raw data in 1 contiguous segment\n",
      "Setting up band-pass filter from 1 - 40 Hz\n",
      "\n",
      "FIR filter parameters\n",
      "---------------------\n",
      "Designing a one-pass, zero-phase, non-causal bandpass filter:\n",
      "- Windowed time-domain design (firwin) method\n",
      "- Hamming window with 0.0194 passband ripple and 53 dB stopband attenuation\n",
      "- Lower passband edge: 1.00\n",
      "- Lower transition bandwidth: 1.00 Hz (-6 dB cutoff frequency: 0.50 Hz)\n",
      "- Upper passband edge: 40.00 Hz\n",
      "- Upper transition bandwidth: 10.00 Hz (-6 dB cutoff frequency: 45.00 Hz)\n",
      "- Filter length: 423 samples (3.305 s)\n",
      "\n",
      "Filtering raw data in 1 contiguous segment\n",
      "Setting up band-stop filter from 59 - 61 Hz\n",
      "\n",
      "FIR filter parameters\n",
      "---------------------\n",
      "Designing a one-pass, zero-phase, non-causal bandstop filter:\n",
      "- Windowed time-domain design (firwin) method\n",
      "- Hamming window with 0.0194 passband ripple and 53 dB stopband attenuation\n",
      "- Lower passband edge: 59.35\n",
      "- Lower transition bandwidth: 0.50 Hz (-6 dB cutoff frequency: 59.10 Hz)\n",
      "- Upper passband edge: 60.65 Hz\n",
      "- Upper transition bandwidth: 0.50 Hz (-6 dB cutoff frequency: 60.90 Hz)\n",
      "- Filter length: 845 samples (6.602 s)\n",
      "\n",
      "EEG channel type selected for re-referencing\n",
      "Applying average reference.\n",
      "Applying a custom ('EEG',) reference.\n",
      "Not setting metadata\n",
      "64 matching events found\n",
      "No baseline correction applied\n",
      "0 projection items activated\n",
      "Using data from preloaded Raw for 64 events and 384 original time points ...\n",
      "0 bad epochs dropped\n",
      "Running autoreject on ch_type=eeg\n"
     ]
    },
    {
     "data": {
      "application/vnd.jupyter.widget-view+json": {
       "model_id": "ca041ccf62474777a5c15c08c42e1b4d",
       "version_major": 2,
       "version_minor": 0
      },
      "text/plain": [
       "  0%|          | Creating augmented epochs : 0/14 [00:00<?,       ?it/s]"
      ]
     },
     "metadata": {},
     "output_type": "display_data"
    },
    {
     "data": {
      "application/vnd.jupyter.widget-view+json": {
       "model_id": "149168f26449409ba256eb0546588611",
       "version_major": 2,
       "version_minor": 0
      },
      "text/plain": [
       "  0%|          | Computing thresholds ... : 0/14 [00:00<?,       ?it/s]"
      ]
     },
     "metadata": {},
     "output_type": "display_data"
    },
    {
     "data": {
      "application/vnd.jupyter.widget-view+json": {
       "model_id": "55b51c6624364ecfa48273286e3e6525",
       "version_major": 2,
       "version_minor": 0
      },
      "text/plain": [
       "  0%|          | Repairing epochs : 0/64 [00:00<?,       ?it/s]"
      ]
     },
     "metadata": {},
     "output_type": "display_data"
    },
    {
     "data": {
      "application/vnd.jupyter.widget-view+json": {
       "model_id": "e2d91d3647ee4281a4cf26ef99cbf5a8",
       "version_major": 2,
       "version_minor": 0
      },
      "text/plain": [
       "  0%|          | n_interp : 0/3 [00:00<?,       ?it/s]"
      ]
     },
     "metadata": {},
     "output_type": "display_data"
    },
    {
     "data": {
      "application/vnd.jupyter.widget-view+json": {
       "model_id": "da24d2b0f3d04365a35ae9eef7810f30",
       "version_major": 2,
       "version_minor": 0
      },
      "text/plain": [
       "  0%|          | Repairing epochs : 0/64 [00:00<?,       ?it/s]"
      ]
     },
     "metadata": {},
     "output_type": "display_data"
    },
    {
     "data": {
      "application/vnd.jupyter.widget-view+json": {
       "model_id": "8232e93404f04b3a816dd9ac0dbc827a",
       "version_major": 2,
       "version_minor": 0
      },
      "text/plain": [
       "  0%|          | Fold : 0/10 [00:00<?,       ?it/s]"
      ]
     },
     "metadata": {},
     "output_type": "display_data"
    },
    {
     "data": {
      "application/vnd.jupyter.widget-view+json": {
       "model_id": "fb62cbe9f1b1443bb3a1058b02636439",
       "version_major": 2,
       "version_minor": 0
      },
      "text/plain": [
       "  0%|          | Repairing epochs : 0/64 [00:00<?,       ?it/s]"
      ]
     },
     "metadata": {},
     "output_type": "display_data"
    },
    {
     "data": {
      "application/vnd.jupyter.widget-view+json": {
       "model_id": "c631a1cf8ca24004aeaf547d2353aa0c",
       "version_major": 2,
       "version_minor": 0
      },
      "text/plain": [
       "  0%|          | Fold : 0/10 [00:00<?,       ?it/s]"
      ]
     },
     "metadata": {},
     "output_type": "display_data"
    },
    {
     "data": {
      "application/vnd.jupyter.widget-view+json": {
       "model_id": "bc2857a29dea44f3a5b5df01c0d2f1cc",
       "version_major": 2,
       "version_minor": 0
      },
      "text/plain": [
       "  0%|          | Repairing epochs : 0/64 [00:00<?,       ?it/s]"
      ]
     },
     "metadata": {},
     "output_type": "display_data"
    },
    {
     "data": {
      "application/vnd.jupyter.widget-view+json": {
       "model_id": "eb7d0d18961b418fa12beef9a3672158",
       "version_major": 2,
       "version_minor": 0
      },
      "text/plain": [
       "  0%|          | Fold : 0/10 [00:00<?,       ?it/s]"
      ]
     },
     "metadata": {},
     "output_type": "display_data"
    },
    {
     "name": "stdout",
     "output_type": "stream",
     "text": [
      "\n",
      "\n",
      "\n",
      "\n",
      "Estimated consensus=0.60 and n_interpolate=4\n"
     ]
    },
    {
     "data": {
      "application/vnd.jupyter.widget-view+json": {
       "model_id": "37e6dca37cf34ec2ad96bbc49b7aa459",
       "version_major": 2,
       "version_minor": 0
      },
      "text/plain": [
       "  0%|          | Repairing epochs : 0/64 [00:00<?,       ?it/s]"
      ]
     },
     "metadata": {},
     "output_type": "display_data"
    },
    {
     "name": "stdout",
     "output_type": "stream",
     "text": [
      "No bad epochs were found for your data. Returning a copy of the data you wanted to clean. Interpolation may have been done.\n",
      "Fitting ICA to data using 14 channels (please be patient, this may take a while)\n",
      "Selecting by non-zero PCA components: 13 components\n",
      "Fitting ICA took 0.1s.\n"
     ]
    },
    {
     "name": "stderr",
     "output_type": "stream",
     "text": [
      "C:\\Users\\uiseong\\AppData\\Local\\Temp\\ipykernel_21640\\2351929479.py:53: RuntimeWarning: The provided Raw instance is not filtered between 1 and 100 Hz. ICLabel was designed to classify features extracted from an EEG dataset bandpass filtered between 1 and 100 Hz (see the 'filter()' method for Raw and Epochs instances).\n",
      "  ic_labels = label_components(raw, ica, method='iclabel')\n",
      "C:\\Users\\uiseong\\AppData\\Local\\Temp\\ipykernel_21640\\2351929479.py:53: RuntimeWarning: The provided ICA instance was fitted with a 'fastica' algorithm. ICLabel was designed with extended infomax ICA decompositions. To use the extended infomax algorithm, use the 'mne.preprocessing.ICA' instance with the arguments 'ICA(method='infomax', fit_params=dict(extended=True))' (scikit-learn) or 'ICA(method='picard', fit_params=dict(ortho=False, extended=True))' (python-picard).\n",
      "  ic_labels = label_components(raw, ica, method='iclabel')\n"
     ]
    },
    {
     "name": "stdout",
     "output_type": "stream",
     "text": [
      "Applying ICA to Raw instance\n",
      "    Transforming to ICA space (13 components)\n",
      "    Zeroing out 3 ICA components\n",
      "    Projecting back using 14 PCA components\n",
      "자동 제거될 성분: [0, 3, 11]\n",
      "Effective window size : 8.000 (s)\n",
      "Effective window size : 8.000 (s)\n",
      "Effective window size : 8.000 (s)\n",
      "Effective window size : 8.000 (s)\n",
      "Effective window size : 8.000 (s)\n",
      "Effective window size : 8.000 (s)\n",
      "Effective window size : 8.000 (s)\n",
      "Effective window size : 8.000 (s)\n",
      "Effective window size : 8.000 (s)\n",
      "Effective window size : 8.000 (s)\n",
      "Effective window size : 8.000 (s)\n",
      "Effective window size : 8.000 (s)\n",
      "처리 중: taek_nback_3.edf\n",
      "Extracting EDF parameters from c:\\Users\\uiseong\\OneDrive\\바탕 화면\\eeg\\EEG_cognitive_load\\EEG_nback_task\\taek_nback_3.edf...\n",
      "EDF file detected\n",
      "Setting channel info structure...\n",
      "Creating raw.info structure...\n",
      "Reading 0 ... 24703  =      0.000 ...   192.992 secs...\n",
      "NOTE: pick_channels() is a legacy function. New code should use inst.pick(...).\n",
      "Filtering raw data in 1 contiguous segment\n",
      "Setting up band-pass filter from 1 - 40 Hz\n",
      "\n",
      "FIR filter parameters\n",
      "---------------------\n",
      "Designing a one-pass, zero-phase, non-causal bandpass filter:\n",
      "- Windowed time-domain design (firwin) method\n",
      "- Hamming window with 0.0194 passband ripple and 53 dB stopband attenuation\n",
      "- Lower passband edge: 1.00\n",
      "- Lower transition bandwidth: 1.00 Hz (-6 dB cutoff frequency: 0.50 Hz)\n",
      "- Upper passband edge: 40.00 Hz\n",
      "- Upper transition bandwidth: 10.00 Hz (-6 dB cutoff frequency: 45.00 Hz)\n",
      "- Filter length: 423 samples (3.305 s)\n",
      "\n",
      "Filtering raw data in 1 contiguous segment\n",
      "Setting up band-stop filter from 59 - 61 Hz\n",
      "\n",
      "FIR filter parameters\n",
      "---------------------\n",
      "Designing a one-pass, zero-phase, non-causal bandstop filter:\n",
      "- Windowed time-domain design (firwin) method\n",
      "- Hamming window with 0.0194 passband ripple and 53 dB stopband attenuation\n",
      "- Lower passband edge: 59.35\n",
      "- Lower transition bandwidth: 0.50 Hz (-6 dB cutoff frequency: 59.10 Hz)\n",
      "- Upper passband edge: 60.65 Hz\n",
      "- Upper transition bandwidth: 0.50 Hz (-6 dB cutoff frequency: 60.90 Hz)\n",
      "- Filter length: 845 samples (6.602 s)\n",
      "\n",
      "EEG channel type selected for re-referencing\n",
      "Applying average reference.\n",
      "Applying a custom ('EEG',) reference.\n",
      "Not setting metadata\n",
      "64 matching events found\n",
      "No baseline correction applied\n",
      "0 projection items activated\n",
      "Using data from preloaded Raw for 64 events and 384 original time points ...\n",
      "0 bad epochs dropped\n",
      "Running autoreject on ch_type=eeg\n"
     ]
    },
    {
     "data": {
      "application/vnd.jupyter.widget-view+json": {
       "model_id": "9e0c24f3bdb84205a5ba2e26a1aea650",
       "version_major": 2,
       "version_minor": 0
      },
      "text/plain": [
       "  0%|          | Creating augmented epochs : 0/14 [00:00<?,       ?it/s]"
      ]
     },
     "metadata": {},
     "output_type": "display_data"
    },
    {
     "data": {
      "application/vnd.jupyter.widget-view+json": {
       "model_id": "0c7aa640ed05477e8b7b4256a0cc506d",
       "version_major": 2,
       "version_minor": 0
      },
      "text/plain": [
       "  0%|          | Computing thresholds ... : 0/14 [00:00<?,       ?it/s]"
      ]
     },
     "metadata": {},
     "output_type": "display_data"
    },
    {
     "data": {
      "application/vnd.jupyter.widget-view+json": {
       "model_id": "6fc3d8008a074846ac718d4d606e1c9f",
       "version_major": 2,
       "version_minor": 0
      },
      "text/plain": [
       "  0%|          | Repairing epochs : 0/64 [00:00<?,       ?it/s]"
      ]
     },
     "metadata": {},
     "output_type": "display_data"
    },
    {
     "data": {
      "application/vnd.jupyter.widget-view+json": {
       "model_id": "1fd53b67c24440f390913b78749e01d8",
       "version_major": 2,
       "version_minor": 0
      },
      "text/plain": [
       "  0%|          | n_interp : 0/3 [00:00<?,       ?it/s]"
      ]
     },
     "metadata": {},
     "output_type": "display_data"
    },
    {
     "data": {
      "application/vnd.jupyter.widget-view+json": {
       "model_id": "7a05b2f46d3a490ebfd40cef82512c82",
       "version_major": 2,
       "version_minor": 0
      },
      "text/plain": [
       "  0%|          | Repairing epochs : 0/64 [00:00<?,       ?it/s]"
      ]
     },
     "metadata": {},
     "output_type": "display_data"
    },
    {
     "data": {
      "application/vnd.jupyter.widget-view+json": {
       "model_id": "079470f00c144b0788b4335d7c3f5bc0",
       "version_major": 2,
       "version_minor": 0
      },
      "text/plain": [
       "  0%|          | Fold : 0/10 [00:00<?,       ?it/s]"
      ]
     },
     "metadata": {},
     "output_type": "display_data"
    },
    {
     "data": {
      "application/vnd.jupyter.widget-view+json": {
       "model_id": "dc56d1a9f2894d7bb214ca5c9f761240",
       "version_major": 2,
       "version_minor": 0
      },
      "text/plain": [
       "  0%|          | Repairing epochs : 0/64 [00:00<?,       ?it/s]"
      ]
     },
     "metadata": {},
     "output_type": "display_data"
    },
    {
     "data": {
      "application/vnd.jupyter.widget-view+json": {
       "model_id": "85b90c27a1c44ed18546448200ccaf2f",
       "version_major": 2,
       "version_minor": 0
      },
      "text/plain": [
       "  0%|          | Fold : 0/10 [00:00<?,       ?it/s]"
      ]
     },
     "metadata": {},
     "output_type": "display_data"
    },
    {
     "data": {
      "application/vnd.jupyter.widget-view+json": {
       "model_id": "73692ae26fab44d0b7275028b0eed3e3",
       "version_major": 2,
       "version_minor": 0
      },
      "text/plain": [
       "  0%|          | Repairing epochs : 0/64 [00:00<?,       ?it/s]"
      ]
     },
     "metadata": {},
     "output_type": "display_data"
    },
    {
     "data": {
      "application/vnd.jupyter.widget-view+json": {
       "model_id": "71d9c3c3217c4f5e80c021a26ea3a0ba",
       "version_major": 2,
       "version_minor": 0
      },
      "text/plain": [
       "  0%|          | Fold : 0/10 [00:00<?,       ?it/s]"
      ]
     },
     "metadata": {},
     "output_type": "display_data"
    },
    {
     "name": "stdout",
     "output_type": "stream",
     "text": [
      "\n",
      "\n",
      "\n",
      "\n",
      "Estimated consensus=0.60 and n_interpolate=1\n"
     ]
    },
    {
     "data": {
      "application/vnd.jupyter.widget-view+json": {
       "model_id": "5baaf2eb3bf147d98b3dee3079140615",
       "version_major": 2,
       "version_minor": 0
      },
      "text/plain": [
       "  0%|          | Repairing epochs : 0/64 [00:00<?,       ?it/s]"
      ]
     },
     "metadata": {},
     "output_type": "display_data"
    },
    {
     "name": "stdout",
     "output_type": "stream",
     "text": [
      "No bad epochs were found for your data. Returning a copy of the data you wanted to clean. Interpolation may have been done.\n",
      "Fitting ICA to data using 14 channels (please be patient, this may take a while)\n",
      "Selecting by non-zero PCA components: 13 components\n",
      "Fitting ICA took 0.1s.\n"
     ]
    },
    {
     "name": "stderr",
     "output_type": "stream",
     "text": [
      "C:\\Users\\uiseong\\AppData\\Local\\Temp\\ipykernel_21640\\2351929479.py:53: RuntimeWarning: The provided Raw instance is not filtered between 1 and 100 Hz. ICLabel was designed to classify features extracted from an EEG dataset bandpass filtered between 1 and 100 Hz (see the 'filter()' method for Raw and Epochs instances).\n",
      "  ic_labels = label_components(raw, ica, method='iclabel')\n",
      "C:\\Users\\uiseong\\AppData\\Local\\Temp\\ipykernel_21640\\2351929479.py:53: RuntimeWarning: The provided ICA instance was fitted with a 'fastica' algorithm. ICLabel was designed with extended infomax ICA decompositions. To use the extended infomax algorithm, use the 'mne.preprocessing.ICA' instance with the arguments 'ICA(method='infomax', fit_params=dict(extended=True))' (scikit-learn) or 'ICA(method='picard', fit_params=dict(ortho=False, extended=True))' (python-picard).\n",
      "  ic_labels = label_components(raw, ica, method='iclabel')\n"
     ]
    },
    {
     "name": "stdout",
     "output_type": "stream",
     "text": [
      "Applying ICA to Raw instance\n",
      "    Transforming to ICA space (13 components)\n",
      "    Zeroing out 3 ICA components\n",
      "    Projecting back using 14 PCA components\n",
      "자동 제거될 성분: [0, 2, 11]\n",
      "Effective window size : 8.000 (s)\n",
      "Effective window size : 8.000 (s)\n",
      "Effective window size : 8.000 (s)\n",
      "Effective window size : 8.000 (s)\n",
      "Effective window size : 8.000 (s)\n",
      "Effective window size : 8.000 (s)\n",
      "Effective window size : 8.000 (s)\n",
      "Effective window size : 8.000 (s)\n",
      "Effective window size : 8.000 (s)\n",
      "Effective window size : 8.000 (s)\n",
      "Effective window size : 8.000 (s)\n",
      "Effective window size : 8.000 (s)\n",
      "처리 중: choi_nback_1.edf\n",
      "Extracting EDF parameters from c:\\Users\\uiseong\\OneDrive\\바탕 화면\\eeg\\EEG_cognitive_load\\EEG_nback_task\\choi_nback_1.edf...\n",
      "EDF file detected\n",
      "Setting channel info structure...\n",
      "Creating raw.info structure...\n",
      "Reading 0 ... 28671  =      0.000 ...   223.992 secs...\n",
      "NOTE: pick_channels() is a legacy function. New code should use inst.pick(...).\n",
      "Filtering raw data in 1 contiguous segment\n",
      "Setting up band-pass filter from 1 - 40 Hz\n",
      "\n",
      "FIR filter parameters\n",
      "---------------------\n",
      "Designing a one-pass, zero-phase, non-causal bandpass filter:\n",
      "- Windowed time-domain design (firwin) method\n",
      "- Hamming window with 0.0194 passband ripple and 53 dB stopband attenuation\n",
      "- Lower passband edge: 1.00\n",
      "- Lower transition bandwidth: 1.00 Hz (-6 dB cutoff frequency: 0.50 Hz)\n",
      "- Upper passband edge: 40.00 Hz\n",
      "- Upper transition bandwidth: 10.00 Hz (-6 dB cutoff frequency: 45.00 Hz)\n",
      "- Filter length: 423 samples (3.305 s)\n",
      "\n",
      "Filtering raw data in 1 contiguous segment\n",
      "Setting up band-stop filter from 59 - 61 Hz\n",
      "\n",
      "FIR filter parameters\n",
      "---------------------\n",
      "Designing a one-pass, zero-phase, non-causal bandstop filter:\n",
      "- Windowed time-domain design (firwin) method\n",
      "- Hamming window with 0.0194 passband ripple and 53 dB stopband attenuation\n",
      "- Lower passband edge: 59.35\n",
      "- Lower transition bandwidth: 0.50 Hz (-6 dB cutoff frequency: 59.10 Hz)\n",
      "- Upper passband edge: 60.65 Hz\n",
      "- Upper transition bandwidth: 0.50 Hz (-6 dB cutoff frequency: 60.90 Hz)\n",
      "- Filter length: 845 samples (6.602 s)\n",
      "\n",
      "EEG channel type selected for re-referencing\n",
      "Applying average reference.\n",
      "Applying a custom ('EEG',) reference.\n",
      "Not setting metadata\n",
      "74 matching events found\n",
      "No baseline correction applied\n",
      "0 projection items activated\n",
      "Using data from preloaded Raw for 74 events and 384 original time points ...\n",
      "0 bad epochs dropped\n",
      "Running autoreject on ch_type=eeg\n"
     ]
    },
    {
     "data": {
      "application/vnd.jupyter.widget-view+json": {
       "model_id": "9e88d99c6d2f4ed283273ffc2cfa8bea",
       "version_major": 2,
       "version_minor": 0
      },
      "text/plain": [
       "  0%|          | Creating augmented epochs : 0/14 [00:00<?,       ?it/s]"
      ]
     },
     "metadata": {},
     "output_type": "display_data"
    },
    {
     "data": {
      "application/vnd.jupyter.widget-view+json": {
       "model_id": "13bf1e0797a54fd1ba67f30d70e992e3",
       "version_major": 2,
       "version_minor": 0
      },
      "text/plain": [
       "  0%|          | Computing thresholds ... : 0/14 [00:00<?,       ?it/s]"
      ]
     },
     "metadata": {},
     "output_type": "display_data"
    },
    {
     "data": {
      "application/vnd.jupyter.widget-view+json": {
       "model_id": "665bcdc7658049b09c3853c4ca879bb8",
       "version_major": 2,
       "version_minor": 0
      },
      "text/plain": [
       "  0%|          | Repairing epochs : 0/74 [00:00<?,       ?it/s]"
      ]
     },
     "metadata": {},
     "output_type": "display_data"
    },
    {
     "data": {
      "application/vnd.jupyter.widget-view+json": {
       "model_id": "25d846204b2c482d9875857aba71a16d",
       "version_major": 2,
       "version_minor": 0
      },
      "text/plain": [
       "  0%|          | n_interp : 0/3 [00:00<?,       ?it/s]"
      ]
     },
     "metadata": {},
     "output_type": "display_data"
    },
    {
     "data": {
      "application/vnd.jupyter.widget-view+json": {
       "model_id": "abf4750575e340fba6274062c89dc8aa",
       "version_major": 2,
       "version_minor": 0
      },
      "text/plain": [
       "  0%|          | Repairing epochs : 0/74 [00:00<?,       ?it/s]"
      ]
     },
     "metadata": {},
     "output_type": "display_data"
    },
    {
     "data": {
      "application/vnd.jupyter.widget-view+json": {
       "model_id": "f604a86a719c41008f6d9b615c554715",
       "version_major": 2,
       "version_minor": 0
      },
      "text/plain": [
       "  0%|          | Fold : 0/10 [00:00<?,       ?it/s]"
      ]
     },
     "metadata": {},
     "output_type": "display_data"
    },
    {
     "data": {
      "application/vnd.jupyter.widget-view+json": {
       "model_id": "a839510b880548f48e543571462d3b3b",
       "version_major": 2,
       "version_minor": 0
      },
      "text/plain": [
       "  0%|          | Repairing epochs : 0/74 [00:00<?,       ?it/s]"
      ]
     },
     "metadata": {},
     "output_type": "display_data"
    },
    {
     "data": {
      "application/vnd.jupyter.widget-view+json": {
       "model_id": "1064c5874ef64e7587013e251a6d4898",
       "version_major": 2,
       "version_minor": 0
      },
      "text/plain": [
       "  0%|          | Fold : 0/10 [00:00<?,       ?it/s]"
      ]
     },
     "metadata": {},
     "output_type": "display_data"
    },
    {
     "data": {
      "application/vnd.jupyter.widget-view+json": {
       "model_id": "a47aa9da8c3a408ea87b2879f878e9da",
       "version_major": 2,
       "version_minor": 0
      },
      "text/plain": [
       "  0%|          | Repairing epochs : 0/74 [00:00<?,       ?it/s]"
      ]
     },
     "metadata": {},
     "output_type": "display_data"
    },
    {
     "name": "stderr",
     "output_type": "stream",
     "text": [
      "c:\\Users\\uiseong\\anaconda3\\envs\\mne\\Lib\\site-packages\\mne\\bem.py:1115: RuntimeWarning: Mean of empty slice.\n",
      "  radius_init = radii.mean()\n",
      "c:\\Users\\uiseong\\anaconda3\\envs\\mne\\Lib\\site-packages\\numpy\\core\\_methods.py:129: RuntimeWarning: invalid value encountered in scalar divide\n",
      "  ret = ret.dtype.type(ret / rcount)\n",
      "c:\\Users\\uiseong\\anaconda3\\envs\\mne\\Lib\\site-packages\\numpy\\core\\fromnumeric.py:3504: RuntimeWarning: Mean of empty slice.\n",
      "  return _methods._mean(a, axis=axis, dtype=dtype,\n",
      "c:\\Users\\uiseong\\anaconda3\\envs\\mne\\Lib\\site-packages\\numpy\\core\\_methods.py:121: RuntimeWarning: invalid value encountered in divide\n",
      "  ret = um.true_divide(\n"
     ]
    },
    {
     "data": {
      "application/vnd.jupyter.widget-view+json": {
       "model_id": "f619089caeaf4da5b253c257a6a4b467",
       "version_major": 2,
       "version_minor": 0
      },
      "text/plain": [
       "  0%|          | Fold : 0/10 [00:00<?,       ?it/s]"
      ]
     },
     "metadata": {},
     "output_type": "display_data"
    },
    {
     "name": "stdout",
     "output_type": "stream",
     "text": [
      "\n",
      "\n",
      "\n",
      "\n",
      "Estimated consensus=1.00 and n_interpolate=13\n"
     ]
    },
    {
     "data": {
      "application/vnd.jupyter.widget-view+json": {
       "model_id": "b01319a6438f4fbd9489e55a8c6735ef",
       "version_major": 2,
       "version_minor": 0
      },
      "text/plain": [
       "  0%|          | Repairing epochs : 0/74 [00:00<?,       ?it/s]"
      ]
     },
     "metadata": {},
     "output_type": "display_data"
    },
    {
     "name": "stdout",
     "output_type": "stream",
     "text": [
      "Dropped 2 epochs: 26, 73\n",
      "Fitting ICA to data using 14 channels (please be patient, this may take a while)\n",
      "Selecting by non-zero PCA components: 13 components\n",
      "Fitting ICA took 0.1s.\n"
     ]
    },
    {
     "name": "stderr",
     "output_type": "stream",
     "text": [
      "C:\\Users\\uiseong\\AppData\\Local\\Temp\\ipykernel_21640\\2351929479.py:53: RuntimeWarning: The provided Raw instance is not filtered between 1 and 100 Hz. ICLabel was designed to classify features extracted from an EEG dataset bandpass filtered between 1 and 100 Hz (see the 'filter()' method for Raw and Epochs instances).\n",
      "  ic_labels = label_components(raw, ica, method='iclabel')\n",
      "C:\\Users\\uiseong\\AppData\\Local\\Temp\\ipykernel_21640\\2351929479.py:53: RuntimeWarning: The provided ICA instance was fitted with a 'fastica' algorithm. ICLabel was designed with extended infomax ICA decompositions. To use the extended infomax algorithm, use the 'mne.preprocessing.ICA' instance with the arguments 'ICA(method='infomax', fit_params=dict(extended=True))' (scikit-learn) or 'ICA(method='picard', fit_params=dict(ortho=False, extended=True))' (python-picard).\n",
      "  ic_labels = label_components(raw, ica, method='iclabel')\n"
     ]
    },
    {
     "name": "stdout",
     "output_type": "stream",
     "text": [
      "Applying ICA to Raw instance\n",
      "    Transforming to ICA space (13 components)\n",
      "    Zeroing out 5 ICA components\n",
      "    Projecting back using 14 PCA components\n",
      "자동 제거될 성분: [2, 3, 4, 5, 6]\n",
      "Effective window size : 8.000 (s)\n",
      "Effective window size : 8.000 (s)\n",
      "Effective window size : 8.000 (s)\n",
      "Effective window size : 8.000 (s)\n",
      "Effective window size : 8.000 (s)\n",
      "Effective window size : 8.000 (s)\n",
      "Effective window size : 8.000 (s)\n",
      "Effective window size : 8.000 (s)\n",
      "Effective window size : 8.000 (s)\n",
      "Effective window size : 8.000 (s)\n",
      "Effective window size : 8.000 (s)\n",
      "Effective window size : 8.000 (s)\n",
      "처리 중: choi_nback_2.edf\n",
      "Extracting EDF parameters from c:\\Users\\uiseong\\OneDrive\\바탕 화면\\eeg\\EEG_cognitive_load\\EEG_nback_task\\choi_nback_2.edf...\n",
      "EDF file detected\n",
      "Setting channel info structure...\n",
      "Creating raw.info structure...\n",
      "Reading 0 ... 24831  =      0.000 ...   193.992 secs...\n",
      "NOTE: pick_channels() is a legacy function. New code should use inst.pick(...).\n",
      "Filtering raw data in 1 contiguous segment\n",
      "Setting up band-pass filter from 1 - 40 Hz\n",
      "\n",
      "FIR filter parameters\n",
      "---------------------\n",
      "Designing a one-pass, zero-phase, non-causal bandpass filter:\n",
      "- Windowed time-domain design (firwin) method\n",
      "- Hamming window with 0.0194 passband ripple and 53 dB stopband attenuation\n",
      "- Lower passband edge: 1.00\n",
      "- Lower transition bandwidth: 1.00 Hz (-6 dB cutoff frequency: 0.50 Hz)\n",
      "- Upper passband edge: 40.00 Hz\n",
      "- Upper transition bandwidth: 10.00 Hz (-6 dB cutoff frequency: 45.00 Hz)\n",
      "- Filter length: 423 samples (3.305 s)\n",
      "\n",
      "Filtering raw data in 1 contiguous segment\n",
      "Setting up band-stop filter from 59 - 61 Hz\n",
      "\n",
      "FIR filter parameters\n",
      "---------------------\n",
      "Designing a one-pass, zero-phase, non-causal bandstop filter:\n",
      "- Windowed time-domain design (firwin) method\n",
      "- Hamming window with 0.0194 passband ripple and 53 dB stopband attenuation\n",
      "- Lower passband edge: 59.35\n",
      "- Lower transition bandwidth: 0.50 Hz (-6 dB cutoff frequency: 59.10 Hz)\n",
      "- Upper passband edge: 60.65 Hz\n",
      "- Upper transition bandwidth: 0.50 Hz (-6 dB cutoff frequency: 60.90 Hz)\n",
      "- Filter length: 845 samples (6.602 s)\n",
      "\n",
      "EEG channel type selected for re-referencing\n",
      "Applying average reference.\n",
      "Applying a custom ('EEG',) reference.\n",
      "Not setting metadata\n",
      "64 matching events found\n",
      "No baseline correction applied\n",
      "0 projection items activated\n",
      "Using data from preloaded Raw for 64 events and 384 original time points ...\n",
      "0 bad epochs dropped\n",
      "Running autoreject on ch_type=eeg\n"
     ]
    },
    {
     "data": {
      "application/vnd.jupyter.widget-view+json": {
       "model_id": "565821521a8a4472a5974a0e85730dc0",
       "version_major": 2,
       "version_minor": 0
      },
      "text/plain": [
       "  0%|          | Creating augmented epochs : 0/14 [00:00<?,       ?it/s]"
      ]
     },
     "metadata": {},
     "output_type": "display_data"
    },
    {
     "data": {
      "application/vnd.jupyter.widget-view+json": {
       "model_id": "47e9b198c8ad4468955027cbb861a7e0",
       "version_major": 2,
       "version_minor": 0
      },
      "text/plain": [
       "  0%|          | Computing thresholds ... : 0/14 [00:00<?,       ?it/s]"
      ]
     },
     "metadata": {},
     "output_type": "display_data"
    },
    {
     "data": {
      "application/vnd.jupyter.widget-view+json": {
       "model_id": "8578a9f2ffba479c89356cb70dbd5373",
       "version_major": 2,
       "version_minor": 0
      },
      "text/plain": [
       "  0%|          | Repairing epochs : 0/64 [00:00<?,       ?it/s]"
      ]
     },
     "metadata": {},
     "output_type": "display_data"
    },
    {
     "data": {
      "application/vnd.jupyter.widget-view+json": {
       "model_id": "37892cfa39ff4a8a8fd172d55f292831",
       "version_major": 2,
       "version_minor": 0
      },
      "text/plain": [
       "  0%|          | n_interp : 0/3 [00:00<?,       ?it/s]"
      ]
     },
     "metadata": {},
     "output_type": "display_data"
    },
    {
     "data": {
      "application/vnd.jupyter.widget-view+json": {
       "model_id": "7d9f47fdf0734d2db10b4340f3324d92",
       "version_major": 2,
       "version_minor": 0
      },
      "text/plain": [
       "  0%|          | Repairing epochs : 0/64 [00:00<?,       ?it/s]"
      ]
     },
     "metadata": {},
     "output_type": "display_data"
    },
    {
     "data": {
      "application/vnd.jupyter.widget-view+json": {
       "model_id": "707b2bb0de744d1cadd6782c7498eef3",
       "version_major": 2,
       "version_minor": 0
      },
      "text/plain": [
       "  0%|          | Fold : 0/10 [00:00<?,       ?it/s]"
      ]
     },
     "metadata": {},
     "output_type": "display_data"
    },
    {
     "data": {
      "application/vnd.jupyter.widget-view+json": {
       "model_id": "f8ae769fb81840d8ac10d9a153c96949",
       "version_major": 2,
       "version_minor": 0
      },
      "text/plain": [
       "  0%|          | Repairing epochs : 0/64 [00:00<?,       ?it/s]"
      ]
     },
     "metadata": {},
     "output_type": "display_data"
    },
    {
     "data": {
      "application/vnd.jupyter.widget-view+json": {
       "model_id": "0edbaf222b4d4417ba611052abe77f0e",
       "version_major": 2,
       "version_minor": 0
      },
      "text/plain": [
       "  0%|          | Fold : 0/10 [00:00<?,       ?it/s]"
      ]
     },
     "metadata": {},
     "output_type": "display_data"
    },
    {
     "data": {
      "application/vnd.jupyter.widget-view+json": {
       "model_id": "91ff3568afea4f0d84fcf73b22d3997e",
       "version_major": 2,
       "version_minor": 0
      },
      "text/plain": [
       "  0%|          | Repairing epochs : 0/64 [00:00<?,       ?it/s]"
      ]
     },
     "metadata": {},
     "output_type": "display_data"
    },
    {
     "data": {
      "application/vnd.jupyter.widget-view+json": {
       "model_id": "6a78688ca3cc4ecf9f0959302c6931a0",
       "version_major": 2,
       "version_minor": 0
      },
      "text/plain": [
       "  0%|          | Fold : 0/10 [00:00<?,       ?it/s]"
      ]
     },
     "metadata": {},
     "output_type": "display_data"
    },
    {
     "name": "stdout",
     "output_type": "stream",
     "text": [
      "\n",
      "\n",
      "\n",
      "\n",
      "Estimated consensus=0.80 and n_interpolate=4\n"
     ]
    },
    {
     "data": {
      "application/vnd.jupyter.widget-view+json": {
       "model_id": "050626f7f3954d49af6fc7d4ac3eaad0",
       "version_major": 2,
       "version_minor": 0
      },
      "text/plain": [
       "  0%|          | Repairing epochs : 0/64 [00:00<?,       ?it/s]"
      ]
     },
     "metadata": {},
     "output_type": "display_data"
    },
    {
     "name": "stdout",
     "output_type": "stream",
     "text": [
      "No bad epochs were found for your data. Returning a copy of the data you wanted to clean. Interpolation may have been done.\n",
      "Fitting ICA to data using 14 channels (please be patient, this may take a while)\n",
      "Selecting by non-zero PCA components: 13 components\n",
      "Fitting ICA took 0.2s.\n"
     ]
    },
    {
     "name": "stderr",
     "output_type": "stream",
     "text": [
      "C:\\Users\\uiseong\\AppData\\Local\\Temp\\ipykernel_21640\\2351929479.py:53: RuntimeWarning: The provided Raw instance is not filtered between 1 and 100 Hz. ICLabel was designed to classify features extracted from an EEG dataset bandpass filtered between 1 and 100 Hz (see the 'filter()' method for Raw and Epochs instances).\n",
      "  ic_labels = label_components(raw, ica, method='iclabel')\n",
      "C:\\Users\\uiseong\\AppData\\Local\\Temp\\ipykernel_21640\\2351929479.py:53: RuntimeWarning: The provided ICA instance was fitted with a 'fastica' algorithm. ICLabel was designed with extended infomax ICA decompositions. To use the extended infomax algorithm, use the 'mne.preprocessing.ICA' instance with the arguments 'ICA(method='infomax', fit_params=dict(extended=True))' (scikit-learn) or 'ICA(method='picard', fit_params=dict(ortho=False, extended=True))' (python-picard).\n",
      "  ic_labels = label_components(raw, ica, method='iclabel')\n"
     ]
    },
    {
     "name": "stdout",
     "output_type": "stream",
     "text": [
      "Applying ICA to Raw instance\n",
      "    Transforming to ICA space (13 components)\n",
      "    Zeroing out 3 ICA components\n",
      "    Projecting back using 14 PCA components\n",
      "자동 제거될 성분: [0, 2, 3]\n",
      "Effective window size : 8.000 (s)\n",
      "Effective window size : 8.000 (s)\n",
      "Effective window size : 8.000 (s)\n",
      "Effective window size : 8.000 (s)\n",
      "Effective window size : 8.000 (s)\n",
      "Effective window size : 8.000 (s)\n",
      "Effective window size : 8.000 (s)\n",
      "Effective window size : 8.000 (s)\n",
      "Effective window size : 8.000 (s)\n",
      "Effective window size : 8.000 (s)\n",
      "Effective window size : 8.000 (s)\n",
      "Effective window size : 8.000 (s)\n",
      "처리 중: choi_nback_3.edf\n",
      "Extracting EDF parameters from c:\\Users\\uiseong\\OneDrive\\바탕 화면\\eeg\\EEG_cognitive_load\\EEG_nback_task\\choi_nback_3.edf...\n",
      "EDF file detected\n",
      "Setting channel info structure...\n",
      "Creating raw.info structure...\n",
      "Reading 0 ... 26239  =      0.000 ...   204.992 secs...\n",
      "NOTE: pick_channels() is a legacy function. New code should use inst.pick(...).\n",
      "Filtering raw data in 1 contiguous segment\n",
      "Setting up band-pass filter from 1 - 40 Hz\n",
      "\n",
      "FIR filter parameters\n",
      "---------------------\n",
      "Designing a one-pass, zero-phase, non-causal bandpass filter:\n",
      "- Windowed time-domain design (firwin) method\n",
      "- Hamming window with 0.0194 passband ripple and 53 dB stopband attenuation\n",
      "- Lower passband edge: 1.00\n",
      "- Lower transition bandwidth: 1.00 Hz (-6 dB cutoff frequency: 0.50 Hz)\n",
      "- Upper passband edge: 40.00 Hz\n",
      "- Upper transition bandwidth: 10.00 Hz (-6 dB cutoff frequency: 45.00 Hz)\n",
      "- Filter length: 423 samples (3.305 s)\n",
      "\n",
      "Filtering raw data in 1 contiguous segment\n",
      "Setting up band-stop filter from 59 - 61 Hz\n",
      "\n",
      "FIR filter parameters\n",
      "---------------------\n",
      "Designing a one-pass, zero-phase, non-causal bandstop filter:\n",
      "- Windowed time-domain design (firwin) method\n",
      "- Hamming window with 0.0194 passband ripple and 53 dB stopband attenuation\n",
      "- Lower passband edge: 59.35\n",
      "- Lower transition bandwidth: 0.50 Hz (-6 dB cutoff frequency: 59.10 Hz)\n",
      "- Upper passband edge: 60.65 Hz\n",
      "- Upper transition bandwidth: 0.50 Hz (-6 dB cutoff frequency: 60.90 Hz)\n",
      "- Filter length: 845 samples (6.602 s)\n",
      "\n",
      "EEG channel type selected for re-referencing\n",
      "Applying average reference.\n",
      "Applying a custom ('EEG',) reference.\n",
      "Not setting metadata\n",
      "68 matching events found\n",
      "No baseline correction applied\n",
      "0 projection items activated\n",
      "Using data from preloaded Raw for 68 events and 384 original time points ...\n",
      "0 bad epochs dropped\n",
      "Running autoreject on ch_type=eeg\n"
     ]
    },
    {
     "data": {
      "application/vnd.jupyter.widget-view+json": {
       "model_id": "e4dc9e9b2402475f91fcf39d09526685",
       "version_major": 2,
       "version_minor": 0
      },
      "text/plain": [
       "  0%|          | Creating augmented epochs : 0/14 [00:00<?,       ?it/s]"
      ]
     },
     "metadata": {},
     "output_type": "display_data"
    },
    {
     "data": {
      "application/vnd.jupyter.widget-view+json": {
       "model_id": "a540913adddb4f5c96f5b6ea60b84fc3",
       "version_major": 2,
       "version_minor": 0
      },
      "text/plain": [
       "  0%|          | Computing thresholds ... : 0/14 [00:00<?,       ?it/s]"
      ]
     },
     "metadata": {},
     "output_type": "display_data"
    },
    {
     "data": {
      "application/vnd.jupyter.widget-view+json": {
       "model_id": "e9a5ac9e51f4420fa26c9f81fb8d6b33",
       "version_major": 2,
       "version_minor": 0
      },
      "text/plain": [
       "  0%|          | Repairing epochs : 0/68 [00:00<?,       ?it/s]"
      ]
     },
     "metadata": {},
     "output_type": "display_data"
    },
    {
     "data": {
      "application/vnd.jupyter.widget-view+json": {
       "model_id": "56479caca03745cb893b7c8264fc2118",
       "version_major": 2,
       "version_minor": 0
      },
      "text/plain": [
       "  0%|          | n_interp : 0/3 [00:00<?,       ?it/s]"
      ]
     },
     "metadata": {},
     "output_type": "display_data"
    },
    {
     "data": {
      "application/vnd.jupyter.widget-view+json": {
       "model_id": "ae0073a4b3b64a6a8d710b760318bace",
       "version_major": 2,
       "version_minor": 0
      },
      "text/plain": [
       "  0%|          | Repairing epochs : 0/68 [00:00<?,       ?it/s]"
      ]
     },
     "metadata": {},
     "output_type": "display_data"
    },
    {
     "data": {
      "application/vnd.jupyter.widget-view+json": {
       "model_id": "1f4b00773a0f46b7b01d0ef9534a4bee",
       "version_major": 2,
       "version_minor": 0
      },
      "text/plain": [
       "  0%|          | Fold : 0/10 [00:00<?,       ?it/s]"
      ]
     },
     "metadata": {},
     "output_type": "display_data"
    },
    {
     "data": {
      "application/vnd.jupyter.widget-view+json": {
       "model_id": "aa5b67d58df54b7d9aa439a7dd5998ff",
       "version_major": 2,
       "version_minor": 0
      },
      "text/plain": [
       "  0%|          | Repairing epochs : 0/68 [00:00<?,       ?it/s]"
      ]
     },
     "metadata": {},
     "output_type": "display_data"
    },
    {
     "data": {
      "application/vnd.jupyter.widget-view+json": {
       "model_id": "0a4c4e95a05a44f59a547eed0cf05bd2",
       "version_major": 2,
       "version_minor": 0
      },
      "text/plain": [
       "  0%|          | Fold : 0/10 [00:00<?,       ?it/s]"
      ]
     },
     "metadata": {},
     "output_type": "display_data"
    },
    {
     "data": {
      "application/vnd.jupyter.widget-view+json": {
       "model_id": "f9b9edd670114d9fbfb320a981042c7a",
       "version_major": 2,
       "version_minor": 0
      },
      "text/plain": [
       "  0%|          | Repairing epochs : 0/68 [00:00<?,       ?it/s]"
      ]
     },
     "metadata": {},
     "output_type": "display_data"
    },
    {
     "data": {
      "application/vnd.jupyter.widget-view+json": {
       "model_id": "f59dd9cabc014a34a9611b522ba8471f",
       "version_major": 2,
       "version_minor": 0
      },
      "text/plain": [
       "  0%|          | Fold : 0/10 [00:00<?,       ?it/s]"
      ]
     },
     "metadata": {},
     "output_type": "display_data"
    },
    {
     "name": "stdout",
     "output_type": "stream",
     "text": [
      "\n",
      "\n",
      "\n",
      "\n",
      "Estimated consensus=0.80 and n_interpolate=4\n"
     ]
    },
    {
     "data": {
      "application/vnd.jupyter.widget-view+json": {
       "model_id": "e3beff648ece49798e1e5ca958b28f15",
       "version_major": 2,
       "version_minor": 0
      },
      "text/plain": [
       "  0%|          | Repairing epochs : 0/68 [00:00<?,       ?it/s]"
      ]
     },
     "metadata": {},
     "output_type": "display_data"
    },
    {
     "name": "stdout",
     "output_type": "stream",
     "text": [
      "Dropped 2 epochs: 4, 19\n",
      "Fitting ICA to data using 14 channels (please be patient, this may take a while)\n",
      "Selecting by non-zero PCA components: 13 components\n",
      "Fitting ICA took 0.1s.\n"
     ]
    },
    {
     "name": "stderr",
     "output_type": "stream",
     "text": [
      "C:\\Users\\uiseong\\AppData\\Local\\Temp\\ipykernel_21640\\2351929479.py:53: RuntimeWarning: The provided Raw instance is not filtered between 1 and 100 Hz. ICLabel was designed to classify features extracted from an EEG dataset bandpass filtered between 1 and 100 Hz (see the 'filter()' method for Raw and Epochs instances).\n",
      "  ic_labels = label_components(raw, ica, method='iclabel')\n",
      "C:\\Users\\uiseong\\AppData\\Local\\Temp\\ipykernel_21640\\2351929479.py:53: RuntimeWarning: The provided ICA instance was fitted with a 'fastica' algorithm. ICLabel was designed with extended infomax ICA decompositions. To use the extended infomax algorithm, use the 'mne.preprocessing.ICA' instance with the arguments 'ICA(method='infomax', fit_params=dict(extended=True))' (scikit-learn) or 'ICA(method='picard', fit_params=dict(ortho=False, extended=True))' (python-picard).\n",
      "  ic_labels = label_components(raw, ica, method='iclabel')\n"
     ]
    },
    {
     "name": "stdout",
     "output_type": "stream",
     "text": [
      "Applying ICA to Raw instance\n",
      "    Transforming to ICA space (13 components)\n",
      "    Zeroing out 7 ICA components\n",
      "    Projecting back using 14 PCA components\n",
      "자동 제거될 성분: [1, 2, 4, 5, 8, 9, 10]\n",
      "Effective window size : 8.000 (s)\n",
      "Effective window size : 8.000 (s)\n",
      "Effective window size : 8.000 (s)\n",
      "Effective window size : 8.000 (s)\n",
      "Effective window size : 8.000 (s)\n",
      "Effective window size : 8.000 (s)\n",
      "Effective window size : 8.000 (s)\n",
      "Effective window size : 8.000 (s)\n",
      "Effective window size : 8.000 (s)\n",
      "Effective window size : 8.000 (s)\n",
      "Effective window size : 8.000 (s)\n",
      "Effective window size : 8.000 (s)\n",
      "처리 중: jung_nback_1.edf\n",
      "Extracting EDF parameters from c:\\Users\\uiseong\\OneDrive\\바탕 화면\\eeg\\EEG_cognitive_load\\EEG_nback_task\\jung_nback_1.edf...\n",
      "EDF file detected\n",
      "Setting channel info structure...\n",
      "Creating raw.info structure...\n",
      "Reading 0 ... 27647  =      0.000 ...   215.992 secs...\n",
      "NOTE: pick_channels() is a legacy function. New code should use inst.pick(...).\n",
      "Filtering raw data in 1 contiguous segment\n",
      "Setting up band-pass filter from 1 - 40 Hz\n",
      "\n",
      "FIR filter parameters\n",
      "---------------------\n",
      "Designing a one-pass, zero-phase, non-causal bandpass filter:\n",
      "- Windowed time-domain design (firwin) method\n",
      "- Hamming window with 0.0194 passband ripple and 53 dB stopband attenuation\n",
      "- Lower passband edge: 1.00\n",
      "- Lower transition bandwidth: 1.00 Hz (-6 dB cutoff frequency: 0.50 Hz)\n",
      "- Upper passband edge: 40.00 Hz\n",
      "- Upper transition bandwidth: 10.00 Hz (-6 dB cutoff frequency: 45.00 Hz)\n",
      "- Filter length: 423 samples (3.305 s)\n",
      "\n",
      "Filtering raw data in 1 contiguous segment\n",
      "Setting up band-stop filter from 59 - 61 Hz\n",
      "\n",
      "FIR filter parameters\n",
      "---------------------\n",
      "Designing a one-pass, zero-phase, non-causal bandstop filter:\n",
      "- Windowed time-domain design (firwin) method\n",
      "- Hamming window with 0.0194 passband ripple and 53 dB stopband attenuation\n",
      "- Lower passband edge: 59.35\n",
      "- Lower transition bandwidth: 0.50 Hz (-6 dB cutoff frequency: 59.10 Hz)\n",
      "- Upper passband edge: 60.65 Hz\n",
      "- Upper transition bandwidth: 0.50 Hz (-6 dB cutoff frequency: 60.90 Hz)\n",
      "- Filter length: 845 samples (6.602 s)\n",
      "\n",
      "EEG channel type selected for re-referencing\n",
      "Applying average reference.\n",
      "Applying a custom ('EEG',) reference.\n",
      "Not setting metadata\n",
      "72 matching events found\n",
      "No baseline correction applied\n",
      "0 projection items activated\n",
      "Using data from preloaded Raw for 72 events and 384 original time points ...\n",
      "0 bad epochs dropped\n",
      "Running autoreject on ch_type=eeg\n"
     ]
    },
    {
     "data": {
      "application/vnd.jupyter.widget-view+json": {
       "model_id": "38ab00111e614574b86868439193df66",
       "version_major": 2,
       "version_minor": 0
      },
      "text/plain": [
       "  0%|          | Creating augmented epochs : 0/14 [00:00<?,       ?it/s]"
      ]
     },
     "metadata": {},
     "output_type": "display_data"
    },
    {
     "data": {
      "application/vnd.jupyter.widget-view+json": {
       "model_id": "6d8d14519e77499b885d6a302da37816",
       "version_major": 2,
       "version_minor": 0
      },
      "text/plain": [
       "  0%|          | Computing thresholds ... : 0/14 [00:00<?,       ?it/s]"
      ]
     },
     "metadata": {},
     "output_type": "display_data"
    },
    {
     "data": {
      "application/vnd.jupyter.widget-view+json": {
       "model_id": "3e3ecc3795d64f6b92f9b74c135d629d",
       "version_major": 2,
       "version_minor": 0
      },
      "text/plain": [
       "  0%|          | Repairing epochs : 0/72 [00:00<?,       ?it/s]"
      ]
     },
     "metadata": {},
     "output_type": "display_data"
    },
    {
     "data": {
      "application/vnd.jupyter.widget-view+json": {
       "model_id": "002e1f03ac014f87b77acd067b00cf56",
       "version_major": 2,
       "version_minor": 0
      },
      "text/plain": [
       "  0%|          | n_interp : 0/3 [00:00<?,       ?it/s]"
      ]
     },
     "metadata": {},
     "output_type": "display_data"
    },
    {
     "data": {
      "application/vnd.jupyter.widget-view+json": {
       "model_id": "e6c50903bdf748fcb8001e15a1e0b965",
       "version_major": 2,
       "version_minor": 0
      },
      "text/plain": [
       "  0%|          | Repairing epochs : 0/72 [00:00<?,       ?it/s]"
      ]
     },
     "metadata": {},
     "output_type": "display_data"
    },
    {
     "data": {
      "application/vnd.jupyter.widget-view+json": {
       "model_id": "6fd3ecab59c44d2e81190d79d610ffdf",
       "version_major": 2,
       "version_minor": 0
      },
      "text/plain": [
       "  0%|          | Fold : 0/10 [00:00<?,       ?it/s]"
      ]
     },
     "metadata": {},
     "output_type": "display_data"
    },
    {
     "data": {
      "application/vnd.jupyter.widget-view+json": {
       "model_id": "81b28a93765645d1b7a862d162cfc68f",
       "version_major": 2,
       "version_minor": 0
      },
      "text/plain": [
       "  0%|          | Repairing epochs : 0/72 [00:00<?,       ?it/s]"
      ]
     },
     "metadata": {},
     "output_type": "display_data"
    },
    {
     "data": {
      "application/vnd.jupyter.widget-view+json": {
       "model_id": "59b4bdfb58814975ada3277c4d1e048b",
       "version_major": 2,
       "version_minor": 0
      },
      "text/plain": [
       "  0%|          | Fold : 0/10 [00:00<?,       ?it/s]"
      ]
     },
     "metadata": {},
     "output_type": "display_data"
    },
    {
     "data": {
      "application/vnd.jupyter.widget-view+json": {
       "model_id": "670a500a95964d9bb2a28a105267554d",
       "version_major": 2,
       "version_minor": 0
      },
      "text/plain": [
       "  0%|          | Repairing epochs : 0/72 [00:00<?,       ?it/s]"
      ]
     },
     "metadata": {},
     "output_type": "display_data"
    },
    {
     "data": {
      "application/vnd.jupyter.widget-view+json": {
       "model_id": "c5d061f33888499ba992b6a0f76d625c",
       "version_major": 2,
       "version_minor": 0
      },
      "text/plain": [
       "  0%|          | Fold : 0/10 [00:00<?,       ?it/s]"
      ]
     },
     "metadata": {},
     "output_type": "display_data"
    },
    {
     "name": "stdout",
     "output_type": "stream",
     "text": [
      "\n",
      "\n",
      "\n",
      "\n",
      "Estimated consensus=0.50 and n_interpolate=4\n"
     ]
    },
    {
     "data": {
      "application/vnd.jupyter.widget-view+json": {
       "model_id": "529e04a77d8540d2a01c3bde426047e1",
       "version_major": 2,
       "version_minor": 0
      },
      "text/plain": [
       "  0%|          | Repairing epochs : 0/72 [00:00<?,       ?it/s]"
      ]
     },
     "metadata": {},
     "output_type": "display_data"
    },
    {
     "name": "stdout",
     "output_type": "stream",
     "text": [
      "Dropped 14 epochs: 0, 1, 2, 22, 23, 24, 25, 26, 29, 43, 44, 62, 66, 67\n",
      "Fitting ICA to data using 14 channels (please be patient, this may take a while)\n",
      "Selecting by non-zero PCA components: 13 components\n",
      "Fitting ICA took 0.1s.\n"
     ]
    },
    {
     "name": "stderr",
     "output_type": "stream",
     "text": [
      "C:\\Users\\uiseong\\AppData\\Local\\Temp\\ipykernel_21640\\2351929479.py:53: RuntimeWarning: The provided Raw instance is not filtered between 1 and 100 Hz. ICLabel was designed to classify features extracted from an EEG dataset bandpass filtered between 1 and 100 Hz (see the 'filter()' method for Raw and Epochs instances).\n",
      "  ic_labels = label_components(raw, ica, method='iclabel')\n",
      "C:\\Users\\uiseong\\AppData\\Local\\Temp\\ipykernel_21640\\2351929479.py:53: RuntimeWarning: The provided ICA instance was fitted with a 'fastica' algorithm. ICLabel was designed with extended infomax ICA decompositions. To use the extended infomax algorithm, use the 'mne.preprocessing.ICA' instance with the arguments 'ICA(method='infomax', fit_params=dict(extended=True))' (scikit-learn) or 'ICA(method='picard', fit_params=dict(ortho=False, extended=True))' (python-picard).\n",
      "  ic_labels = label_components(raw, ica, method='iclabel')\n"
     ]
    },
    {
     "name": "stdout",
     "output_type": "stream",
     "text": [
      "Applying ICA to Raw instance\n",
      "    Transforming to ICA space (13 components)\n",
      "    Zeroing out 3 ICA components\n",
      "    Projecting back using 14 PCA components\n",
      "자동 제거될 성분: [1, 4, 5]\n",
      "Effective window size : 8.000 (s)\n",
      "Effective window size : 8.000 (s)\n",
      "Effective window size : 8.000 (s)\n",
      "Effective window size : 8.000 (s)\n",
      "Effective window size : 8.000 (s)\n",
      "Effective window size : 8.000 (s)\n",
      "Effective window size : 8.000 (s)\n",
      "Effective window size : 8.000 (s)\n",
      "Effective window size : 8.000 (s)\n",
      "Effective window size : 8.000 (s)\n",
      "Effective window size : 8.000 (s)\n",
      "Effective window size : 8.000 (s)\n",
      "처리 중: jung_nback_2.edf\n",
      "Extracting EDF parameters from c:\\Users\\uiseong\\OneDrive\\바탕 화면\\eeg\\EEG_cognitive_load\\EEG_nback_task\\jung_nback_2.edf...\n",
      "EDF file detected\n",
      "Setting channel info structure...\n",
      "Creating raw.info structure...\n",
      "Reading 0 ... 25087  =      0.000 ...   195.992 secs...\n",
      "NOTE: pick_channels() is a legacy function. New code should use inst.pick(...).\n",
      "Filtering raw data in 1 contiguous segment\n",
      "Setting up band-pass filter from 1 - 40 Hz\n",
      "\n",
      "FIR filter parameters\n",
      "---------------------\n",
      "Designing a one-pass, zero-phase, non-causal bandpass filter:\n",
      "- Windowed time-domain design (firwin) method\n",
      "- Hamming window with 0.0194 passband ripple and 53 dB stopband attenuation\n",
      "- Lower passband edge: 1.00\n",
      "- Lower transition bandwidth: 1.00 Hz (-6 dB cutoff frequency: 0.50 Hz)\n",
      "- Upper passband edge: 40.00 Hz\n",
      "- Upper transition bandwidth: 10.00 Hz (-6 dB cutoff frequency: 45.00 Hz)\n",
      "- Filter length: 423 samples (3.305 s)\n",
      "\n",
      "Filtering raw data in 1 contiguous segment\n",
      "Setting up band-stop filter from 59 - 61 Hz\n",
      "\n",
      "FIR filter parameters\n",
      "---------------------\n",
      "Designing a one-pass, zero-phase, non-causal bandstop filter:\n",
      "- Windowed time-domain design (firwin) method\n",
      "- Hamming window with 0.0194 passband ripple and 53 dB stopband attenuation\n",
      "- Lower passband edge: 59.35\n",
      "- Lower transition bandwidth: 0.50 Hz (-6 dB cutoff frequency: 59.10 Hz)\n",
      "- Upper passband edge: 60.65 Hz\n",
      "- Upper transition bandwidth: 0.50 Hz (-6 dB cutoff frequency: 60.90 Hz)\n",
      "- Filter length: 845 samples (6.602 s)\n",
      "\n",
      "EEG channel type selected for re-referencing\n",
      "Applying average reference.\n",
      "Applying a custom ('EEG',) reference.\n",
      "Not setting metadata\n",
      "65 matching events found\n",
      "No baseline correction applied\n",
      "0 projection items activated\n",
      "Using data from preloaded Raw for 65 events and 384 original time points ...\n",
      "0 bad epochs dropped\n",
      "Running autoreject on ch_type=eeg\n"
     ]
    },
    {
     "data": {
      "application/vnd.jupyter.widget-view+json": {
       "model_id": "6677e9aca8d4492f85bac1ee7358aeb3",
       "version_major": 2,
       "version_minor": 0
      },
      "text/plain": [
       "  0%|          | Creating augmented epochs : 0/14 [00:00<?,       ?it/s]"
      ]
     },
     "metadata": {},
     "output_type": "display_data"
    },
    {
     "data": {
      "application/vnd.jupyter.widget-view+json": {
       "model_id": "56376df91f294761a931b24de7bc9c8d",
       "version_major": 2,
       "version_minor": 0
      },
      "text/plain": [
       "  0%|          | Computing thresholds ... : 0/14 [00:00<?,       ?it/s]"
      ]
     },
     "metadata": {},
     "output_type": "display_data"
    },
    {
     "data": {
      "application/vnd.jupyter.widget-view+json": {
       "model_id": "4cb1a6f7dd10487dba833ddf774ad1a9",
       "version_major": 2,
       "version_minor": 0
      },
      "text/plain": [
       "  0%|          | Repairing epochs : 0/65 [00:00<?,       ?it/s]"
      ]
     },
     "metadata": {},
     "output_type": "display_data"
    },
    {
     "data": {
      "application/vnd.jupyter.widget-view+json": {
       "model_id": "6c6c372d69b14569ab6263ec33014391",
       "version_major": 2,
       "version_minor": 0
      },
      "text/plain": [
       "  0%|          | n_interp : 0/3 [00:00<?,       ?it/s]"
      ]
     },
     "metadata": {},
     "output_type": "display_data"
    },
    {
     "data": {
      "application/vnd.jupyter.widget-view+json": {
       "model_id": "195bff1d155d44c49407f33decc5d8e5",
       "version_major": 2,
       "version_minor": 0
      },
      "text/plain": [
       "  0%|          | Repairing epochs : 0/65 [00:00<?,       ?it/s]"
      ]
     },
     "metadata": {},
     "output_type": "display_data"
    },
    {
     "data": {
      "application/vnd.jupyter.widget-view+json": {
       "model_id": "bb9c292d82484b5fa6f1ed7e2c6bdd03",
       "version_major": 2,
       "version_minor": 0
      },
      "text/plain": [
       "  0%|          | Fold : 0/10 [00:00<?,       ?it/s]"
      ]
     },
     "metadata": {},
     "output_type": "display_data"
    },
    {
     "data": {
      "application/vnd.jupyter.widget-view+json": {
       "model_id": "a28ba35439a7491fb154304b0da47cc2",
       "version_major": 2,
       "version_minor": 0
      },
      "text/plain": [
       "  0%|          | Repairing epochs : 0/65 [00:00<?,       ?it/s]"
      ]
     },
     "metadata": {},
     "output_type": "display_data"
    },
    {
     "data": {
      "application/vnd.jupyter.widget-view+json": {
       "model_id": "076a3f537df5451b8b99d35480bbca12",
       "version_major": 2,
       "version_minor": 0
      },
      "text/plain": [
       "  0%|          | Fold : 0/10 [00:00<?,       ?it/s]"
      ]
     },
     "metadata": {},
     "output_type": "display_data"
    },
    {
     "data": {
      "application/vnd.jupyter.widget-view+json": {
       "model_id": "e8ee06427d27478eafd76851642b320e",
       "version_major": 2,
       "version_minor": 0
      },
      "text/plain": [
       "  0%|          | Repairing epochs : 0/65 [00:00<?,       ?it/s]"
      ]
     },
     "metadata": {},
     "output_type": "display_data"
    },
    {
     "name": "stderr",
     "output_type": "stream",
     "text": [
      "c:\\Users\\uiseong\\anaconda3\\envs\\mne\\Lib\\site-packages\\mne\\bem.py:1115: RuntimeWarning: Mean of empty slice.\n",
      "  radius_init = radii.mean()\n",
      "c:\\Users\\uiseong\\anaconda3\\envs\\mne\\Lib\\site-packages\\numpy\\core\\_methods.py:129: RuntimeWarning: invalid value encountered in scalar divide\n",
      "  ret = ret.dtype.type(ret / rcount)\n",
      "c:\\Users\\uiseong\\anaconda3\\envs\\mne\\Lib\\site-packages\\numpy\\core\\fromnumeric.py:3504: RuntimeWarning: Mean of empty slice.\n",
      "  return _methods._mean(a, axis=axis, dtype=dtype,\n",
      "c:\\Users\\uiseong\\anaconda3\\envs\\mne\\Lib\\site-packages\\numpy\\core\\_methods.py:121: RuntimeWarning: invalid value encountered in divide\n",
      "  ret = um.true_divide(\n"
     ]
    },
    {
     "data": {
      "application/vnd.jupyter.widget-view+json": {
       "model_id": "3994e35dc2fc42158100de551382c283",
       "version_major": 2,
       "version_minor": 0
      },
      "text/plain": [
       "  0%|          | Fold : 0/10 [00:00<?,       ?it/s]"
      ]
     },
     "metadata": {},
     "output_type": "display_data"
    },
    {
     "name": "stdout",
     "output_type": "stream",
     "text": [
      "\n",
      "\n",
      "\n",
      "\n",
      "Estimated consensus=0.80 and n_interpolate=4\n"
     ]
    },
    {
     "data": {
      "application/vnd.jupyter.widget-view+json": {
       "model_id": "a3bf7a9816b14a32a048450fa9d69d12",
       "version_major": 2,
       "version_minor": 0
      },
      "text/plain": [
       "  0%|          | Repairing epochs : 0/65 [00:00<?,       ?it/s]"
      ]
     },
     "metadata": {},
     "output_type": "display_data"
    },
    {
     "name": "stdout",
     "output_type": "stream",
     "text": [
      "Dropped 3 epochs: 0, 37, 58\n",
      "Fitting ICA to data using 14 channels (please be patient, this may take a while)\n",
      "Selecting by non-zero PCA components: 13 components\n",
      "Fitting ICA took 0.1s.\n"
     ]
    },
    {
     "name": "stderr",
     "output_type": "stream",
     "text": [
      "C:\\Users\\uiseong\\AppData\\Local\\Temp\\ipykernel_21640\\2351929479.py:53: RuntimeWarning: The provided Raw instance is not filtered between 1 and 100 Hz. ICLabel was designed to classify features extracted from an EEG dataset bandpass filtered between 1 and 100 Hz (see the 'filter()' method for Raw and Epochs instances).\n",
      "  ic_labels = label_components(raw, ica, method='iclabel')\n",
      "C:\\Users\\uiseong\\AppData\\Local\\Temp\\ipykernel_21640\\2351929479.py:53: RuntimeWarning: The provided ICA instance was fitted with a 'fastica' algorithm. ICLabel was designed with extended infomax ICA decompositions. To use the extended infomax algorithm, use the 'mne.preprocessing.ICA' instance with the arguments 'ICA(method='infomax', fit_params=dict(extended=True))' (scikit-learn) or 'ICA(method='picard', fit_params=dict(ortho=False, extended=True))' (python-picard).\n",
      "  ic_labels = label_components(raw, ica, method='iclabel')\n"
     ]
    },
    {
     "name": "stdout",
     "output_type": "stream",
     "text": [
      "Applying ICA to Raw instance\n",
      "    Transforming to ICA space (13 components)\n",
      "    Zeroing out 2 ICA components\n",
      "    Projecting back using 14 PCA components\n",
      "자동 제거될 성분: [1, 4]\n",
      "Effective window size : 8.000 (s)\n",
      "Effective window size : 8.000 (s)\n",
      "Effective window size : 8.000 (s)\n",
      "Effective window size : 8.000 (s)\n",
      "Effective window size : 8.000 (s)\n",
      "Effective window size : 8.000 (s)\n",
      "Effective window size : 8.000 (s)\n",
      "Effective window size : 8.000 (s)\n",
      "Effective window size : 8.000 (s)\n",
      "Effective window size : 8.000 (s)\n",
      "Effective window size : 8.000 (s)\n",
      "Effective window size : 8.000 (s)\n",
      "처리 중: jung_nback_3.edf\n",
      "Extracting EDF parameters from c:\\Users\\uiseong\\OneDrive\\바탕 화면\\eeg\\EEG_cognitive_load\\EEG_nback_task\\jung_nback_3.edf...\n",
      "EDF file detected\n",
      "Setting channel info structure...\n",
      "Creating raw.info structure...\n",
      "Reading 0 ... 24959  =      0.000 ...   194.992 secs...\n",
      "NOTE: pick_channels() is a legacy function. New code should use inst.pick(...).\n",
      "Filtering raw data in 1 contiguous segment\n",
      "Setting up band-pass filter from 1 - 40 Hz\n",
      "\n",
      "FIR filter parameters\n",
      "---------------------\n",
      "Designing a one-pass, zero-phase, non-causal bandpass filter:\n",
      "- Windowed time-domain design (firwin) method\n",
      "- Hamming window with 0.0194 passband ripple and 53 dB stopband attenuation\n",
      "- Lower passband edge: 1.00\n",
      "- Lower transition bandwidth: 1.00 Hz (-6 dB cutoff frequency: 0.50 Hz)\n",
      "- Upper passband edge: 40.00 Hz\n",
      "- Upper transition bandwidth: 10.00 Hz (-6 dB cutoff frequency: 45.00 Hz)\n",
      "- Filter length: 423 samples (3.305 s)\n",
      "\n",
      "Filtering raw data in 1 contiguous segment\n",
      "Setting up band-stop filter from 59 - 61 Hz\n",
      "\n",
      "FIR filter parameters\n",
      "---------------------\n",
      "Designing a one-pass, zero-phase, non-causal bandstop filter:\n",
      "- Windowed time-domain design (firwin) method\n",
      "- Hamming window with 0.0194 passband ripple and 53 dB stopband attenuation\n",
      "- Lower passband edge: 59.35\n",
      "- Lower transition bandwidth: 0.50 Hz (-6 dB cutoff frequency: 59.10 Hz)\n",
      "- Upper passband edge: 60.65 Hz\n",
      "- Upper transition bandwidth: 0.50 Hz (-6 dB cutoff frequency: 60.90 Hz)\n",
      "- Filter length: 845 samples (6.602 s)\n",
      "\n",
      "EEG channel type selected for re-referencing\n",
      "Applying average reference.\n",
      "Applying a custom ('EEG',) reference.\n",
      "Not setting metadata\n",
      "65 matching events found\n",
      "No baseline correction applied\n",
      "0 projection items activated\n",
      "Using data from preloaded Raw for 65 events and 384 original time points ...\n",
      "0 bad epochs dropped\n",
      "Running autoreject on ch_type=eeg\n"
     ]
    },
    {
     "data": {
      "application/vnd.jupyter.widget-view+json": {
       "model_id": "c2dd9965f52b407a9638cd593d8d5bf8",
       "version_major": 2,
       "version_minor": 0
      },
      "text/plain": [
       "  0%|          | Creating augmented epochs : 0/14 [00:00<?,       ?it/s]"
      ]
     },
     "metadata": {},
     "output_type": "display_data"
    },
    {
     "data": {
      "application/vnd.jupyter.widget-view+json": {
       "model_id": "81c1c1d8ef6c44c78bc55f77c9aa0aec",
       "version_major": 2,
       "version_minor": 0
      },
      "text/plain": [
       "  0%|          | Computing thresholds ... : 0/14 [00:00<?,       ?it/s]"
      ]
     },
     "metadata": {},
     "output_type": "display_data"
    },
    {
     "data": {
      "application/vnd.jupyter.widget-view+json": {
       "model_id": "91a8261bf06a4a999816a755488dbf6c",
       "version_major": 2,
       "version_minor": 0
      },
      "text/plain": [
       "  0%|          | Repairing epochs : 0/65 [00:00<?,       ?it/s]"
      ]
     },
     "metadata": {},
     "output_type": "display_data"
    },
    {
     "data": {
      "application/vnd.jupyter.widget-view+json": {
       "model_id": "efffbd988bc24605a39749e5ce20ce66",
       "version_major": 2,
       "version_minor": 0
      },
      "text/plain": [
       "  0%|          | n_interp : 0/3 [00:00<?,       ?it/s]"
      ]
     },
     "metadata": {},
     "output_type": "display_data"
    },
    {
     "data": {
      "application/vnd.jupyter.widget-view+json": {
       "model_id": "bc61fa5f4d6d42ecb230ac8000055a55",
       "version_major": 2,
       "version_minor": 0
      },
      "text/plain": [
       "  0%|          | Repairing epochs : 0/65 [00:00<?,       ?it/s]"
      ]
     },
     "metadata": {},
     "output_type": "display_data"
    },
    {
     "data": {
      "application/vnd.jupyter.widget-view+json": {
       "model_id": "fe9b5d5ba1a348ac8021eb6a80c1f962",
       "version_major": 2,
       "version_minor": 0
      },
      "text/plain": [
       "  0%|          | Fold : 0/10 [00:00<?,       ?it/s]"
      ]
     },
     "metadata": {},
     "output_type": "display_data"
    },
    {
     "data": {
      "application/vnd.jupyter.widget-view+json": {
       "model_id": "f57b8240f93846feb8fe0aec54f84dea",
       "version_major": 2,
       "version_minor": 0
      },
      "text/plain": [
       "  0%|          | Repairing epochs : 0/65 [00:00<?,       ?it/s]"
      ]
     },
     "metadata": {},
     "output_type": "display_data"
    },
    {
     "data": {
      "application/vnd.jupyter.widget-view+json": {
       "model_id": "9007c478ef5b45c0ab7ad7371770167c",
       "version_major": 2,
       "version_minor": 0
      },
      "text/plain": [
       "  0%|          | Fold : 0/10 [00:00<?,       ?it/s]"
      ]
     },
     "metadata": {},
     "output_type": "display_data"
    },
    {
     "data": {
      "application/vnd.jupyter.widget-view+json": {
       "model_id": "212d39719ac64544b35d10d2c6b89b96",
       "version_major": 2,
       "version_minor": 0
      },
      "text/plain": [
       "  0%|          | Repairing epochs : 0/65 [00:00<?,       ?it/s]"
      ]
     },
     "metadata": {},
     "output_type": "display_data"
    },
    {
     "name": "stderr",
     "output_type": "stream",
     "text": [
      "c:\\Users\\uiseong\\anaconda3\\envs\\mne\\Lib\\site-packages\\mne\\bem.py:1115: RuntimeWarning: Mean of empty slice.\n",
      "  radius_init = radii.mean()\n",
      "c:\\Users\\uiseong\\anaconda3\\envs\\mne\\Lib\\site-packages\\numpy\\core\\_methods.py:129: RuntimeWarning: invalid value encountered in scalar divide\n",
      "  ret = ret.dtype.type(ret / rcount)\n",
      "c:\\Users\\uiseong\\anaconda3\\envs\\mne\\Lib\\site-packages\\numpy\\core\\fromnumeric.py:3504: RuntimeWarning: Mean of empty slice.\n",
      "  return _methods._mean(a, axis=axis, dtype=dtype,\n",
      "c:\\Users\\uiseong\\anaconda3\\envs\\mne\\Lib\\site-packages\\numpy\\core\\_methods.py:121: RuntimeWarning: invalid value encountered in divide\n",
      "  ret = um.true_divide(\n"
     ]
    },
    {
     "data": {
      "application/vnd.jupyter.widget-view+json": {
       "model_id": "2f31f629339f4a969a49086a0f9592d3",
       "version_major": 2,
       "version_minor": 0
      },
      "text/plain": [
       "  0%|          | Fold : 0/10 [00:00<?,       ?it/s]"
      ]
     },
     "metadata": {},
     "output_type": "display_data"
    },
    {
     "name": "stdout",
     "output_type": "stream",
     "text": [
      "\n",
      "\n",
      "\n",
      "\n",
      "Estimated consensus=0.60 and n_interpolate=4\n"
     ]
    },
    {
     "data": {
      "application/vnd.jupyter.widget-view+json": {
       "model_id": "6d850105a55c43938cb90d8a31020b7a",
       "version_major": 2,
       "version_minor": 0
      },
      "text/plain": [
       "  0%|          | Repairing epochs : 0/65 [00:00<?,       ?it/s]"
      ]
     },
     "metadata": {},
     "output_type": "display_data"
    },
    {
     "name": "stdout",
     "output_type": "stream",
     "text": [
      "Dropped 9 epochs: 0, 5, 13, 37, 38, 42, 58, 59, 64\n",
      "Fitting ICA to data using 14 channels (please be patient, this may take a while)\n",
      "Selecting by non-zero PCA components: 13 components\n",
      "Fitting ICA took 0.1s.\n"
     ]
    },
    {
     "name": "stderr",
     "output_type": "stream",
     "text": [
      "C:\\Users\\uiseong\\AppData\\Local\\Temp\\ipykernel_21640\\2351929479.py:53: RuntimeWarning: The provided Raw instance is not filtered between 1 and 100 Hz. ICLabel was designed to classify features extracted from an EEG dataset bandpass filtered between 1 and 100 Hz (see the 'filter()' method for Raw and Epochs instances).\n",
      "  ic_labels = label_components(raw, ica, method='iclabel')\n",
      "C:\\Users\\uiseong\\AppData\\Local\\Temp\\ipykernel_21640\\2351929479.py:53: RuntimeWarning: The provided ICA instance was fitted with a 'fastica' algorithm. ICLabel was designed with extended infomax ICA decompositions. To use the extended infomax algorithm, use the 'mne.preprocessing.ICA' instance with the arguments 'ICA(method='infomax', fit_params=dict(extended=True))' (scikit-learn) or 'ICA(method='picard', fit_params=dict(ortho=False, extended=True))' (python-picard).\n",
      "  ic_labels = label_components(raw, ica, method='iclabel')\n"
     ]
    },
    {
     "name": "stdout",
     "output_type": "stream",
     "text": [
      "Applying ICA to Raw instance\n",
      "    Transforming to ICA space (13 components)\n",
      "    Zeroing out 3 ICA components\n",
      "    Projecting back using 14 PCA components\n",
      "자동 제거될 성분: [0, 3, 9]\n",
      "Effective window size : 8.000 (s)\n",
      "Effective window size : 8.000 (s)\n",
      "Effective window size : 8.000 (s)\n",
      "Effective window size : 8.000 (s)\n",
      "Effective window size : 8.000 (s)\n",
      "Effective window size : 8.000 (s)\n",
      "Effective window size : 8.000 (s)\n",
      "Effective window size : 8.000 (s)\n",
      "Effective window size : 8.000 (s)\n",
      "Effective window size : 8.000 (s)\n",
      "Effective window size : 8.000 (s)\n",
      "Effective window size : 8.000 (s)\n",
      "처리 중: song_nback_1.edf\n",
      "Extracting EDF parameters from c:\\Users\\uiseong\\OneDrive\\바탕 화면\\eeg\\EEG_cognitive_load\\EEG_nback_task\\song_nback_1.edf...\n",
      "EDF file detected\n",
      "Setting channel info structure...\n",
      "Creating raw.info structure...\n",
      "Reading 0 ... 31487  =      0.000 ...   245.992 secs...\n",
      "NOTE: pick_channels() is a legacy function. New code should use inst.pick(...).\n",
      "Filtering raw data in 1 contiguous segment\n",
      "Setting up band-pass filter from 1 - 40 Hz\n",
      "\n",
      "FIR filter parameters\n",
      "---------------------\n",
      "Designing a one-pass, zero-phase, non-causal bandpass filter:\n",
      "- Windowed time-domain design (firwin) method\n",
      "- Hamming window with 0.0194 passband ripple and 53 dB stopband attenuation\n",
      "- Lower passband edge: 1.00\n",
      "- Lower transition bandwidth: 1.00 Hz (-6 dB cutoff frequency: 0.50 Hz)\n",
      "- Upper passband edge: 40.00 Hz\n",
      "- Upper transition bandwidth: 10.00 Hz (-6 dB cutoff frequency: 45.00 Hz)\n",
      "- Filter length: 423 samples (3.305 s)\n",
      "\n",
      "Filtering raw data in 1 contiguous segment\n",
      "Setting up band-stop filter from 59 - 61 Hz\n",
      "\n",
      "FIR filter parameters\n",
      "---------------------\n",
      "Designing a one-pass, zero-phase, non-causal bandstop filter:\n",
      "- Windowed time-domain design (firwin) method\n",
      "- Hamming window with 0.0194 passband ripple and 53 dB stopband attenuation\n",
      "- Lower passband edge: 59.35\n",
      "- Lower transition bandwidth: 0.50 Hz (-6 dB cutoff frequency: 59.10 Hz)\n",
      "- Upper passband edge: 60.65 Hz\n",
      "- Upper transition bandwidth: 0.50 Hz (-6 dB cutoff frequency: 60.90 Hz)\n",
      "- Filter length: 845 samples (6.602 s)\n",
      "\n",
      "EEG channel type selected for re-referencing\n",
      "Applying average reference.\n",
      "Applying a custom ('EEG',) reference.\n",
      "Not setting metadata\n",
      "82 matching events found\n",
      "No baseline correction applied\n",
      "0 projection items activated\n",
      "Using data from preloaded Raw for 82 events and 384 original time points ...\n",
      "0 bad epochs dropped\n",
      "Running autoreject on ch_type=eeg\n"
     ]
    },
    {
     "data": {
      "application/vnd.jupyter.widget-view+json": {
       "model_id": "4f0e95e510a049359bc39d177eef15ff",
       "version_major": 2,
       "version_minor": 0
      },
      "text/plain": [
       "  0%|          | Creating augmented epochs : 0/14 [00:00<?,       ?it/s]"
      ]
     },
     "metadata": {},
     "output_type": "display_data"
    },
    {
     "data": {
      "application/vnd.jupyter.widget-view+json": {
       "model_id": "dfb3bb05391b4ff78fa1447e77db10f5",
       "version_major": 2,
       "version_minor": 0
      },
      "text/plain": [
       "  0%|          | Computing thresholds ... : 0/14 [00:00<?,       ?it/s]"
      ]
     },
     "metadata": {},
     "output_type": "display_data"
    },
    {
     "data": {
      "application/vnd.jupyter.widget-view+json": {
       "model_id": "6eda3fdcfa78428bb1ec6d10a7a1737f",
       "version_major": 2,
       "version_minor": 0
      },
      "text/plain": [
       "  0%|          | Repairing epochs : 0/82 [00:00<?,       ?it/s]"
      ]
     },
     "metadata": {},
     "output_type": "display_data"
    },
    {
     "data": {
      "application/vnd.jupyter.widget-view+json": {
       "model_id": "4f8232b4709c495fbc67d8f65b9d86ed",
       "version_major": 2,
       "version_minor": 0
      },
      "text/plain": [
       "  0%|          | n_interp : 0/3 [00:00<?,       ?it/s]"
      ]
     },
     "metadata": {},
     "output_type": "display_data"
    },
    {
     "data": {
      "application/vnd.jupyter.widget-view+json": {
       "model_id": "7e3cc727bfa842ca957e5cd5066eafdb",
       "version_major": 2,
       "version_minor": 0
      },
      "text/plain": [
       "  0%|          | Repairing epochs : 0/82 [00:00<?,       ?it/s]"
      ]
     },
     "metadata": {},
     "output_type": "display_data"
    },
    {
     "data": {
      "application/vnd.jupyter.widget-view+json": {
       "model_id": "20fb16f6874a46098eb728b69f26e224",
       "version_major": 2,
       "version_minor": 0
      },
      "text/plain": [
       "  0%|          | Fold : 0/10 [00:00<?,       ?it/s]"
      ]
     },
     "metadata": {},
     "output_type": "display_data"
    },
    {
     "data": {
      "application/vnd.jupyter.widget-view+json": {
       "model_id": "a88a51d79bf34fddb0a480cec1d51d7c",
       "version_major": 2,
       "version_minor": 0
      },
      "text/plain": [
       "  0%|          | Repairing epochs : 0/82 [00:00<?,       ?it/s]"
      ]
     },
     "metadata": {},
     "output_type": "display_data"
    },
    {
     "data": {
      "application/vnd.jupyter.widget-view+json": {
       "model_id": "849b77154f774181aa4837895ed881c1",
       "version_major": 2,
       "version_minor": 0
      },
      "text/plain": [
       "  0%|          | Fold : 0/10 [00:00<?,       ?it/s]"
      ]
     },
     "metadata": {},
     "output_type": "display_data"
    },
    {
     "data": {
      "application/vnd.jupyter.widget-view+json": {
       "model_id": "d19a6bd875b04799abc8999c8b856d19",
       "version_major": 2,
       "version_minor": 0
      },
      "text/plain": [
       "  0%|          | Repairing epochs : 0/82 [00:00<?,       ?it/s]"
      ]
     },
     "metadata": {},
     "output_type": "display_data"
    },
    {
     "data": {
      "application/vnd.jupyter.widget-view+json": {
       "model_id": "c3f7c98cdd0b411faa1b617e9ee8f278",
       "version_major": 2,
       "version_minor": 0
      },
      "text/plain": [
       "  0%|          | Fold : 0/10 [00:00<?,       ?it/s]"
      ]
     },
     "metadata": {},
     "output_type": "display_data"
    },
    {
     "name": "stdout",
     "output_type": "stream",
     "text": [
      "\n",
      "\n",
      "\n",
      "\n",
      "Estimated consensus=0.60 and n_interpolate=4\n"
     ]
    },
    {
     "data": {
      "application/vnd.jupyter.widget-view+json": {
       "model_id": "81caedc54ca94b2e9f3cc1a750899421",
       "version_major": 2,
       "version_minor": 0
      },
      "text/plain": [
       "  0%|          | Repairing epochs : 0/82 [00:00<?,       ?it/s]"
      ]
     },
     "metadata": {},
     "output_type": "display_data"
    },
    {
     "name": "stdout",
     "output_type": "stream",
     "text": [
      "No bad epochs were found for your data. Returning a copy of the data you wanted to clean. Interpolation may have been done.\n",
      "Fitting ICA to data using 14 channels (please be patient, this may take a while)\n",
      "Selecting by non-zero PCA components: 13 components\n",
      "Fitting ICA took 0.2s.\n"
     ]
    },
    {
     "name": "stderr",
     "output_type": "stream",
     "text": [
      "C:\\Users\\uiseong\\AppData\\Local\\Temp\\ipykernel_21640\\2351929479.py:53: RuntimeWarning: The provided Raw instance is not filtered between 1 and 100 Hz. ICLabel was designed to classify features extracted from an EEG dataset bandpass filtered between 1 and 100 Hz (see the 'filter()' method for Raw and Epochs instances).\n",
      "  ic_labels = label_components(raw, ica, method='iclabel')\n",
      "C:\\Users\\uiseong\\AppData\\Local\\Temp\\ipykernel_21640\\2351929479.py:53: RuntimeWarning: The provided ICA instance was fitted with a 'fastica' algorithm. ICLabel was designed with extended infomax ICA decompositions. To use the extended infomax algorithm, use the 'mne.preprocessing.ICA' instance with the arguments 'ICA(method='infomax', fit_params=dict(extended=True))' (scikit-learn) or 'ICA(method='picard', fit_params=dict(ortho=False, extended=True))' (python-picard).\n",
      "  ic_labels = label_components(raw, ica, method='iclabel')\n"
     ]
    },
    {
     "name": "stdout",
     "output_type": "stream",
     "text": [
      "Applying ICA to Raw instance\n",
      "    Transforming to ICA space (13 components)\n",
      "    Zeroing out 2 ICA components\n",
      "    Projecting back using 14 PCA components\n",
      "자동 제거될 성분: [0, 2]\n",
      "Effective window size : 8.000 (s)\n",
      "Effective window size : 8.000 (s)\n",
      "Effective window size : 8.000 (s)\n",
      "Effective window size : 8.000 (s)\n",
      "Effective window size : 8.000 (s)\n",
      "Effective window size : 8.000 (s)\n",
      "Effective window size : 8.000 (s)\n",
      "Effective window size : 8.000 (s)\n",
      "Effective window size : 8.000 (s)\n",
      "Effective window size : 8.000 (s)\n",
      "Effective window size : 8.000 (s)\n",
      "Effective window size : 8.000 (s)\n",
      "처리 중: song_nback_2.edf\n",
      "Extracting EDF parameters from c:\\Users\\uiseong\\OneDrive\\바탕 화면\\eeg\\EEG_cognitive_load\\EEG_nback_task\\song_nback_2.edf...\n",
      "EDF file detected\n",
      "Setting channel info structure...\n",
      "Creating raw.info structure...\n",
      "Reading 0 ... 24703  =      0.000 ...   192.992 secs...\n",
      "NOTE: pick_channels() is a legacy function. New code should use inst.pick(...).\n",
      "Filtering raw data in 1 contiguous segment\n",
      "Setting up band-pass filter from 1 - 40 Hz\n",
      "\n",
      "FIR filter parameters\n",
      "---------------------\n",
      "Designing a one-pass, zero-phase, non-causal bandpass filter:\n",
      "- Windowed time-domain design (firwin) method\n",
      "- Hamming window with 0.0194 passband ripple and 53 dB stopband attenuation\n",
      "- Lower passband edge: 1.00\n",
      "- Lower transition bandwidth: 1.00 Hz (-6 dB cutoff frequency: 0.50 Hz)\n",
      "- Upper passband edge: 40.00 Hz\n",
      "- Upper transition bandwidth: 10.00 Hz (-6 dB cutoff frequency: 45.00 Hz)\n",
      "- Filter length: 423 samples (3.305 s)\n",
      "\n",
      "Filtering raw data in 1 contiguous segment\n",
      "Setting up band-stop filter from 59 - 61 Hz\n",
      "\n",
      "FIR filter parameters\n",
      "---------------------\n",
      "Designing a one-pass, zero-phase, non-causal bandstop filter:\n",
      "- Windowed time-domain design (firwin) method\n",
      "- Hamming window with 0.0194 passband ripple and 53 dB stopband attenuation\n",
      "- Lower passband edge: 59.35\n",
      "- Lower transition bandwidth: 0.50 Hz (-6 dB cutoff frequency: 59.10 Hz)\n",
      "- Upper passband edge: 60.65 Hz\n",
      "- Upper transition bandwidth: 0.50 Hz (-6 dB cutoff frequency: 60.90 Hz)\n",
      "- Filter length: 845 samples (6.602 s)\n",
      "\n",
      "EEG channel type selected for re-referencing\n",
      "Applying average reference.\n",
      "Applying a custom ('EEG',) reference.\n",
      "Not setting metadata\n",
      "64 matching events found\n",
      "No baseline correction applied\n",
      "0 projection items activated\n",
      "Using data from preloaded Raw for 64 events and 384 original time points ...\n",
      "0 bad epochs dropped\n",
      "Running autoreject on ch_type=eeg\n"
     ]
    },
    {
     "data": {
      "application/vnd.jupyter.widget-view+json": {
       "model_id": "4840ba49eb0d41b69f1808e0de90a849",
       "version_major": 2,
       "version_minor": 0
      },
      "text/plain": [
       "  0%|          | Creating augmented epochs : 0/14 [00:00<?,       ?it/s]"
      ]
     },
     "metadata": {},
     "output_type": "display_data"
    },
    {
     "data": {
      "application/vnd.jupyter.widget-view+json": {
       "model_id": "4665ed7f75614d359be7f455b5e768ca",
       "version_major": 2,
       "version_minor": 0
      },
      "text/plain": [
       "  0%|          | Computing thresholds ... : 0/14 [00:00<?,       ?it/s]"
      ]
     },
     "metadata": {},
     "output_type": "display_data"
    },
    {
     "data": {
      "application/vnd.jupyter.widget-view+json": {
       "model_id": "d02ab552f41d4954ad17e54e86ed13c3",
       "version_major": 2,
       "version_minor": 0
      },
      "text/plain": [
       "  0%|          | Repairing epochs : 0/64 [00:00<?,       ?it/s]"
      ]
     },
     "metadata": {},
     "output_type": "display_data"
    },
    {
     "data": {
      "application/vnd.jupyter.widget-view+json": {
       "model_id": "6dbc1f93433f4965ad243b1748b4bed6",
       "version_major": 2,
       "version_minor": 0
      },
      "text/plain": [
       "  0%|          | n_interp : 0/3 [00:00<?,       ?it/s]"
      ]
     },
     "metadata": {},
     "output_type": "display_data"
    },
    {
     "data": {
      "application/vnd.jupyter.widget-view+json": {
       "model_id": "c809b8b13b1047e1b565f02cfe8e663a",
       "version_major": 2,
       "version_minor": 0
      },
      "text/plain": [
       "  0%|          | Repairing epochs : 0/64 [00:00<?,       ?it/s]"
      ]
     },
     "metadata": {},
     "output_type": "display_data"
    },
    {
     "data": {
      "application/vnd.jupyter.widget-view+json": {
       "model_id": "b54c5f1562074f458241346033db5697",
       "version_major": 2,
       "version_minor": 0
      },
      "text/plain": [
       "  0%|          | Fold : 0/10 [00:00<?,       ?it/s]"
      ]
     },
     "metadata": {},
     "output_type": "display_data"
    },
    {
     "data": {
      "application/vnd.jupyter.widget-view+json": {
       "model_id": "7af59bbe6b4442c3826ba59f41126160",
       "version_major": 2,
       "version_minor": 0
      },
      "text/plain": [
       "  0%|          | Repairing epochs : 0/64 [00:00<?,       ?it/s]"
      ]
     },
     "metadata": {},
     "output_type": "display_data"
    },
    {
     "data": {
      "application/vnd.jupyter.widget-view+json": {
       "model_id": "0a24be0a414b43629281398715b594c8",
       "version_major": 2,
       "version_minor": 0
      },
      "text/plain": [
       "  0%|          | Fold : 0/10 [00:00<?,       ?it/s]"
      ]
     },
     "metadata": {},
     "output_type": "display_data"
    },
    {
     "data": {
      "application/vnd.jupyter.widget-view+json": {
       "model_id": "52a8bcb617db4b13a4973127d5e5b30b",
       "version_major": 2,
       "version_minor": 0
      },
      "text/plain": [
       "  0%|          | Repairing epochs : 0/64 [00:00<?,       ?it/s]"
      ]
     },
     "metadata": {},
     "output_type": "display_data"
    },
    {
     "name": "stderr",
     "output_type": "stream",
     "text": [
      "c:\\Users\\uiseong\\anaconda3\\envs\\mne\\Lib\\site-packages\\mne\\bem.py:1115: RuntimeWarning: Mean of empty slice.\n",
      "  radius_init = radii.mean()\n",
      "c:\\Users\\uiseong\\anaconda3\\envs\\mne\\Lib\\site-packages\\numpy\\core\\_methods.py:129: RuntimeWarning: invalid value encountered in scalar divide\n",
      "  ret = ret.dtype.type(ret / rcount)\n",
      "c:\\Users\\uiseong\\anaconda3\\envs\\mne\\Lib\\site-packages\\numpy\\core\\fromnumeric.py:3504: RuntimeWarning: Mean of empty slice.\n",
      "  return _methods._mean(a, axis=axis, dtype=dtype,\n",
      "c:\\Users\\uiseong\\anaconda3\\envs\\mne\\Lib\\site-packages\\numpy\\core\\_methods.py:121: RuntimeWarning: invalid value encountered in divide\n",
      "  ret = um.true_divide(\n"
     ]
    },
    {
     "data": {
      "application/vnd.jupyter.widget-view+json": {
       "model_id": "ad3ae133496048c08a6fad9e2b3dbba8",
       "version_major": 2,
       "version_minor": 0
      },
      "text/plain": [
       "  0%|          | Fold : 0/10 [00:00<?,       ?it/s]"
      ]
     },
     "metadata": {},
     "output_type": "display_data"
    },
    {
     "name": "stdout",
     "output_type": "stream",
     "text": [
      "\n",
      "\n",
      "\n",
      "\n",
      "Estimated consensus=0.60 and n_interpolate=4\n"
     ]
    },
    {
     "data": {
      "application/vnd.jupyter.widget-view+json": {
       "model_id": "4ab24d23caad4f9d9497f3ce50439fde",
       "version_major": 2,
       "version_minor": 0
      },
      "text/plain": [
       "  0%|          | Repairing epochs : 0/64 [00:00<?,       ?it/s]"
      ]
     },
     "metadata": {},
     "output_type": "display_data"
    },
    {
     "name": "stdout",
     "output_type": "stream",
     "text": [
      "Dropped 2 epochs: 10, 20\n",
      "Fitting ICA to data using 14 channels (please be patient, this may take a while)\n",
      "Selecting by non-zero PCA components: 13 components\n",
      "Fitting ICA took 0.2s.\n"
     ]
    },
    {
     "name": "stderr",
     "output_type": "stream",
     "text": [
      "C:\\Users\\uiseong\\AppData\\Local\\Temp\\ipykernel_21640\\2351929479.py:53: RuntimeWarning: The provided Raw instance is not filtered between 1 and 100 Hz. ICLabel was designed to classify features extracted from an EEG dataset bandpass filtered between 1 and 100 Hz (see the 'filter()' method for Raw and Epochs instances).\n",
      "  ic_labels = label_components(raw, ica, method='iclabel')\n",
      "C:\\Users\\uiseong\\AppData\\Local\\Temp\\ipykernel_21640\\2351929479.py:53: RuntimeWarning: The provided ICA instance was fitted with a 'fastica' algorithm. ICLabel was designed with extended infomax ICA decompositions. To use the extended infomax algorithm, use the 'mne.preprocessing.ICA' instance with the arguments 'ICA(method='infomax', fit_params=dict(extended=True))' (scikit-learn) or 'ICA(method='picard', fit_params=dict(ortho=False, extended=True))' (python-picard).\n",
      "  ic_labels = label_components(raw, ica, method='iclabel')\n"
     ]
    },
    {
     "name": "stdout",
     "output_type": "stream",
     "text": [
      "Applying ICA to Raw instance\n",
      "    Transforming to ICA space (13 components)\n",
      "    Zeroing out 3 ICA components\n",
      "    Projecting back using 14 PCA components\n",
      "자동 제거될 성분: [1, 2, 4]\n",
      "Effective window size : 8.000 (s)\n",
      "Effective window size : 8.000 (s)\n",
      "Effective window size : 8.000 (s)\n",
      "Effective window size : 8.000 (s)\n",
      "Effective window size : 8.000 (s)\n",
      "Effective window size : 8.000 (s)\n",
      "Effective window size : 8.000 (s)\n",
      "Effective window size : 8.000 (s)\n",
      "Effective window size : 8.000 (s)\n",
      "Effective window size : 8.000 (s)\n",
      "Effective window size : 8.000 (s)\n",
      "Effective window size : 8.000 (s)\n",
      "처리 중: song_nback_3.edf\n",
      "Extracting EDF parameters from c:\\Users\\uiseong\\OneDrive\\바탕 화면\\eeg\\EEG_cognitive_load\\EEG_nback_task\\song_nback_3.edf...\n",
      "EDF file detected\n",
      "Setting channel info structure...\n",
      "Creating raw.info structure...\n",
      "Reading 0 ... 24703  =      0.000 ...   192.992 secs...\n",
      "NOTE: pick_channels() is a legacy function. New code should use inst.pick(...).\n",
      "Filtering raw data in 1 contiguous segment\n",
      "Setting up band-pass filter from 1 - 40 Hz\n",
      "\n",
      "FIR filter parameters\n",
      "---------------------\n",
      "Designing a one-pass, zero-phase, non-causal bandpass filter:\n",
      "- Windowed time-domain design (firwin) method\n",
      "- Hamming window with 0.0194 passband ripple and 53 dB stopband attenuation\n",
      "- Lower passband edge: 1.00\n",
      "- Lower transition bandwidth: 1.00 Hz (-6 dB cutoff frequency: 0.50 Hz)\n",
      "- Upper passband edge: 40.00 Hz\n",
      "- Upper transition bandwidth: 10.00 Hz (-6 dB cutoff frequency: 45.00 Hz)\n",
      "- Filter length: 423 samples (3.305 s)\n",
      "\n",
      "Filtering raw data in 1 contiguous segment\n",
      "Setting up band-stop filter from 59 - 61 Hz\n",
      "\n",
      "FIR filter parameters\n",
      "---------------------\n",
      "Designing a one-pass, zero-phase, non-causal bandstop filter:\n",
      "- Windowed time-domain design (firwin) method\n",
      "- Hamming window with 0.0194 passband ripple and 53 dB stopband attenuation\n",
      "- Lower passband edge: 59.35\n",
      "- Lower transition bandwidth: 0.50 Hz (-6 dB cutoff frequency: 59.10 Hz)\n",
      "- Upper passband edge: 60.65 Hz\n",
      "- Upper transition bandwidth: 0.50 Hz (-6 dB cutoff frequency: 60.90 Hz)\n",
      "- Filter length: 845 samples (6.602 s)\n",
      "\n",
      "EEG channel type selected for re-referencing\n",
      "Applying average reference.\n",
      "Applying a custom ('EEG',) reference.\n",
      "Not setting metadata\n",
      "64 matching events found\n",
      "No baseline correction applied\n",
      "0 projection items activated\n",
      "Using data from preloaded Raw for 64 events and 384 original time points ...\n",
      "0 bad epochs dropped\n",
      "Running autoreject on ch_type=eeg\n"
     ]
    },
    {
     "data": {
      "application/vnd.jupyter.widget-view+json": {
       "model_id": "5314752ad6784fd987fce26903e02a10",
       "version_major": 2,
       "version_minor": 0
      },
      "text/plain": [
       "  0%|          | Creating augmented epochs : 0/14 [00:00<?,       ?it/s]"
      ]
     },
     "metadata": {},
     "output_type": "display_data"
    },
    {
     "data": {
      "application/vnd.jupyter.widget-view+json": {
       "model_id": "34214f84cf88445380938cfdfeebd429",
       "version_major": 2,
       "version_minor": 0
      },
      "text/plain": [
       "  0%|          | Computing thresholds ... : 0/14 [00:00<?,       ?it/s]"
      ]
     },
     "metadata": {},
     "output_type": "display_data"
    },
    {
     "data": {
      "application/vnd.jupyter.widget-view+json": {
       "model_id": "9259a5d49a8d4bbe966191dbb3880aec",
       "version_major": 2,
       "version_minor": 0
      },
      "text/plain": [
       "  0%|          | Repairing epochs : 0/64 [00:00<?,       ?it/s]"
      ]
     },
     "metadata": {},
     "output_type": "display_data"
    },
    {
     "data": {
      "application/vnd.jupyter.widget-view+json": {
       "model_id": "687f83005e9b475d9357f8baab9d4daf",
       "version_major": 2,
       "version_minor": 0
      },
      "text/plain": [
       "  0%|          | n_interp : 0/3 [00:00<?,       ?it/s]"
      ]
     },
     "metadata": {},
     "output_type": "display_data"
    },
    {
     "data": {
      "application/vnd.jupyter.widget-view+json": {
       "model_id": "92eca7e86b2e4b5d8632b083ed214ed1",
       "version_major": 2,
       "version_minor": 0
      },
      "text/plain": [
       "  0%|          | Repairing epochs : 0/64 [00:00<?,       ?it/s]"
      ]
     },
     "metadata": {},
     "output_type": "display_data"
    },
    {
     "data": {
      "application/vnd.jupyter.widget-view+json": {
       "model_id": "4763f7794ea7455b9eb2ed97d7b9e152",
       "version_major": 2,
       "version_minor": 0
      },
      "text/plain": [
       "  0%|          | Fold : 0/10 [00:00<?,       ?it/s]"
      ]
     },
     "metadata": {},
     "output_type": "display_data"
    },
    {
     "data": {
      "application/vnd.jupyter.widget-view+json": {
       "model_id": "b1d9d4612bf54fc7b5d3b78edc62147e",
       "version_major": 2,
       "version_minor": 0
      },
      "text/plain": [
       "  0%|          | Repairing epochs : 0/64 [00:00<?,       ?it/s]"
      ]
     },
     "metadata": {},
     "output_type": "display_data"
    },
    {
     "data": {
      "application/vnd.jupyter.widget-view+json": {
       "model_id": "c707e11169d147b8bcb7eb08fb6523a2",
       "version_major": 2,
       "version_minor": 0
      },
      "text/plain": [
       "  0%|          | Fold : 0/10 [00:00<?,       ?it/s]"
      ]
     },
     "metadata": {},
     "output_type": "display_data"
    },
    {
     "data": {
      "application/vnd.jupyter.widget-view+json": {
       "model_id": "631fcc3684a94059a7b206b417f49e8a",
       "version_major": 2,
       "version_minor": 0
      },
      "text/plain": [
       "  0%|          | Repairing epochs : 0/64 [00:00<?,       ?it/s]"
      ]
     },
     "metadata": {},
     "output_type": "display_data"
    },
    {
     "data": {
      "application/vnd.jupyter.widget-view+json": {
       "model_id": "beddaad407c64e1dbdbb9e1bdb1ecf4d",
       "version_major": 2,
       "version_minor": 0
      },
      "text/plain": [
       "  0%|          | Fold : 0/10 [00:00<?,       ?it/s]"
      ]
     },
     "metadata": {},
     "output_type": "display_data"
    },
    {
     "name": "stdout",
     "output_type": "stream",
     "text": [
      "\n",
      "\n",
      "\n",
      "\n",
      "Estimated consensus=0.60 and n_interpolate=4\n"
     ]
    },
    {
     "data": {
      "application/vnd.jupyter.widget-view+json": {
       "model_id": "b45b68d947c842e5a32f1be70418bd9e",
       "version_major": 2,
       "version_minor": 0
      },
      "text/plain": [
       "  0%|          | Repairing epochs : 0/64 [00:00<?,       ?it/s]"
      ]
     },
     "metadata": {},
     "output_type": "display_data"
    },
    {
     "name": "stdout",
     "output_type": "stream",
     "text": [
      "Dropped 1 epoch: 21\n",
      "Fitting ICA to data using 14 channels (please be patient, this may take a while)\n",
      "Selecting by non-zero PCA components: 13 components\n",
      "Fitting ICA took 0.2s.\n"
     ]
    },
    {
     "name": "stderr",
     "output_type": "stream",
     "text": [
      "C:\\Users\\uiseong\\AppData\\Local\\Temp\\ipykernel_21640\\2351929479.py:53: RuntimeWarning: The provided Raw instance is not filtered between 1 and 100 Hz. ICLabel was designed to classify features extracted from an EEG dataset bandpass filtered between 1 and 100 Hz (see the 'filter()' method for Raw and Epochs instances).\n",
      "  ic_labels = label_components(raw, ica, method='iclabel')\n",
      "C:\\Users\\uiseong\\AppData\\Local\\Temp\\ipykernel_21640\\2351929479.py:53: RuntimeWarning: The provided ICA instance was fitted with a 'fastica' algorithm. ICLabel was designed with extended infomax ICA decompositions. To use the extended infomax algorithm, use the 'mne.preprocessing.ICA' instance with the arguments 'ICA(method='infomax', fit_params=dict(extended=True))' (scikit-learn) or 'ICA(method='picard', fit_params=dict(ortho=False, extended=True))' (python-picard).\n",
      "  ic_labels = label_components(raw, ica, method='iclabel')\n"
     ]
    },
    {
     "name": "stdout",
     "output_type": "stream",
     "text": [
      "Applying ICA to Raw instance\n",
      "    Transforming to ICA space (13 components)\n",
      "    Zeroing out 2 ICA components\n",
      "    Projecting back using 14 PCA components\n",
      "자동 제거될 성분: [1, 3]\n",
      "Effective window size : 8.000 (s)\n",
      "Effective window size : 8.000 (s)\n",
      "Effective window size : 8.000 (s)\n",
      "Effective window size : 8.000 (s)\n",
      "Effective window size : 8.000 (s)\n",
      "Effective window size : 8.000 (s)\n",
      "Effective window size : 8.000 (s)\n",
      "Effective window size : 8.000 (s)\n",
      "Effective window size : 8.000 (s)\n",
      "Effective window size : 8.000 (s)\n",
      "Effective window size : 8.000 (s)\n",
      "Effective window size : 8.000 (s)\n",
      "모든 사용자/세션에 대한 ERDS 결과가 all_subjects_erds_results.csv에 저장되었습니다.\n",
      "그래프 저장됨: plots/cho_theta_erds_session_average.png\n",
      "그래프 저장됨: plots/cho_alpha_erds_session_average.png\n",
      "그래프 저장됨: plots/taek_theta_erds_session_average.png\n",
      "그래프 저장됨: plots/taek_alpha_erds_session_average.png\n",
      "그래프 저장됨: plots/choi_theta_erds_session_average.png\n",
      "그래프 저장됨: plots/choi_alpha_erds_session_average.png\n",
      "그래프 저장됨: plots/jung_theta_erds_session_average.png\n",
      "그래프 저장됨: plots/jung_alpha_erds_session_average.png\n",
      "그래프 저장됨: plots/song_theta_erds_session_average.png\n",
      "그래프 저장됨: plots/song_alpha_erds_session_average.png\n",
      "\n",
      "=== 세션별 ERDS 요약 ===\n",
      "\n",
      "사용자: cho\n",
      "\n",
      "  Theta Band:\n",
      "    F3:\n",
      "      0back: -4.23 ± 66.53 % (n=3)\n",
      "      2back: 2.51 ± 33.94 % (n=3)\n",
      "      3back: 11.30 ± 24.59 % (n=3)\n",
      "    F4:\n",
      "      0back: 18.50 ± 9.61 % (n=3)\n",
      "      2back: -4.63 ± 19.53 % (n=3)\n",
      "      3back: -6.23 ± 4.22 % (n=3)\n",
      "\n",
      "  Alpha Band:\n",
      "    P7:\n",
      "      0back: 66.74 ± 1.23 % (n=3)\n",
      "      2back: 66.16 ± 2.06 % (n=3)\n",
      "      3back: 62.42 ± 2.26 % (n=3)\n",
      "    P8:\n",
      "      0back: 74.53 ± 3.62 % (n=3)\n",
      "      2back: 77.42 ± 2.01 % (n=3)\n",
      "      3back: 76.43 ± 4.27 % (n=3)\n",
      "\n",
      "사용자: taek\n",
      "\n",
      "  Theta Band:\n",
      "    F3:\n",
      "      0back: -21.22 ± 24.36 % (n=3)\n",
      "      2back: -41.09 ± 28.18 % (n=3)\n",
      "      3back: -48.28 ± 35.56 % (n=3)\n",
      "    F4:\n",
      "      0back: -16.20 ± 10.86 % (n=3)\n",
      "      2back: -34.89 ± 12.89 % (n=3)\n",
      "      3back: -20.82 ± 17.02 % (n=3)\n",
      "\n",
      "  Alpha Band:\n",
      "    P7:\n",
      "      0back: 10.58 ± 10.21 % (n=3)\n",
      "      2back: -7.46 ± 5.34 % (n=3)\n",
      "      3back: -16.21 ± 18.34 % (n=3)\n",
      "    P8:\n",
      "      0back: 2.26 ± 8.77 % (n=3)\n",
      "      2back: -14.60 ± 11.17 % (n=3)\n",
      "      3back: -28.14 ± 40.47 % (n=3)\n",
      "\n",
      "사용자: choi\n",
      "\n",
      "  Theta Band:\n",
      "    F3:\n",
      "      0back: -13.19 ± 10.76 % (n=3)\n",
      "      2back: -14.36 ± 10.14 % (n=3)\n",
      "      3back: 4.26 ± 11.59 % (n=3)\n",
      "    F4:\n",
      "      0back: -9.57 ± 27.65 % (n=3)\n",
      "      2back: 8.64 ± 24.64 % (n=3)\n",
      "      3back: 27.03 ± 6.09 % (n=3)\n",
      "\n",
      "  Alpha Band:\n",
      "    P7:\n",
      "      0back: 54.10 ± 6.91 % (n=3)\n",
      "      2back: 73.16 ± 10.10 % (n=3)\n",
      "      3back: 71.00 ± 9.37 % (n=3)\n",
      "    P8:\n",
      "      0back: 55.71 ± 13.79 % (n=3)\n",
      "      2back: 62.48 ± 6.48 % (n=3)\n",
      "      3back: 62.98 ± 9.38 % (n=3)\n",
      "\n",
      "사용자: jung\n",
      "\n",
      "  Theta Band:\n",
      "    F3:\n",
      "      0back: 13.33 ± 29.66 % (n=3)\n",
      "      2back: 16.39 ± 8.59 % (n=3)\n",
      "      3back: -23.86 ± 40.69 % (n=3)\n",
      "    F4:\n",
      "      0back: 22.09 ± 43.77 % (n=3)\n",
      "      2back: 23.18 ± 40.34 % (n=3)\n",
      "      3back: 19.59 ± 41.29 % (n=3)\n",
      "\n",
      "  Alpha Band:\n",
      "    P7:\n",
      "      0back: 27.77 ± 40.80 % (n=3)\n",
      "      2back: 53.30 ± 17.91 % (n=3)\n",
      "      3back: 41.29 ± 22.02 % (n=3)\n",
      "    P8:\n",
      "      0back: 15.28 ± 32.90 % (n=3)\n",
      "      2back: 50.28 ± 7.85 % (n=3)\n",
      "      3back: 35.78 ± 1.68 % (n=3)\n",
      "\n",
      "사용자: song\n",
      "\n",
      "  Theta Band:\n",
      "    F3:\n",
      "      0back: 12.29 ± 12.56 % (n=3)\n",
      "      2back: 11.89 ± 36.97 % (n=3)\n",
      "      3back: 25.98 ± 31.11 % (n=3)\n",
      "    F4:\n",
      "      0back: 8.09 ± 22.12 % (n=3)\n",
      "      2back: 16.87 ± 33.09 % (n=3)\n",
      "      3back: 31.11 ± 23.13 % (n=3)\n",
      "\n",
      "  Alpha Band:\n",
      "    P7:\n",
      "      0back: 15.79 ± 6.31 % (n=3)\n",
      "      2back: -11.44 ± 12.50 % (n=3)\n",
      "      3back: 27.76 ± 11.61 % (n=3)\n",
      "    P8:\n",
      "      0back: -1.02 ± 35.55 % (n=3)\n",
      "      2back: -39.54 ± 22.68 % (n=3)\n",
      "      3back: 23.69 ± 2.16 % (n=3)\n"
     ]
    }
   ],
   "source": [
    "# 처리할 사용자와 세션 리스트\n",
    "names = ['cho', 'taek', 'choi', 'jung', 'song']  # 여러 명이면 ['choi', 'kim', ...]\n",
    "sessions = ['1', '2', '3']  # 여러 세션이면 ['1', '2', ...]\n",
    "\n",
    "# 결과 저장용\n",
    "all_results = []\n",
    "\n",
    "for name in names:\n",
    "    for session in sessions:\n",
    "        edf_path = Path(f'./EEG_nback_task/{name}_nback_{session}.edf')\n",
    "        marker_path = Path(f'./EEG_nback_task/{name}_nback_{session}_intervalMarker.csv')\n",
    "        if not edf_path.exists() or not marker_path.exists():\n",
    "            print(f\"파일 없음: {edf_path} 또는 {marker_path}\")\n",
    "            continue\n",
    "\n",
    "        print(f\"처리 중: {edf_path.name}\")\n",
    "\n",
    "        # 1. EDF 파일 로드\n",
    "        raw = mne.io.read_raw_edf(str(edf_path), preload=True)\n",
    "        \n",
    "\n",
    "        # 2. 채널 설정 등 전처리 \n",
    "        eeg_channels = ['AF3', 'F7', 'F3', 'FC5', 'T7', 'P7', 'O1', 'O2', 'P8', 'T8', 'FC6', 'F4', 'F8', 'AF4']\n",
    "        raw.pick_channels(eeg_channels)\n",
    "        montage = mne.channels.make_standard_montage('standard_1020')\n",
    "        raw.set_montage(montage, match_case=False)\n",
    "\n",
    "\n",
    "        \n",
    "        raw.filter(l_freq=1, h_freq=40)\n",
    "        raw.notch_filter(freqs=60)\n",
    "        raw.set_eeg_reference('average')\n",
    "\n",
    "        # epochs 생성 \n",
    "        events = mne.make_fixed_length_events(raw, duration=3.0)\n",
    "        epochs = mne.Epochs(\n",
    "            raw, events,\n",
    "            tmin=0, tmax=3.0-1/raw.info['sfreq'],\n",
    "            baseline=None,\n",
    "            preload=True\n",
    "        )\n",
    "\n",
    "        # AutoReject으로 bad channel과 bad epoch 동시 처리\n",
    "        ar = AutoReject(random_state=42)\n",
    "        epochs_clean = ar.fit_transform(epochs)\n",
    "\n",
    "        ica = ICA(n_components=None, random_state=42)\n",
    "        ica.fit(raw)\n",
    "\n",
    "        # ica.plot_sources(raw)\n",
    "\n",
    "        # ICA 성분 자동 분류\n",
    "        ic_labels = label_components(raw, ica, method='iclabel')\n",
    "\n",
    "        # 뇌파가 아닌 성분들 자동 제거\n",
    "        labels = ic_labels['labels']\n",
    "        exclude_idx = [idx for idx, label in enumerate(labels) \n",
    "                       if label in ['eye blink', 'muscle artifact', 'heart beat']]\n",
    "\n",
    "        ica.exclude = exclude_idx\n",
    "        ica.apply(raw)\n",
    "        print(f\"자동 제거될 성분: {exclude_idx}\")\n",
    "\n",
    "        # 3. 마커 파일 로드 및 세그먼트 분할\n",
    "        def load_and_segment_nback_data(raw, marker_file):\n",
    "            markers_df = pd.read_csv(marker_file)\n",
    "\n",
    "            task_starts = markers_df[markers_df['type'] == 'task_start']['latency'].values\n",
    "            task_ends = markers_df[markers_df['type'] == 'task__end']['latency'].values\n",
    "\n",
    "            segments = {'0back': None, 'rest': [], '2back': None, '3back': None}\n",
    "            zero_back_end_idx = np.where(task_starts < task_ends[0])[0][-1]\n",
    "            segments['0back'] = raw.copy().crop(tmin=task_starts[0], tmax=task_ends[0])\n",
    "\n",
    "            rest_start = task_ends[0]\n",
    "            rest_end = task_starts[zero_back_end_idx + 1]\n",
    "            segments['rest'].append(raw.copy().crop(tmin=rest_start, tmax=rest_end))\n",
    "            two_back_end_idx = np.where(task_starts < task_ends[1])[0][-1]\n",
    "            segments['2back'] = raw.copy().crop(tmin=task_starts[zero_back_end_idx + 1], tmax=task_ends[1])\n",
    "\n",
    "            rest_start = task_ends[1]\n",
    "            rest_end = task_starts[two_back_end_idx + 1]\n",
    "            segments['rest'].append(raw.copy().crop(tmin=rest_start, tmax=rest_end))\n",
    "            three_back_end_idx = np.where(task_starts < task_ends[2])[0][-1]\n",
    "            segments['3back'] = raw.copy().crop(tmin=task_starts[two_back_end_idx + 1], tmax=task_ends[2])\n",
    "            rest_start = task_ends[2]\n",
    "\n",
    "            if len(task_starts) > three_back_end_idx + 1:\n",
    "                rest_end = task_starts[three_back_end_idx + 1]\n",
    "            else:\n",
    "                rest_end = raw.times[-1]\n",
    "            segments['rest'].append(raw.copy().crop(tmin=rest_start, tmax=rest_end))\n",
    "\n",
    "            return segments\n",
    "\n",
    "        segments = load_and_segment_nback_data(raw, marker_path)\n",
    "\n",
    "        # 4. ERDS 계산 (예시: theta, alpha 밴드)\n",
    "        def calculate_erds_with_psd(task_raw, rest_raw, fmin, fmax, channels):\n",
    "            task_data = task_raw.copy().pick(channels)\n",
    "            rest_data = rest_raw.copy().pick(channels)\n",
    "            task_psd = task_data.compute_psd(fmin=fmin, fmax=fmax, n_fft=1024, n_overlap=512)\n",
    "            rest_psd = rest_data.compute_psd(fmin=fmin, fmax=fmax, n_fft=1024, n_overlap=512)\n",
    "            freq_mask = (task_psd.freqs >= fmin) & (task_psd.freqs <= fmax)\n",
    "            task_power = task_psd.get_data()[:, freq_mask].mean(axis=1)\n",
    "            rest_power = rest_psd.get_data()[:, freq_mask].mean(axis=1)\n",
    "            erds = (rest_power - task_power) / rest_power * 100\n",
    "            return erds\n",
    "\n",
    "        freq_bands = {'theta': (4, 7), 'alpha': (8, 13)}\n",
    "        channel_groups = {'theta': ['F3', 'F4'], 'alpha': ['P7', 'P8']}\n",
    "        conditions = [\n",
    "            ('0back', 0), ('2back', 1), ('3back', 2)\n",
    "        ]\n",
    "\n",
    "        # rest1만 기준으로 ERDS 계산\n",
    "        rest1 = segments['rest'][0]  # 첫 번째 rest 구간만 사용\n",
    "\n",
    "        for band, (fmin, fmax) in freq_bands.items():\n",
    "            for cond in ['0back', '2back', '3back']:\n",
    "                if segments[cond] is not None and rest1 is not None:\n",
    "                    erds = calculate_erds_with_psd(\n",
    "                        segments[cond], rest1, fmin, fmax, channel_groups[band]\n",
    "                    )\n",
    "                    for ch, val in zip(channel_groups[band], erds):\n",
    "                        all_results.append({\n",
    "                            'name': name,\n",
    "                            'session': session,\n",
    "                            'condition': cond,\n",
    "                            'band': band,\n",
    "                            'channel': ch,\n",
    "                            'erds': val\n",
    "                        })\n",
    "\n",
    "# 결과를 데이터프레임으로 저장\n",
    "df = pd.DataFrame(all_results)\n",
    "df.to_csv('all_subjects_erds_results.csv', index=False)\n",
    "print(\"모든 사용자/세션에 대한 ERDS 결과가 all_subjects_erds_results.csv에 저장되었습니다.\")\n",
    "\n",
    "# 세션별 평균 계산 및 그래프 그리기\n",
    "conditions_list = ['0back', '2back', '3back']\n",
    "bands = ['theta', 'alpha']\n",
    "channels_dict = {'theta': ['F3', 'F4'], 'alpha': ['P7', 'P8']}\n",
    "\n",
    "# 그래프 저장을 위한 디렉토리 생성 (선택사항)\n",
    "import os\n",
    "os.makedirs('plots', exist_ok=True)\n",
    "\n",
    "# 사용자별로 세션 평균 계산 및 그래프 생성\n",
    "for name in df['name'].unique():\n",
    "    user_df = df[df['name'] == name]\n",
    "    \n",
    "    for band in bands:\n",
    "        plt.figure(figsize=(10, 6))\n",
    "        \n",
    "        for ch in channels_dict[band]:\n",
    "            y_values = []\n",
    "            std_values = []\n",
    "            \n",
    "            for cond in conditions_list:\n",
    "                # 해당 조건, 밴드, 채널에 대한 모든 세션 값들 추출\n",
    "                session_values = user_df[\n",
    "                    (user_df['band'] == band) & \n",
    "                    (user_df['channel'] == ch) & \n",
    "                    (user_df['condition'] == cond)\n",
    "                ]['erds'].values\n",
    "                \n",
    "                if len(session_values) > 0:\n",
    "                    mean_val = np.mean(session_values)\n",
    "                    std_val = np.std(session_values)\n",
    "                    y_values.append(mean_val)\n",
    "                    std_values.append(std_val)\n",
    "                else:\n",
    "                    y_values.append(np.nan)\n",
    "                    std_values.append(0)\n",
    "            \n",
    "            # 평균값 플롯 (에러바 포함)\n",
    "            plt.errorbar(conditions_list, y_values, yerr=std_values, \n",
    "                        marker='o', linewidth=2, markersize=8, \n",
    "                        capsize=5, capthick=2, label=f'{ch} (n={len(sessions)})')\n",
    "        \n",
    "        plt.title(f\"{name} - {band.capitalize()} Band ERDS (Session Average)\", \n",
    "                 fontsize=14, fontweight='bold')\n",
    "        plt.xlabel(\"Condition\", fontsize=12)\n",
    "        plt.ylabel(\"ERDS (%)\", fontsize=12)\n",
    "        plt.ylim(-100, 100)\n",
    "        plt.axhline(y=0, color='black', linestyle='--', alpha=0.5)\n",
    "        plt.legend(fontsize=10)\n",
    "        plt.grid(True, alpha=0.3)\n",
    "        plt.tight_layout()\n",
    "        \n",
    "        # 그래프 저장\n",
    "        filename = f\"plots/{name}_{band}_erds_session_average.png\"\n",
    "        plt.savefig(filename, dpi=300, bbox_inches='tight')\n",
    "        print(f\"그래프 저장됨: {filename}\")\n",
    "        \n",
    "        plt.show()\n",
    "\n",
    "# 세션별 상세 데이터 요약 출력\n",
    "print(\"\\n=== 세션별 ERDS 요약 ===\")\n",
    "for name in df['name'].unique():\n",
    "    print(f\"\\n사용자: {name}\")\n",
    "    user_df = df[df['name'] == name]\n",
    "    \n",
    "    for band in bands:\n",
    "        print(f\"\\n  {band.capitalize()} Band:\")\n",
    "        for ch in channels_dict[band]:\n",
    "            print(f\"    {ch}:\")\n",
    "            for cond in conditions_list:\n",
    "                session_values = user_df[\n",
    "                    (user_df['band'] == band) & \n",
    "                    (user_df['channel'] == ch) & \n",
    "                    (user_df['condition'] == cond)\n",
    "                ]['erds'].values\n",
    "                \n",
    "                if len(session_values) > 0:\n",
    "                    mean_val = np.mean(session_values)\n",
    "                    std_val = np.std(session_values)\n",
    "                    print(f\"      {cond}: {mean_val:.2f} ± {std_val:.2f} % (n={len(session_values)})\")\n",
    "                else:\n",
    "                    print(f\"      {cond}: 데이터 없음\")"
   ]
  },
  {
   "cell_type": "code",
   "execution_count": 5,
   "metadata": {},
   "outputs": [
    {
     "name": "stdout",
     "output_type": "stream",
     "text": [
      "Extracting EDF parameters from c:\\Users\\uiseong\\OneDrive\\바탕 화면\\eeg\\EEG_cognitive_load\\EEG_nback_task\\choi_nback_1.edf...\n",
      "EDF file detected\n",
      "Setting channel info structure...\n",
      "Creating raw.info structure...\n",
      "Reading 0 ... 28671  =      0.000 ...   223.992 secs...\n"
     ]
    }
   ],
   "source": [
    "raw = mne.io.read_raw_edf (\n",
    "    './EEG_nback_task/choi_nback_1.edf',\n",
    "    preload=True,\n",
    ")"
   ]
  },
  {
   "cell_type": "code",
   "execution_count": 6,
   "metadata": {},
   "outputs": [],
   "source": [
    "eeg_channels = ['AF3', 'F7', 'F3', 'FC5', 'T7', 'P7', 'O1', 'O2', 'P8', 'T8', 'FC6', 'F4', 'F8', 'AF4']"
   ]
  },
  {
   "cell_type": "code",
   "execution_count": 7,
   "metadata": {},
   "outputs": [
    {
     "name": "stdout",
     "output_type": "stream",
     "text": [
      "NOTE: pick_channels() is a legacy function. New code should use inst.pick(...).\n"
     ]
    },
    {
     "data": {
      "text/html": [
       "<script type=\"text/javascript\">\n",
       "    const toggleVisibility = (className) => {\n",
       "\n",
       "  const elements = document.querySelectorAll(`.${className}`)\n",
       "\n",
       "  elements.forEach(element => {\n",
       "    if (element.classList.contains('repr-section-header')) {\n",
       "      // Don't collapse the section header row.\n",
       "       return\n",
       "    }\n",
       "    if (element.classList.contains('repr-element-collapsed')) {\n",
       "      // Force a reflow to ensure the display change takes effect before removing the class\n",
       "      element.classList.remove('repr-element-collapsed')\n",
       "      element.offsetHeight // This forces the browser to recalculate layout\n",
       "      element.classList.remove('repr-element-faded')\n",
       "    } else {\n",
       "      // Start transition to hide the element\n",
       "      element.classList.add('repr-element-faded')\n",
       "      element.addEventListener('transitionend', handler = (e) => {\n",
       "        if (e.propertyName === 'opacity' && getComputedStyle(element).opacity === '0.2') {\n",
       "          element.classList.add('repr-element-collapsed')\n",
       "          element.removeEventListener('transitionend', handler)\n",
       "        }\n",
       "      });\n",
       "    }\n",
       "  });\n",
       "\n",
       "  // Take care of button (adjust caret)\n",
       "  const button = document.querySelectorAll(`.repr-section-header.${className} > th.repr-section-toggle-col > button`)[0]\n",
       "  button.classList.toggle('collapsed')\n",
       "\n",
       "  // Take care of the tooltip of the section header row\n",
       "  const sectionHeaderRow = document.querySelectorAll(`tr.repr-section-header.${className}`)[0]\n",
       "  sectionHeaderRow.classList.toggle('collapsed')\n",
       "  sectionHeaderRow.title = sectionHeaderRow.title === 'Hide section' ? 'Show section' : 'Hide section'\n",
       "}\n",
       "</script>\n",
       "\n",
       "<style type=\"text/css\">\n",
       "    table.repr.table.table-hover.table-striped.table-sm.table-responsive.small {\n",
       "  /* Don't make rows wider than they need to be. */\n",
       "  display: inline;\n",
       "}\n",
       "\n",
       "table > tbody > tr.repr-element > td {\n",
       "  /* Apply a tighter layout to the table cells. */\n",
       "  padding-top: 0.1rem;\n",
       "  padding-bottom: 0.1rem;\n",
       "  padding-right: 1rem;\n",
       "}\n",
       "\n",
       "table > tbody > tr > td.repr-section-toggle-col {\n",
       "  /* Remove background and border of the first cell in every row\n",
       "     (this row is only used for the collapse / uncollapse caret)\n",
       "\n",
       "     TODO: Need to find a good solution for VS Code that works in both\n",
       "           light and dark mode. */\n",
       "  border-color: transparent;\n",
       "  --bs-table-accent-bg: transparent;\n",
       "}\n",
       "\n",
       "tr.repr-section-header {\n",
       "  /* Remove stripes from section header rows */\n",
       "  background-color: transparent;\n",
       "  border-color: transparent;\n",
       "  --bs-table-striped-bg: transparent;\n",
       "  cursor: pointer;\n",
       "}\n",
       "\n",
       "tr.repr-section-header > th {\n",
       "  text-align: left !important;\n",
       "  vertical-align: middle;\n",
       "}\n",
       "\n",
       ".repr-element, tr.repr-element > td {\n",
       "  opacity: 1;\n",
       "  text-align: left !important;\n",
       "}\n",
       "\n",
       ".repr-element-faded {\n",
       "  transition: 0.3s ease;\n",
       "  opacity: 0.2;\n",
       "}\n",
       "\n",
       ".repr-element-collapsed {\n",
       "  display: none;\n",
       "}\n",
       "\n",
       "/* Collapse / uncollapse button and the caret it contains. */\n",
       ".repr-section-toggle-col button {\n",
       "  cursor: pointer;\n",
       "  width: 1rem;\n",
       "  background-color: transparent;\n",
       "  border-color: transparent;\n",
       "}\n",
       "\n",
       "span.collapse-uncollapse-caret {\n",
       "  width: 1rem;\n",
       "  height: 1rem;\n",
       "  display: block;\n",
       "  background-repeat: no-repeat;\n",
       "  background-position: left;\n",
       "  background-size: contain;\n",
       "}\n",
       "\n",
       "/* The collapse / uncollapse carets were copied from the free Font Awesome collection and adjusted. */\n",
       "\n",
       "/* Default to black carets for light mode */\n",
       ".repr-section-toggle-col > button.collapsed > span.collapse-uncollapse-caret {\n",
       "  background-image: url('data:image/svg+xml;charset=utf8,<svg xmlns=\"http://www.w3.org/2000/svg\" viewBox=\"0 0 256 512\"><!--!Font Awesome Free 6.5.2 by @fontawesome - https://fontawesome.com License - https://fontawesome.com/license/free Copyright 2024 Fonticons, Inc.--><path fill=\"black\" d=\"M246.6 278.6c12.5-12.5 12.5-32.8 0-45.3l-128-128c-9.2-9.2-22.9-11.9-34.9-6.9s-19.8 16.6-19.8 29.6l0 256c0 12.9 7.8 24.6 19.8 29.6s25.7 2.2 34.9-6.9l128-128z\"/></svg>');\n",
       "}\n",
       "\n",
       ".repr-section-toggle-col\n",
       "  > button:not(.collapsed)\n",
       "  > span.collapse-uncollapse-caret {\n",
       "  background-image: url('data:image/svg+xml;charset=utf8,<svg xmlns=\"http://www.w3.org/2000/svg\" viewBox=\"0 0 320 512\"><!--!Font Awesome Free 6.5.2 by @fontawesome - https://fontawesome.com License - https://fontawesome.com/license/free Copyright 2024 Fonticons, Inc.--><path fill=\"black\" d=\"M137.4 374.6c12.5 12.5 32.8 12.5 45.3 0l128-128c9.2-9.2 11.9-22.9 6.9-34.9s-16.6-19.8-29.6-19.8L32 192c-12.9 0-24.6 7.8-29.6 19.8s-2.2 25.7 6.9 34.9l128 128z\"/></svg>');\n",
       "}\n",
       "\n",
       "/* Use white carets for dark mode */\n",
       "@media (prefers-color-scheme: dark) {\n",
       "  .repr-section-toggle-col > button.collapsed > span.collapse-uncollapse-caret {\n",
       "    background-image: url('data:image/svg+xml;charset=utf8,<svg xmlns=\"http://www.w3.org/2000/svg\" viewBox=\"0 0 256 512\"><!--!Font Awesome Free 6.5.2 by @fontawesome - https://fontawesome.com License - https://fontawesome.com/license/free Copyright 2024 Fonticons, Inc.--><path fill=\"white\" d=\"M246.6 278.6c12.5-12.5 12.5-32.8 0-45.3l-128-128c-9.2-9.2-22.9-11.9-34.9-6.9s-19.8 16.6-19.8 29.6l0 256c0 12.9 7.8 24.6 19.8 29.6s25.7 2.2 34.9-6.9l128-128z\"/></svg>');\n",
       "  }\n",
       "\n",
       "  .repr-section-toggle-col\n",
       "    > button:not(.collapsed)\n",
       "    > span.collapse-uncollapse-caret {\n",
       "    background-image: url('data:image/svg+xml;charset=utf8,<svg xmlns=\"http://www.w3.org/2000/svg\" viewBox=\"0 0 320 512\"><!--!Font Awesome Free 6.5.2 by @fontawesome - https://fontawesome.com License - https://fontawesome.com/license/free Copyright 2024 Fonticons, Inc.--><path fill=\"white\" d=\"M137.4 374.6c12.5 12.5 32.8 12.5 45.3 0l128-128c9.2-9.2 11.9-22.9 6.9-34.9s-16.6-19.8-29.6-19.8L32 192c-12.9 0-24.6 7.8-29.6 19.8s-2.2 25.7 6.9 34.9l128 128z\"/></svg>');\n",
       "  }\n",
       "}\n",
       "\n",
       ".channel-names-btn {\n",
       "  padding: 0;\n",
       "  border: none;\n",
       "  background: none;\n",
       "  text-decoration: underline;\n",
       "  text-decoration-style: dashed;\n",
       "  cursor: pointer;\n",
       "  color: #0d6efd;\n",
       "}\n",
       "\n",
       ".channel-names-btn:hover {\n",
       "  color: #0a58ca;\n",
       "}\n",
       "</style>\n",
       "\n",
       "\n",
       "\n",
       "<table class=\"repr table table-hover table-striped table-sm table-responsive small\">\n",
       "    \n",
       "\n",
       "\n",
       "\n",
       "\n",
       "\n",
       "\n",
       "\n",
       "<tr class=\"repr-section-header general-1512f423-952d-470c-9ec5-d6bb6695a263\"  title=\"Hide section\" \n",
       "    onclick=\"toggleVisibility('general-1512f423-952d-470c-9ec5-d6bb6695a263')\">\n",
       "    <th class=\"repr-section-toggle-col\">\n",
       "        <button>\n",
       "            \n",
       "            <span class=\"collapse-uncollapse-caret\"></span>\n",
       "        </button>\n",
       "    </th>\n",
       "    <th colspan=\"2\">\n",
       "        <strong>General</strong>\n",
       "    </th>\n",
       "</tr>\n",
       "\n",
       "<tr class=\"repr-element general-1512f423-952d-470c-9ec5-d6bb6695a263 \">\n",
       "    <td class=\"repr-section-toggle-col\"></td>\n",
       "    <td>Filename(s)</td>\n",
       "    <td>\n",
       "        \n",
       "        choi_nback_1.edf\n",
       "        \n",
       "        \n",
       "    </td>\n",
       "</tr>\n",
       "\n",
       "<tr class=\"repr-element general-1512f423-952d-470c-9ec5-d6bb6695a263 \">\n",
       "    <td class=\"repr-section-toggle-col\"></td>\n",
       "    <td>MNE object type</td>\n",
       "    <td>RawEDF</td>\n",
       "</tr>\n",
       "<tr class=\"repr-element general-1512f423-952d-470c-9ec5-d6bb6695a263 \">\n",
       "    <td class=\"repr-section-toggle-col\"></td>\n",
       "    <td>Measurement date</td>\n",
       "    \n",
       "    <td>2025-05-23 at 16:59:17 UTC</td>\n",
       "    \n",
       "</tr>\n",
       "<tr class=\"repr-element general-1512f423-952d-470c-9ec5-d6bb6695a263 \">\n",
       "    <td class=\"repr-section-toggle-col\"></td>\n",
       "    <td>Participant</td>\n",
       "    \n",
       "    \n",
       "    <td>X</td>\n",
       "    \n",
       "    \n",
       "</tr>\n",
       "<tr class=\"repr-element general-1512f423-952d-470c-9ec5-d6bb6695a263 \">\n",
       "    <td class=\"repr-section-toggle-col\"></td>\n",
       "    <td>Experimenter</td>\n",
       "    \n",
       "    <td>Unknown</td>\n",
       "    \n",
       "</tr>\n",
       "    \n",
       "\n",
       "\n",
       "\n",
       "\n",
       "\n",
       "\n",
       "\n",
       "<tr class=\"repr-section-header acquisition-729013c8-f587-42b7-8a18-57cfb6f48d3a\" \n",
       "    title=\"Hide section\"  onclick=\"toggleVisibility('acquisition-729013c8-f587-42b7-8a18-57cfb6f48d3a')\">\n",
       "    <th class=\"repr-section-toggle-col\">\n",
       "        <button>\n",
       "            \n",
       "            <span class=\"collapse-uncollapse-caret\"></span>\n",
       "        </button>\n",
       "    </th>\n",
       "    <th colspan=\"2\">\n",
       "        <strong>Acquisition</strong>\n",
       "    </th>\n",
       "</tr>\n",
       "\n",
       "<tr class=\"repr-element acquisition-729013c8-f587-42b7-8a18-57cfb6f48d3a \">\n",
       "    <td class=\"repr-section-toggle-col\"></td>\n",
       "    <td>Duration</td>\n",
       "    <td>00:03:44 (HH:MM:SS)</td>\n",
       "</tr>\n",
       "\n",
       "\n",
       "\n",
       "\n",
       "\n",
       "\n",
       "\n",
       "\n",
       "<tr class=\"repr-element acquisition-729013c8-f587-42b7-8a18-57cfb6f48d3a \">\n",
       "    <td class=\"repr-section-toggle-col\"></td>\n",
       "    <td>Sampling frequency</td>\n",
       "    <td>128.00 Hz</td>\n",
       "</tr>\n",
       "\n",
       "\n",
       "<tr class=\"repr-element acquisition-729013c8-f587-42b7-8a18-57cfb6f48d3a \">\n",
       "    <td class=\"repr-section-toggle-col\"></td>\n",
       "    <td>Time points</td>\n",
       "    <td>28,672</td>\n",
       "</tr>\n",
       "\n",
       "\n",
       "    \n",
       "\n",
       "\n",
       "\n",
       "\n",
       "\n",
       "\n",
       "\n",
       "<tr class=\"repr-section-header channels-c8e48732-c98d-47c6-ba22-acf4585ab704\"  title=\"Hide section\" \n",
       "    onclick=\"toggleVisibility('channels-c8e48732-c98d-47c6-ba22-acf4585ab704')\">\n",
       "    <th class=\"repr-section-toggle-col\">\n",
       "        <button>\n",
       "            \n",
       "            <span class=\"collapse-uncollapse-caret\"></span>\n",
       "        </button>\n",
       "    </th>\n",
       "    <th colspan=\"2\">\n",
       "        <strong>Channels</strong>\n",
       "    </th>\n",
       "</tr>\n",
       "\n",
       "\n",
       "<tr class=\"repr-element channels-c8e48732-c98d-47c6-ba22-acf4585ab704 \">\n",
       "    <td class=\"repr-section-toggle-col\"></td>\n",
       "    <td>EEG</td>\n",
       "    <td>\n",
       "        <button class=\"channel-names-btn\" onclick=\"alert('Good EEG:\\n\\nAF3, F7, F3, FC5, T7, P7, O1, O2, P8, T8, FC6, F4, F8, AF4')\" title=\"(Click to open in popup)&#13;&#13;AF3, F7, F3, FC5, T7, P7, O1, O2, P8, T8, FC6, F4, F8, AF4\">\n",
       "            14\n",
       "        </button>\n",
       "\n",
       "        \n",
       "    </td>\n",
       "</tr>\n",
       "\n",
       "\n",
       "<tr class=\"repr-element channels-c8e48732-c98d-47c6-ba22-acf4585ab704 \">\n",
       "    <td class=\"repr-section-toggle-col\"></td>\n",
       "    <td>Head & sensor digitization</td>\n",
       "    \n",
       "    <td>Not available</td>\n",
       "    \n",
       "</tr>\n",
       "    \n",
       "\n",
       "\n",
       "\n",
       "\n",
       "\n",
       "\n",
       "\n",
       "<tr class=\"repr-section-header filters-2eddd277-1b2a-4b3a-a53a-13e092d438fb\"  title=\"Hide section\" \n",
       "    onclick=\"toggleVisibility('filters-2eddd277-1b2a-4b3a-a53a-13e092d438fb')\">\n",
       "    <th class=\"repr-section-toggle-col\">\n",
       "        <button>\n",
       "            \n",
       "            <span class=\"collapse-uncollapse-caret\"></span>\n",
       "        </button>\n",
       "    </th>\n",
       "    <th colspan=\"2\">\n",
       "        <strong>Filters</strong>\n",
       "    </th>\n",
       "</tr>\n",
       "\n",
       "<tr class=\"repr-element filters-2eddd277-1b2a-4b3a-a53a-13e092d438fb \">\n",
       "    <td class=\"repr-section-toggle-col\"></td>\n",
       "    <td>Highpass</td>\n",
       "    <td>0.00 Hz</td>\n",
       "</tr>\n",
       "\n",
       "\n",
       "<tr class=\"repr-element filters-2eddd277-1b2a-4b3a-a53a-13e092d438fb \">\n",
       "    <td class=\"repr-section-toggle-col\"></td>\n",
       "    <td>Lowpass</td>\n",
       "    <td>64.00 Hz</td>\n",
       "</tr>\n",
       "\n",
       "\n",
       "</table>"
      ],
      "text/plain": [
       "<RawEDF | choi_nback_1.edf, 14 x 28672 (224.0 s), ~3.1 MB, data loaded>"
      ]
     },
     "execution_count": 7,
     "metadata": {},
     "output_type": "execute_result"
    }
   ],
   "source": [
    "raw.pick_channels(eeg_channels)"
   ]
  },
  {
   "cell_type": "code",
   "execution_count": 8,
   "metadata": {},
   "outputs": [
    {
     "name": "stdout",
     "output_type": "stream",
     "text": [
      "Using qt as 2D backend.\n"
     ]
    },
    {
     "data": {
      "text/plain": [
       "<mne_qt_browser._pg_figure.MNEQtBrowser at 0x23e28587380>"
      ]
     },
     "execution_count": 8,
     "metadata": {},
     "output_type": "execute_result"
    }
   ],
   "source": [
    "raw.plot()"
   ]
  },
  {
   "cell_type": "code",
   "execution_count": 9,
   "metadata": {},
   "outputs": [
    {
     "name": "stdout",
     "output_type": "stream",
     "text": [
      "Filtering raw data in 1 contiguous segment\n",
      "Setting up band-pass filter from 1 - 40 Hz\n",
      "\n",
      "FIR filter parameters\n",
      "---------------------\n",
      "Designing a one-pass, zero-phase, non-causal bandpass filter:\n",
      "- Windowed time-domain design (firwin) method\n",
      "- Hamming window with 0.0194 passband ripple and 53 dB stopband attenuation\n",
      "- Lower passband edge: 1.00\n",
      "- Lower transition bandwidth: 1.00 Hz (-6 dB cutoff frequency: 0.50 Hz)\n",
      "- Upper passband edge: 40.00 Hz\n",
      "- Upper transition bandwidth: 10.00 Hz (-6 dB cutoff frequency: 45.00 Hz)\n",
      "- Filter length: 423 samples (3.305 s)\n",
      "\n",
      "Filtering raw data in 1 contiguous segment\n",
      "Setting up band-stop filter from 59 - 61 Hz\n",
      "\n",
      "FIR filter parameters\n",
      "---------------------\n",
      "Designing a one-pass, zero-phase, non-causal bandstop filter:\n",
      "- Windowed time-domain design (firwin) method\n",
      "- Hamming window with 0.0194 passband ripple and 53 dB stopband attenuation\n",
      "- Lower passband edge: 59.35\n",
      "- Lower transition bandwidth: 0.50 Hz (-6 dB cutoff frequency: 59.10 Hz)\n",
      "- Upper passband edge: 60.65 Hz\n",
      "- Upper transition bandwidth: 0.50 Hz (-6 dB cutoff frequency: 60.90 Hz)\n",
      "- Filter length: 845 samples (6.602 s)\n",
      "\n"
     ]
    },
    {
     "data": {
      "text/html": [
       "<script type=\"text/javascript\">\n",
       "    const toggleVisibility = (className) => {\n",
       "\n",
       "  const elements = document.querySelectorAll(`.${className}`)\n",
       "\n",
       "  elements.forEach(element => {\n",
       "    if (element.classList.contains('repr-section-header')) {\n",
       "      // Don't collapse the section header row.\n",
       "       return\n",
       "    }\n",
       "    if (element.classList.contains('repr-element-collapsed')) {\n",
       "      // Force a reflow to ensure the display change takes effect before removing the class\n",
       "      element.classList.remove('repr-element-collapsed')\n",
       "      element.offsetHeight // This forces the browser to recalculate layout\n",
       "      element.classList.remove('repr-element-faded')\n",
       "    } else {\n",
       "      // Start transition to hide the element\n",
       "      element.classList.add('repr-element-faded')\n",
       "      element.addEventListener('transitionend', handler = (e) => {\n",
       "        if (e.propertyName === 'opacity' && getComputedStyle(element).opacity === '0.2') {\n",
       "          element.classList.add('repr-element-collapsed')\n",
       "          element.removeEventListener('transitionend', handler)\n",
       "        }\n",
       "      });\n",
       "    }\n",
       "  });\n",
       "\n",
       "  // Take care of button (adjust caret)\n",
       "  const button = document.querySelectorAll(`.repr-section-header.${className} > th.repr-section-toggle-col > button`)[0]\n",
       "  button.classList.toggle('collapsed')\n",
       "\n",
       "  // Take care of the tooltip of the section header row\n",
       "  const sectionHeaderRow = document.querySelectorAll(`tr.repr-section-header.${className}`)[0]\n",
       "  sectionHeaderRow.classList.toggle('collapsed')\n",
       "  sectionHeaderRow.title = sectionHeaderRow.title === 'Hide section' ? 'Show section' : 'Hide section'\n",
       "}\n",
       "</script>\n",
       "\n",
       "<style type=\"text/css\">\n",
       "    table.repr.table.table-hover.table-striped.table-sm.table-responsive.small {\n",
       "  /* Don't make rows wider than they need to be. */\n",
       "  display: inline;\n",
       "}\n",
       "\n",
       "table > tbody > tr.repr-element > td {\n",
       "  /* Apply a tighter layout to the table cells. */\n",
       "  padding-top: 0.1rem;\n",
       "  padding-bottom: 0.1rem;\n",
       "  padding-right: 1rem;\n",
       "}\n",
       "\n",
       "table > tbody > tr > td.repr-section-toggle-col {\n",
       "  /* Remove background and border of the first cell in every row\n",
       "     (this row is only used for the collapse / uncollapse caret)\n",
       "\n",
       "     TODO: Need to find a good solution for VS Code that works in both\n",
       "           light and dark mode. */\n",
       "  border-color: transparent;\n",
       "  --bs-table-accent-bg: transparent;\n",
       "}\n",
       "\n",
       "tr.repr-section-header {\n",
       "  /* Remove stripes from section header rows */\n",
       "  background-color: transparent;\n",
       "  border-color: transparent;\n",
       "  --bs-table-striped-bg: transparent;\n",
       "  cursor: pointer;\n",
       "}\n",
       "\n",
       "tr.repr-section-header > th {\n",
       "  text-align: left !important;\n",
       "  vertical-align: middle;\n",
       "}\n",
       "\n",
       ".repr-element, tr.repr-element > td {\n",
       "  opacity: 1;\n",
       "  text-align: left !important;\n",
       "}\n",
       "\n",
       ".repr-element-faded {\n",
       "  transition: 0.3s ease;\n",
       "  opacity: 0.2;\n",
       "}\n",
       "\n",
       ".repr-element-collapsed {\n",
       "  display: none;\n",
       "}\n",
       "\n",
       "/* Collapse / uncollapse button and the caret it contains. */\n",
       ".repr-section-toggle-col button {\n",
       "  cursor: pointer;\n",
       "  width: 1rem;\n",
       "  background-color: transparent;\n",
       "  border-color: transparent;\n",
       "}\n",
       "\n",
       "span.collapse-uncollapse-caret {\n",
       "  width: 1rem;\n",
       "  height: 1rem;\n",
       "  display: block;\n",
       "  background-repeat: no-repeat;\n",
       "  background-position: left;\n",
       "  background-size: contain;\n",
       "}\n",
       "\n",
       "/* The collapse / uncollapse carets were copied from the free Font Awesome collection and adjusted. */\n",
       "\n",
       "/* Default to black carets for light mode */\n",
       ".repr-section-toggle-col > button.collapsed > span.collapse-uncollapse-caret {\n",
       "  background-image: url('data:image/svg+xml;charset=utf8,<svg xmlns=\"http://www.w3.org/2000/svg\" viewBox=\"0 0 256 512\"><!--!Font Awesome Free 6.5.2 by @fontawesome - https://fontawesome.com License - https://fontawesome.com/license/free Copyright 2024 Fonticons, Inc.--><path fill=\"black\" d=\"M246.6 278.6c12.5-12.5 12.5-32.8 0-45.3l-128-128c-9.2-9.2-22.9-11.9-34.9-6.9s-19.8 16.6-19.8 29.6l0 256c0 12.9 7.8 24.6 19.8 29.6s25.7 2.2 34.9-6.9l128-128z\"/></svg>');\n",
       "}\n",
       "\n",
       ".repr-section-toggle-col\n",
       "  > button:not(.collapsed)\n",
       "  > span.collapse-uncollapse-caret {\n",
       "  background-image: url('data:image/svg+xml;charset=utf8,<svg xmlns=\"http://www.w3.org/2000/svg\" viewBox=\"0 0 320 512\"><!--!Font Awesome Free 6.5.2 by @fontawesome - https://fontawesome.com License - https://fontawesome.com/license/free Copyright 2024 Fonticons, Inc.--><path fill=\"black\" d=\"M137.4 374.6c12.5 12.5 32.8 12.5 45.3 0l128-128c9.2-9.2 11.9-22.9 6.9-34.9s-16.6-19.8-29.6-19.8L32 192c-12.9 0-24.6 7.8-29.6 19.8s-2.2 25.7 6.9 34.9l128 128z\"/></svg>');\n",
       "}\n",
       "\n",
       "/* Use white carets for dark mode */\n",
       "@media (prefers-color-scheme: dark) {\n",
       "  .repr-section-toggle-col > button.collapsed > span.collapse-uncollapse-caret {\n",
       "    background-image: url('data:image/svg+xml;charset=utf8,<svg xmlns=\"http://www.w3.org/2000/svg\" viewBox=\"0 0 256 512\"><!--!Font Awesome Free 6.5.2 by @fontawesome - https://fontawesome.com License - https://fontawesome.com/license/free Copyright 2024 Fonticons, Inc.--><path fill=\"white\" d=\"M246.6 278.6c12.5-12.5 12.5-32.8 0-45.3l-128-128c-9.2-9.2-22.9-11.9-34.9-6.9s-19.8 16.6-19.8 29.6l0 256c0 12.9 7.8 24.6 19.8 29.6s25.7 2.2 34.9-6.9l128-128z\"/></svg>');\n",
       "  }\n",
       "\n",
       "  .repr-section-toggle-col\n",
       "    > button:not(.collapsed)\n",
       "    > span.collapse-uncollapse-caret {\n",
       "    background-image: url('data:image/svg+xml;charset=utf8,<svg xmlns=\"http://www.w3.org/2000/svg\" viewBox=\"0 0 320 512\"><!--!Font Awesome Free 6.5.2 by @fontawesome - https://fontawesome.com License - https://fontawesome.com/license/free Copyright 2024 Fonticons, Inc.--><path fill=\"white\" d=\"M137.4 374.6c12.5 12.5 32.8 12.5 45.3 0l128-128c9.2-9.2 11.9-22.9 6.9-34.9s-16.6-19.8-29.6-19.8L32 192c-12.9 0-24.6 7.8-29.6 19.8s-2.2 25.7 6.9 34.9l128 128z\"/></svg>');\n",
       "  }\n",
       "}\n",
       "\n",
       ".channel-names-btn {\n",
       "  padding: 0;\n",
       "  border: none;\n",
       "  background: none;\n",
       "  text-decoration: underline;\n",
       "  text-decoration-style: dashed;\n",
       "  cursor: pointer;\n",
       "  color: #0d6efd;\n",
       "}\n",
       "\n",
       ".channel-names-btn:hover {\n",
       "  color: #0a58ca;\n",
       "}\n",
       "</style>\n",
       "\n",
       "\n",
       "\n",
       "<table class=\"repr table table-hover table-striped table-sm table-responsive small\">\n",
       "    \n",
       "\n",
       "\n",
       "\n",
       "\n",
       "\n",
       "\n",
       "\n",
       "<tr class=\"repr-section-header general-3f83bada-32a1-4ea6-855a-4f516d1c8d26\"  title=\"Hide section\" \n",
       "    onclick=\"toggleVisibility('general-3f83bada-32a1-4ea6-855a-4f516d1c8d26')\">\n",
       "    <th class=\"repr-section-toggle-col\">\n",
       "        <button>\n",
       "            \n",
       "            <span class=\"collapse-uncollapse-caret\"></span>\n",
       "        </button>\n",
       "    </th>\n",
       "    <th colspan=\"2\">\n",
       "        <strong>General</strong>\n",
       "    </th>\n",
       "</tr>\n",
       "\n",
       "<tr class=\"repr-element general-3f83bada-32a1-4ea6-855a-4f516d1c8d26 \">\n",
       "    <td class=\"repr-section-toggle-col\"></td>\n",
       "    <td>Filename(s)</td>\n",
       "    <td>\n",
       "        \n",
       "        choi_nback_1.edf\n",
       "        \n",
       "        \n",
       "    </td>\n",
       "</tr>\n",
       "\n",
       "<tr class=\"repr-element general-3f83bada-32a1-4ea6-855a-4f516d1c8d26 \">\n",
       "    <td class=\"repr-section-toggle-col\"></td>\n",
       "    <td>MNE object type</td>\n",
       "    <td>RawEDF</td>\n",
       "</tr>\n",
       "<tr class=\"repr-element general-3f83bada-32a1-4ea6-855a-4f516d1c8d26 \">\n",
       "    <td class=\"repr-section-toggle-col\"></td>\n",
       "    <td>Measurement date</td>\n",
       "    \n",
       "    <td>2025-05-23 at 16:59:17 UTC</td>\n",
       "    \n",
       "</tr>\n",
       "<tr class=\"repr-element general-3f83bada-32a1-4ea6-855a-4f516d1c8d26 \">\n",
       "    <td class=\"repr-section-toggle-col\"></td>\n",
       "    <td>Participant</td>\n",
       "    \n",
       "    \n",
       "    <td>X</td>\n",
       "    \n",
       "    \n",
       "</tr>\n",
       "<tr class=\"repr-element general-3f83bada-32a1-4ea6-855a-4f516d1c8d26 \">\n",
       "    <td class=\"repr-section-toggle-col\"></td>\n",
       "    <td>Experimenter</td>\n",
       "    \n",
       "    <td>Unknown</td>\n",
       "    \n",
       "</tr>\n",
       "    \n",
       "\n",
       "\n",
       "\n",
       "\n",
       "\n",
       "\n",
       "\n",
       "<tr class=\"repr-section-header acquisition-3eec2e1d-da9a-4c7f-bc54-eab2980d936e\" \n",
       "    title=\"Hide section\"  onclick=\"toggleVisibility('acquisition-3eec2e1d-da9a-4c7f-bc54-eab2980d936e')\">\n",
       "    <th class=\"repr-section-toggle-col\">\n",
       "        <button>\n",
       "            \n",
       "            <span class=\"collapse-uncollapse-caret\"></span>\n",
       "        </button>\n",
       "    </th>\n",
       "    <th colspan=\"2\">\n",
       "        <strong>Acquisition</strong>\n",
       "    </th>\n",
       "</tr>\n",
       "\n",
       "<tr class=\"repr-element acquisition-3eec2e1d-da9a-4c7f-bc54-eab2980d936e \">\n",
       "    <td class=\"repr-section-toggle-col\"></td>\n",
       "    <td>Duration</td>\n",
       "    <td>00:03:44 (HH:MM:SS)</td>\n",
       "</tr>\n",
       "\n",
       "\n",
       "\n",
       "\n",
       "\n",
       "\n",
       "\n",
       "\n",
       "<tr class=\"repr-element acquisition-3eec2e1d-da9a-4c7f-bc54-eab2980d936e \">\n",
       "    <td class=\"repr-section-toggle-col\"></td>\n",
       "    <td>Sampling frequency</td>\n",
       "    <td>128.00 Hz</td>\n",
       "</tr>\n",
       "\n",
       "\n",
       "<tr class=\"repr-element acquisition-3eec2e1d-da9a-4c7f-bc54-eab2980d936e \">\n",
       "    <td class=\"repr-section-toggle-col\"></td>\n",
       "    <td>Time points</td>\n",
       "    <td>28,672</td>\n",
       "</tr>\n",
       "\n",
       "\n",
       "    \n",
       "\n",
       "\n",
       "\n",
       "\n",
       "\n",
       "\n",
       "\n",
       "<tr class=\"repr-section-header channels-4a17354a-8723-4d19-954f-7d807b3fa9b9\"  title=\"Hide section\" \n",
       "    onclick=\"toggleVisibility('channels-4a17354a-8723-4d19-954f-7d807b3fa9b9')\">\n",
       "    <th class=\"repr-section-toggle-col\">\n",
       "        <button>\n",
       "            \n",
       "            <span class=\"collapse-uncollapse-caret\"></span>\n",
       "        </button>\n",
       "    </th>\n",
       "    <th colspan=\"2\">\n",
       "        <strong>Channels</strong>\n",
       "    </th>\n",
       "</tr>\n",
       "\n",
       "\n",
       "<tr class=\"repr-element channels-4a17354a-8723-4d19-954f-7d807b3fa9b9 \">\n",
       "    <td class=\"repr-section-toggle-col\"></td>\n",
       "    <td>EEG</td>\n",
       "    <td>\n",
       "        <button class=\"channel-names-btn\" onclick=\"alert('Good EEG:\\n\\nAF3, F7, F3, FC5, T7, P7, O1, O2, P8, T8, FC6, F4, F8, AF4')\" title=\"(Click to open in popup)&#13;&#13;AF3, F7, F3, FC5, T7, P7, O1, O2, P8, T8, FC6, F4, F8, AF4\">\n",
       "            14\n",
       "        </button>\n",
       "\n",
       "        \n",
       "    </td>\n",
       "</tr>\n",
       "\n",
       "\n",
       "<tr class=\"repr-element channels-4a17354a-8723-4d19-954f-7d807b3fa9b9 \">\n",
       "    <td class=\"repr-section-toggle-col\"></td>\n",
       "    <td>Head & sensor digitization</td>\n",
       "    \n",
       "    <td>Not available</td>\n",
       "    \n",
       "</tr>\n",
       "    \n",
       "\n",
       "\n",
       "\n",
       "\n",
       "\n",
       "\n",
       "\n",
       "<tr class=\"repr-section-header filters-b7e5eb6f-f41c-4a5e-a7a0-b82bbe48a884\"  title=\"Hide section\" \n",
       "    onclick=\"toggleVisibility('filters-b7e5eb6f-f41c-4a5e-a7a0-b82bbe48a884')\">\n",
       "    <th class=\"repr-section-toggle-col\">\n",
       "        <button>\n",
       "            \n",
       "            <span class=\"collapse-uncollapse-caret\"></span>\n",
       "        </button>\n",
       "    </th>\n",
       "    <th colspan=\"2\">\n",
       "        <strong>Filters</strong>\n",
       "    </th>\n",
       "</tr>\n",
       "\n",
       "<tr class=\"repr-element filters-b7e5eb6f-f41c-4a5e-a7a0-b82bbe48a884 \">\n",
       "    <td class=\"repr-section-toggle-col\"></td>\n",
       "    <td>Highpass</td>\n",
       "    <td>1.00 Hz</td>\n",
       "</tr>\n",
       "\n",
       "\n",
       "<tr class=\"repr-element filters-b7e5eb6f-f41c-4a5e-a7a0-b82bbe48a884 \">\n",
       "    <td class=\"repr-section-toggle-col\"></td>\n",
       "    <td>Lowpass</td>\n",
       "    <td>40.00 Hz</td>\n",
       "</tr>\n",
       "\n",
       "\n",
       "</table>"
      ],
      "text/plain": [
       "<RawEDF | choi_nback_1.edf, 14 x 28672 (224.0 s), ~3.1 MB, data loaded>"
      ]
     },
     "execution_count": 9,
     "metadata": {},
     "output_type": "execute_result"
    }
   ],
   "source": [
    "raw.filter(l_freq=1, h_freq=40)\n",
    "raw.notch_filter(freqs=60)"
   ]
  },
  {
   "cell_type": "code",
   "execution_count": 10,
   "metadata": {},
   "outputs": [
    {
     "data": {
      "text/plain": [
       "<mne_qt_browser._pg_figure.MNEQtBrowser at 0x23e2e3f4950>"
      ]
     },
     "execution_count": 10,
     "metadata": {},
     "output_type": "execute_result"
    }
   ],
   "source": [
    "raw.plot()"
   ]
  },
  {
   "cell_type": "code",
   "execution_count": 11,
   "metadata": {},
   "outputs": [
    {
     "name": "stdout",
     "output_type": "stream",
     "text": [
      "EEG channel type selected for re-referencing\n",
      "Applying average reference.\n",
      "Applying a custom ('EEG',) reference.\n"
     ]
    },
    {
     "data": {
      "text/html": [
       "<script type=\"text/javascript\">\n",
       "    const toggleVisibility = (className) => {\n",
       "\n",
       "  const elements = document.querySelectorAll(`.${className}`)\n",
       "\n",
       "  elements.forEach(element => {\n",
       "    if (element.classList.contains('repr-section-header')) {\n",
       "      // Don't collapse the section header row.\n",
       "       return\n",
       "    }\n",
       "    if (element.classList.contains('repr-element-collapsed')) {\n",
       "      // Force a reflow to ensure the display change takes effect before removing the class\n",
       "      element.classList.remove('repr-element-collapsed')\n",
       "      element.offsetHeight // This forces the browser to recalculate layout\n",
       "      element.classList.remove('repr-element-faded')\n",
       "    } else {\n",
       "      // Start transition to hide the element\n",
       "      element.classList.add('repr-element-faded')\n",
       "      element.addEventListener('transitionend', handler = (e) => {\n",
       "        if (e.propertyName === 'opacity' && getComputedStyle(element).opacity === '0.2') {\n",
       "          element.classList.add('repr-element-collapsed')\n",
       "          element.removeEventListener('transitionend', handler)\n",
       "        }\n",
       "      });\n",
       "    }\n",
       "  });\n",
       "\n",
       "  // Take care of button (adjust caret)\n",
       "  const button = document.querySelectorAll(`.repr-section-header.${className} > th.repr-section-toggle-col > button`)[0]\n",
       "  button.classList.toggle('collapsed')\n",
       "\n",
       "  // Take care of the tooltip of the section header row\n",
       "  const sectionHeaderRow = document.querySelectorAll(`tr.repr-section-header.${className}`)[0]\n",
       "  sectionHeaderRow.classList.toggle('collapsed')\n",
       "  sectionHeaderRow.title = sectionHeaderRow.title === 'Hide section' ? 'Show section' : 'Hide section'\n",
       "}\n",
       "</script>\n",
       "\n",
       "<style type=\"text/css\">\n",
       "    table.repr.table.table-hover.table-striped.table-sm.table-responsive.small {\n",
       "  /* Don't make rows wider than they need to be. */\n",
       "  display: inline;\n",
       "}\n",
       "\n",
       "table > tbody > tr.repr-element > td {\n",
       "  /* Apply a tighter layout to the table cells. */\n",
       "  padding-top: 0.1rem;\n",
       "  padding-bottom: 0.1rem;\n",
       "  padding-right: 1rem;\n",
       "}\n",
       "\n",
       "table > tbody > tr > td.repr-section-toggle-col {\n",
       "  /* Remove background and border of the first cell in every row\n",
       "     (this row is only used for the collapse / uncollapse caret)\n",
       "\n",
       "     TODO: Need to find a good solution for VS Code that works in both\n",
       "           light and dark mode. */\n",
       "  border-color: transparent;\n",
       "  --bs-table-accent-bg: transparent;\n",
       "}\n",
       "\n",
       "tr.repr-section-header {\n",
       "  /* Remove stripes from section header rows */\n",
       "  background-color: transparent;\n",
       "  border-color: transparent;\n",
       "  --bs-table-striped-bg: transparent;\n",
       "  cursor: pointer;\n",
       "}\n",
       "\n",
       "tr.repr-section-header > th {\n",
       "  text-align: left !important;\n",
       "  vertical-align: middle;\n",
       "}\n",
       "\n",
       ".repr-element, tr.repr-element > td {\n",
       "  opacity: 1;\n",
       "  text-align: left !important;\n",
       "}\n",
       "\n",
       ".repr-element-faded {\n",
       "  transition: 0.3s ease;\n",
       "  opacity: 0.2;\n",
       "}\n",
       "\n",
       ".repr-element-collapsed {\n",
       "  display: none;\n",
       "}\n",
       "\n",
       "/* Collapse / uncollapse button and the caret it contains. */\n",
       ".repr-section-toggle-col button {\n",
       "  cursor: pointer;\n",
       "  width: 1rem;\n",
       "  background-color: transparent;\n",
       "  border-color: transparent;\n",
       "}\n",
       "\n",
       "span.collapse-uncollapse-caret {\n",
       "  width: 1rem;\n",
       "  height: 1rem;\n",
       "  display: block;\n",
       "  background-repeat: no-repeat;\n",
       "  background-position: left;\n",
       "  background-size: contain;\n",
       "}\n",
       "\n",
       "/* The collapse / uncollapse carets were copied from the free Font Awesome collection and adjusted. */\n",
       "\n",
       "/* Default to black carets for light mode */\n",
       ".repr-section-toggle-col > button.collapsed > span.collapse-uncollapse-caret {\n",
       "  background-image: url('data:image/svg+xml;charset=utf8,<svg xmlns=\"http://www.w3.org/2000/svg\" viewBox=\"0 0 256 512\"><!--!Font Awesome Free 6.5.2 by @fontawesome - https://fontawesome.com License - https://fontawesome.com/license/free Copyright 2024 Fonticons, Inc.--><path fill=\"black\" d=\"M246.6 278.6c12.5-12.5 12.5-32.8 0-45.3l-128-128c-9.2-9.2-22.9-11.9-34.9-6.9s-19.8 16.6-19.8 29.6l0 256c0 12.9 7.8 24.6 19.8 29.6s25.7 2.2 34.9-6.9l128-128z\"/></svg>');\n",
       "}\n",
       "\n",
       ".repr-section-toggle-col\n",
       "  > button:not(.collapsed)\n",
       "  > span.collapse-uncollapse-caret {\n",
       "  background-image: url('data:image/svg+xml;charset=utf8,<svg xmlns=\"http://www.w3.org/2000/svg\" viewBox=\"0 0 320 512\"><!--!Font Awesome Free 6.5.2 by @fontawesome - https://fontawesome.com License - https://fontawesome.com/license/free Copyright 2024 Fonticons, Inc.--><path fill=\"black\" d=\"M137.4 374.6c12.5 12.5 32.8 12.5 45.3 0l128-128c9.2-9.2 11.9-22.9 6.9-34.9s-16.6-19.8-29.6-19.8L32 192c-12.9 0-24.6 7.8-29.6 19.8s-2.2 25.7 6.9 34.9l128 128z\"/></svg>');\n",
       "}\n",
       "\n",
       "/* Use white carets for dark mode */\n",
       "@media (prefers-color-scheme: dark) {\n",
       "  .repr-section-toggle-col > button.collapsed > span.collapse-uncollapse-caret {\n",
       "    background-image: url('data:image/svg+xml;charset=utf8,<svg xmlns=\"http://www.w3.org/2000/svg\" viewBox=\"0 0 256 512\"><!--!Font Awesome Free 6.5.2 by @fontawesome - https://fontawesome.com License - https://fontawesome.com/license/free Copyright 2024 Fonticons, Inc.--><path fill=\"white\" d=\"M246.6 278.6c12.5-12.5 12.5-32.8 0-45.3l-128-128c-9.2-9.2-22.9-11.9-34.9-6.9s-19.8 16.6-19.8 29.6l0 256c0 12.9 7.8 24.6 19.8 29.6s25.7 2.2 34.9-6.9l128-128z\"/></svg>');\n",
       "  }\n",
       "\n",
       "  .repr-section-toggle-col\n",
       "    > button:not(.collapsed)\n",
       "    > span.collapse-uncollapse-caret {\n",
       "    background-image: url('data:image/svg+xml;charset=utf8,<svg xmlns=\"http://www.w3.org/2000/svg\" viewBox=\"0 0 320 512\"><!--!Font Awesome Free 6.5.2 by @fontawesome - https://fontawesome.com License - https://fontawesome.com/license/free Copyright 2024 Fonticons, Inc.--><path fill=\"white\" d=\"M137.4 374.6c12.5 12.5 32.8 12.5 45.3 0l128-128c9.2-9.2 11.9-22.9 6.9-34.9s-16.6-19.8-29.6-19.8L32 192c-12.9 0-24.6 7.8-29.6 19.8s-2.2 25.7 6.9 34.9l128 128z\"/></svg>');\n",
       "  }\n",
       "}\n",
       "\n",
       ".channel-names-btn {\n",
       "  padding: 0;\n",
       "  border: none;\n",
       "  background: none;\n",
       "  text-decoration: underline;\n",
       "  text-decoration-style: dashed;\n",
       "  cursor: pointer;\n",
       "  color: #0d6efd;\n",
       "}\n",
       "\n",
       ".channel-names-btn:hover {\n",
       "  color: #0a58ca;\n",
       "}\n",
       "</style>\n",
       "\n",
       "\n",
       "\n",
       "<table class=\"repr table table-hover table-striped table-sm table-responsive small\">\n",
       "    \n",
       "\n",
       "\n",
       "\n",
       "\n",
       "\n",
       "\n",
       "\n",
       "<tr class=\"repr-section-header general-c48ee8f2-7a2f-458b-9467-aa9ea090f780\"  title=\"Hide section\" \n",
       "    onclick=\"toggleVisibility('general-c48ee8f2-7a2f-458b-9467-aa9ea090f780')\">\n",
       "    <th class=\"repr-section-toggle-col\">\n",
       "        <button>\n",
       "            \n",
       "            <span class=\"collapse-uncollapse-caret\"></span>\n",
       "        </button>\n",
       "    </th>\n",
       "    <th colspan=\"2\">\n",
       "        <strong>General</strong>\n",
       "    </th>\n",
       "</tr>\n",
       "\n",
       "<tr class=\"repr-element general-c48ee8f2-7a2f-458b-9467-aa9ea090f780 \">\n",
       "    <td class=\"repr-section-toggle-col\"></td>\n",
       "    <td>Filename(s)</td>\n",
       "    <td>\n",
       "        \n",
       "        choi_nback_1.edf\n",
       "        \n",
       "        \n",
       "    </td>\n",
       "</tr>\n",
       "\n",
       "<tr class=\"repr-element general-c48ee8f2-7a2f-458b-9467-aa9ea090f780 \">\n",
       "    <td class=\"repr-section-toggle-col\"></td>\n",
       "    <td>MNE object type</td>\n",
       "    <td>RawEDF</td>\n",
       "</tr>\n",
       "<tr class=\"repr-element general-c48ee8f2-7a2f-458b-9467-aa9ea090f780 \">\n",
       "    <td class=\"repr-section-toggle-col\"></td>\n",
       "    <td>Measurement date</td>\n",
       "    \n",
       "    <td>2025-05-23 at 16:59:17 UTC</td>\n",
       "    \n",
       "</tr>\n",
       "<tr class=\"repr-element general-c48ee8f2-7a2f-458b-9467-aa9ea090f780 \">\n",
       "    <td class=\"repr-section-toggle-col\"></td>\n",
       "    <td>Participant</td>\n",
       "    \n",
       "    \n",
       "    <td>X</td>\n",
       "    \n",
       "    \n",
       "</tr>\n",
       "<tr class=\"repr-element general-c48ee8f2-7a2f-458b-9467-aa9ea090f780 \">\n",
       "    <td class=\"repr-section-toggle-col\"></td>\n",
       "    <td>Experimenter</td>\n",
       "    \n",
       "    <td>Unknown</td>\n",
       "    \n",
       "</tr>\n",
       "    \n",
       "\n",
       "\n",
       "\n",
       "\n",
       "\n",
       "\n",
       "\n",
       "<tr class=\"repr-section-header acquisition-7c98b5f1-af0d-4a2d-b16d-edf9c4bd59cf\" \n",
       "    title=\"Hide section\"  onclick=\"toggleVisibility('acquisition-7c98b5f1-af0d-4a2d-b16d-edf9c4bd59cf')\">\n",
       "    <th class=\"repr-section-toggle-col\">\n",
       "        <button>\n",
       "            \n",
       "            <span class=\"collapse-uncollapse-caret\"></span>\n",
       "        </button>\n",
       "    </th>\n",
       "    <th colspan=\"2\">\n",
       "        <strong>Acquisition</strong>\n",
       "    </th>\n",
       "</tr>\n",
       "\n",
       "<tr class=\"repr-element acquisition-7c98b5f1-af0d-4a2d-b16d-edf9c4bd59cf \">\n",
       "    <td class=\"repr-section-toggle-col\"></td>\n",
       "    <td>Duration</td>\n",
       "    <td>00:03:44 (HH:MM:SS)</td>\n",
       "</tr>\n",
       "\n",
       "\n",
       "\n",
       "\n",
       "\n",
       "\n",
       "\n",
       "\n",
       "<tr class=\"repr-element acquisition-7c98b5f1-af0d-4a2d-b16d-edf9c4bd59cf \">\n",
       "    <td class=\"repr-section-toggle-col\"></td>\n",
       "    <td>Sampling frequency</td>\n",
       "    <td>128.00 Hz</td>\n",
       "</tr>\n",
       "\n",
       "\n",
       "<tr class=\"repr-element acquisition-7c98b5f1-af0d-4a2d-b16d-edf9c4bd59cf \">\n",
       "    <td class=\"repr-section-toggle-col\"></td>\n",
       "    <td>Time points</td>\n",
       "    <td>28,672</td>\n",
       "</tr>\n",
       "\n",
       "\n",
       "    \n",
       "\n",
       "\n",
       "\n",
       "\n",
       "\n",
       "\n",
       "\n",
       "<tr class=\"repr-section-header channels-7e249991-5cbe-4bd1-ab44-d0ef0ad59bae\"  title=\"Hide section\" \n",
       "    onclick=\"toggleVisibility('channels-7e249991-5cbe-4bd1-ab44-d0ef0ad59bae')\">\n",
       "    <th class=\"repr-section-toggle-col\">\n",
       "        <button>\n",
       "            \n",
       "            <span class=\"collapse-uncollapse-caret\"></span>\n",
       "        </button>\n",
       "    </th>\n",
       "    <th colspan=\"2\">\n",
       "        <strong>Channels</strong>\n",
       "    </th>\n",
       "</tr>\n",
       "\n",
       "\n",
       "<tr class=\"repr-element channels-7e249991-5cbe-4bd1-ab44-d0ef0ad59bae \">\n",
       "    <td class=\"repr-section-toggle-col\"></td>\n",
       "    <td>EEG</td>\n",
       "    <td>\n",
       "        <button class=\"channel-names-btn\" onclick=\"alert('Good EEG:\\n\\nAF3, F7, F3, FC5, T7, P7, O1, O2, P8, T8, FC6, F4, F8, AF4')\" title=\"(Click to open in popup)&#13;&#13;AF3, F7, F3, FC5, T7, P7, O1, O2, P8, T8, FC6, F4, F8, AF4\">\n",
       "            14\n",
       "        </button>\n",
       "\n",
       "        \n",
       "    </td>\n",
       "</tr>\n",
       "\n",
       "\n",
       "<tr class=\"repr-element channels-7e249991-5cbe-4bd1-ab44-d0ef0ad59bae \">\n",
       "    <td class=\"repr-section-toggle-col\"></td>\n",
       "    <td>Head & sensor digitization</td>\n",
       "    \n",
       "    <td>Not available</td>\n",
       "    \n",
       "</tr>\n",
       "    \n",
       "\n",
       "\n",
       "\n",
       "\n",
       "\n",
       "\n",
       "\n",
       "<tr class=\"repr-section-header filters-a8202843-3c12-4f8b-8b55-590a560459d6\"  title=\"Hide section\" \n",
       "    onclick=\"toggleVisibility('filters-a8202843-3c12-4f8b-8b55-590a560459d6')\">\n",
       "    <th class=\"repr-section-toggle-col\">\n",
       "        <button>\n",
       "            \n",
       "            <span class=\"collapse-uncollapse-caret\"></span>\n",
       "        </button>\n",
       "    </th>\n",
       "    <th colspan=\"2\">\n",
       "        <strong>Filters</strong>\n",
       "    </th>\n",
       "</tr>\n",
       "\n",
       "<tr class=\"repr-element filters-a8202843-3c12-4f8b-8b55-590a560459d6 \">\n",
       "    <td class=\"repr-section-toggle-col\"></td>\n",
       "    <td>Highpass</td>\n",
       "    <td>1.00 Hz</td>\n",
       "</tr>\n",
       "\n",
       "\n",
       "<tr class=\"repr-element filters-a8202843-3c12-4f8b-8b55-590a560459d6 \">\n",
       "    <td class=\"repr-section-toggle-col\"></td>\n",
       "    <td>Lowpass</td>\n",
       "    <td>40.00 Hz</td>\n",
       "</tr>\n",
       "\n",
       "\n",
       "</table>"
      ],
      "text/plain": [
       "<RawEDF | choi_nback_1.edf, 14 x 28672 (224.0 s), ~3.1 MB, data loaded>"
      ]
     },
     "execution_count": 11,
     "metadata": {},
     "output_type": "execute_result"
    }
   ],
   "source": [
    "raw.set_eeg_reference('average')"
   ]
  },
  {
   "cell_type": "code",
   "execution_count": 12,
   "metadata": {},
   "outputs": [
    {
     "data": {
      "text/plain": [
       "<mne_qt_browser._pg_figure.MNEQtBrowser at 0x23e2e3f4830>"
      ]
     },
     "execution_count": 12,
     "metadata": {},
     "output_type": "execute_result"
    }
   ],
   "source": [
    "raw.plot()"
   ]
  },
  {
   "cell_type": "code",
   "execution_count": 13,
   "metadata": {},
   "outputs": [
    {
     "name": "stdout",
     "output_type": "stream",
     "text": [
      "채널 위치 설정 완료: True\n"
     ]
    }
   ],
   "source": [
    "montage = mne.channels.make_standard_montage('standard_1020')\n",
    "raw.set_montage(montage, match_case=False)\n",
    "print(\"채널 위치 설정 완료:\", raw.info['dig'] is not None)"
   ]
  },
  {
   "cell_type": "code",
   "execution_count": 14,
   "metadata": {},
   "outputs": [],
   "source": [
    "raw.plot_sensors(show_names=True)\n",
    "fig = raw.plot_sensors(kind='3d', show_names=True)\n"
   ]
  },
  {
   "cell_type": "code",
   "execution_count": 15,
   "metadata": {},
   "outputs": [
    {
     "name": "stdout",
     "output_type": "stream",
     "text": [
      "Not setting metadata\n",
      "74 matching events found\n",
      "No baseline correction applied\n",
      "0 projection items activated\n",
      "Using data from preloaded Raw for 74 events and 384 original time points ...\n",
      "0 bad epochs dropped\n",
      "Running autoreject on ch_type=eeg\n"
     ]
    },
    {
     "data": {
      "application/vnd.jupyter.widget-view+json": {
       "model_id": "fbdd4f401b2f4c109069f2c3ec8a3f97",
       "version_major": 2,
       "version_minor": 0
      },
      "text/plain": [
       "  0%|          | Creating augmented epochs : 0/14 [00:00<?,       ?it/s]"
      ]
     },
     "metadata": {},
     "output_type": "display_data"
    },
    {
     "data": {
      "application/vnd.jupyter.widget-view+json": {
       "model_id": "d693304cbbc6449185993097c6f14a63",
       "version_major": 2,
       "version_minor": 0
      },
      "text/plain": [
       "  0%|          | Computing thresholds ... : 0/14 [00:00<?,       ?it/s]"
      ]
     },
     "metadata": {},
     "output_type": "display_data"
    },
    {
     "data": {
      "application/vnd.jupyter.widget-view+json": {
       "model_id": "62a29485712d4fe69a4f2ed8a92b96ad",
       "version_major": 2,
       "version_minor": 0
      },
      "text/plain": [
       "  0%|          | Repairing epochs : 0/74 [00:00<?,       ?it/s]"
      ]
     },
     "metadata": {},
     "output_type": "display_data"
    },
    {
     "data": {
      "application/vnd.jupyter.widget-view+json": {
       "model_id": "a706fc82ab2f421f94fc2bf1b95fdab1",
       "version_major": 2,
       "version_minor": 0
      },
      "text/plain": [
       "  0%|          | n_interp : 0/3 [00:00<?,       ?it/s]"
      ]
     },
     "metadata": {},
     "output_type": "display_data"
    },
    {
     "data": {
      "application/vnd.jupyter.widget-view+json": {
       "model_id": "653969d50d2348c6a63c8f68f3dca1e7",
       "version_major": 2,
       "version_minor": 0
      },
      "text/plain": [
       "  0%|          | Repairing epochs : 0/74 [00:00<?,       ?it/s]"
      ]
     },
     "metadata": {},
     "output_type": "display_data"
    },
    {
     "data": {
      "application/vnd.jupyter.widget-view+json": {
       "model_id": "c4cc556b15e2456b8a94286f4c11febc",
       "version_major": 2,
       "version_minor": 0
      },
      "text/plain": [
       "  0%|          | Fold : 0/10 [00:00<?,       ?it/s]"
      ]
     },
     "metadata": {},
     "output_type": "display_data"
    },
    {
     "data": {
      "application/vnd.jupyter.widget-view+json": {
       "model_id": "e9a9107069df491fb624b3047d2e15a9",
       "version_major": 2,
       "version_minor": 0
      },
      "text/plain": [
       "  0%|          | Repairing epochs : 0/74 [00:00<?,       ?it/s]"
      ]
     },
     "metadata": {},
     "output_type": "display_data"
    },
    {
     "data": {
      "application/vnd.jupyter.widget-view+json": {
       "model_id": "319ab9c0bc7148fc8460af83e2c05a7c",
       "version_major": 2,
       "version_minor": 0
      },
      "text/plain": [
       "  0%|          | Fold : 0/10 [00:00<?,       ?it/s]"
      ]
     },
     "metadata": {},
     "output_type": "display_data"
    },
    {
     "data": {
      "application/vnd.jupyter.widget-view+json": {
       "model_id": "1f51f7344bbe4665b248598220ce5203",
       "version_major": 2,
       "version_minor": 0
      },
      "text/plain": [
       "  0%|          | Repairing epochs : 0/74 [00:00<?,       ?it/s]"
      ]
     },
     "metadata": {},
     "output_type": "display_data"
    },
    {
     "name": "stderr",
     "output_type": "stream",
     "text": [
      "c:\\Users\\uiseong\\anaconda3\\envs\\mne\\Lib\\site-packages\\mne\\bem.py:1115: RuntimeWarning: Mean of empty slice.\n",
      "  radius_init = radii.mean()\n",
      "c:\\Users\\uiseong\\anaconda3\\envs\\mne\\Lib\\site-packages\\numpy\\core\\_methods.py:129: RuntimeWarning: invalid value encountered in scalar divide\n",
      "  ret = ret.dtype.type(ret / rcount)\n",
      "c:\\Users\\uiseong\\anaconda3\\envs\\mne\\Lib\\site-packages\\numpy\\core\\fromnumeric.py:3504: RuntimeWarning: Mean of empty slice.\n",
      "  return _methods._mean(a, axis=axis, dtype=dtype,\n",
      "c:\\Users\\uiseong\\anaconda3\\envs\\mne\\Lib\\site-packages\\numpy\\core\\_methods.py:121: RuntimeWarning: invalid value encountered in divide\n",
      "  ret = um.true_divide(\n"
     ]
    },
    {
     "data": {
      "application/vnd.jupyter.widget-view+json": {
       "model_id": "dc57310086c24aa28c9004a9bc1f609a",
       "version_major": 2,
       "version_minor": 0
      },
      "text/plain": [
       "  0%|          | Fold : 0/10 [00:00<?,       ?it/s]"
      ]
     },
     "metadata": {},
     "output_type": "display_data"
    },
    {
     "name": "stdout",
     "output_type": "stream",
     "text": [
      "\n",
      "\n",
      "\n",
      "\n",
      "Estimated consensus=1.00 and n_interpolate=13\n"
     ]
    },
    {
     "data": {
      "application/vnd.jupyter.widget-view+json": {
       "model_id": "b06c88823797479eba97ce079f4f2f1f",
       "version_major": 2,
       "version_minor": 0
      },
      "text/plain": [
       "  0%|          | Repairing epochs : 0/74 [00:00<?,       ?it/s]"
      ]
     },
     "metadata": {},
     "output_type": "display_data"
    },
    {
     "name": "stdout",
     "output_type": "stream",
     "text": [
      "Dropped 2 epochs: 26, 73\n",
      "원본 epochs: 74\n",
      "정리된 epochs: 72\n"
     ]
    }
   ],
   "source": [
    "# epochs 생성 \n",
    "events = mne.make_fixed_length_events(raw, duration=3.0)\n",
    "epochs = mne.Epochs(\n",
    "    raw, events,\n",
    "    tmin=0, tmax=3.0-1/raw.info['sfreq'],\n",
    "    baseline=None,\n",
    "    preload=True\n",
    ")\n",
    "\n",
    "# AutoReject으로 bad channel과 bad epoch 동시 처리 \n",
    "ar = AutoReject(random_state=42)\n",
    "epochs_clean = ar.fit_transform(epochs)\n",
    "\n",
    "#결과 확인 \n",
    "print(f\"원본 epochs: {len(epochs)}\")\n",
    "print(f\"정리된 epochs: {len(epochs_clean)}\")\n"
   ]
  },
  {
   "cell_type": "code",
   "execution_count": 16,
   "metadata": {},
   "outputs": [
    {
     "data": {
      "text/plain": [
       "<mne_qt_browser._pg_figure.MNEQtBrowser at 0x23e2e28bda0>"
      ]
     },
     "execution_count": 16,
     "metadata": {},
     "output_type": "execute_result"
    }
   ],
   "source": [
    "raw.plot()"
   ]
  },
  {
   "cell_type": "code",
   "execution_count": 17,
   "metadata": {},
   "outputs": [
    {
     "name": "stdout",
     "output_type": "stream",
     "text": [
      "Fitting ICA to data using 14 channels (please be patient, this may take a while)\n",
      "Selecting by non-zero PCA components: 13 components\n",
      "Fitting ICA took 0.3s.\n",
      "Creating RawArray with float64 data, n_channels=13, n_times=28672\n",
      "    Range : 0 ... 28671 =      0.000 ...   223.992 secs\n",
      "Ready.\n"
     ]
    },
    {
     "data": {
      "image/png": "[encoded data removed]",
      "text/plain": [
       "<MNEFigure size 975x731 with 13 Axes>"
      ]
     },
     "execution_count": 17,
     "metadata": {},
     "output_type": "execute_result"
    }
   ],
   "source": [
    "\n",
    "ica = ICA(n_components=None, random_state=42)\n",
    "ica.fit(raw)\n",
    "\n",
    "ica.plot_sources(raw)\n",
    "ica.plot_components()"
   ]
  },
  {
   "cell_type": "code",
   "execution_count": 18,
   "metadata": {},
   "outputs": [
    {
     "name": "stderr",
     "output_type": "stream",
     "text": [
      "C:\\Users\\uiseong\\AppData\\Local\\Temp\\ipykernel_32752\\3239725778.py:2: RuntimeWarning: The provided Raw instance is not filtered between 1 and 100 Hz. ICLabel was designed to classify features extracted from an EEG dataset bandpass filtered between 1 and 100 Hz (see the 'filter()' method for Raw and Epochs instances).\n",
      "  ic_labels = label_components(raw, ica, method='iclabel')\n",
      "C:\\Users\\uiseong\\AppData\\Local\\Temp\\ipykernel_32752\\3239725778.py:2: RuntimeWarning: The provided ICA instance was fitted with a 'fastica' algorithm. ICLabel was designed with extended infomax ICA decompositions. To use the extended infomax algorithm, use the 'mne.preprocessing.ICA' instance with the arguments 'ICA(method='infomax', fit_params=dict(extended=True))' (scikit-learn) or 'ICA(method='picard', fit_params=dict(ortho=False, extended=True))' (python-picard).\n",
      "  ic_labels = label_components(raw, ica, method='iclabel')\n"
     ]
    },
    {
     "name": "stdout",
     "output_type": "stream",
     "text": [
      "Applying ICA to Raw instance\n",
      "    Transforming to ICA space (13 components)\n",
      "    Zeroing out 5 ICA components\n",
      "    Projecting back using 14 PCA components\n",
      "자동 제거될 성분: [2, 3, 4, 5, 6]\n"
     ]
    }
   ],
   "source": [
    "# ICA 성분 자동 분류\n",
    "ic_labels = label_components(raw, ica, method='iclabel')\n",
    "\n",
    "# 뇌파가 아닌 성분들 자동 제거\n",
    "labels = ic_labels['labels']\n",
    "exclude_idx = [idx for idx, label in enumerate(labels) \n",
    "               if label in ['eye blink', 'muscle artifact', 'heart beat']]\n",
    "\n",
    "ica.exclude = exclude_idx\n",
    "ica.apply(raw)\n",
    "print(f\"자동 제거될 성분: {exclude_idx}\")"
   ]
  },
  {
   "cell_type": "code",
   "execution_count": 19,
   "metadata": {},
   "outputs": [
    {
     "data": {
      "text/plain": [
       "<mne_qt_browser._pg_figure.MNEQtBrowser at 0x23e3a7b4290>"
      ]
     },
     "execution_count": 19,
     "metadata": {},
     "output_type": "execute_result"
    }
   ],
   "source": [
    "raw.plot()"
   ]
  },
  {
   "cell_type": "code",
   "execution_count": 21,
   "metadata": {},
   "outputs": [
    {
     "name": "stdout",
     "output_type": "stream",
     "text": [
      "\n",
      "0back 조건:\n",
      "시간 구간: 0.00s - 40.01s\n",
      "\n",
      "rest 조건:\n",
      "세그먼트 1: 0.00s - 23.48s\n",
      "세그먼트 2: 0.00s - 23.50s\n",
      "세그먼트 3: 0.00s - 21.62s\n",
      "\n",
      "2back 조건:\n",
      "시간 구간: 0.00s - 40.02s\n",
      "\n",
      "3back 조건:\n",
      "시간 구간: 0.00s - 39.99s\n"
     ]
    }
   ],
   "source": [
    "def load_and_segment_nback_data(raw, marker_file):\n",
    "    # EEG 데이터 로드\n",
    "    raw = raw\n",
    "    \n",
    "    # Marker 정보 로드\n",
    "    markers_df = pd.read_csv(marker_file)\n",
    "    \n",
    "    # Task 시작과 끝 시간 찾기\n",
    "    task_starts = markers_df[markers_df['type'] == 'task_start']['latency'].values\n",
    "    task_ends = markers_df[markers_df['type'] == 'task__end']['latency'].values\n",
    "    \n",
    "    # 데이터 세그먼트 저장을 위한 딕셔너리\n",
    "    segments = {\n",
    "        '0back': None,\n",
    "        'rest': [],\n",
    "        '2back': None,\n",
    "        '3back': None\n",
    "    }\n",
    "    \n",
    "    # 첫 번째 블록: 0-back\n",
    "    zero_back_end_idx = np.where(task_starts < task_ends[0])[0][-1]\n",
    "    segments['0back'] = raw.copy().crop(tmin=task_starts[0], tmax=task_ends[0])\n",
    "    \n",
    "    # 첫 번째 rest\n",
    "    rest_start = task_ends[0]\n",
    "    rest_end = task_starts[zero_back_end_idx + 1]\n",
    "    segments['rest'].append(raw.copy().crop(tmin=rest_start, tmax=rest_end))\n",
    "    \n",
    "    # 두 번째 블록: 2-back\n",
    "    two_back_end_idx = np.where(task_starts < task_ends[1])[0][-1]\n",
    "    segments['2back'] = raw.copy().crop(tmin=task_starts[zero_back_end_idx + 1], tmax=task_ends[1])\n",
    "    \n",
    "    # 두 번째 rest\n",
    "    rest_start = task_ends[1]\n",
    "    rest_end = task_starts[two_back_end_idx + 1]\n",
    "    segments['rest'].append(raw.copy().crop(tmin=rest_start, tmax=rest_end))\n",
    "    \n",
    "    # 세 번째 블록: 3-back\n",
    "    three_back_end_idx = np.where(task_starts < task_ends[2])[0][-1]\n",
    "    segments['3back'] = raw.copy().crop(tmin=task_starts[two_back_end_idx + 1], tmax=task_ends[2])\n",
    "    \n",
    "    # 세 번째 rest (3-back 이후)\n",
    "    rest_start = task_ends[2]\n",
    "    if len(task_starts) > three_back_end_idx + 1:\n",
    "        rest_end = task_starts[three_back_end_idx + 1]\n",
    "    else:\n",
    "        rest_end = raw.times[-1]  # 데이터의 끝까지\n",
    "    segments['rest'].append(raw.copy().crop(tmin=rest_start, tmax=rest_end))\n",
    "    \n",
    "    return segments\n",
    "\n",
    "# 사용 예시\n",
    "marker_file = 'EEG_nback_task/choi_nback_1_intervalMarker.csv'\n",
    "segments = load_and_segment_nback_data(raw, marker_file)\n",
    "\n",
    "# 각 세그먼트 확인\n",
    "for condition, data in segments.items():\n",
    "    if condition == 'rest':\n",
    "        print(f\"\\n{condition} 조건:\")\n",
    "        for i, rest_data in enumerate(data):\n",
    "            print(f\"세그먼트 {i+1}: {rest_data.times[0]:.2f}s - {rest_data.times[-1]:.2f}s\")\n",
    "    else:\n",
    "        print(f\"\\n{condition} 조건:\")\n",
    "        if data is not None:\n",
    "            print(f\"시간 구간: {data.times[0]:.2f}s - {data.times[-1]:.2f}s\")"
   ]
  },
  {
   "cell_type": "code",
   "execution_count": 24,
   "metadata": {},
   "outputs": [
    {
     "name": "stdout",
     "output_type": "stream",
     "text": [
      "\n",
      "각 조건 데이터 정보:\n",
      "\n",
      "0-back 데이터:\n",
      "시간 길이: 40.01초\n",
      "채널 수: 14\n",
      "\n",
      "rest after 0-back 데이터:\n",
      "시간 길이: 23.48초\n",
      "채널 수: 14\n",
      "\n",
      "2-back 데이터:\n",
      "시간 길이: 40.02초\n",
      "채널 수: 14\n",
      "\n",
      "rest after 2-back 데이터:\n",
      "시간 길이: 23.50초\n",
      "채널 수: 14\n",
      "\n",
      "3-back 데이터:\n",
      "시간 길이: 39.99초\n",
      "채널 수: 14\n",
      "\n",
      "rest after 3-back 데이터:\n",
      "시간 길이: 21.62초\n",
      "채널 수: 14\n"
     ]
    }
   ],
   "source": [
    "\n",
    "def get_nback_raw_data(edf_file, marker_file):\n",
    "    from mne.io import RawArray\n",
    "    \n",
    "    # 기존 세그먼트 불러오기\n",
    "    segments = load_and_segment_nback_data(edf_file, marker_file)\n",
    "    \n",
    "    # Task 데이터 저장 (0back, 2back, 3back)\n",
    "    raw_0back = segments['0back']\n",
    "    raw_2back = segments['2back']\n",
    "    raw_3back = segments['3back']\n",
    "    \n",
    "    # Rest 데이터 각각 저장\n",
    "    raw_rest_0back = segments['rest'][0]  # 0-back 이후의 rest\n",
    "    raw_rest_2back = segments['rest'][1]  # 2-back 이후의 rest\n",
    "    raw_rest_3back = segments['rest'][2]  # 3-back 이후의 rest\n",
    "    \n",
    "    return raw_0back, raw_2back, raw_3back, raw_rest_0back, raw_rest_2back, raw_rest_3back\n",
    "\n",
    "# 사용 예시\n",
    "marker_file = 'EEG_nback_task/choi_nback_1_intervalMarker.csv'\n",
    "\n",
    "# 데이터를 변수에 저장\n",
    "raw_0back, raw_2back, raw_3back, raw_rest_0back, raw_rest_2back, raw_rest_3back = get_nback_raw_data(raw, marker_file)\n",
    "\n",
    "# 데이터 확인\n",
    "print(\"\\n각 조건 데이터 정보:\")\n",
    "for name, raw in [\n",
    "    ('0-back', raw_0back), ('rest after 0-back', raw_rest_0back),\n",
    "    ('2-back', raw_2back), ('rest after 2-back', raw_rest_2back),\n",
    "    ('3-back', raw_3back), ('rest after 3-back', raw_rest_3back)\n",
    "]:\n",
    "    print(f\"\\n{name} 데이터:\")\n",
    "    print(f\"시간 길이: {raw.times[-1]:.2f}초\")\n",
    "    print(f\"채널 수: {len(raw.ch_names)}\")\n"
   ]
  },
  {
   "cell_type": "code",
   "execution_count": 25,
   "metadata": {},
   "outputs": [
    {
     "name": "stdout",
     "output_type": "stream",
     "text": [
      "\n",
      "=== Theta 밴드 (4-7 Hz) ===\n",
      "Effective window size : 8.000 (s)\n",
      "Effective window size : 8.000 (s)\n",
      "0-back, F3: -8.26%\n",
      "0-back, F4: -43.14%\n",
      "Effective window size : 8.000 (s)\n",
      "Effective window size : 8.000 (s)\n",
      "2-back, F3: -36.71%\n",
      "2-back, F4: 10.94%\n",
      "Effective window size : 8.000 (s)\n",
      "Effective window size : 8.000 (s)\n",
      "3-back, F3: 30.26%\n",
      "3-back, F4: 42.56%\n",
      "\n",
      "=== Alpha 밴드 (8-13 Hz) ===\n",
      "Effective window size : 8.000 (s)\n",
      "Effective window size : 8.000 (s)\n",
      "0-back, P7: 49.17%\n",
      "0-back, P8: 41.79%\n",
      "Effective window size : 8.000 (s)\n",
      "Effective window size : 8.000 (s)\n",
      "2-back, P7: 80.36%\n",
      "2-back, P8: 60.13%\n",
      "Effective window size : 8.000 (s)\n",
      "Effective window size : 8.000 (s)\n",
      "3-back, P7: 80.69%\n",
      "3-back, P8: 79.26%\n"
     ]
    }
   ],
   "source": [
    "import matplotlib.pyplot as plt\n",
    "import numpy as np\n",
    "\n",
    "def calculate_erds_with_psd(task_raw, rest_raw, fmin, fmax, channels):\n",
    "    \"\"\"\n",
    "    PSD를 이용하여 ERDS 계산\n",
    "    \n",
    "    Parameters:\n",
    "    -----------\n",
    "    task_raw : Raw task 데이터\n",
    "    rest_raw : Raw rest 데이터\n",
    "    fmin, fmax : 관심 주파수 대역\n",
    "    channels : 분석할 채널 리스트\n",
    "    \n",
    "    Returns:\n",
    "    --------\n",
    "    erds : ERDS 값 (퍼센트)\n",
    "    \"\"\"\n",
    "    # 채널 선택\n",
    "    task_data = task_raw.copy().pick(channels)\n",
    "    rest_data = rest_raw.copy().pick(channels)\n",
    "    \n",
    "    # PSD 계산\n",
    "    task_psd = task_data.compute_psd(fmin=fmin, fmax=fmax, n_fft=1024, n_overlap=512)\n",
    "    rest_psd = rest_data.compute_psd(fmin=fmin, fmax=fmax, n_fft=1024, n_overlap=512)\n",
    "    \n",
    "    # 관심 주파수 대역의 평균 파워 추출\n",
    "    freq_mask = (task_psd.freqs >= fmin) & (task_psd.freqs <= fmax)\n",
    "    task_power = task_psd.get_data()[:, freq_mask].mean(axis=1)\n",
    "    rest_power = rest_psd.get_data()[:, freq_mask].mean(axis=1)\n",
    "    \n",
    "    # ERDS 계산: (Rest - Task) / Rest * 100\n",
    "    erds = (rest_power - task_power) / rest_power * 100\n",
    "    \n",
    "    return erds\n",
    "\n",
    "# 주파수 대역 정의\n",
    "freq_bands = {\n",
    "    'theta': (4, 7),\n",
    "    'alpha': (8, 13)\n",
    "}\n",
    "\n",
    "# 채널 그룹 정의\n",
    "channel_groups = {\n",
    "    'theta': ['F3', 'F4'],  # 전두엽 채널\n",
    "    'alpha': ['P7', 'P8']   # 두정엽 채널\n",
    "}\n",
    "\n",
    "# 결과를 저장할 딕셔너리 초기화\n",
    "results = {}\n",
    "for band in freq_bands.keys():\n",
    "    results[band] = {}\n",
    "    for channel in channel_groups[band]:\n",
    "        results[band][channel] = []\n",
    "\n",
    "# 각 조건에 대해 ERDS 계산\n",
    "conditions = [\n",
    "    (raw_0back, raw_rest_0back, '0-back'),\n",
    "    (raw_2back, raw_rest_2back, '2-back'),\n",
    "    (raw_3back, raw_rest_3back, '3-back')\n",
    "]\n",
    "\n",
    "conditions_list = ['0-back', '2-back', '3-back']\n",
    "\n",
    "# 결과 계산 및 저장\n",
    "for band_name, (fmin, fmax) in freq_bands.items():\n",
    "    print(f\"\\n=== {band_name.capitalize()} 밴드 ({fmin}-{fmax} Hz) ===\")\n",
    "    channels = channel_groups[band_name]\n",
    "    \n",
    "    for task_raw, rest_raw, condition in conditions:\n",
    "        erds = calculate_erds_with_psd(task_raw, rest_raw, fmin, fmax, channels)\n",
    "        \n",
    "        for ch_idx, channel in enumerate(channels):\n",
    "            results[band_name][channel].append(erds[ch_idx])\n",
    "            print(f\"{condition}, {channel}: {erds[ch_idx]:.2f}%\")\n",
    "\n",
    "# 시각화\n",
    "plt.figure(figsize=(15, 10))\n",
    "\n",
    "# Theta와 Alpha 밴드를 위한 서브플롯 생성\n",
    "for i, band in enumerate(['theta', 'alpha']):\n",
    "    plt.subplot(2, 1, i+1)\n",
    "    \n",
    "    channels = channel_groups[band]\n",
    "    x = np.arange(len(conditions_list))\n",
    "    width = 0.35\n",
    "    \n",
    "    # 각 채널에 대한 막대 그래프\n",
    "    for j, channel in enumerate(channels):\n",
    "        plt.bar(x + j*width, results[band][channel], width, \n",
    "                label=channel, alpha=0.8)\n",
    "    \n",
    "    plt.xlabel('Condition')\n",
    "    plt.ylabel('ERDS (%)')\n",
    "    plt.title(f'{band.capitalize()} Band ERDS')\n",
    "    plt.xticks(x + width/2, conditions_list)\n",
    "    plt.legend()\n",
    "    plt.grid(True, alpha=0.3)\n",
    "\n",
    "plt.tight_layout()\n",
    "plt.show()"
   ]
  },
  {
   "cell_type": "code",
   "execution_count": null,
   "metadata": {},
   "outputs": [],
   "source": []
  }
 ],
 "metadata": {
  "kernelspec": {
   "display_name": "mne",
   "language": "python",
   "name": "python3"
  },
  "language_info": {
   "codemirror_mode": {
    "name": "ipython",
    "version": 3
   },
   "file_extension": ".py",
   "mimetype": "text/x-python",
   "name": "python",
   "nbconvert_exporter": "python",
   "pygments_lexer": "ipython3",
   "version": "3.12.7"
  }
 },
 "nbformat": 4,
 "nbformat_minor": 2
}
